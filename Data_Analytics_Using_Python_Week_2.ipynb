{
  "nbformat": 4,
  "nbformat_minor": 0,
  "metadata": {
    "colab": {
      "name": "Data_Analytics_Using_Python_Week_2.ipynb",
      "provenance": [],
      "collapsed_sections": [],
      "include_colab_link": true
    },
    "kernelspec": {
      "name": "python3",
      "display_name": "Python 3"
    },
    "language_info": {
      "name": "python"
    }
  },
  "cells": [
    {
      "cell_type": "markdown",
      "metadata": {
        "id": "view-in-github",
        "colab_type": "text"
      },
      "source": [
        "<a href=\"https://colab.research.google.com/github/peterlulu666/Data-Analytics-Using-Python/blob/main/Data_Analytics_Using_Python_Week_2.ipynb\" target=\"_parent\"><img src=\"https://colab.research.google.com/assets/colab-badge.svg\" alt=\"Open In Colab\"/></a>"
      ]
    },
    {
      "cell_type": "markdown",
      "metadata": {
        "id": "r9hjTXNJvp65"
      },
      "source": [
        "# Introduction to Pandas"
      ]
    },
    {
      "cell_type": "markdown",
      "metadata": {
        "id": "CTjiiahSevcE"
      },
      "source": [
        "**Pandas is considered to be one of the most favorite Python libraries to work with. Perhaps because it is the workhorse for data analysts using Python!**\n",
        "\n",
        "## Pandas = Panel + Data\n",
        "\n",
        "Etymologically, Pandas is a portmanteau from ‘Panel’ and ‘Data’. Panel data is a term commonly used for the data sets that contain data with observations over a period of time for the same subject / individuals each time.\n",
        "\n",
        "## Pandas functionalities\n",
        "\n",
        "There are many Pandas functionalities that include:\n",
        "\n",
        "- loading your data from a file to start your analysis\n",
        "- previewing your data to understand the data\n",
        "- manipulating your data for gathering better insights\n",
        "- transforming your data from one format to another\n",
        "\n",
        "As in Python, to use a module in your Pandas program you first need to import it.\n",
        "\n",
        "## Importing Pandas\n",
        "\n",
        "Similar to NumPy, to start using Pandas and all of the functions available, you are required to import the package. This can be easily done using the following code:\n"
      ]
    },
    {
      "cell_type": "code",
      "metadata": {
        "id": "s79oW0FRfVwy"
      },
      "source": [
        "import pandas as pd"
      ],
      "execution_count": null,
      "outputs": []
    },
    {
      "cell_type": "markdown",
      "metadata": {
        "id": "Qm-3fVLhfW0G"
      },
      "source": [
        "There is an unstated, undocumented convention that is followed in the Python world – using ‘pd’ as the reference name while importing Pandas. Technically, any other name can be used, but this is the convention generally followed."
      ]
    },
    {
      "cell_type": "markdown",
      "metadata": {
        "id": "zQ2XWJixfd4n"
      },
      "source": [
        "## How is it different from NumPy?\n",
        "\n",
        "NumPy is powerful, but it lacks some high-level functions and abstractions that are needed for solving everyday problems for a data analyst using structured data tables. For example: Labelled columns: Labelled data is especially useful in explicit data alignment while loading data to Pandas. Reading from files: Datasets stored in CSV and XLSX (among other formats) can be read easily using Pandas. Pandas is a fast, powerful, flexible, and easy to use open source data analysis and data manipulation tool for Python. Pandas is built on top of NumPy and makes it easy to use in data analytics applications. That being said it is very important and useful to learn NumPy, as a lot of the core features of Pandas and other packages are based on NumPy functionality.\n",
        "\n",
        "## Pandas data structures\n",
        "\n",
        "There are two fundamental data structures that Pandas provides:\n",
        "\n",
        "- Pandas Series\n",
        "- Pandas DataFrame\n",
        "\n",
        "Both these two data structures provide a solid basis for most of the applications that you would build in Python. Python Series is a one-dimensional Array-like object consisting of Array of data, Array of labels, also known as index, whereas: DataFrame is a two-dimensional structure and it represents a tabular, spreadsheet-like data structure with an ordered collection of columns. It has an index for both rows and columns. Let’s explore these data structures in some detail in the subsequent sections."
      ]
    },
    {
      "cell_type": "markdown",
      "metadata": {
        "id": "WZNj6Vj_v4o9"
      },
      "source": [
        "# Pandas data structure: Pandas Series"
      ]
    },
    {
      "cell_type": "markdown",
      "metadata": {
        "id": "pc69BvI0f3HO"
      },
      "source": [
        "Pandas Series:\n",
        "\n",
        "- is a one-dimensional Array that can hold data of any type\n",
        "- contains an Array of data\n",
        "- contains an associated Array of labels, which is also known as its index.\n",
        "\n",
        "## Creating Pandas Series\n",
        "\n",
        "A simplest way to create a series is to pass an Array of data to Series function, as is highlighted in the code snippet below:\n",
        "\n",
        "Code:"
      ]
    },
    {
      "cell_type": "code",
      "metadata": {
        "id": "LzWUOB_8gTZ0"
      },
      "source": [
        "import pandas as pd\n",
        "import numpy as np\n",
        "from pandas import Series, DataFrame"
      ],
      "execution_count": null,
      "outputs": []
    },
    {
      "cell_type": "code",
      "metadata": {
        "colab": {
          "base_uri": "https://localhost:8080/"
        },
        "id": "3339gbU_gcEc",
        "outputId": "2f06efee-e912-4de4-f4f0-72c95ee1155d"
      },
      "source": [
        "ser1 = Series([1,2,3,4,5,6,7])\n",
        "ser1"
      ],
      "execution_count": null,
      "outputs": [
        {
          "output_type": "execute_result",
          "data": {
            "text/plain": [
              "0    1\n",
              "1    2\n",
              "2    3\n",
              "3    4\n",
              "4    5\n",
              "5    6\n",
              "6    7\n",
              "dtype: int64"
            ]
          },
          "metadata": {
            "tags": []
          },
          "execution_count": 56
        }
      ]
    },
    {
      "cell_type": "markdown",
      "metadata": {
        "id": "u2I6FxxJgrMy"
      },
      "source": [
        "Looking at the output of the code above, we can infer that:\n",
        "\n",
        "- the second column contains the Array data\n",
        "- the first column contains the default labels (ie, default index assigned to the data).\n",
        "\n",
        "## Accessing data and index of Series\n",
        "Just a while ago, while describing Series, we said that it can contain both Array of the data and Array of the labels. So, there must be some mechanism available to extract the Array of data, and Array of indexes from Pandas Series. There are two attributes, values and index, that return the Array representation of the data and the index object of the Series respectively. The following code snippet highlights this functionality:\n",
        "\n",
        "Code:"
      ]
    },
    {
      "cell_type": "code",
      "metadata": {
        "colab": {
          "base_uri": "https://localhost:8080/"
        },
        "id": "u6cOp_JNgwuY",
        "outputId": "7b3c6f2d-d23c-40c7-fc91-e2137b21110e"
      },
      "source": [
        "ser1.values"
      ],
      "execution_count": null,
      "outputs": [
        {
          "output_type": "execute_result",
          "data": {
            "text/plain": [
              "array([1, 2, 3, 4, 5, 6, 7])"
            ]
          },
          "metadata": {
            "tags": []
          },
          "execution_count": 57
        }
      ]
    },
    {
      "cell_type": "code",
      "metadata": {
        "colab": {
          "base_uri": "https://localhost:8080/"
        },
        "id": "kvLQZOHQhDZe",
        "outputId": "3c76d42d-3abf-41ca-a2d8-6db493b2ace2"
      },
      "source": [
        "ser1.dtype"
      ],
      "execution_count": null,
      "outputs": [
        {
          "output_type": "execute_result",
          "data": {
            "text/plain": [
              "dtype('int64')"
            ]
          },
          "metadata": {
            "tags": []
          },
          "execution_count": 58
        }
      ]
    },
    {
      "cell_type": "code",
      "metadata": {
        "colab": {
          "base_uri": "https://localhost:8080/"
        },
        "id": "igS-iIbAhgD7",
        "outputId": "9fd1eb98-94d2-415f-8adb-1a2c05e64e4d"
      },
      "source": [
        "ser1.index"
      ],
      "execution_count": null,
      "outputs": [
        {
          "output_type": "execute_result",
          "data": {
            "text/plain": [
              "RangeIndex(start=0, stop=7, step=1)"
            ]
          },
          "metadata": {
            "tags": []
          },
          "execution_count": 59
        }
      ]
    },
    {
      "cell_type": "markdown",
      "metadata": {
        "id": "HYIF100IhIVe"
      },
      "source": [
        "## Creating Series with explicit labelling\n",
        "\n",
        "Often it is required to create a Series with a labelled index for each data point. This is achieved by passing the index labels to Series function. This is highlighted in the code snippet below:\n",
        "\n",
        "Code:"
      ]
    },
    {
      "cell_type": "code",
      "metadata": {
        "colab": {
          "base_uri": "https://localhost:8080/"
        },
        "id": "r6THtT-vhUhj",
        "outputId": "40e2e525-2635-4c7a-9084-9876731e9f70"
      },
      "source": [
        "ser2 = Series([1,2,3,4,5,6,7], index=['a','b','c','d','e','f','g'])\n",
        "ser2"
      ],
      "execution_count": null,
      "outputs": [
        {
          "output_type": "execute_result",
          "data": {
            "text/plain": [
              "a    1\n",
              "b    2\n",
              "c    3\n",
              "d    4\n",
              "e    5\n",
              "f    6\n",
              "g    7\n",
              "dtype: int64"
            ]
          },
          "metadata": {
            "tags": []
          },
          "execution_count": 60
        }
      ]
    },
    {
      "cell_type": "code",
      "metadata": {
        "colab": {
          "base_uri": "https://localhost:8080/"
        },
        "id": "P4dXCDDhhYwD",
        "outputId": "eafa6e87-6936-43a1-ae3b-1c28509e512c"
      },
      "source": [
        "ser2.values"
      ],
      "execution_count": null,
      "outputs": [
        {
          "output_type": "execute_result",
          "data": {
            "text/plain": [
              "array([1, 2, 3, 4, 5, 6, 7])"
            ]
          },
          "metadata": {
            "tags": []
          },
          "execution_count": 61
        }
      ]
    },
    {
      "cell_type": "code",
      "metadata": {
        "colab": {
          "base_uri": "https://localhost:8080/"
        },
        "id": "RFnstKElhaHM",
        "outputId": "8c95fca4-f96f-4d2c-8f6f-85858d6b9685"
      },
      "source": [
        "ser2.dtype"
      ],
      "execution_count": null,
      "outputs": [
        {
          "output_type": "execute_result",
          "data": {
            "text/plain": [
              "dtype('int64')"
            ]
          },
          "metadata": {
            "tags": []
          },
          "execution_count": 62
        }
      ]
    },
    {
      "cell_type": "code",
      "metadata": {
        "colab": {
          "base_uri": "https://localhost:8080/"
        },
        "id": "8MtJ5HSahdcT",
        "outputId": "b6578b91-2250-461d-d32e-2d00e6134852"
      },
      "source": [
        "ser2.index"
      ],
      "execution_count": null,
      "outputs": [
        {
          "output_type": "execute_result",
          "data": {
            "text/plain": [
              "Index(['a', 'b', 'c', 'd', 'e', 'f', 'g'], dtype='object')"
            ]
          },
          "metadata": {
            "tags": []
          },
          "execution_count": 63
        }
      ]
    },
    {
      "cell_type": "markdown",
      "metadata": {
        "id": "z6M8B94mn7K9"
      },
      "source": [
        "## Accessing values using indexes (Default index or Explicit index)\n",
        "Values in the Series can be accessed using the index notation. We can either pass a single index or multiple indexes (Default index or Explicit index) to access the values. The code snippet below highlights the behaviour:\n",
        "\n",
        "Code:"
      ]
    },
    {
      "cell_type": "code",
      "metadata": {
        "colab": {
          "base_uri": "https://localhost:8080/"
        },
        "id": "zjyuNPlqqgoP",
        "outputId": "d4defbcf-2b60-4071-ecd7-4501103266c1"
      },
      "source": [
        "ser2"
      ],
      "execution_count": null,
      "outputs": [
        {
          "output_type": "execute_result",
          "data": {
            "text/plain": [
              "a    1\n",
              "b    2\n",
              "c    3\n",
              "d    4\n",
              "e    5\n",
              "f    6\n",
              "g    7\n",
              "dtype: int64"
            ]
          },
          "metadata": {
            "tags": []
          },
          "execution_count": 64
        }
      ]
    },
    {
      "cell_type": "code",
      "metadata": {
        "colab": {
          "base_uri": "https://localhost:8080/"
        },
        "id": "KY-PCaHzqj_f",
        "outputId": "c2d2665f-16e2-4365-c8de-fde277d676e8"
      },
      "source": [
        "ser2['a'], ser2['f']"
      ],
      "execution_count": null,
      "outputs": [
        {
          "output_type": "execute_result",
          "data": {
            "text/plain": [
              "(1, 6)"
            ]
          },
          "metadata": {
            "tags": []
          },
          "execution_count": 65
        }
      ]
    },
    {
      "cell_type": "code",
      "metadata": {
        "colab": {
          "base_uri": "https://localhost:8080/"
        },
        "id": "FsrH57EOqmtc",
        "outputId": "926bed73-6b70-4869-ca54-b2470695f3a2"
      },
      "source": [
        "ser2[['a','b','f']]"
      ],
      "execution_count": null,
      "outputs": [
        {
          "output_type": "execute_result",
          "data": {
            "text/plain": [
              "a    1\n",
              "b    2\n",
              "f    6\n",
              "dtype: int64"
            ]
          },
          "metadata": {
            "tags": []
          },
          "execution_count": 66
        }
      ]
    },
    {
      "cell_type": "markdown",
      "metadata": {
        "id": "gjOIZvF6scxL"
      },
      "source": [
        "## Creating Series from Python dictionaries\n",
        "A Pandas Series can also be created by passing a dictionary object to Series Function. In this particular case, the keys of the dictionary will be assigned as the labels of the Series, and the values of the dictionary become the data of the Series. The code snippet below highlights the behaviour.\n",
        "\n",
        "We have first created a dictionary with a key:value pair, where: Key = country code Value = description of currency.\n",
        "\n",
        "We have created the Pandas series by passing the dictionary to the Series() function: The values from dictionary = the data for series The keys from the dictionary = the index for the series.\n",
        "\n",
        "Code:"
      ]
    },
    {
      "cell_type": "code",
      "metadata": {
        "colab": {
          "base_uri": "https://localhost:8080/"
        },
        "id": "9kxaLRq9si9Y",
        "outputId": "c3ab8ce8-aaa8-4176-d253-b6be91b479b3"
      },
      "source": [
        "dict_1 = {'AU':'Australian Dollar',\n",
        "     \t'US': 'US Dollar',\n",
        "     \t'IN': 'Indian Ruppees',\n",
        "     \t'DK': 'Danish Krones',\n",
        "     \t'SW': 'Swiss Francs'}\n",
        "dict_1"
      ],
      "execution_count": null,
      "outputs": [
        {
          "output_type": "execute_result",
          "data": {
            "text/plain": [
              "{'AU': 'Australian Dollar',\n",
              " 'DK': 'Danish Krones',\n",
              " 'IN': 'Indian Ruppees',\n",
              " 'SW': 'Swiss Francs',\n",
              " 'US': 'US Dollar'}"
            ]
          },
          "metadata": {
            "tags": []
          },
          "execution_count": 67
        }
      ]
    },
    {
      "cell_type": "code",
      "metadata": {
        "colab": {
          "base_uri": "https://localhost:8080/"
        },
        "id": "Q-hF-2bcsqDo",
        "outputId": "2f772513-3595-4dd2-b796-0f9555aef9ec"
      },
      "source": [
        "ser1 = Series(dict_1)\n",
        "ser1"
      ],
      "execution_count": null,
      "outputs": [
        {
          "output_type": "execute_result",
          "data": {
            "text/plain": [
              "AU    Australian Dollar\n",
              "US            US Dollar\n",
              "IN       Indian Ruppees\n",
              "DK        Danish Krones\n",
              "SW         Swiss Francs\n",
              "dtype: object"
            ]
          },
          "metadata": {
            "tags": []
          },
          "execution_count": 68
        }
      ]
    },
    {
      "cell_type": "markdown",
      "metadata": {
        "id": "QZZ_5Hw9s3vQ"
      },
      "source": [
        "## Name attribute for Series and index\n",
        "Both the Pandas Series and its index have the ‘name’ attribute, and this is used at various places during programming with Pandas. We will see its usage in some exercises during the course.\n",
        "\n",
        "For now, it’s good to remember that such an attribute exists and its value can be accessed programmatically.\n",
        "\n",
        "The following code snippet highlights the ‘Name’ attribute. You can see that when we display:\n",
        "\n",
        "- the Series, the Name of the Series is displayed along with the data\n",
        "- the index, the Name of index is also displayed along with the respective indexes.\n",
        "\n",
        "Code:"
      ]
    },
    {
      "cell_type": "code",
      "metadata": {
        "colab": {
          "base_uri": "https://localhost:8080/"
        },
        "id": "Ys-ys9CvtDVc",
        "outputId": "a81283d1-2834-4be6-b1e1-5c4876cab7cc"
      },
      "source": [
        "ser1.name = \"Currency\"\n",
        "ser1.index.name=\"Country\"\n",
        "ser1"
      ],
      "execution_count": null,
      "outputs": [
        {
          "output_type": "execute_result",
          "data": {
            "text/plain": [
              "Country\n",
              "AU    Australian Dollar\n",
              "US            US Dollar\n",
              "IN       Indian Ruppees\n",
              "DK        Danish Krones\n",
              "SW         Swiss Francs\n",
              "Name: Currency, dtype: object"
            ]
          },
          "metadata": {
            "tags": []
          },
          "execution_count": 69
        }
      ]
    },
    {
      "cell_type": "markdown",
      "metadata": {
        "id": "KyhP6645unN3"
      },
      "source": [
        "Code:"
      ]
    },
    {
      "cell_type": "code",
      "metadata": {
        "colab": {
          "base_uri": "https://localhost:8080/"
        },
        "id": "rjO8fGaYuoh2",
        "outputId": "8efdff4f-de14-42a7-ee9b-aee1e6051277"
      },
      "source": [
        "ser1.index"
      ],
      "execution_count": null,
      "outputs": [
        {
          "output_type": "execute_result",
          "data": {
            "text/plain": [
              "Index(['AU', 'US', 'IN', 'DK', 'SW'], dtype='object', name='Country')"
            ]
          },
          "metadata": {
            "tags": []
          },
          "execution_count": 70
        }
      ]
    },
    {
      "cell_type": "markdown",
      "metadata": {
        "id": "wLVferzpwHrh"
      },
      "source": [
        "# Pandas data structure: Pandas DataFrame"
      ]
    },
    {
      "cell_type": "markdown",
      "metadata": {
        "id": "EHeGX0zxwK2q"
      },
      "source": [
        "A Pandas DataFrame:\n",
        "\n",
        "- is a tabular, spreadsheet-like data structure\n",
        "- contains an ordered list of columns, and each can have different data types\n",
        "- has indexes or labels for both rows and columns Let’s explore it through examples"
      ]
    },
    {
      "cell_type": "markdown",
      "metadata": {
        "id": "LvtFD5CKwR3Z"
      },
      "source": [
        "## Creating Pandas DataFrame\n",
        "\n",
        "There are various ways a DataFrame can be created using the function DataFrame(), but one of the common ways is to pass a dictionary of equal length list or NumPy Arrays. In this case, the keys will be column labels / index. The following code snippet will highlight this behaviour:\n",
        "\n",
        "Code:"
      ]
    },
    {
      "cell_type": "code",
      "metadata": {
        "colab": {
          "base_uri": "https://localhost:8080/",
          "height": 266
        },
        "id": "oYae5EHxweNS",
        "outputId": "435dcde7-a45e-4305-d989-52b41a1a8c4f"
      },
      "source": [
        "data = {\n",
        "\t'state':['WA', 'SA', 'VIC', 'NSW', 'ACT', 'QLD', 'NT'],\n",
        "\t'pop': [1,1,2.5,2.7,0.5,1.5,0.4],\n",
        "\t'TZ': ['GMT+8', 'GMT+9.30','GMT+10', 'GMT+10', 'GMT+10', 'GMT+10', 'GMT+9.30']\n",
        "}\n",
        "\n",
        "df_states = DataFrame(data)\n",
        "df_states"
      ],
      "execution_count": null,
      "outputs": [
        {
          "output_type": "execute_result",
          "data": {
            "text/html": [
              "<div>\n",
              "<style scoped>\n",
              "    .dataframe tbody tr th:only-of-type {\n",
              "        vertical-align: middle;\n",
              "    }\n",
              "\n",
              "    .dataframe tbody tr th {\n",
              "        vertical-align: top;\n",
              "    }\n",
              "\n",
              "    .dataframe thead th {\n",
              "        text-align: right;\n",
              "    }\n",
              "</style>\n",
              "<table border=\"1\" class=\"dataframe\">\n",
              "  <thead>\n",
              "    <tr style=\"text-align: right;\">\n",
              "      <th></th>\n",
              "      <th>state</th>\n",
              "      <th>pop</th>\n",
              "      <th>TZ</th>\n",
              "    </tr>\n",
              "  </thead>\n",
              "  <tbody>\n",
              "    <tr>\n",
              "      <th>0</th>\n",
              "      <td>WA</td>\n",
              "      <td>1.0</td>\n",
              "      <td>GMT+8</td>\n",
              "    </tr>\n",
              "    <tr>\n",
              "      <th>1</th>\n",
              "      <td>SA</td>\n",
              "      <td>1.0</td>\n",
              "      <td>GMT+9.30</td>\n",
              "    </tr>\n",
              "    <tr>\n",
              "      <th>2</th>\n",
              "      <td>VIC</td>\n",
              "      <td>2.5</td>\n",
              "      <td>GMT+10</td>\n",
              "    </tr>\n",
              "    <tr>\n",
              "      <th>3</th>\n",
              "      <td>NSW</td>\n",
              "      <td>2.7</td>\n",
              "      <td>GMT+10</td>\n",
              "    </tr>\n",
              "    <tr>\n",
              "      <th>4</th>\n",
              "      <td>ACT</td>\n",
              "      <td>0.5</td>\n",
              "      <td>GMT+10</td>\n",
              "    </tr>\n",
              "    <tr>\n",
              "      <th>5</th>\n",
              "      <td>QLD</td>\n",
              "      <td>1.5</td>\n",
              "      <td>GMT+10</td>\n",
              "    </tr>\n",
              "    <tr>\n",
              "      <th>6</th>\n",
              "      <td>NT</td>\n",
              "      <td>0.4</td>\n",
              "      <td>GMT+9.30</td>\n",
              "    </tr>\n",
              "  </tbody>\n",
              "</table>\n",
              "</div>"
            ],
            "text/plain": [
              "  state  pop        TZ\n",
              "0    WA  1.0     GMT+8\n",
              "1    SA  1.0  GMT+9.30\n",
              "2   VIC  2.5    GMT+10\n",
              "3   NSW  2.7    GMT+10\n",
              "4   ACT  0.5    GMT+10\n",
              "5   QLD  1.5    GMT+10\n",
              "6    NT  0.4  GMT+9.30"
            ]
          },
          "metadata": {
            "tags": []
          },
          "execution_count": 71
        }
      ]
    },
    {
      "cell_type": "markdown",
      "metadata": {
        "id": "9QH0_1FAwgwn"
      },
      "source": [
        "Later in the course, we will see how to populate DataFrames using CSV files and databases."
      ]
    },
    {
      "cell_type": "markdown",
      "metadata": {
        "id": "5K9KCiNxwkM2"
      },
      "source": [
        "## Specifying the sequence of columns"
      ]
    },
    {
      "cell_type": "markdown",
      "metadata": {
        "id": "DoMv8ax5DMVZ"
      },
      "source": [
        "We can also specify the sequence or order of the columns for DataFrame, as a result of which data will be arranged in the column order specified. See below code snippet for demonstration:\n",
        "\n",
        "Code:"
      ]
    },
    {
      "cell_type": "code",
      "metadata": {
        "colab": {
          "base_uri": "https://localhost:8080/",
          "height": 266
        },
        "id": "yfL-x-5tDPs4",
        "outputId": "43381b43-8e1b-48c9-db0c-4ad07a3e8404"
      },
      "source": [
        "df_states=DataFrame(data, columns=['state','TZ','pop'])\n",
        "df_states"
      ],
      "execution_count": null,
      "outputs": [
        {
          "output_type": "execute_result",
          "data": {
            "text/html": [
              "<div>\n",
              "<style scoped>\n",
              "    .dataframe tbody tr th:only-of-type {\n",
              "        vertical-align: middle;\n",
              "    }\n",
              "\n",
              "    .dataframe tbody tr th {\n",
              "        vertical-align: top;\n",
              "    }\n",
              "\n",
              "    .dataframe thead th {\n",
              "        text-align: right;\n",
              "    }\n",
              "</style>\n",
              "<table border=\"1\" class=\"dataframe\">\n",
              "  <thead>\n",
              "    <tr style=\"text-align: right;\">\n",
              "      <th></th>\n",
              "      <th>state</th>\n",
              "      <th>TZ</th>\n",
              "      <th>pop</th>\n",
              "    </tr>\n",
              "  </thead>\n",
              "  <tbody>\n",
              "    <tr>\n",
              "      <th>0</th>\n",
              "      <td>WA</td>\n",
              "      <td>GMT+8</td>\n",
              "      <td>1.0</td>\n",
              "    </tr>\n",
              "    <tr>\n",
              "      <th>1</th>\n",
              "      <td>SA</td>\n",
              "      <td>GMT+9.30</td>\n",
              "      <td>1.0</td>\n",
              "    </tr>\n",
              "    <tr>\n",
              "      <th>2</th>\n",
              "      <td>VIC</td>\n",
              "      <td>GMT+10</td>\n",
              "      <td>2.5</td>\n",
              "    </tr>\n",
              "    <tr>\n",
              "      <th>3</th>\n",
              "      <td>NSW</td>\n",
              "      <td>GMT+10</td>\n",
              "      <td>2.7</td>\n",
              "    </tr>\n",
              "    <tr>\n",
              "      <th>4</th>\n",
              "      <td>ACT</td>\n",
              "      <td>GMT+10</td>\n",
              "      <td>0.5</td>\n",
              "    </tr>\n",
              "    <tr>\n",
              "      <th>5</th>\n",
              "      <td>QLD</td>\n",
              "      <td>GMT+10</td>\n",
              "      <td>1.5</td>\n",
              "    </tr>\n",
              "    <tr>\n",
              "      <th>6</th>\n",
              "      <td>NT</td>\n",
              "      <td>GMT+9.30</td>\n",
              "      <td>0.4</td>\n",
              "    </tr>\n",
              "  </tbody>\n",
              "</table>\n",
              "</div>"
            ],
            "text/plain": [
              "  state        TZ  pop\n",
              "0    WA     GMT+8  1.0\n",
              "1    SA  GMT+9.30  1.0\n",
              "2   VIC    GMT+10  2.5\n",
              "3   NSW    GMT+10  2.7\n",
              "4   ACT    GMT+10  0.5\n",
              "5   QLD    GMT+10  1.5\n",
              "6    NT  GMT+9.30  0.4"
            ]
          },
          "metadata": {
            "tags": []
          },
          "execution_count": 72
        }
      ]
    },
    {
      "cell_type": "markdown",
      "metadata": {
        "id": "dWCkdFvWDUjQ"
      },
      "source": [
        "If a column name is specified but there is no data supplied for that data column, then DataFrame will fill the null values or NaN for that column.\n",
        "\n",
        "Code:"
      ]
    },
    {
      "cell_type": "code",
      "metadata": {
        "colab": {
          "base_uri": "https://localhost:8080/",
          "height": 266
        },
        "id": "ThDOp2v4DVeL",
        "outputId": "de5d0ee6-d0f1-4a72-f6c4-f33b44879a6f"
      },
      "source": [
        "df_states1=DataFrame(data, columns=['state','TZ','pop','GDP'])\n",
        "df_states1"
      ],
      "execution_count": null,
      "outputs": [
        {
          "output_type": "execute_result",
          "data": {
            "text/html": [
              "<div>\n",
              "<style scoped>\n",
              "    .dataframe tbody tr th:only-of-type {\n",
              "        vertical-align: middle;\n",
              "    }\n",
              "\n",
              "    .dataframe tbody tr th {\n",
              "        vertical-align: top;\n",
              "    }\n",
              "\n",
              "    .dataframe thead th {\n",
              "        text-align: right;\n",
              "    }\n",
              "</style>\n",
              "<table border=\"1\" class=\"dataframe\">\n",
              "  <thead>\n",
              "    <tr style=\"text-align: right;\">\n",
              "      <th></th>\n",
              "      <th>state</th>\n",
              "      <th>TZ</th>\n",
              "      <th>pop</th>\n",
              "      <th>GDP</th>\n",
              "    </tr>\n",
              "  </thead>\n",
              "  <tbody>\n",
              "    <tr>\n",
              "      <th>0</th>\n",
              "      <td>WA</td>\n",
              "      <td>GMT+8</td>\n",
              "      <td>1.0</td>\n",
              "      <td>NaN</td>\n",
              "    </tr>\n",
              "    <tr>\n",
              "      <th>1</th>\n",
              "      <td>SA</td>\n",
              "      <td>GMT+9.30</td>\n",
              "      <td>1.0</td>\n",
              "      <td>NaN</td>\n",
              "    </tr>\n",
              "    <tr>\n",
              "      <th>2</th>\n",
              "      <td>VIC</td>\n",
              "      <td>GMT+10</td>\n",
              "      <td>2.5</td>\n",
              "      <td>NaN</td>\n",
              "    </tr>\n",
              "    <tr>\n",
              "      <th>3</th>\n",
              "      <td>NSW</td>\n",
              "      <td>GMT+10</td>\n",
              "      <td>2.7</td>\n",
              "      <td>NaN</td>\n",
              "    </tr>\n",
              "    <tr>\n",
              "      <th>4</th>\n",
              "      <td>ACT</td>\n",
              "      <td>GMT+10</td>\n",
              "      <td>0.5</td>\n",
              "      <td>NaN</td>\n",
              "    </tr>\n",
              "    <tr>\n",
              "      <th>5</th>\n",
              "      <td>QLD</td>\n",
              "      <td>GMT+10</td>\n",
              "      <td>1.5</td>\n",
              "      <td>NaN</td>\n",
              "    </tr>\n",
              "    <tr>\n",
              "      <th>6</th>\n",
              "      <td>NT</td>\n",
              "      <td>GMT+9.30</td>\n",
              "      <td>0.4</td>\n",
              "      <td>NaN</td>\n",
              "    </tr>\n",
              "  </tbody>\n",
              "</table>\n",
              "</div>"
            ],
            "text/plain": [
              "  state        TZ  pop  GDP\n",
              "0    WA     GMT+8  1.0  NaN\n",
              "1    SA  GMT+9.30  1.0  NaN\n",
              "2   VIC    GMT+10  2.5  NaN\n",
              "3   NSW    GMT+10  2.7  NaN\n",
              "4   ACT    GMT+10  0.5  NaN\n",
              "5   QLD    GMT+10  1.5  NaN\n",
              "6    NT  GMT+9.30  0.4  NaN"
            ]
          },
          "metadata": {
            "tags": []
          },
          "execution_count": 73
        }
      ]
    },
    {
      "cell_type": "markdown",
      "metadata": {
        "id": "MJuhoFFGDbhS"
      },
      "source": [
        "## Specifying the row labels"
      ]
    },
    {
      "cell_type": "markdown",
      "metadata": {
        "id": "TRuTuM8tDcUt"
      },
      "source": [
        "As we have seen in the case of Series, we can specify the explicit indexes for the rows for DataFrame. This is done by passing the index parameter to the DataFrame function. The index parameter can be either:\n",
        "\n",
        "- the list of labels\n",
        "- the name of the column / key in the data provided, that should be treated as index.\n",
        "See the code example below for the demonstration:\n",
        "\n",
        "Code:"
      ]
    },
    {
      "cell_type": "code",
      "metadata": {
        "colab": {
          "base_uri": "https://localhost:8080/",
          "height": 266
        },
        "id": "E9WpwQmgDhzz",
        "outputId": "92b03ae7-721e-4e94-b981-f5c2e8bf13ff"
      },
      "source": [
        "#\"Specifying the Row Labels, or Indexes\"\n",
        "data = {\n",
        "\t'state':['Western Australia', 'Southern Australia', 'Victoria', 'New South Wales', 'Australian Capital Territory', 'Queensland', 'Northern Territory'],\n",
        "\t'pop': [1,1,2.5,2.7,0.5,1.5,0.4],\n",
        "\t'TZ': ['GMT+8', 'GMT+9.30','GMT+10', 'GMT+10', 'GMT+10', 'GMT+10', 'GMT+9.30']\n",
        "}\n",
        "\n",
        "row_labels = ['WA', 'SA','VIC','NSW','ACT','QLD','NT']\n",
        "df_states_lbl = DataFrame(data, columns=['state','TZ','pop'], index=row_labels)\n",
        "df_states_lbl"
      ],
      "execution_count": null,
      "outputs": [
        {
          "output_type": "execute_result",
          "data": {
            "text/html": [
              "<div>\n",
              "<style scoped>\n",
              "    .dataframe tbody tr th:only-of-type {\n",
              "        vertical-align: middle;\n",
              "    }\n",
              "\n",
              "    .dataframe tbody tr th {\n",
              "        vertical-align: top;\n",
              "    }\n",
              "\n",
              "    .dataframe thead th {\n",
              "        text-align: right;\n",
              "    }\n",
              "</style>\n",
              "<table border=\"1\" class=\"dataframe\">\n",
              "  <thead>\n",
              "    <tr style=\"text-align: right;\">\n",
              "      <th></th>\n",
              "      <th>state</th>\n",
              "      <th>TZ</th>\n",
              "      <th>pop</th>\n",
              "    </tr>\n",
              "  </thead>\n",
              "  <tbody>\n",
              "    <tr>\n",
              "      <th>WA</th>\n",
              "      <td>Western Australia</td>\n",
              "      <td>GMT+8</td>\n",
              "      <td>1.0</td>\n",
              "    </tr>\n",
              "    <tr>\n",
              "      <th>SA</th>\n",
              "      <td>Southern Australia</td>\n",
              "      <td>GMT+9.30</td>\n",
              "      <td>1.0</td>\n",
              "    </tr>\n",
              "    <tr>\n",
              "      <th>VIC</th>\n",
              "      <td>Victoria</td>\n",
              "      <td>GMT+10</td>\n",
              "      <td>2.5</td>\n",
              "    </tr>\n",
              "    <tr>\n",
              "      <th>NSW</th>\n",
              "      <td>New South Wales</td>\n",
              "      <td>GMT+10</td>\n",
              "      <td>2.7</td>\n",
              "    </tr>\n",
              "    <tr>\n",
              "      <th>ACT</th>\n",
              "      <td>Australian Capital Territory</td>\n",
              "      <td>GMT+10</td>\n",
              "      <td>0.5</td>\n",
              "    </tr>\n",
              "    <tr>\n",
              "      <th>QLD</th>\n",
              "      <td>Queensland</td>\n",
              "      <td>GMT+10</td>\n",
              "      <td>1.5</td>\n",
              "    </tr>\n",
              "    <tr>\n",
              "      <th>NT</th>\n",
              "      <td>Northern Territory</td>\n",
              "      <td>GMT+9.30</td>\n",
              "      <td>0.4</td>\n",
              "    </tr>\n",
              "  </tbody>\n",
              "</table>\n",
              "</div>"
            ],
            "text/plain": [
              "                            state        TZ  pop\n",
              "WA              Western Australia     GMT+8  1.0\n",
              "SA             Southern Australia  GMT+9.30  1.0\n",
              "VIC                      Victoria    GMT+10  2.5\n",
              "NSW               New South Wales    GMT+10  2.7\n",
              "ACT  Australian Capital Territory    GMT+10  0.5\n",
              "QLD                    Queensland    GMT+10  1.5\n",
              "NT             Northern Territory  GMT+9.30  0.4"
            ]
          },
          "metadata": {
            "tags": []
          },
          "execution_count": 74
        }
      ]
    },
    {
      "cell_type": "markdown",
      "metadata": {
        "id": "ggvumfs-D_K-"
      },
      "source": [
        "## Retrieving columns from DataFrame"
      ]
    },
    {
      "cell_type": "markdown",
      "metadata": {
        "id": "t2FO1xjhD_8e"
      },
      "source": [
        "Individual columns in DataFrame are stored as Pandas Series. We can access the data in the individual columns by either:\n",
        "\n",
        "- using index Notation and passing the column name as the index\n",
        "- using the df.Attribute notation, where the column name itself is the name of the attribute.\n",
        "\n",
        "While retrieving the individual columns, the index of DataFrame is retained in the retrieved Series. The following code snippet showcases this behaviour:\n",
        "\n",
        "Code:"
      ]
    },
    {
      "cell_type": "code",
      "metadata": {
        "colab": {
          "base_uri": "https://localhost:8080/",
          "height": 266
        },
        "id": "T5AGXrh9ED-V",
        "outputId": "02c15dbc-fac5-4707-ac81-bf6a15cbae40"
      },
      "source": [
        "df_states_lbl"
      ],
      "execution_count": null,
      "outputs": [
        {
          "output_type": "execute_result",
          "data": {
            "text/html": [
              "<div>\n",
              "<style scoped>\n",
              "    .dataframe tbody tr th:only-of-type {\n",
              "        vertical-align: middle;\n",
              "    }\n",
              "\n",
              "    .dataframe tbody tr th {\n",
              "        vertical-align: top;\n",
              "    }\n",
              "\n",
              "    .dataframe thead th {\n",
              "        text-align: right;\n",
              "    }\n",
              "</style>\n",
              "<table border=\"1\" class=\"dataframe\">\n",
              "  <thead>\n",
              "    <tr style=\"text-align: right;\">\n",
              "      <th></th>\n",
              "      <th>state</th>\n",
              "      <th>TZ</th>\n",
              "      <th>pop</th>\n",
              "    </tr>\n",
              "  </thead>\n",
              "  <tbody>\n",
              "    <tr>\n",
              "      <th>WA</th>\n",
              "      <td>Western Australia</td>\n",
              "      <td>GMT+8</td>\n",
              "      <td>1.0</td>\n",
              "    </tr>\n",
              "    <tr>\n",
              "      <th>SA</th>\n",
              "      <td>Southern Australia</td>\n",
              "      <td>GMT+9.30</td>\n",
              "      <td>1.0</td>\n",
              "    </tr>\n",
              "    <tr>\n",
              "      <th>VIC</th>\n",
              "      <td>Victoria</td>\n",
              "      <td>GMT+10</td>\n",
              "      <td>2.5</td>\n",
              "    </tr>\n",
              "    <tr>\n",
              "      <th>NSW</th>\n",
              "      <td>New South Wales</td>\n",
              "      <td>GMT+10</td>\n",
              "      <td>2.7</td>\n",
              "    </tr>\n",
              "    <tr>\n",
              "      <th>ACT</th>\n",
              "      <td>Australian Capital Territory</td>\n",
              "      <td>GMT+10</td>\n",
              "      <td>0.5</td>\n",
              "    </tr>\n",
              "    <tr>\n",
              "      <th>QLD</th>\n",
              "      <td>Queensland</td>\n",
              "      <td>GMT+10</td>\n",
              "      <td>1.5</td>\n",
              "    </tr>\n",
              "    <tr>\n",
              "      <th>NT</th>\n",
              "      <td>Northern Territory</td>\n",
              "      <td>GMT+9.30</td>\n",
              "      <td>0.4</td>\n",
              "    </tr>\n",
              "  </tbody>\n",
              "</table>\n",
              "</div>"
            ],
            "text/plain": [
              "                            state        TZ  pop\n",
              "WA              Western Australia     GMT+8  1.0\n",
              "SA             Southern Australia  GMT+9.30  1.0\n",
              "VIC                      Victoria    GMT+10  2.5\n",
              "NSW               New South Wales    GMT+10  2.7\n",
              "ACT  Australian Capital Territory    GMT+10  0.5\n",
              "QLD                    Queensland    GMT+10  1.5\n",
              "NT             Northern Territory  GMT+9.30  0.4"
            ]
          },
          "metadata": {
            "tags": []
          },
          "execution_count": 75
        }
      ]
    },
    {
      "cell_type": "code",
      "metadata": {
        "colab": {
          "base_uri": "https://localhost:8080/"
        },
        "id": "g5mgOIFOEUZy",
        "outputId": "e579ac02-a281-4520-c5b8-04415a7be8e1"
      },
      "source": [
        "series_states = df_states_lbl['state']\n",
        "series_states"
      ],
      "execution_count": null,
      "outputs": [
        {
          "output_type": "execute_result",
          "data": {
            "text/plain": [
              "WA                Western Australia\n",
              "SA               Southern Australia\n",
              "VIC                        Victoria\n",
              "NSW                 New South Wales\n",
              "ACT    Australian Capital Territory\n",
              "QLD                      Queensland\n",
              "NT               Northern Territory\n",
              "Name: state, dtype: object"
            ]
          },
          "metadata": {
            "tags": []
          },
          "execution_count": 76
        }
      ]
    },
    {
      "cell_type": "markdown",
      "metadata": {
        "id": "J1i5k45VEfQK"
      },
      "source": [
        "## Retrieving rows from DataFrame"
      ]
    },
    {
      "cell_type": "markdown",
      "metadata": {
        "id": "SvUN2FSZEhgi"
      },
      "source": [
        "Individual rows can also be accessed from the DataFrame by using the loc method and passing the index as a parameter to this method.\n",
        "\n",
        "Code:"
      ]
    },
    {
      "cell_type": "code",
      "metadata": {
        "colab": {
          "base_uri": "https://localhost:8080/",
          "height": 266
        },
        "id": "oF9zL7E3Ek3K",
        "outputId": "f04c63bd-4f28-40ae-b28b-16401389672c"
      },
      "source": [
        "df_states_lbl"
      ],
      "execution_count": null,
      "outputs": [
        {
          "output_type": "execute_result",
          "data": {
            "text/html": [
              "<div>\n",
              "<style scoped>\n",
              "    .dataframe tbody tr th:only-of-type {\n",
              "        vertical-align: middle;\n",
              "    }\n",
              "\n",
              "    .dataframe tbody tr th {\n",
              "        vertical-align: top;\n",
              "    }\n",
              "\n",
              "    .dataframe thead th {\n",
              "        text-align: right;\n",
              "    }\n",
              "</style>\n",
              "<table border=\"1\" class=\"dataframe\">\n",
              "  <thead>\n",
              "    <tr style=\"text-align: right;\">\n",
              "      <th></th>\n",
              "      <th>state</th>\n",
              "      <th>TZ</th>\n",
              "      <th>pop</th>\n",
              "    </tr>\n",
              "  </thead>\n",
              "  <tbody>\n",
              "    <tr>\n",
              "      <th>WA</th>\n",
              "      <td>Western Australia</td>\n",
              "      <td>GMT+8</td>\n",
              "      <td>1.0</td>\n",
              "    </tr>\n",
              "    <tr>\n",
              "      <th>SA</th>\n",
              "      <td>Southern Australia</td>\n",
              "      <td>GMT+9.30</td>\n",
              "      <td>1.0</td>\n",
              "    </tr>\n",
              "    <tr>\n",
              "      <th>VIC</th>\n",
              "      <td>Victoria</td>\n",
              "      <td>GMT+10</td>\n",
              "      <td>2.5</td>\n",
              "    </tr>\n",
              "    <tr>\n",
              "      <th>NSW</th>\n",
              "      <td>New South Wales</td>\n",
              "      <td>GMT+10</td>\n",
              "      <td>2.7</td>\n",
              "    </tr>\n",
              "    <tr>\n",
              "      <th>ACT</th>\n",
              "      <td>Australian Capital Territory</td>\n",
              "      <td>GMT+10</td>\n",
              "      <td>0.5</td>\n",
              "    </tr>\n",
              "    <tr>\n",
              "      <th>QLD</th>\n",
              "      <td>Queensland</td>\n",
              "      <td>GMT+10</td>\n",
              "      <td>1.5</td>\n",
              "    </tr>\n",
              "    <tr>\n",
              "      <th>NT</th>\n",
              "      <td>Northern Territory</td>\n",
              "      <td>GMT+9.30</td>\n",
              "      <td>0.4</td>\n",
              "    </tr>\n",
              "  </tbody>\n",
              "</table>\n",
              "</div>"
            ],
            "text/plain": [
              "                            state        TZ  pop\n",
              "WA              Western Australia     GMT+8  1.0\n",
              "SA             Southern Australia  GMT+9.30  1.0\n",
              "VIC                      Victoria    GMT+10  2.5\n",
              "NSW               New South Wales    GMT+10  2.7\n",
              "ACT  Australian Capital Territory    GMT+10  0.5\n",
              "QLD                    Queensland    GMT+10  1.5\n",
              "NT             Northern Territory  GMT+9.30  0.4"
            ]
          },
          "metadata": {
            "tags": []
          },
          "execution_count": 77
        }
      ]
    },
    {
      "cell_type": "code",
      "metadata": {
        "colab": {
          "base_uri": "https://localhost:8080/"
        },
        "id": "eqfOYYYqEqUL",
        "outputId": "5963ef4d-777b-449c-8780-98b717c4a08d"
      },
      "source": [
        "wa_data = df_states_lbl.loc['WA']\n",
        "wa_data"
      ],
      "execution_count": null,
      "outputs": [
        {
          "output_type": "execute_result",
          "data": {
            "text/plain": [
              "state    Western Australia\n",
              "TZ                   GMT+8\n",
              "pop                      1\n",
              "Name: WA, dtype: object"
            ]
          },
          "metadata": {
            "tags": []
          },
          "execution_count": 78
        }
      ]
    },
    {
      "cell_type": "markdown",
      "metadata": {
        "id": "XFNO5m2bE1BH"
      },
      "source": [
        "In case we don’t want to use the explicit label or row index, we can also use the default positional index for the rows in DataFrame. For such scenarios, there is a method .iloc(), and it can be used to access the particular row.\n",
        "\n",
        "Code:"
      ]
    },
    {
      "cell_type": "code",
      "metadata": {
        "colab": {
          "base_uri": "https://localhost:8080/"
        },
        "id": "GXBPsOC0E1qg",
        "outputId": "35b50fb0-634b-4736-a35f-37507cf3bbfc"
      },
      "source": [
        "wa_data1 = df_states_lbl.iloc[0]\n",
        "wa_data1"
      ],
      "execution_count": null,
      "outputs": [
        {
          "output_type": "execute_result",
          "data": {
            "text/plain": [
              "state    Western Australia\n",
              "TZ                   GMT+8\n",
              "pop                      1\n",
              "Name: WA, dtype: object"
            ]
          },
          "metadata": {
            "tags": []
          },
          "execution_count": 79
        }
      ]
    },
    {
      "cell_type": "code",
      "metadata": {
        "colab": {
          "base_uri": "https://localhost:8080/"
        },
        "id": "mlGPyfLcFDH3",
        "outputId": "69ab62f5-d82b-434e-f8a1-0472ab8e0b73"
      },
      "source": [
        "wa_data1 = df_states_lbl.iloc[1]\n",
        "wa_data1"
      ],
      "execution_count": null,
      "outputs": [
        {
          "output_type": "execute_result",
          "data": {
            "text/plain": [
              "state    Southern Australia\n",
              "TZ                 GMT+9.30\n",
              "pop                       1\n",
              "Name: SA, dtype: object"
            ]
          },
          "metadata": {
            "tags": []
          },
          "execution_count": 80
        }
      ]
    },
    {
      "cell_type": "markdown",
      "metadata": {
        "id": "7ydXsYIwFSVf"
      },
      "source": [
        "## Changing data in a particular column"
      ]
    },
    {
      "cell_type": "markdown",
      "metadata": {
        "id": "iotpisXmFTFz"
      },
      "source": [
        "The values in a particular column can be changed by assigning either the scalar value or a range of values (equal to number of rows in the DataFrame). The following code snippet shows this behaviour:\n",
        "\n",
        "Code:"
      ]
    },
    {
      "cell_type": "code",
      "metadata": {
        "colab": {
          "base_uri": "https://localhost:8080/",
          "height": 266
        },
        "id": "9DfYcbaJFWfC",
        "outputId": "220515d5-211a-4481-b4a5-64779bf1a221"
      },
      "source": [
        "data = {\n",
        "\t'state':['Western Australia', 'Southern Australia', 'Victoria', 'New South Wales', 'Australian Capital Territory', 'Queensland', 'Northern Territory'],\n",
        "\t'pop': [1,1,2.5,2.7,0.5,1.5,0.4],\n",
        "\t'TZ': ['GMT+8', 'GMT+9.30','GMT+10', 'GMT+10', 'GMT+10', 'GMT+10', 'GMT+9.30']\n",
        "}\n",
        "\n",
        "row_labels = ['WA', 'SA','VIC','NSW','ACT','QLD','NT']\n",
        "\n",
        "df_states = DataFrame(data, columns=['state','TZ','pop','GDP'], index=row_labels)\n",
        "df_states"
      ],
      "execution_count": null,
      "outputs": [
        {
          "output_type": "execute_result",
          "data": {
            "text/html": [
              "<div>\n",
              "<style scoped>\n",
              "    .dataframe tbody tr th:only-of-type {\n",
              "        vertical-align: middle;\n",
              "    }\n",
              "\n",
              "    .dataframe tbody tr th {\n",
              "        vertical-align: top;\n",
              "    }\n",
              "\n",
              "    .dataframe thead th {\n",
              "        text-align: right;\n",
              "    }\n",
              "</style>\n",
              "<table border=\"1\" class=\"dataframe\">\n",
              "  <thead>\n",
              "    <tr style=\"text-align: right;\">\n",
              "      <th></th>\n",
              "      <th>state</th>\n",
              "      <th>TZ</th>\n",
              "      <th>pop</th>\n",
              "      <th>GDP</th>\n",
              "    </tr>\n",
              "  </thead>\n",
              "  <tbody>\n",
              "    <tr>\n",
              "      <th>WA</th>\n",
              "      <td>Western Australia</td>\n",
              "      <td>GMT+8</td>\n",
              "      <td>1.0</td>\n",
              "      <td>NaN</td>\n",
              "    </tr>\n",
              "    <tr>\n",
              "      <th>SA</th>\n",
              "      <td>Southern Australia</td>\n",
              "      <td>GMT+9.30</td>\n",
              "      <td>1.0</td>\n",
              "      <td>NaN</td>\n",
              "    </tr>\n",
              "    <tr>\n",
              "      <th>VIC</th>\n",
              "      <td>Victoria</td>\n",
              "      <td>GMT+10</td>\n",
              "      <td>2.5</td>\n",
              "      <td>NaN</td>\n",
              "    </tr>\n",
              "    <tr>\n",
              "      <th>NSW</th>\n",
              "      <td>New South Wales</td>\n",
              "      <td>GMT+10</td>\n",
              "      <td>2.7</td>\n",
              "      <td>NaN</td>\n",
              "    </tr>\n",
              "    <tr>\n",
              "      <th>ACT</th>\n",
              "      <td>Australian Capital Territory</td>\n",
              "      <td>GMT+10</td>\n",
              "      <td>0.5</td>\n",
              "      <td>NaN</td>\n",
              "    </tr>\n",
              "    <tr>\n",
              "      <th>QLD</th>\n",
              "      <td>Queensland</td>\n",
              "      <td>GMT+10</td>\n",
              "      <td>1.5</td>\n",
              "      <td>NaN</td>\n",
              "    </tr>\n",
              "    <tr>\n",
              "      <th>NT</th>\n",
              "      <td>Northern Territory</td>\n",
              "      <td>GMT+9.30</td>\n",
              "      <td>0.4</td>\n",
              "      <td>NaN</td>\n",
              "    </tr>\n",
              "  </tbody>\n",
              "</table>\n",
              "</div>"
            ],
            "text/plain": [
              "                            state        TZ  pop  GDP\n",
              "WA              Western Australia     GMT+8  1.0  NaN\n",
              "SA             Southern Australia  GMT+9.30  1.0  NaN\n",
              "VIC                      Victoria    GMT+10  2.5  NaN\n",
              "NSW               New South Wales    GMT+10  2.7  NaN\n",
              "ACT  Australian Capital Territory    GMT+10  0.5  NaN\n",
              "QLD                    Queensland    GMT+10  1.5  NaN\n",
              "NT             Northern Territory  GMT+9.30  0.4  NaN"
            ]
          },
          "metadata": {
            "tags": []
          },
          "execution_count": 81
        }
      ]
    },
    {
      "cell_type": "code",
      "metadata": {
        "id": "dFzSmKZbFgQL",
        "colab": {
          "base_uri": "https://localhost:8080/",
          "height": 266
        },
        "outputId": "7ce8cca7-086c-40ff-ee5f-d38abe1b01cb"
      },
      "source": [
        "#Access GDP column and assign a constant value\n",
        "df_states['GDP'] = 16\n",
        "df_states"
      ],
      "execution_count": null,
      "outputs": [
        {
          "output_type": "execute_result",
          "data": {
            "text/html": [
              "<div>\n",
              "<style scoped>\n",
              "    .dataframe tbody tr th:only-of-type {\n",
              "        vertical-align: middle;\n",
              "    }\n",
              "\n",
              "    .dataframe tbody tr th {\n",
              "        vertical-align: top;\n",
              "    }\n",
              "\n",
              "    .dataframe thead th {\n",
              "        text-align: right;\n",
              "    }\n",
              "</style>\n",
              "<table border=\"1\" class=\"dataframe\">\n",
              "  <thead>\n",
              "    <tr style=\"text-align: right;\">\n",
              "      <th></th>\n",
              "      <th>state</th>\n",
              "      <th>TZ</th>\n",
              "      <th>pop</th>\n",
              "      <th>GDP</th>\n",
              "    </tr>\n",
              "  </thead>\n",
              "  <tbody>\n",
              "    <tr>\n",
              "      <th>WA</th>\n",
              "      <td>Western Australia</td>\n",
              "      <td>GMT+8</td>\n",
              "      <td>1.0</td>\n",
              "      <td>16</td>\n",
              "    </tr>\n",
              "    <tr>\n",
              "      <th>SA</th>\n",
              "      <td>Southern Australia</td>\n",
              "      <td>GMT+9.30</td>\n",
              "      <td>1.0</td>\n",
              "      <td>16</td>\n",
              "    </tr>\n",
              "    <tr>\n",
              "      <th>VIC</th>\n",
              "      <td>Victoria</td>\n",
              "      <td>GMT+10</td>\n",
              "      <td>2.5</td>\n",
              "      <td>16</td>\n",
              "    </tr>\n",
              "    <tr>\n",
              "      <th>NSW</th>\n",
              "      <td>New South Wales</td>\n",
              "      <td>GMT+10</td>\n",
              "      <td>2.7</td>\n",
              "      <td>16</td>\n",
              "    </tr>\n",
              "    <tr>\n",
              "      <th>ACT</th>\n",
              "      <td>Australian Capital Territory</td>\n",
              "      <td>GMT+10</td>\n",
              "      <td>0.5</td>\n",
              "      <td>16</td>\n",
              "    </tr>\n",
              "    <tr>\n",
              "      <th>QLD</th>\n",
              "      <td>Queensland</td>\n",
              "      <td>GMT+10</td>\n",
              "      <td>1.5</td>\n",
              "      <td>16</td>\n",
              "    </tr>\n",
              "    <tr>\n",
              "      <th>NT</th>\n",
              "      <td>Northern Territory</td>\n",
              "      <td>GMT+9.30</td>\n",
              "      <td>0.4</td>\n",
              "      <td>16</td>\n",
              "    </tr>\n",
              "  </tbody>\n",
              "</table>\n",
              "</div>"
            ],
            "text/plain": [
              "                            state        TZ  pop  GDP\n",
              "WA              Western Australia     GMT+8  1.0   16\n",
              "SA             Southern Australia  GMT+9.30  1.0   16\n",
              "VIC                      Victoria    GMT+10  2.5   16\n",
              "NSW               New South Wales    GMT+10  2.7   16\n",
              "ACT  Australian Capital Territory    GMT+10  0.5   16\n",
              "QLD                    Queensland    GMT+10  1.5   16\n",
              "NT             Northern Territory  GMT+9.30  0.4   16"
            ]
          },
          "metadata": {
            "tags": []
          },
          "execution_count": 82
        }
      ]
    },
    {
      "cell_type": "markdown",
      "metadata": {
        "id": "F8Egwq3CF7dR"
      },
      "source": [
        "In the example below we are passing the list of values instead of some constant value"
      ]
    },
    {
      "cell_type": "code",
      "metadata": {
        "colab": {
          "base_uri": "https://localhost:8080/",
          "height": 266
        },
        "id": "Sen7PMl9F8KO",
        "outputId": "ea48583f-167b-486c-a418-adc99886e534"
      },
      "source": [
        "gdp_data = [11,8,20,22,15,18,8]\n",
        "df_states['GDP'] = gdp_data\n",
        "df_states"
      ],
      "execution_count": null,
      "outputs": [
        {
          "output_type": "execute_result",
          "data": {
            "text/html": [
              "<div>\n",
              "<style scoped>\n",
              "    .dataframe tbody tr th:only-of-type {\n",
              "        vertical-align: middle;\n",
              "    }\n",
              "\n",
              "    .dataframe tbody tr th {\n",
              "        vertical-align: top;\n",
              "    }\n",
              "\n",
              "    .dataframe thead th {\n",
              "        text-align: right;\n",
              "    }\n",
              "</style>\n",
              "<table border=\"1\" class=\"dataframe\">\n",
              "  <thead>\n",
              "    <tr style=\"text-align: right;\">\n",
              "      <th></th>\n",
              "      <th>state</th>\n",
              "      <th>TZ</th>\n",
              "      <th>pop</th>\n",
              "      <th>GDP</th>\n",
              "    </tr>\n",
              "  </thead>\n",
              "  <tbody>\n",
              "    <tr>\n",
              "      <th>WA</th>\n",
              "      <td>Western Australia</td>\n",
              "      <td>GMT+8</td>\n",
              "      <td>1.0</td>\n",
              "      <td>11</td>\n",
              "    </tr>\n",
              "    <tr>\n",
              "      <th>SA</th>\n",
              "      <td>Southern Australia</td>\n",
              "      <td>GMT+9.30</td>\n",
              "      <td>1.0</td>\n",
              "      <td>8</td>\n",
              "    </tr>\n",
              "    <tr>\n",
              "      <th>VIC</th>\n",
              "      <td>Victoria</td>\n",
              "      <td>GMT+10</td>\n",
              "      <td>2.5</td>\n",
              "      <td>20</td>\n",
              "    </tr>\n",
              "    <tr>\n",
              "      <th>NSW</th>\n",
              "      <td>New South Wales</td>\n",
              "      <td>GMT+10</td>\n",
              "      <td>2.7</td>\n",
              "      <td>22</td>\n",
              "    </tr>\n",
              "    <tr>\n",
              "      <th>ACT</th>\n",
              "      <td>Australian Capital Territory</td>\n",
              "      <td>GMT+10</td>\n",
              "      <td>0.5</td>\n",
              "      <td>15</td>\n",
              "    </tr>\n",
              "    <tr>\n",
              "      <th>QLD</th>\n",
              "      <td>Queensland</td>\n",
              "      <td>GMT+10</td>\n",
              "      <td>1.5</td>\n",
              "      <td>18</td>\n",
              "    </tr>\n",
              "    <tr>\n",
              "      <th>NT</th>\n",
              "      <td>Northern Territory</td>\n",
              "      <td>GMT+9.30</td>\n",
              "      <td>0.4</td>\n",
              "      <td>8</td>\n",
              "    </tr>\n",
              "  </tbody>\n",
              "</table>\n",
              "</div>"
            ],
            "text/plain": [
              "                            state        TZ  pop  GDP\n",
              "WA              Western Australia     GMT+8  1.0   11\n",
              "SA             Southern Australia  GMT+9.30  1.0    8\n",
              "VIC                      Victoria    GMT+10  2.5   20\n",
              "NSW               New South Wales    GMT+10  2.7   22\n",
              "ACT  Australian Capital Territory    GMT+10  0.5   15\n",
              "QLD                    Queensland    GMT+10  1.5   18\n",
              "NT             Northern Territory  GMT+9.30  0.4    8"
            ]
          },
          "metadata": {
            "tags": []
          },
          "execution_count": 84
        }
      ]
    },
    {
      "cell_type": "markdown",
      "metadata": {
        "id": "1SlyPiFhG3rj"
      },
      "source": [
        "## Adding a column to DataFrame"
      ]
    },
    {
      "cell_type": "markdown",
      "metadata": {
        "id": "NwH8-r_6G52r"
      },
      "source": [
        "Using the same convention, if we specify a column name that doesn’t exist in DataFrame and pass the list of values or a scalar, it results in the addition of a new column to the DataFrame.\n",
        "\n",
        "See the below example for a demonstration:\n",
        "\n",
        "Code:"
      ]
    },
    {
      "cell_type": "code",
      "metadata": {
        "colab": {
          "base_uri": "https://localhost:8080/",
          "height": 266
        },
        "id": "SanIoPfCG7Wl",
        "outputId": "8878b72e-cfbf-40b5-b4bb-010a158a4fb6"
      },
      "source": [
        "df_states"
      ],
      "execution_count": null,
      "outputs": [
        {
          "output_type": "execute_result",
          "data": {
            "text/html": [
              "<div>\n",
              "<style scoped>\n",
              "    .dataframe tbody tr th:only-of-type {\n",
              "        vertical-align: middle;\n",
              "    }\n",
              "\n",
              "    .dataframe tbody tr th {\n",
              "        vertical-align: top;\n",
              "    }\n",
              "\n",
              "    .dataframe thead th {\n",
              "        text-align: right;\n",
              "    }\n",
              "</style>\n",
              "<table border=\"1\" class=\"dataframe\">\n",
              "  <thead>\n",
              "    <tr style=\"text-align: right;\">\n",
              "      <th></th>\n",
              "      <th>state</th>\n",
              "      <th>TZ</th>\n",
              "      <th>pop</th>\n",
              "      <th>GDP</th>\n",
              "    </tr>\n",
              "  </thead>\n",
              "  <tbody>\n",
              "    <tr>\n",
              "      <th>WA</th>\n",
              "      <td>Western Australia</td>\n",
              "      <td>GMT+8</td>\n",
              "      <td>1.0</td>\n",
              "      <td>11</td>\n",
              "    </tr>\n",
              "    <tr>\n",
              "      <th>SA</th>\n",
              "      <td>Southern Australia</td>\n",
              "      <td>GMT+9.30</td>\n",
              "      <td>1.0</td>\n",
              "      <td>8</td>\n",
              "    </tr>\n",
              "    <tr>\n",
              "      <th>VIC</th>\n",
              "      <td>Victoria</td>\n",
              "      <td>GMT+10</td>\n",
              "      <td>2.5</td>\n",
              "      <td>20</td>\n",
              "    </tr>\n",
              "    <tr>\n",
              "      <th>NSW</th>\n",
              "      <td>New South Wales</td>\n",
              "      <td>GMT+10</td>\n",
              "      <td>2.7</td>\n",
              "      <td>22</td>\n",
              "    </tr>\n",
              "    <tr>\n",
              "      <th>ACT</th>\n",
              "      <td>Australian Capital Territory</td>\n",
              "      <td>GMT+10</td>\n",
              "      <td>0.5</td>\n",
              "      <td>15</td>\n",
              "    </tr>\n",
              "    <tr>\n",
              "      <th>QLD</th>\n",
              "      <td>Queensland</td>\n",
              "      <td>GMT+10</td>\n",
              "      <td>1.5</td>\n",
              "      <td>18</td>\n",
              "    </tr>\n",
              "    <tr>\n",
              "      <th>NT</th>\n",
              "      <td>Northern Territory</td>\n",
              "      <td>GMT+9.30</td>\n",
              "      <td>0.4</td>\n",
              "      <td>8</td>\n",
              "    </tr>\n",
              "  </tbody>\n",
              "</table>\n",
              "</div>"
            ],
            "text/plain": [
              "                            state        TZ  pop  GDP\n",
              "WA              Western Australia     GMT+8  1.0   11\n",
              "SA             Southern Australia  GMT+9.30  1.0    8\n",
              "VIC                      Victoria    GMT+10  2.5   20\n",
              "NSW               New South Wales    GMT+10  2.7   22\n",
              "ACT  Australian Capital Territory    GMT+10  0.5   15\n",
              "QLD                    Queensland    GMT+10  1.5   18\n",
              "NT             Northern Territory  GMT+9.30  0.4    8"
            ]
          },
          "metadata": {
            "tags": []
          },
          "execution_count": 85
        }
      ]
    },
    {
      "cell_type": "code",
      "metadata": {
        "colab": {
          "base_uri": "https://localhost:8080/",
          "height": 266
        },
        "id": "6G1574lsG9Wc",
        "outputId": "fab36e67-69e5-4d1a-fc7d-b30d9eae5b7c"
      },
      "source": [
        "df_states['area'] = \"TBD\"\n",
        "df_states"
      ],
      "execution_count": null,
      "outputs": [
        {
          "output_type": "execute_result",
          "data": {
            "text/html": [
              "<div>\n",
              "<style scoped>\n",
              "    .dataframe tbody tr th:only-of-type {\n",
              "        vertical-align: middle;\n",
              "    }\n",
              "\n",
              "    .dataframe tbody tr th {\n",
              "        vertical-align: top;\n",
              "    }\n",
              "\n",
              "    .dataframe thead th {\n",
              "        text-align: right;\n",
              "    }\n",
              "</style>\n",
              "<table border=\"1\" class=\"dataframe\">\n",
              "  <thead>\n",
              "    <tr style=\"text-align: right;\">\n",
              "      <th></th>\n",
              "      <th>state</th>\n",
              "      <th>TZ</th>\n",
              "      <th>pop</th>\n",
              "      <th>GDP</th>\n",
              "      <th>area</th>\n",
              "    </tr>\n",
              "  </thead>\n",
              "  <tbody>\n",
              "    <tr>\n",
              "      <th>WA</th>\n",
              "      <td>Western Australia</td>\n",
              "      <td>GMT+8</td>\n",
              "      <td>1.0</td>\n",
              "      <td>11</td>\n",
              "      <td>TBD</td>\n",
              "    </tr>\n",
              "    <tr>\n",
              "      <th>SA</th>\n",
              "      <td>Southern Australia</td>\n",
              "      <td>GMT+9.30</td>\n",
              "      <td>1.0</td>\n",
              "      <td>8</td>\n",
              "      <td>TBD</td>\n",
              "    </tr>\n",
              "    <tr>\n",
              "      <th>VIC</th>\n",
              "      <td>Victoria</td>\n",
              "      <td>GMT+10</td>\n",
              "      <td>2.5</td>\n",
              "      <td>20</td>\n",
              "      <td>TBD</td>\n",
              "    </tr>\n",
              "    <tr>\n",
              "      <th>NSW</th>\n",
              "      <td>New South Wales</td>\n",
              "      <td>GMT+10</td>\n",
              "      <td>2.7</td>\n",
              "      <td>22</td>\n",
              "      <td>TBD</td>\n",
              "    </tr>\n",
              "    <tr>\n",
              "      <th>ACT</th>\n",
              "      <td>Australian Capital Territory</td>\n",
              "      <td>GMT+10</td>\n",
              "      <td>0.5</td>\n",
              "      <td>15</td>\n",
              "      <td>TBD</td>\n",
              "    </tr>\n",
              "    <tr>\n",
              "      <th>QLD</th>\n",
              "      <td>Queensland</td>\n",
              "      <td>GMT+10</td>\n",
              "      <td>1.5</td>\n",
              "      <td>18</td>\n",
              "      <td>TBD</td>\n",
              "    </tr>\n",
              "    <tr>\n",
              "      <th>NT</th>\n",
              "      <td>Northern Territory</td>\n",
              "      <td>GMT+9.30</td>\n",
              "      <td>0.4</td>\n",
              "      <td>8</td>\n",
              "      <td>TBD</td>\n",
              "    </tr>\n",
              "  </tbody>\n",
              "</table>\n",
              "</div>"
            ],
            "text/plain": [
              "                            state        TZ  pop  GDP area\n",
              "WA              Western Australia     GMT+8  1.0   11  TBD\n",
              "SA             Southern Australia  GMT+9.30  1.0    8  TBD\n",
              "VIC                      Victoria    GMT+10  2.5   20  TBD\n",
              "NSW               New South Wales    GMT+10  2.7   22  TBD\n",
              "ACT  Australian Capital Territory    GMT+10  0.5   15  TBD\n",
              "QLD                    Queensland    GMT+10  1.5   18  TBD\n",
              "NT             Northern Territory  GMT+9.30  0.4    8  TBD"
            ]
          },
          "metadata": {
            "tags": []
          },
          "execution_count": 90
        }
      ]
    },
    {
      "cell_type": "markdown",
      "metadata": {
        "id": "QIkBGVttHHmD"
      },
      "source": [
        "So far, we have seen some of the basic operations related to the Series and DataFrame. In the subsequent sections, let’s explore some of the essential functionalities for Pandas, as these will form the foundation of the data wrangling activities for any data analytics projects that you would be involved in."
      ]
    },
    {
      "cell_type": "markdown",
      "metadata": {
        "id": "dLfVJEknHIrU"
      },
      "source": [
        "# QUIZ"
      ]
    },
    {
      "cell_type": "markdown",
      "metadata": {
        "id": "kBjyPH2uHK-o"
      },
      "source": [
        "1. Which of the following is incorrect about Pandas functionalities?\n",
        "  - Pandas helps you load your data.\n",
        "  - It can preview your data.\n",
        "  - It can help gather better insights into your data.\n",
        "  - **It works only with your numerical data.**\n",
        "\n",
        "2. When importing Pandas, what is the commonly used reference name?\n",
        "  - **pd**\n",
        "  - np\n",
        "  - pn\n",
        "  - nt\n",
        "\n",
        "3. Which of the following best describes Pandas Series?\n",
        "  - You can create a series by passing a pandas function.\n",
        "  - It is a two-dimensional object.\n",
        "  - It contains only an ordered list of columns.\n",
        "  - **It contains both Array of data and Array of labels.**\n",
        "\n",
        "4. Which of the following functions will you use if you want to change the sequence of the columns in your existing table from ‘name’, ‘ID’, ‘phone number’ to ‘ID’, ‘phone number’, ‘name’?\n",
        "  - df_customerinfo=DataFrame(data, columns=[‘name,’ID’,’phone number’])\n",
        "  - df_customerinfo=DataFrame(data, rows=[‘ID,’phone number’,’name’])\n",
        "  - **df_customerinfo=DataFrame(data, columns=[‘ID,’phone number’,’name’])**\n",
        "  - df_customerinfo=DataFrame(data, series=[‘ID,’phone number’,’name’])\n",
        "\n"
      ]
    },
    {
      "cell_type": "markdown",
      "metadata": {
        "id": "ZAzGefq4IlsT"
      },
      "source": [
        "# Pandas: Essential operations"
      ]
    },
    {
      "cell_type": "markdown",
      "metadata": {
        "id": "cT4N1AOBImvW"
      },
      "source": [
        "**Similar to NumPy, Pandas also has some essential operations that you would need to explore interacting with the data stored in Series and DataFrame.**"
      ]
    },
    {
      "cell_type": "markdown",
      "metadata": {
        "id": "anBiAPopIrZN"
      },
      "source": [
        "## Reindexing"
      ]
    },
    {
      "cell_type": "markdown",
      "metadata": {
        "id": "7UQg96BHItVc"
      },
      "source": [
        "An important operation that we perform on the Pandas data structure is reindexing, which means to create a new object and rearrange the data in the Pandas data structure, conforming to the new index.\n",
        "\n",
        "While doing so, if data is not present for some index in the original data, missing values are added, corresponding to those indexes.\n",
        "\n",
        "Code:"
      ]
    },
    {
      "cell_type": "code",
      "metadata": {
        "id": "mJzwYMepIvM8",
        "colab": {
          "base_uri": "https://localhost:8080/"
        },
        "outputId": "106827dc-4e45-4469-b9e5-1826e8af74c3"
      },
      "source": [
        "a = Series(np.random.randn(10), index=['a','b','c','d','e','f','g','h','i','j'])\n",
        "a"
      ],
      "execution_count": null,
      "outputs": [
        {
          "output_type": "execute_result",
          "data": {
            "text/plain": [
              "a    0.671328\n",
              "b    0.764802\n",
              "c    0.804547\n",
              "d   -0.219320\n",
              "e    0.518468\n",
              "f    0.000156\n",
              "g   -0.547678\n",
              "h   -0.338730\n",
              "i   -0.319640\n",
              "j    1.727902\n",
              "dtype: float64"
            ]
          },
          "metadata": {
            "tags": []
          },
          "execution_count": 91
        }
      ]
    },
    {
      "cell_type": "code",
      "metadata": {
        "colab": {
          "base_uri": "https://localhost:8080/"
        },
        "id": "ahXDiJF-JXF6",
        "outputId": "85b40194-6d28-4be3-f083-34eedad8a1c9"
      },
      "source": [
        "new_index = ['a','A1','b','B1','c','C1','d','e','f','g','h','i','j']\n",
        "a_new = a.reindex(new_index)\n",
        "a_new"
      ],
      "execution_count": null,
      "outputs": [
        {
          "output_type": "execute_result",
          "data": {
            "text/plain": [
              "a     0.671328\n",
              "A1         NaN\n",
              "b     0.764802\n",
              "B1         NaN\n",
              "c     0.804547\n",
              "C1         NaN\n",
              "d    -0.219320\n",
              "e     0.518468\n",
              "f     0.000156\n",
              "g    -0.547678\n",
              "h    -0.338730\n",
              "i    -0.319640\n",
              "j     1.727902\n",
              "dtype: float64"
            ]
          },
          "metadata": {
            "tags": []
          },
          "execution_count": 93
        }
      ]
    },
    {
      "cell_type": "markdown",
      "metadata": {
        "id": "ump2LnDUJuTU"
      },
      "source": [
        "Imagine a situation where you are processing employee records. However, many of the employees have supplied incomplete information. You need a way to handle these cases and highlight the gaps to follow up with them. Perhaps you could insert ‘Unknown’ into all the empty fields, to make the missing values easy to identify. There are various ways the missing values can be handled during reindexing.\n",
        "\n",
        "We can:\n",
        "\n",
        "- either specify a particular value to be filled, and we do this by adding a parameter to the reindex method i.e. `fill_value = <pre defined value to be filled>`\n",
        "\n",
        "- or we can specify the pre-defined options by passing a parameter `method = <pre defined method values>`. This is especially useful in case we need to do operations like interpolation, forward fill, backward fill, and so on for time series data analysis.\n",
        "\n",
        "These two methods are demonstrated by the code snippet below:\n",
        "\n",
        "1. Specifying fill_value\n",
        "\n",
        "Code:"
      ]
    },
    {
      "cell_type": "code",
      "metadata": {
        "colab": {
          "base_uri": "https://localhost:8080/"
        },
        "id": "36B_wEUiKEhC",
        "outputId": "3fc4a208-d2cc-487a-a3f3-94a5a8b331cb"
      },
      "source": [
        "a_fillvalue = a.reindex(new_index, fill_value=0)\n",
        "a_fillvalue"
      ],
      "execution_count": null,
      "outputs": [
        {
          "output_type": "execute_result",
          "data": {
            "text/plain": [
              "a     0.671328\n",
              "A1    0.000000\n",
              "b     0.764802\n",
              "B1    0.000000\n",
              "c     0.804547\n",
              "C1    0.000000\n",
              "d    -0.219320\n",
              "e     0.518468\n",
              "f     0.000156\n",
              "g    -0.547678\n",
              "h    -0.338730\n",
              "i    -0.319640\n",
              "j     1.727902\n",
              "dtype: float64"
            ]
          },
          "metadata": {
            "tags": []
          },
          "execution_count": 94
        }
      ]
    },
    {
      "cell_type": "markdown",
      "metadata": {
        "id": "E-Lx_S99KIdf"
      },
      "source": [
        "2. Specifying ‘method’ parameter\n",
        "\n",
        "Code:"
      ]
    },
    {
      "cell_type": "code",
      "metadata": {
        "colab": {
          "base_uri": "https://localhost:8080/"
        },
        "id": "JGQASXdhKJCa",
        "outputId": "025f5bb3-e5f7-4ffc-dae8-30d3ce046077"
      },
      "source": [
        "a = Series(np.random.randn(10), index=[0,2,4,6,8,10,12,14,16,18])\n",
        "a"
      ],
      "execution_count": null,
      "outputs": [
        {
          "output_type": "execute_result",
          "data": {
            "text/plain": [
              "0     1.096819\n",
              "2     0.629804\n",
              "4     0.482115\n",
              "6    -0.826161\n",
              "8    -1.432868\n",
              "10    0.193929\n",
              "12    1.669338\n",
              "14   -0.789566\n",
              "16    1.617491\n",
              "18    0.105089\n",
              "dtype: float64"
            ]
          },
          "metadata": {
            "tags": []
          },
          "execution_count": 100
        }
      ]
    },
    {
      "cell_type": "code",
      "metadata": {
        "colab": {
          "base_uri": "https://localhost:8080/"
        },
        "id": "sfOFW9XBK7Lx",
        "outputId": "d9b3aba1-6d60-4c1b-9a46-372dd83a75d9"
      },
      "source": [
        "## Reindex so that indexes 1,3,5... are introduced in the series\n",
        "a_new = a.reindex(range(20))\n",
        "a_new"
      ],
      "execution_count": null,
      "outputs": [
        {
          "output_type": "execute_result",
          "data": {
            "text/plain": [
              "0     1.096819\n",
              "1          NaN\n",
              "2     0.629804\n",
              "3          NaN\n",
              "4     0.482115\n",
              "5          NaN\n",
              "6    -0.826161\n",
              "7          NaN\n",
              "8    -1.432868\n",
              "9          NaN\n",
              "10    0.193929\n",
              "11         NaN\n",
              "12    1.669338\n",
              "13         NaN\n",
              "14   -0.789566\n",
              "15         NaN\n",
              "16    1.617491\n",
              "17         NaN\n",
              "18    0.105089\n",
              "19         NaN\n",
              "dtype: float64"
            ]
          },
          "metadata": {
            "tags": []
          },
          "execution_count": 101
        }
      ]
    },
    {
      "cell_type": "code",
      "metadata": {
        "colab": {
          "base_uri": "https://localhost:8080/"
        },
        "id": "jgtuFpQoLgHT",
        "outputId": "9651a0fb-bf16-4499-f9d8-bd56e5790599"
      },
      "source": [
        "## Perform similar reindex but with forward fill method specific for null values\n",
        "a_ffill = a.reindex(range(20), method='ffill')\n",
        "a_ffill"
      ],
      "execution_count": null,
      "outputs": [
        {
          "output_type": "execute_result",
          "data": {
            "text/plain": [
              "0     1.096819\n",
              "1     1.096819\n",
              "2     0.629804\n",
              "3     0.629804\n",
              "4     0.482115\n",
              "5     0.482115\n",
              "6    -0.826161\n",
              "7    -0.826161\n",
              "8    -1.432868\n",
              "9    -1.432868\n",
              "10    0.193929\n",
              "11    0.193929\n",
              "12    1.669338\n",
              "13    1.669338\n",
              "14   -0.789566\n",
              "15   -0.789566\n",
              "16    1.617491\n",
              "17    1.617491\n",
              "18    0.105089\n",
              "19    0.105089\n",
              "dtype: float64"
            ]
          },
          "metadata": {
            "tags": []
          },
          "execution_count": 105
        }
      ]
    },
    {
      "cell_type": "markdown",
      "metadata": {
        "id": "6WE3IoD0MC6H"
      },
      "source": [
        "Observe index 1, 3, and 5: values have been populated from the previous index. For the complete list of parameters of reindexing method, refer to the documentation available at following links:\n",
        "\n",
        "Read: [Pandas Document for Series reindexing](https://pandas.pydata.org/pandas-docs/stable/reference/api/pandas.Series.reindex.html) [1]\n",
        "\n",
        "Read: [Pandas Document for Dataframe Reindexing](https://pandas.pydata.org/pandas-docs/stable/reference/api/pandas.DataFrame.reindex.html) [2]"
      ]
    },
    {
      "cell_type": "markdown",
      "metadata": {
        "id": "aG26TfwjMVFl"
      },
      "source": [
        "## Dropping entries from axis"
      ]
    },
    {
      "cell_type": "markdown",
      "metadata": {
        "id": "X8GmfwE6MV6a"
      },
      "source": [
        "At many times, we need to delete the data from the Pandas Series and DataFrame. You can do this using the drop method, which is available to both Series and DataFrame. This method accepts the index, or the list of index, to be dropped from the Series and DataFrame.\n",
        "\n",
        "This method creates a new object with only the required values. Note that this operation doesn’t perform inline-drop (ie, the original Pandas Series or DataFrame will be preserved and still available after the drop operations). In practical terms, the method creates a selective copy of the data."
      ]
    },
    {
      "cell_type": "markdown",
      "metadata": {
        "id": "VDB7BC4WMXxF"
      },
      "source": [
        "1. Drop single index\n",
        "\n",
        "Code:"
      ]
    },
    {
      "cell_type": "code",
      "metadata": {
        "colab": {
          "base_uri": "https://localhost:8080/"
        },
        "id": "w1-N7xSgMZwv",
        "outputId": "17397d7b-68db-4983-da88-a01afaa9a80a"
      },
      "source": [
        "b = Series(np.arange(10), index=['a','b','c','d','e','f','g','h','i','j'])\n",
        "b"
      ],
      "execution_count": null,
      "outputs": [
        {
          "output_type": "execute_result",
          "data": {
            "text/plain": [
              "a    0\n",
              "b    1\n",
              "c    2\n",
              "d    3\n",
              "e    4\n",
              "f    5\n",
              "g    6\n",
              "h    7\n",
              "i    8\n",
              "j    9\n",
              "dtype: int64"
            ]
          },
          "metadata": {
            "tags": []
          },
          "execution_count": 106
        }
      ]
    },
    {
      "cell_type": "code",
      "metadata": {
        "colab": {
          "base_uri": "https://localhost:8080/"
        },
        "id": "lLV4za7iMj0b",
        "outputId": "8c71d53d-543f-40e8-9f28-4ca612b2a35a"
      },
      "source": [
        "#Dropping index b\n",
        "new_series = b.drop('b')\n",
        "new_series"
      ],
      "execution_count": null,
      "outputs": [
        {
          "output_type": "execute_result",
          "data": {
            "text/plain": [
              "a    0\n",
              "c    2\n",
              "d    3\n",
              "e    4\n",
              "f    5\n",
              "g    6\n",
              "h    7\n",
              "i    8\n",
              "j    9\n",
              "dtype: int64"
            ]
          },
          "metadata": {
            "tags": []
          },
          "execution_count": 107
        }
      ]
    },
    {
      "cell_type": "markdown",
      "metadata": {
        "id": "lJ7RbRXZMowD"
      },
      "source": [
        "2. Drop multiple index"
      ]
    },
    {
      "cell_type": "code",
      "metadata": {
        "colab": {
          "base_uri": "https://localhost:8080/"
        },
        "id": "loYlaFYGMpGt",
        "outputId": "c5eb7acc-06ce-47af-fcd6-9f47b20552b9"
      },
      "source": [
        "# Dropping multiple index.\n",
        "# for e.g., a, g, j\n",
        "new_series_1 = b.drop(['a','g','j'])\n",
        "new_series_1"
      ],
      "execution_count": null,
      "outputs": [
        {
          "output_type": "execute_result",
          "data": {
            "text/plain": [
              "b    1\n",
              "c    2\n",
              "d    3\n",
              "e    4\n",
              "f    5\n",
              "h    7\n",
              "i    8\n",
              "dtype: int64"
            ]
          },
          "metadata": {
            "tags": []
          },
          "execution_count": 108
        }
      ]
    },
    {
      "cell_type": "markdown",
      "metadata": {
        "id": "i7eXxCtbMxFJ"
      },
      "source": [
        "In the case of DataFrame, we specify the index for both axes: row labels (by using index parameter), and column names (by using columns parameter). The following code snippets demonstrates this behaviour:\n",
        "\n",
        "3. Removing a row from DataFrame\n",
        "\n",
        "Code:"
      ]
    },
    {
      "cell_type": "code",
      "metadata": {
        "colab": {
          "base_uri": "https://localhost:8080/",
          "height": 266
        },
        "id": "Idu3ds-JMzIB",
        "outputId": "d24a7a3c-d597-44d1-ee95-48de4ecd92c8"
      },
      "source": [
        "df_states"
      ],
      "execution_count": null,
      "outputs": [
        {
          "output_type": "execute_result",
          "data": {
            "text/html": [
              "<div>\n",
              "<style scoped>\n",
              "    .dataframe tbody tr th:only-of-type {\n",
              "        vertical-align: middle;\n",
              "    }\n",
              "\n",
              "    .dataframe tbody tr th {\n",
              "        vertical-align: top;\n",
              "    }\n",
              "\n",
              "    .dataframe thead th {\n",
              "        text-align: right;\n",
              "    }\n",
              "</style>\n",
              "<table border=\"1\" class=\"dataframe\">\n",
              "  <thead>\n",
              "    <tr style=\"text-align: right;\">\n",
              "      <th></th>\n",
              "      <th>state</th>\n",
              "      <th>TZ</th>\n",
              "      <th>pop</th>\n",
              "      <th>GDP</th>\n",
              "      <th>area</th>\n",
              "    </tr>\n",
              "  </thead>\n",
              "  <tbody>\n",
              "    <tr>\n",
              "      <th>WA</th>\n",
              "      <td>Western Australia</td>\n",
              "      <td>GMT+8</td>\n",
              "      <td>1.0</td>\n",
              "      <td>11</td>\n",
              "      <td>TBD</td>\n",
              "    </tr>\n",
              "    <tr>\n",
              "      <th>SA</th>\n",
              "      <td>Southern Australia</td>\n",
              "      <td>GMT+9.30</td>\n",
              "      <td>1.0</td>\n",
              "      <td>8</td>\n",
              "      <td>TBD</td>\n",
              "    </tr>\n",
              "    <tr>\n",
              "      <th>VIC</th>\n",
              "      <td>Victoria</td>\n",
              "      <td>GMT+10</td>\n",
              "      <td>2.5</td>\n",
              "      <td>20</td>\n",
              "      <td>TBD</td>\n",
              "    </tr>\n",
              "    <tr>\n",
              "      <th>NSW</th>\n",
              "      <td>New South Wales</td>\n",
              "      <td>GMT+10</td>\n",
              "      <td>2.7</td>\n",
              "      <td>22</td>\n",
              "      <td>TBD</td>\n",
              "    </tr>\n",
              "    <tr>\n",
              "      <th>ACT</th>\n",
              "      <td>Australian Capital Territory</td>\n",
              "      <td>GMT+10</td>\n",
              "      <td>0.5</td>\n",
              "      <td>15</td>\n",
              "      <td>TBD</td>\n",
              "    </tr>\n",
              "    <tr>\n",
              "      <th>QLD</th>\n",
              "      <td>Queensland</td>\n",
              "      <td>GMT+10</td>\n",
              "      <td>1.5</td>\n",
              "      <td>18</td>\n",
              "      <td>TBD</td>\n",
              "    </tr>\n",
              "    <tr>\n",
              "      <th>NT</th>\n",
              "      <td>Northern Territory</td>\n",
              "      <td>GMT+9.30</td>\n",
              "      <td>0.4</td>\n",
              "      <td>8</td>\n",
              "      <td>TBD</td>\n",
              "    </tr>\n",
              "  </tbody>\n",
              "</table>\n",
              "</div>"
            ],
            "text/plain": [
              "                            state        TZ  pop  GDP area\n",
              "WA              Western Australia     GMT+8  1.0   11  TBD\n",
              "SA             Southern Australia  GMT+9.30  1.0    8  TBD\n",
              "VIC                      Victoria    GMT+10  2.5   20  TBD\n",
              "NSW               New South Wales    GMT+10  2.7   22  TBD\n",
              "ACT  Australian Capital Territory    GMT+10  0.5   15  TBD\n",
              "QLD                    Queensland    GMT+10  1.5   18  TBD\n",
              "NT             Northern Territory  GMT+9.30  0.4    8  TBD"
            ]
          },
          "metadata": {
            "tags": []
          },
          "execution_count": 109
        }
      ]
    },
    {
      "cell_type": "code",
      "metadata": {
        "colab": {
          "base_uri": "https://localhost:8080/",
          "height": 235
        },
        "id": "18Ix324UM3nA",
        "outputId": "8198158f-ae6a-4c57-e13d-bdd509f38880"
      },
      "source": [
        "df_states_noNT = df_states.drop('NT')\n",
        "df_states_noNT"
      ],
      "execution_count": null,
      "outputs": [
        {
          "output_type": "execute_result",
          "data": {
            "text/html": [
              "<div>\n",
              "<style scoped>\n",
              "    .dataframe tbody tr th:only-of-type {\n",
              "        vertical-align: middle;\n",
              "    }\n",
              "\n",
              "    .dataframe tbody tr th {\n",
              "        vertical-align: top;\n",
              "    }\n",
              "\n",
              "    .dataframe thead th {\n",
              "        text-align: right;\n",
              "    }\n",
              "</style>\n",
              "<table border=\"1\" class=\"dataframe\">\n",
              "  <thead>\n",
              "    <tr style=\"text-align: right;\">\n",
              "      <th></th>\n",
              "      <th>state</th>\n",
              "      <th>TZ</th>\n",
              "      <th>pop</th>\n",
              "      <th>GDP</th>\n",
              "      <th>area</th>\n",
              "    </tr>\n",
              "  </thead>\n",
              "  <tbody>\n",
              "    <tr>\n",
              "      <th>WA</th>\n",
              "      <td>Western Australia</td>\n",
              "      <td>GMT+8</td>\n",
              "      <td>1.0</td>\n",
              "      <td>11</td>\n",
              "      <td>TBD</td>\n",
              "    </tr>\n",
              "    <tr>\n",
              "      <th>SA</th>\n",
              "      <td>Southern Australia</td>\n",
              "      <td>GMT+9.30</td>\n",
              "      <td>1.0</td>\n",
              "      <td>8</td>\n",
              "      <td>TBD</td>\n",
              "    </tr>\n",
              "    <tr>\n",
              "      <th>VIC</th>\n",
              "      <td>Victoria</td>\n",
              "      <td>GMT+10</td>\n",
              "      <td>2.5</td>\n",
              "      <td>20</td>\n",
              "      <td>TBD</td>\n",
              "    </tr>\n",
              "    <tr>\n",
              "      <th>NSW</th>\n",
              "      <td>New South Wales</td>\n",
              "      <td>GMT+10</td>\n",
              "      <td>2.7</td>\n",
              "      <td>22</td>\n",
              "      <td>TBD</td>\n",
              "    </tr>\n",
              "    <tr>\n",
              "      <th>ACT</th>\n",
              "      <td>Australian Capital Territory</td>\n",
              "      <td>GMT+10</td>\n",
              "      <td>0.5</td>\n",
              "      <td>15</td>\n",
              "      <td>TBD</td>\n",
              "    </tr>\n",
              "    <tr>\n",
              "      <th>QLD</th>\n",
              "      <td>Queensland</td>\n",
              "      <td>GMT+10</td>\n",
              "      <td>1.5</td>\n",
              "      <td>18</td>\n",
              "      <td>TBD</td>\n",
              "    </tr>\n",
              "  </tbody>\n",
              "</table>\n",
              "</div>"
            ],
            "text/plain": [
              "                            state        TZ  pop  GDP area\n",
              "WA              Western Australia     GMT+8  1.0   11  TBD\n",
              "SA             Southern Australia  GMT+9.30  1.0    8  TBD\n",
              "VIC                      Victoria    GMT+10  2.5   20  TBD\n",
              "NSW               New South Wales    GMT+10  2.7   22  TBD\n",
              "ACT  Australian Capital Territory    GMT+10  0.5   15  TBD\n",
              "QLD                    Queensland    GMT+10  1.5   18  TBD"
            ]
          },
          "metadata": {
            "tags": []
          },
          "execution_count": 110
        }
      ]
    },
    {
      "cell_type": "markdown",
      "metadata": {
        "id": "dyoMb2dINBjF"
      },
      "source": [
        "4. Removing multiple columns from DataFrame by passing a sequence of column index and axis = 1\n",
        "\n",
        "Code:"
      ]
    },
    {
      "cell_type": "code",
      "metadata": {
        "colab": {
          "base_uri": "https://localhost:8080/",
          "height": 266
        },
        "id": "wVNKIOKpNZvm",
        "outputId": "3323ed90-2613-49ed-b673-eb82effe1c4e"
      },
      "source": [
        "df_states"
      ],
      "execution_count": null,
      "outputs": [
        {
          "output_type": "execute_result",
          "data": {
            "text/html": [
              "<div>\n",
              "<style scoped>\n",
              "    .dataframe tbody tr th:only-of-type {\n",
              "        vertical-align: middle;\n",
              "    }\n",
              "\n",
              "    .dataframe tbody tr th {\n",
              "        vertical-align: top;\n",
              "    }\n",
              "\n",
              "    .dataframe thead th {\n",
              "        text-align: right;\n",
              "    }\n",
              "</style>\n",
              "<table border=\"1\" class=\"dataframe\">\n",
              "  <thead>\n",
              "    <tr style=\"text-align: right;\">\n",
              "      <th></th>\n",
              "      <th>state</th>\n",
              "      <th>TZ</th>\n",
              "      <th>pop</th>\n",
              "      <th>GDP</th>\n",
              "      <th>area</th>\n",
              "    </tr>\n",
              "  </thead>\n",
              "  <tbody>\n",
              "    <tr>\n",
              "      <th>WA</th>\n",
              "      <td>Western Australia</td>\n",
              "      <td>GMT+8</td>\n",
              "      <td>1.0</td>\n",
              "      <td>11</td>\n",
              "      <td>TBD</td>\n",
              "    </tr>\n",
              "    <tr>\n",
              "      <th>SA</th>\n",
              "      <td>Southern Australia</td>\n",
              "      <td>GMT+9.30</td>\n",
              "      <td>1.0</td>\n",
              "      <td>8</td>\n",
              "      <td>TBD</td>\n",
              "    </tr>\n",
              "    <tr>\n",
              "      <th>VIC</th>\n",
              "      <td>Victoria</td>\n",
              "      <td>GMT+10</td>\n",
              "      <td>2.5</td>\n",
              "      <td>20</td>\n",
              "      <td>TBD</td>\n",
              "    </tr>\n",
              "    <tr>\n",
              "      <th>NSW</th>\n",
              "      <td>New South Wales</td>\n",
              "      <td>GMT+10</td>\n",
              "      <td>2.7</td>\n",
              "      <td>22</td>\n",
              "      <td>TBD</td>\n",
              "    </tr>\n",
              "    <tr>\n",
              "      <th>ACT</th>\n",
              "      <td>Australian Capital Territory</td>\n",
              "      <td>GMT+10</td>\n",
              "      <td>0.5</td>\n",
              "      <td>15</td>\n",
              "      <td>TBD</td>\n",
              "    </tr>\n",
              "    <tr>\n",
              "      <th>QLD</th>\n",
              "      <td>Queensland</td>\n",
              "      <td>GMT+10</td>\n",
              "      <td>1.5</td>\n",
              "      <td>18</td>\n",
              "      <td>TBD</td>\n",
              "    </tr>\n",
              "    <tr>\n",
              "      <th>NT</th>\n",
              "      <td>Northern Territory</td>\n",
              "      <td>GMT+9.30</td>\n",
              "      <td>0.4</td>\n",
              "      <td>8</td>\n",
              "      <td>TBD</td>\n",
              "    </tr>\n",
              "  </tbody>\n",
              "</table>\n",
              "</div>"
            ],
            "text/plain": [
              "                            state        TZ  pop  GDP area\n",
              "WA              Western Australia     GMT+8  1.0   11  TBD\n",
              "SA             Southern Australia  GMT+9.30  1.0    8  TBD\n",
              "VIC                      Victoria    GMT+10  2.5   20  TBD\n",
              "NSW               New South Wales    GMT+10  2.7   22  TBD\n",
              "ACT  Australian Capital Territory    GMT+10  0.5   15  TBD\n",
              "QLD                    Queensland    GMT+10  1.5   18  TBD\n",
              "NT             Northern Territory  GMT+9.30  0.4    8  TBD"
            ]
          },
          "metadata": {
            "tags": []
          },
          "execution_count": 112
        }
      ]
    },
    {
      "cell_type": "code",
      "metadata": {
        "colab": {
          "base_uri": "https://localhost:8080/",
          "height": 266
        },
        "id": "FGEqKoo8NCej",
        "outputId": "af0b0128-d600-401b-e728-a3427cb53179"
      },
      "source": [
        "df1 = df_states.drop(['state','area'], axis=1)\n",
        "df1"
      ],
      "execution_count": null,
      "outputs": [
        {
          "output_type": "execute_result",
          "data": {
            "text/html": [
              "<div>\n",
              "<style scoped>\n",
              "    .dataframe tbody tr th:only-of-type {\n",
              "        vertical-align: middle;\n",
              "    }\n",
              "\n",
              "    .dataframe tbody tr th {\n",
              "        vertical-align: top;\n",
              "    }\n",
              "\n",
              "    .dataframe thead th {\n",
              "        text-align: right;\n",
              "    }\n",
              "</style>\n",
              "<table border=\"1\" class=\"dataframe\">\n",
              "  <thead>\n",
              "    <tr style=\"text-align: right;\">\n",
              "      <th></th>\n",
              "      <th>TZ</th>\n",
              "      <th>pop</th>\n",
              "      <th>GDP</th>\n",
              "    </tr>\n",
              "  </thead>\n",
              "  <tbody>\n",
              "    <tr>\n",
              "      <th>WA</th>\n",
              "      <td>GMT+8</td>\n",
              "      <td>1.0</td>\n",
              "      <td>11</td>\n",
              "    </tr>\n",
              "    <tr>\n",
              "      <th>SA</th>\n",
              "      <td>GMT+9.30</td>\n",
              "      <td>1.0</td>\n",
              "      <td>8</td>\n",
              "    </tr>\n",
              "    <tr>\n",
              "      <th>VIC</th>\n",
              "      <td>GMT+10</td>\n",
              "      <td>2.5</td>\n",
              "      <td>20</td>\n",
              "    </tr>\n",
              "    <tr>\n",
              "      <th>NSW</th>\n",
              "      <td>GMT+10</td>\n",
              "      <td>2.7</td>\n",
              "      <td>22</td>\n",
              "    </tr>\n",
              "    <tr>\n",
              "      <th>ACT</th>\n",
              "      <td>GMT+10</td>\n",
              "      <td>0.5</td>\n",
              "      <td>15</td>\n",
              "    </tr>\n",
              "    <tr>\n",
              "      <th>QLD</th>\n",
              "      <td>GMT+10</td>\n",
              "      <td>1.5</td>\n",
              "      <td>18</td>\n",
              "    </tr>\n",
              "    <tr>\n",
              "      <th>NT</th>\n",
              "      <td>GMT+9.30</td>\n",
              "      <td>0.4</td>\n",
              "      <td>8</td>\n",
              "    </tr>\n",
              "  </tbody>\n",
              "</table>\n",
              "</div>"
            ],
            "text/plain": [
              "           TZ  pop  GDP\n",
              "WA      GMT+8  1.0   11\n",
              "SA   GMT+9.30  1.0    8\n",
              "VIC    GMT+10  2.5   20\n",
              "NSW    GMT+10  2.7   22\n",
              "ACT    GMT+10  0.5   15\n",
              "QLD    GMT+10  1.5   18\n",
              "NT   GMT+9.30  0.4    8"
            ]
          },
          "metadata": {
            "tags": []
          },
          "execution_count": 113
        }
      ]
    },
    {
      "cell_type": "code",
      "metadata": {
        "colab": {
          "base_uri": "https://localhost:8080/",
          "height": 266
        },
        "id": "pwf9Ky28NoBs",
        "outputId": "4195e12f-94e6-4adc-a455-d607783baa67"
      },
      "source": [
        "df_states"
      ],
      "execution_count": null,
      "outputs": [
        {
          "output_type": "execute_result",
          "data": {
            "text/html": [
              "<div>\n",
              "<style scoped>\n",
              "    .dataframe tbody tr th:only-of-type {\n",
              "        vertical-align: middle;\n",
              "    }\n",
              "\n",
              "    .dataframe tbody tr th {\n",
              "        vertical-align: top;\n",
              "    }\n",
              "\n",
              "    .dataframe thead th {\n",
              "        text-align: right;\n",
              "    }\n",
              "</style>\n",
              "<table border=\"1\" class=\"dataframe\">\n",
              "  <thead>\n",
              "    <tr style=\"text-align: right;\">\n",
              "      <th></th>\n",
              "      <th>state</th>\n",
              "      <th>TZ</th>\n",
              "      <th>pop</th>\n",
              "      <th>GDP</th>\n",
              "      <th>area</th>\n",
              "    </tr>\n",
              "  </thead>\n",
              "  <tbody>\n",
              "    <tr>\n",
              "      <th>WA</th>\n",
              "      <td>Western Australia</td>\n",
              "      <td>GMT+8</td>\n",
              "      <td>1.0</td>\n",
              "      <td>11</td>\n",
              "      <td>TBD</td>\n",
              "    </tr>\n",
              "    <tr>\n",
              "      <th>SA</th>\n",
              "      <td>Southern Australia</td>\n",
              "      <td>GMT+9.30</td>\n",
              "      <td>1.0</td>\n",
              "      <td>8</td>\n",
              "      <td>TBD</td>\n",
              "    </tr>\n",
              "    <tr>\n",
              "      <th>VIC</th>\n",
              "      <td>Victoria</td>\n",
              "      <td>GMT+10</td>\n",
              "      <td>2.5</td>\n",
              "      <td>20</td>\n",
              "      <td>TBD</td>\n",
              "    </tr>\n",
              "    <tr>\n",
              "      <th>NSW</th>\n",
              "      <td>New South Wales</td>\n",
              "      <td>GMT+10</td>\n",
              "      <td>2.7</td>\n",
              "      <td>22</td>\n",
              "      <td>TBD</td>\n",
              "    </tr>\n",
              "    <tr>\n",
              "      <th>ACT</th>\n",
              "      <td>Australian Capital Territory</td>\n",
              "      <td>GMT+10</td>\n",
              "      <td>0.5</td>\n",
              "      <td>15</td>\n",
              "      <td>TBD</td>\n",
              "    </tr>\n",
              "    <tr>\n",
              "      <th>QLD</th>\n",
              "      <td>Queensland</td>\n",
              "      <td>GMT+10</td>\n",
              "      <td>1.5</td>\n",
              "      <td>18</td>\n",
              "      <td>TBD</td>\n",
              "    </tr>\n",
              "    <tr>\n",
              "      <th>NT</th>\n",
              "      <td>Northern Territory</td>\n",
              "      <td>GMT+9.30</td>\n",
              "      <td>0.4</td>\n",
              "      <td>8</td>\n",
              "      <td>TBD</td>\n",
              "    </tr>\n",
              "  </tbody>\n",
              "</table>\n",
              "</div>"
            ],
            "text/plain": [
              "                            state        TZ  pop  GDP area\n",
              "WA              Western Australia     GMT+8  1.0   11  TBD\n",
              "SA             Southern Australia  GMT+9.30  1.0    8  TBD\n",
              "VIC                      Victoria    GMT+10  2.5   20  TBD\n",
              "NSW               New South Wales    GMT+10  2.7   22  TBD\n",
              "ACT  Australian Capital Territory    GMT+10  0.5   15  TBD\n",
              "QLD                    Queensland    GMT+10  1.5   18  TBD\n",
              "NT             Northern Territory  GMT+9.30  0.4    8  TBD"
            ]
          },
          "metadata": {
            "tags": []
          },
          "execution_count": 115
        }
      ]
    },
    {
      "cell_type": "markdown",
      "metadata": {
        "id": "ov8T71-oNoYL"
      },
      "source": [
        "Observe how the original DataFrame is always preserved, and whenever we use drop() method, a new DataFrame is created."
      ]
    },
    {
      "cell_type": "markdown",
      "metadata": {
        "id": "rS0sxfTfNtKv"
      },
      "source": [
        "# Indexing, Selection, and Filtering"
      ]
    },
    {
      "cell_type": "markdown",
      "metadata": {
        "id": "ru7x_jixNwgJ"
      },
      "source": [
        "## Indexing, Selection, and Filtering"
      ]
    },
    {
      "cell_type": "markdown",
      "metadata": {
        "id": "ZAsHeD7xORtN"
      },
      "source": [
        "**We have already seen various examples of indexing being used. Let’s explore a little more about indexing features available to Pandas.**"
      ]
    },
    {
      "cell_type": "markdown",
      "metadata": {
        "id": "b-8uEbk1OZz4"
      },
      "source": [
        "### Pandas Series"
      ]
    },
    {
      "cell_type": "markdown",
      "metadata": {
        "id": "WfRg4nlROa7l"
      },
      "source": [
        "Indexing for Pandas Series works similarly to NumPy ndArrays, with one additional feature being that we can also use the labelled index along with the implicit positional index, which are available for Series. Following are some of the examples of this behaviour:\n",
        "\n",
        "Code:"
      ]
    },
    {
      "cell_type": "code",
      "metadata": {
        "colab": {
          "base_uri": "https://localhost:8080/"
        },
        "id": "6PGGkrkAOf16",
        "outputId": "a89c01b0-daf3-4390-d288-2d31144be91c"
      },
      "source": [
        "ob1 = Series(np.random.randn(10), index=['a','b','c','d','e','f','g','h','i','j'])\n",
        "ob1"
      ],
      "execution_count": null,
      "outputs": [
        {
          "output_type": "execute_result",
          "data": {
            "text/plain": [
              "a   -0.916779\n",
              "b   -0.180231\n",
              "c    0.804683\n",
              "d   -0.457195\n",
              "e    0.633762\n",
              "f   -0.938861\n",
              "g    1.369232\n",
              "h   -0.896382\n",
              "i    1.812082\n",
              "j   -0.169518\n",
              "dtype: float64"
            ]
          },
          "metadata": {
            "tags": []
          },
          "execution_count": 122
        }
      ]
    },
    {
      "cell_type": "code",
      "metadata": {
        "colab": {
          "base_uri": "https://localhost:8080/"
        },
        "id": "MKgXhjKzO3k1",
        "outputId": "241e0e2f-76d0-4c85-d832-287cfa8f4ba4"
      },
      "source": [
        "ob1[0], ob1['a']"
      ],
      "execution_count": null,
      "outputs": [
        {
          "output_type": "execute_result",
          "data": {
            "text/plain": [
              "(-0.9167785538101799, -0.9167785538101799)"
            ]
          },
          "metadata": {
            "tags": []
          },
          "execution_count": 123
        }
      ]
    },
    {
      "cell_type": "code",
      "metadata": {
        "colab": {
          "base_uri": "https://localhost:8080/"
        },
        "id": "HoMmd4xZPF3h",
        "outputId": "8de3ad39-f75b-40f2-cc67-21c1d551b9e0"
      },
      "source": [
        "ob1[5], ob1['f']"
      ],
      "execution_count": null,
      "outputs": [
        {
          "output_type": "execute_result",
          "data": {
            "text/plain": [
              "(-0.9388605166220878, -0.9388605166220878)"
            ]
          },
          "metadata": {
            "tags": []
          },
          "execution_count": 124
        }
      ]
    },
    {
      "cell_type": "markdown",
      "metadata": {
        "id": "vXgv3pTKQL91"
      },
      "source": [
        "Slicing with labels works a little differently than normal slicing, and the difference is that both the indexes are inclusive whereas in the case of **normal slicing**, the **endpoint** is **not inclusive**. The following are some of the examples of this behaviour:\n",
        "\n",
        "Code:"
      ]
    },
    {
      "cell_type": "code",
      "metadata": {
        "colab": {
          "base_uri": "https://localhost:8080/"
        },
        "id": "FnsUDRObPijG",
        "outputId": "6d5cb235-3d43-4b64-9e35-469592858b83"
      },
      "source": [
        "# normal slicing\n",
        "ob1[0:5]"
      ],
      "execution_count": null,
      "outputs": [
        {
          "output_type": "execute_result",
          "data": {
            "text/plain": [
              "a   -0.916779\n",
              "b   -0.180231\n",
              "c    0.804683\n",
              "d   -0.457195\n",
              "e    0.633762\n",
              "dtype: float64"
            ]
          },
          "metadata": {
            "tags": []
          },
          "execution_count": 125
        }
      ]
    },
    {
      "cell_type": "code",
      "metadata": {
        "colab": {
          "base_uri": "https://localhost:8080/"
        },
        "id": "3B_z3bzePn0J",
        "outputId": "a9fbcc2b-a4a3-4231-d321-aa5d0b1e52cd"
      },
      "source": [
        "# Slicing with labels\n",
        "ob1['a':'f']"
      ],
      "execution_count": null,
      "outputs": [
        {
          "output_type": "execute_result",
          "data": {
            "text/plain": [
              "a   -0.916779\n",
              "b   -0.180231\n",
              "c    0.804683\n",
              "d   -0.457195\n",
              "e    0.633762\n",
              "f   -0.938861\n",
              "dtype: float64"
            ]
          },
          "metadata": {
            "tags": []
          },
          "execution_count": 126
        }
      ]
    },
    {
      "cell_type": "markdown",
      "metadata": {
        "id": "jvTzNRUlQZLT"
      },
      "source": [
        "## Pandas DataFrame"
      ]
    },
    {
      "cell_type": "markdown",
      "metadata": {
        "id": "cxWymTHjQfZe"
      },
      "source": [
        "As we have already seen, we use indexing to retrieve a particular subset of data along the x and y axis of DataFrame, by passing either the single value or sequence of indexes. The following examples demonstrate these features again:\n",
        "\n",
        "Code:"
      ]
    },
    {
      "cell_type": "code",
      "metadata": {
        "colab": {
          "base_uri": "https://localhost:8080/",
          "height": 266
        },
        "id": "pvaUsLgiQiXv",
        "outputId": "f347ae80-3de4-4b06-dfc4-88f2dd510a80"
      },
      "source": [
        "df_states"
      ],
      "execution_count": null,
      "outputs": [
        {
          "output_type": "execute_result",
          "data": {
            "text/html": [
              "<div>\n",
              "<style scoped>\n",
              "    .dataframe tbody tr th:only-of-type {\n",
              "        vertical-align: middle;\n",
              "    }\n",
              "\n",
              "    .dataframe tbody tr th {\n",
              "        vertical-align: top;\n",
              "    }\n",
              "\n",
              "    .dataframe thead th {\n",
              "        text-align: right;\n",
              "    }\n",
              "</style>\n",
              "<table border=\"1\" class=\"dataframe\">\n",
              "  <thead>\n",
              "    <tr style=\"text-align: right;\">\n",
              "      <th></th>\n",
              "      <th>state</th>\n",
              "      <th>TZ</th>\n",
              "      <th>pop</th>\n",
              "      <th>GDP</th>\n",
              "      <th>area</th>\n",
              "    </tr>\n",
              "  </thead>\n",
              "  <tbody>\n",
              "    <tr>\n",
              "      <th>WA</th>\n",
              "      <td>Western Australia</td>\n",
              "      <td>GMT+8</td>\n",
              "      <td>1.0</td>\n",
              "      <td>11</td>\n",
              "      <td>TBD</td>\n",
              "    </tr>\n",
              "    <tr>\n",
              "      <th>SA</th>\n",
              "      <td>Southern Australia</td>\n",
              "      <td>GMT+9.30</td>\n",
              "      <td>1.0</td>\n",
              "      <td>8</td>\n",
              "      <td>TBD</td>\n",
              "    </tr>\n",
              "    <tr>\n",
              "      <th>VIC</th>\n",
              "      <td>Victoria</td>\n",
              "      <td>GMT+10</td>\n",
              "      <td>2.5</td>\n",
              "      <td>20</td>\n",
              "      <td>TBD</td>\n",
              "    </tr>\n",
              "    <tr>\n",
              "      <th>NSW</th>\n",
              "      <td>New South Wales</td>\n",
              "      <td>GMT+10</td>\n",
              "      <td>2.7</td>\n",
              "      <td>22</td>\n",
              "      <td>TBD</td>\n",
              "    </tr>\n",
              "    <tr>\n",
              "      <th>ACT</th>\n",
              "      <td>Australian Capital Territory</td>\n",
              "      <td>GMT+10</td>\n",
              "      <td>0.5</td>\n",
              "      <td>15</td>\n",
              "      <td>TBD</td>\n",
              "    </tr>\n",
              "    <tr>\n",
              "      <th>QLD</th>\n",
              "      <td>Queensland</td>\n",
              "      <td>GMT+10</td>\n",
              "      <td>1.5</td>\n",
              "      <td>18</td>\n",
              "      <td>TBD</td>\n",
              "    </tr>\n",
              "    <tr>\n",
              "      <th>NT</th>\n",
              "      <td>Northern Territory</td>\n",
              "      <td>GMT+9.30</td>\n",
              "      <td>0.4</td>\n",
              "      <td>8</td>\n",
              "      <td>TBD</td>\n",
              "    </tr>\n",
              "  </tbody>\n",
              "</table>\n",
              "</div>"
            ],
            "text/plain": [
              "                            state        TZ  pop  GDP area\n",
              "WA              Western Australia     GMT+8  1.0   11  TBD\n",
              "SA             Southern Australia  GMT+9.30  1.0    8  TBD\n",
              "VIC                      Victoria    GMT+10  2.5   20  TBD\n",
              "NSW               New South Wales    GMT+10  2.7   22  TBD\n",
              "ACT  Australian Capital Territory    GMT+10  0.5   15  TBD\n",
              "QLD                    Queensland    GMT+10  1.5   18  TBD\n",
              "NT             Northern Territory  GMT+9.30  0.4    8  TBD"
            ]
          },
          "metadata": {
            "tags": []
          },
          "execution_count": 127
        }
      ]
    },
    {
      "cell_type": "code",
      "metadata": {
        "colab": {
          "base_uri": "https://localhost:8080/"
        },
        "id": "Y6eVKoBmQlWe",
        "outputId": "113dc1f4-a294-4c30-8202-334b7ec582e3"
      },
      "source": [
        "df_states['state']"
      ],
      "execution_count": null,
      "outputs": [
        {
          "output_type": "execute_result",
          "data": {
            "text/plain": [
              "WA                Western Australia\n",
              "SA               Southern Australia\n",
              "VIC                        Victoria\n",
              "NSW                 New South Wales\n",
              "ACT    Australian Capital Territory\n",
              "QLD                      Queensland\n",
              "NT               Northern Territory\n",
              "Name: state, dtype: object"
            ]
          },
          "metadata": {
            "tags": []
          },
          "execution_count": 128
        }
      ]
    },
    {
      "cell_type": "code",
      "metadata": {
        "colab": {
          "base_uri": "https://localhost:8080/",
          "height": 266
        },
        "id": "54O12517Qt8a",
        "outputId": "ff216e94-11a6-4d13-dba7-0fc2e325a668"
      },
      "source": [
        "df_states[['state', 'TZ']]"
      ],
      "execution_count": null,
      "outputs": [
        {
          "output_type": "execute_result",
          "data": {
            "text/html": [
              "<div>\n",
              "<style scoped>\n",
              "    .dataframe tbody tr th:only-of-type {\n",
              "        vertical-align: middle;\n",
              "    }\n",
              "\n",
              "    .dataframe tbody tr th {\n",
              "        vertical-align: top;\n",
              "    }\n",
              "\n",
              "    .dataframe thead th {\n",
              "        text-align: right;\n",
              "    }\n",
              "</style>\n",
              "<table border=\"1\" class=\"dataframe\">\n",
              "  <thead>\n",
              "    <tr style=\"text-align: right;\">\n",
              "      <th></th>\n",
              "      <th>state</th>\n",
              "      <th>TZ</th>\n",
              "    </tr>\n",
              "  </thead>\n",
              "  <tbody>\n",
              "    <tr>\n",
              "      <th>WA</th>\n",
              "      <td>Western Australia</td>\n",
              "      <td>GMT+8</td>\n",
              "    </tr>\n",
              "    <tr>\n",
              "      <th>SA</th>\n",
              "      <td>Southern Australia</td>\n",
              "      <td>GMT+9.30</td>\n",
              "    </tr>\n",
              "    <tr>\n",
              "      <th>VIC</th>\n",
              "      <td>Victoria</td>\n",
              "      <td>GMT+10</td>\n",
              "    </tr>\n",
              "    <tr>\n",
              "      <th>NSW</th>\n",
              "      <td>New South Wales</td>\n",
              "      <td>GMT+10</td>\n",
              "    </tr>\n",
              "    <tr>\n",
              "      <th>ACT</th>\n",
              "      <td>Australian Capital Territory</td>\n",
              "      <td>GMT+10</td>\n",
              "    </tr>\n",
              "    <tr>\n",
              "      <th>QLD</th>\n",
              "      <td>Queensland</td>\n",
              "      <td>GMT+10</td>\n",
              "    </tr>\n",
              "    <tr>\n",
              "      <th>NT</th>\n",
              "      <td>Northern Territory</td>\n",
              "      <td>GMT+9.30</td>\n",
              "    </tr>\n",
              "  </tbody>\n",
              "</table>\n",
              "</div>"
            ],
            "text/plain": [
              "                            state        TZ\n",
              "WA              Western Australia     GMT+8\n",
              "SA             Southern Australia  GMT+9.30\n",
              "VIC                      Victoria    GMT+10\n",
              "NSW               New South Wales    GMT+10\n",
              "ACT  Australian Capital Territory    GMT+10\n",
              "QLD                    Queensland    GMT+10\n",
              "NT             Northern Territory  GMT+9.30"
            ]
          },
          "metadata": {
            "tags": []
          },
          "execution_count": 129
        }
      ]
    },
    {
      "cell_type": "markdown",
      "metadata": {
        "id": "Q19n3Ex-Q1lw"
      },
      "source": [
        "This mechanism of supplying indexes let’s us do data selection by a variety of ways.\n",
        "\n",
        "For example:\n",
        "\n",
        "1. by passing row slices\n",
        "\n",
        "Code:"
      ]
    },
    {
      "cell_type": "code",
      "metadata": {
        "colab": {
          "base_uri": "https://localhost:8080/",
          "height": 111
        },
        "id": "5y3YDqXFQ2fb",
        "outputId": "38f31ccc-b486-46e9-b6bc-25873cc00f4a"
      },
      "source": [
        "df_states[:2]"
      ],
      "execution_count": null,
      "outputs": [
        {
          "output_type": "execute_result",
          "data": {
            "text/html": [
              "<div>\n",
              "<style scoped>\n",
              "    .dataframe tbody tr th:only-of-type {\n",
              "        vertical-align: middle;\n",
              "    }\n",
              "\n",
              "    .dataframe tbody tr th {\n",
              "        vertical-align: top;\n",
              "    }\n",
              "\n",
              "    .dataframe thead th {\n",
              "        text-align: right;\n",
              "    }\n",
              "</style>\n",
              "<table border=\"1\" class=\"dataframe\">\n",
              "  <thead>\n",
              "    <tr style=\"text-align: right;\">\n",
              "      <th></th>\n",
              "      <th>state</th>\n",
              "      <th>TZ</th>\n",
              "      <th>pop</th>\n",
              "      <th>GDP</th>\n",
              "      <th>area</th>\n",
              "    </tr>\n",
              "  </thead>\n",
              "  <tbody>\n",
              "    <tr>\n",
              "      <th>WA</th>\n",
              "      <td>Western Australia</td>\n",
              "      <td>GMT+8</td>\n",
              "      <td>1.0</td>\n",
              "      <td>11</td>\n",
              "      <td>TBD</td>\n",
              "    </tr>\n",
              "    <tr>\n",
              "      <th>SA</th>\n",
              "      <td>Southern Australia</td>\n",
              "      <td>GMT+9.30</td>\n",
              "      <td>1.0</td>\n",
              "      <td>8</td>\n",
              "      <td>TBD</td>\n",
              "    </tr>\n",
              "  </tbody>\n",
              "</table>\n",
              "</div>"
            ],
            "text/plain": [
              "                 state        TZ  pop  GDP area\n",
              "WA   Western Australia     GMT+8  1.0   11  TBD\n",
              "SA  Southern Australia  GMT+9.30  1.0    8  TBD"
            ]
          },
          "metadata": {
            "tags": []
          },
          "execution_count": 130
        }
      ]
    },
    {
      "cell_type": "markdown",
      "metadata": {
        "id": "hmbVIO4CQ7-I"
      },
      "source": [
        "2. by passing a Boolean Array (filter Array) to select data that meets certain conditions.\n",
        "\n",
        "Code:"
      ]
    },
    {
      "cell_type": "code",
      "metadata": {
        "colab": {
          "base_uri": "https://localhost:8080/",
          "height": 204
        },
        "id": "wJo-RKv-Q8rf",
        "outputId": "c824f018-e5cf-4cc9-9e3a-9bd3da05e579"
      },
      "source": [
        "df_states[df_states['GDP']>8]"
      ],
      "execution_count": null,
      "outputs": [
        {
          "output_type": "execute_result",
          "data": {
            "text/html": [
              "<div>\n",
              "<style scoped>\n",
              "    .dataframe tbody tr th:only-of-type {\n",
              "        vertical-align: middle;\n",
              "    }\n",
              "\n",
              "    .dataframe tbody tr th {\n",
              "        vertical-align: top;\n",
              "    }\n",
              "\n",
              "    .dataframe thead th {\n",
              "        text-align: right;\n",
              "    }\n",
              "</style>\n",
              "<table border=\"1\" class=\"dataframe\">\n",
              "  <thead>\n",
              "    <tr style=\"text-align: right;\">\n",
              "      <th></th>\n",
              "      <th>state</th>\n",
              "      <th>TZ</th>\n",
              "      <th>pop</th>\n",
              "      <th>GDP</th>\n",
              "      <th>area</th>\n",
              "    </tr>\n",
              "  </thead>\n",
              "  <tbody>\n",
              "    <tr>\n",
              "      <th>WA</th>\n",
              "      <td>Western Australia</td>\n",
              "      <td>GMT+8</td>\n",
              "      <td>1.0</td>\n",
              "      <td>11</td>\n",
              "      <td>TBD</td>\n",
              "    </tr>\n",
              "    <tr>\n",
              "      <th>VIC</th>\n",
              "      <td>Victoria</td>\n",
              "      <td>GMT+10</td>\n",
              "      <td>2.5</td>\n",
              "      <td>20</td>\n",
              "      <td>TBD</td>\n",
              "    </tr>\n",
              "    <tr>\n",
              "      <th>NSW</th>\n",
              "      <td>New South Wales</td>\n",
              "      <td>GMT+10</td>\n",
              "      <td>2.7</td>\n",
              "      <td>22</td>\n",
              "      <td>TBD</td>\n",
              "    </tr>\n",
              "    <tr>\n",
              "      <th>ACT</th>\n",
              "      <td>Australian Capital Territory</td>\n",
              "      <td>GMT+10</td>\n",
              "      <td>0.5</td>\n",
              "      <td>15</td>\n",
              "      <td>TBD</td>\n",
              "    </tr>\n",
              "    <tr>\n",
              "      <th>QLD</th>\n",
              "      <td>Queensland</td>\n",
              "      <td>GMT+10</td>\n",
              "      <td>1.5</td>\n",
              "      <td>18</td>\n",
              "      <td>TBD</td>\n",
              "    </tr>\n",
              "  </tbody>\n",
              "</table>\n",
              "</div>"
            ],
            "text/plain": [
              "                            state      TZ  pop  GDP area\n",
              "WA              Western Australia   GMT+8  1.0   11  TBD\n",
              "VIC                      Victoria  GMT+10  2.5   20  TBD\n",
              "NSW               New South Wales  GMT+10  2.7   22  TBD\n",
              "ACT  Australian Capital Territory  GMT+10  0.5   15  TBD\n",
              "QLD                    Queensland  GMT+10  1.5   18  TBD"
            ]
          },
          "metadata": {
            "tags": []
          },
          "execution_count": 131
        }
      ]
    },
    {
      "cell_type": "markdown",
      "metadata": {
        "id": "17dvTm6NRGPf"
      },
      "source": [
        "# Data alignment, mapping, and sorting"
      ]
    },
    {
      "cell_type": "markdown",
      "metadata": {
        "id": "i9QxosFERIfV"
      },
      "source": [
        "## Data alignment"
      ]
    },
    {
      "cell_type": "markdown",
      "metadata": {
        "id": "UK98URenRKYQ"
      },
      "source": [
        "One of the interesting features of Pandas operations is data alignment. We have already seen some analogous behaviours. For example:\n",
        "\n",
        "- The creation of DataFrame (ie, if data is not presented for one of the specified columns, then missing values are filled in automatically as NaN).\n",
        "\n",
        "- Reindexing if the data doesn’t exist for the supplied index. So then by default, NaN is filled for those indexes and additionally we have the option to pass values and methods as well to the reindex method.\n",
        "\n",
        "On the same lines, if we do mathematical operations between Panda objects with different indexes, Pandas will perform the data alignment into the resulting Panda object. \n",
        "\n",
        "Code:"
      ]
    },
    {
      "cell_type": "code",
      "metadata": {
        "colab": {
          "base_uri": "https://localhost:8080/",
          "height": 142
        },
        "id": "B0Iugn5GRQid",
        "outputId": "e01a8836-8df6-4443-b53c-6efba640c8ec"
      },
      "source": [
        "df1 = DataFrame(np.arange(9).reshape(3,3), columns=['a','b','c'], index=['SA', 'VIC', 'NSW'])\n",
        "df1"
      ],
      "execution_count": null,
      "outputs": [
        {
          "output_type": "execute_result",
          "data": {
            "text/html": [
              "<div>\n",
              "<style scoped>\n",
              "    .dataframe tbody tr th:only-of-type {\n",
              "        vertical-align: middle;\n",
              "    }\n",
              "\n",
              "    .dataframe tbody tr th {\n",
              "        vertical-align: top;\n",
              "    }\n",
              "\n",
              "    .dataframe thead th {\n",
              "        text-align: right;\n",
              "    }\n",
              "</style>\n",
              "<table border=\"1\" class=\"dataframe\">\n",
              "  <thead>\n",
              "    <tr style=\"text-align: right;\">\n",
              "      <th></th>\n",
              "      <th>a</th>\n",
              "      <th>b</th>\n",
              "      <th>c</th>\n",
              "    </tr>\n",
              "  </thead>\n",
              "  <tbody>\n",
              "    <tr>\n",
              "      <th>SA</th>\n",
              "      <td>0</td>\n",
              "      <td>1</td>\n",
              "      <td>2</td>\n",
              "    </tr>\n",
              "    <tr>\n",
              "      <th>VIC</th>\n",
              "      <td>3</td>\n",
              "      <td>4</td>\n",
              "      <td>5</td>\n",
              "    </tr>\n",
              "    <tr>\n",
              "      <th>NSW</th>\n",
              "      <td>6</td>\n",
              "      <td>7</td>\n",
              "      <td>8</td>\n",
              "    </tr>\n",
              "  </tbody>\n",
              "</table>\n",
              "</div>"
            ],
            "text/plain": [
              "     a  b  c\n",
              "SA   0  1  2\n",
              "VIC  3  4  5\n",
              "NSW  6  7  8"
            ]
          },
          "metadata": {
            "tags": []
          },
          "execution_count": 132
        }
      ]
    },
    {
      "cell_type": "code",
      "metadata": {
        "colab": {
          "base_uri": "https://localhost:8080/",
          "height": 173
        },
        "id": "_a_NIg28R9KP",
        "outputId": "d619a2cb-1e50-47aa-bc98-25c79ef7560d"
      },
      "source": [
        "df2 = DataFrame(np.arange(12).reshape(4,3), columns=['a','b','e'], index=['SA', 'VIC', 'NSW', 'ACT'])\n",
        "df2"
      ],
      "execution_count": null,
      "outputs": [
        {
          "output_type": "execute_result",
          "data": {
            "text/html": [
              "<div>\n",
              "<style scoped>\n",
              "    .dataframe tbody tr th:only-of-type {\n",
              "        vertical-align: middle;\n",
              "    }\n",
              "\n",
              "    .dataframe tbody tr th {\n",
              "        vertical-align: top;\n",
              "    }\n",
              "\n",
              "    .dataframe thead th {\n",
              "        text-align: right;\n",
              "    }\n",
              "</style>\n",
              "<table border=\"1\" class=\"dataframe\">\n",
              "  <thead>\n",
              "    <tr style=\"text-align: right;\">\n",
              "      <th></th>\n",
              "      <th>a</th>\n",
              "      <th>b</th>\n",
              "      <th>e</th>\n",
              "    </tr>\n",
              "  </thead>\n",
              "  <tbody>\n",
              "    <tr>\n",
              "      <th>SA</th>\n",
              "      <td>0</td>\n",
              "      <td>1</td>\n",
              "      <td>2</td>\n",
              "    </tr>\n",
              "    <tr>\n",
              "      <th>VIC</th>\n",
              "      <td>3</td>\n",
              "      <td>4</td>\n",
              "      <td>5</td>\n",
              "    </tr>\n",
              "    <tr>\n",
              "      <th>NSW</th>\n",
              "      <td>6</td>\n",
              "      <td>7</td>\n",
              "      <td>8</td>\n",
              "    </tr>\n",
              "    <tr>\n",
              "      <th>ACT</th>\n",
              "      <td>9</td>\n",
              "      <td>10</td>\n",
              "      <td>11</td>\n",
              "    </tr>\n",
              "  </tbody>\n",
              "</table>\n",
              "</div>"
            ],
            "text/plain": [
              "     a   b   e\n",
              "SA   0   1   2\n",
              "VIC  3   4   5\n",
              "NSW  6   7   8\n",
              "ACT  9  10  11"
            ]
          },
          "metadata": {
            "tags": []
          },
          "execution_count": 133
        }
      ]
    },
    {
      "cell_type": "markdown",
      "metadata": {
        "id": "GQ616K8KSJeI"
      },
      "source": [
        "In case of addition, if index pairs are not the same, the resultant Pandas object will have the index that is union of both the original index, and missing values will be filled as NaN. \n",
        "\n",
        "Code:"
      ]
    },
    {
      "cell_type": "code",
      "metadata": {
        "colab": {
          "base_uri": "https://localhost:8080/",
          "height": 173
        },
        "id": "Gi6C0X2NSK5v",
        "outputId": "43d53cf1-67f1-4352-e5aa-00e5fe56f020"
      },
      "source": [
        "df1+df2"
      ],
      "execution_count": null,
      "outputs": [
        {
          "output_type": "execute_result",
          "data": {
            "text/html": [
              "<div>\n",
              "<style scoped>\n",
              "    .dataframe tbody tr th:only-of-type {\n",
              "        vertical-align: middle;\n",
              "    }\n",
              "\n",
              "    .dataframe tbody tr th {\n",
              "        vertical-align: top;\n",
              "    }\n",
              "\n",
              "    .dataframe thead th {\n",
              "        text-align: right;\n",
              "    }\n",
              "</style>\n",
              "<table border=\"1\" class=\"dataframe\">\n",
              "  <thead>\n",
              "    <tr style=\"text-align: right;\">\n",
              "      <th></th>\n",
              "      <th>a</th>\n",
              "      <th>b</th>\n",
              "      <th>c</th>\n",
              "      <th>e</th>\n",
              "    </tr>\n",
              "  </thead>\n",
              "  <tbody>\n",
              "    <tr>\n",
              "      <th>ACT</th>\n",
              "      <td>NaN</td>\n",
              "      <td>NaN</td>\n",
              "      <td>NaN</td>\n",
              "      <td>NaN</td>\n",
              "    </tr>\n",
              "    <tr>\n",
              "      <th>NSW</th>\n",
              "      <td>12.0</td>\n",
              "      <td>14.0</td>\n",
              "      <td>NaN</td>\n",
              "      <td>NaN</td>\n",
              "    </tr>\n",
              "    <tr>\n",
              "      <th>SA</th>\n",
              "      <td>0.0</td>\n",
              "      <td>2.0</td>\n",
              "      <td>NaN</td>\n",
              "      <td>NaN</td>\n",
              "    </tr>\n",
              "    <tr>\n",
              "      <th>VIC</th>\n",
              "      <td>6.0</td>\n",
              "      <td>8.0</td>\n",
              "      <td>NaN</td>\n",
              "      <td>NaN</td>\n",
              "    </tr>\n",
              "  </tbody>\n",
              "</table>\n",
              "</div>"
            ],
            "text/plain": [
              "        a     b   c   e\n",
              "ACT   NaN   NaN NaN NaN\n",
              "NSW  12.0  14.0 NaN NaN\n",
              "SA    0.0   2.0 NaN NaN\n",
              "VIC   6.0   8.0 NaN NaN"
            ]
          },
          "metadata": {
            "tags": []
          },
          "execution_count": 134
        }
      ]
    },
    {
      "cell_type": "markdown",
      "metadata": {
        "id": "1SW7MKMTSOXI"
      },
      "source": [
        "We also have the option of passing parameter values to determine how missing values should be dealt with, which performs this internal data alignment. \n",
        "\n",
        "Code:"
      ]
    },
    {
      "cell_type": "code",
      "metadata": {
        "colab": {
          "base_uri": "https://localhost:8080/",
          "height": 173
        },
        "id": "KkTxEcs4SSBu",
        "outputId": "69662653-e78b-41f8-9f51-dbac7074d328"
      },
      "source": [
        "df1.add(df2, fill_value=0)"
      ],
      "execution_count": null,
      "outputs": [
        {
          "output_type": "execute_result",
          "data": {
            "text/html": [
              "<div>\n",
              "<style scoped>\n",
              "    .dataframe tbody tr th:only-of-type {\n",
              "        vertical-align: middle;\n",
              "    }\n",
              "\n",
              "    .dataframe tbody tr th {\n",
              "        vertical-align: top;\n",
              "    }\n",
              "\n",
              "    .dataframe thead th {\n",
              "        text-align: right;\n",
              "    }\n",
              "</style>\n",
              "<table border=\"1\" class=\"dataframe\">\n",
              "  <thead>\n",
              "    <tr style=\"text-align: right;\">\n",
              "      <th></th>\n",
              "      <th>a</th>\n",
              "      <th>b</th>\n",
              "      <th>c</th>\n",
              "      <th>e</th>\n",
              "    </tr>\n",
              "  </thead>\n",
              "  <tbody>\n",
              "    <tr>\n",
              "      <th>ACT</th>\n",
              "      <td>9.0</td>\n",
              "      <td>10.0</td>\n",
              "      <td>NaN</td>\n",
              "      <td>11.0</td>\n",
              "    </tr>\n",
              "    <tr>\n",
              "      <th>NSW</th>\n",
              "      <td>12.0</td>\n",
              "      <td>14.0</td>\n",
              "      <td>8.0</td>\n",
              "      <td>8.0</td>\n",
              "    </tr>\n",
              "    <tr>\n",
              "      <th>SA</th>\n",
              "      <td>0.0</td>\n",
              "      <td>2.0</td>\n",
              "      <td>2.0</td>\n",
              "      <td>2.0</td>\n",
              "    </tr>\n",
              "    <tr>\n",
              "      <th>VIC</th>\n",
              "      <td>6.0</td>\n",
              "      <td>8.0</td>\n",
              "      <td>5.0</td>\n",
              "      <td>5.0</td>\n",
              "    </tr>\n",
              "  </tbody>\n",
              "</table>\n",
              "</div>"
            ],
            "text/plain": [
              "        a     b    c     e\n",
              "ACT   9.0  10.0  NaN  11.0\n",
              "NSW  12.0  14.0  8.0   8.0\n",
              "SA    0.0   2.0  2.0   2.0\n",
              "VIC   6.0   8.0  5.0   5.0"
            ]
          },
          "metadata": {
            "tags": []
          },
          "execution_count": 135
        }
      ]
    },
    {
      "cell_type": "markdown",
      "metadata": {
        "id": "uY51QXiwSynO"
      },
      "source": [
        "## Mapping"
      ]
    },
    {
      "cell_type": "markdown",
      "metadata": {
        "id": "J0bCXrFoSz6T"
      },
      "source": [
        "At many times, we would want to change or manipulate the values in a particular row or a column by way of applying some functions to the values in selection. For example, think of a data set that captures information about a large collection of products (represented as columns in the data set). These products update to a new version every year. You need a way to update all the version numbers quickly and easily. This process is known as mapping, and we do this by using the .apply() method, which has following parameters:\n",
        "\n",
        "- a lambda function, to specify what kind of transformation needs to be applied\n",
        "- an axis parameter, which by default equates to 0 and so applies across the index (and not columns). The following code snippets demonstrates this behaviour: \n",
        "\n",
        "Code:"
      ]
    },
    {
      "cell_type": "code",
      "metadata": {
        "colab": {
          "base_uri": "https://localhost:8080/",
          "height": 266
        },
        "id": "olZWwWEvS8WS",
        "outputId": "a117ea06-c5f5-4390-df40-b12c6c3daf90"
      },
      "source": [
        "df_states"
      ],
      "execution_count": null,
      "outputs": [
        {
          "output_type": "execute_result",
          "data": {
            "text/html": [
              "<div>\n",
              "<style scoped>\n",
              "    .dataframe tbody tr th:only-of-type {\n",
              "        vertical-align: middle;\n",
              "    }\n",
              "\n",
              "    .dataframe tbody tr th {\n",
              "        vertical-align: top;\n",
              "    }\n",
              "\n",
              "    .dataframe thead th {\n",
              "        text-align: right;\n",
              "    }\n",
              "</style>\n",
              "<table border=\"1\" class=\"dataframe\">\n",
              "  <thead>\n",
              "    <tr style=\"text-align: right;\">\n",
              "      <th></th>\n",
              "      <th>state</th>\n",
              "      <th>TZ</th>\n",
              "      <th>pop</th>\n",
              "      <th>GDP</th>\n",
              "      <th>area</th>\n",
              "    </tr>\n",
              "  </thead>\n",
              "  <tbody>\n",
              "    <tr>\n",
              "      <th>WA</th>\n",
              "      <td>Western Australia</td>\n",
              "      <td>GMT+8</td>\n",
              "      <td>1.0</td>\n",
              "      <td>11</td>\n",
              "      <td>TBD</td>\n",
              "    </tr>\n",
              "    <tr>\n",
              "      <th>SA</th>\n",
              "      <td>Southern Australia</td>\n",
              "      <td>GMT+9.30</td>\n",
              "      <td>1.0</td>\n",
              "      <td>8</td>\n",
              "      <td>TBD</td>\n",
              "    </tr>\n",
              "    <tr>\n",
              "      <th>VIC</th>\n",
              "      <td>Victoria</td>\n",
              "      <td>GMT+10</td>\n",
              "      <td>2.5</td>\n",
              "      <td>20</td>\n",
              "      <td>TBD</td>\n",
              "    </tr>\n",
              "    <tr>\n",
              "      <th>NSW</th>\n",
              "      <td>New South Wales</td>\n",
              "      <td>GMT+10</td>\n",
              "      <td>2.7</td>\n",
              "      <td>22</td>\n",
              "      <td>TBD</td>\n",
              "    </tr>\n",
              "    <tr>\n",
              "      <th>ACT</th>\n",
              "      <td>Australian Capital Territory</td>\n",
              "      <td>GMT+10</td>\n",
              "      <td>0.5</td>\n",
              "      <td>15</td>\n",
              "      <td>TBD</td>\n",
              "    </tr>\n",
              "    <tr>\n",
              "      <th>QLD</th>\n",
              "      <td>Queensland</td>\n",
              "      <td>GMT+10</td>\n",
              "      <td>1.5</td>\n",
              "      <td>18</td>\n",
              "      <td>TBD</td>\n",
              "    </tr>\n",
              "    <tr>\n",
              "      <th>NT</th>\n",
              "      <td>Northern Territory</td>\n",
              "      <td>GMT+9.30</td>\n",
              "      <td>0.4</td>\n",
              "      <td>8</td>\n",
              "      <td>TBD</td>\n",
              "    </tr>\n",
              "  </tbody>\n",
              "</table>\n",
              "</div>"
            ],
            "text/plain": [
              "                            state        TZ  pop  GDP area\n",
              "WA              Western Australia     GMT+8  1.0   11  TBD\n",
              "SA             Southern Australia  GMT+9.30  1.0    8  TBD\n",
              "VIC                      Victoria    GMT+10  2.5   20  TBD\n",
              "NSW               New South Wales    GMT+10  2.7   22  TBD\n",
              "ACT  Australian Capital Territory    GMT+10  0.5   15  TBD\n",
              "QLD                    Queensland    GMT+10  1.5   18  TBD\n",
              "NT             Northern Territory  GMT+9.30  0.4    8  TBD"
            ]
          },
          "metadata": {
            "tags": []
          },
          "execution_count": 136
        }
      ]
    },
    {
      "cell_type": "code",
      "metadata": {
        "id": "ytJN7fngTJE2"
      },
      "source": [
        "f = lambda x:x.upper()"
      ],
      "execution_count": null,
      "outputs": []
    },
    {
      "cell_type": "code",
      "metadata": {
        "colab": {
          "base_uri": "https://localhost:8080/",
          "height": 266
        },
        "id": "rpgStmdATONs",
        "outputId": "dae14d67-b6d8-4d97-d914-f6e3403894b7"
      },
      "source": [
        "df_states['state'] = df_states['state'].apply(f)\n",
        "df_states"
      ],
      "execution_count": null,
      "outputs": [
        {
          "output_type": "execute_result",
          "data": {
            "text/html": [
              "<div>\n",
              "<style scoped>\n",
              "    .dataframe tbody tr th:only-of-type {\n",
              "        vertical-align: middle;\n",
              "    }\n",
              "\n",
              "    .dataframe tbody tr th {\n",
              "        vertical-align: top;\n",
              "    }\n",
              "\n",
              "    .dataframe thead th {\n",
              "        text-align: right;\n",
              "    }\n",
              "</style>\n",
              "<table border=\"1\" class=\"dataframe\">\n",
              "  <thead>\n",
              "    <tr style=\"text-align: right;\">\n",
              "      <th></th>\n",
              "      <th>state</th>\n",
              "      <th>TZ</th>\n",
              "      <th>pop</th>\n",
              "      <th>GDP</th>\n",
              "      <th>area</th>\n",
              "    </tr>\n",
              "  </thead>\n",
              "  <tbody>\n",
              "    <tr>\n",
              "      <th>WA</th>\n",
              "      <td>WESTERN AUSTRALIA</td>\n",
              "      <td>GMT+8</td>\n",
              "      <td>1.0</td>\n",
              "      <td>11</td>\n",
              "      <td>TBD</td>\n",
              "    </tr>\n",
              "    <tr>\n",
              "      <th>SA</th>\n",
              "      <td>SOUTHERN AUSTRALIA</td>\n",
              "      <td>GMT+9.30</td>\n",
              "      <td>1.0</td>\n",
              "      <td>8</td>\n",
              "      <td>TBD</td>\n",
              "    </tr>\n",
              "    <tr>\n",
              "      <th>VIC</th>\n",
              "      <td>VICTORIA</td>\n",
              "      <td>GMT+10</td>\n",
              "      <td>2.5</td>\n",
              "      <td>20</td>\n",
              "      <td>TBD</td>\n",
              "    </tr>\n",
              "    <tr>\n",
              "      <th>NSW</th>\n",
              "      <td>NEW SOUTH WALES</td>\n",
              "      <td>GMT+10</td>\n",
              "      <td>2.7</td>\n",
              "      <td>22</td>\n",
              "      <td>TBD</td>\n",
              "    </tr>\n",
              "    <tr>\n",
              "      <th>ACT</th>\n",
              "      <td>AUSTRALIAN CAPITAL TERRITORY</td>\n",
              "      <td>GMT+10</td>\n",
              "      <td>0.5</td>\n",
              "      <td>15</td>\n",
              "      <td>TBD</td>\n",
              "    </tr>\n",
              "    <tr>\n",
              "      <th>QLD</th>\n",
              "      <td>QUEENSLAND</td>\n",
              "      <td>GMT+10</td>\n",
              "      <td>1.5</td>\n",
              "      <td>18</td>\n",
              "      <td>TBD</td>\n",
              "    </tr>\n",
              "    <tr>\n",
              "      <th>NT</th>\n",
              "      <td>NORTHERN TERRITORY</td>\n",
              "      <td>GMT+9.30</td>\n",
              "      <td>0.4</td>\n",
              "      <td>8</td>\n",
              "      <td>TBD</td>\n",
              "    </tr>\n",
              "  </tbody>\n",
              "</table>\n",
              "</div>"
            ],
            "text/plain": [
              "                            state        TZ  pop  GDP area\n",
              "WA              WESTERN AUSTRALIA     GMT+8  1.0   11  TBD\n",
              "SA             SOUTHERN AUSTRALIA  GMT+9.30  1.0    8  TBD\n",
              "VIC                      VICTORIA    GMT+10  2.5   20  TBD\n",
              "NSW               NEW SOUTH WALES    GMT+10  2.7   22  TBD\n",
              "ACT  AUSTRALIAN CAPITAL TERRITORY    GMT+10  0.5   15  TBD\n",
              "QLD                    QUEENSLAND    GMT+10  1.5   18  TBD\n",
              "NT             NORTHERN TERRITORY  GMT+9.30  0.4    8  TBD"
            ]
          },
          "metadata": {
            "tags": []
          },
          "execution_count": 138
        }
      ]
    },
    {
      "cell_type": "markdown",
      "metadata": {
        "id": "ixgAa3yRTb0F"
      },
      "source": [
        "Note that there are other methods available for doing column wise transformations, and we will cover some of those in detail during the data wrangling sections of this course."
      ]
    },
    {
      "cell_type": "markdown",
      "metadata": {
        "id": "H1rVPi0YTekG"
      },
      "source": [
        "## Sorting"
      ]
    },
    {
      "cell_type": "markdown",
      "metadata": {
        "id": "5Otn4mExTgH0"
      },
      "source": [
        "Many kinds of data need to be sorted to be meaningful and useful. Think of a video on-demand streaming service that needs to know which TV series in its catalogue are the most popular, so that it can decide which of them to renew for another season. The series titles need to be sorted by the most watched. Sorting is also one of the important operations that we perform on the data in Pandas."
      ]
    },
    {
      "cell_type": "markdown",
      "metadata": {
        "id": "nmHkINJvTkK5"
      },
      "source": [
        "### Sorting the indexes / labels"
      ]
    },
    {
      "cell_type": "markdown",
      "metadata": {
        "id": "E012IhNYTlDd"
      },
      "source": [
        "To sort lexicographically (ie, the dictionary order) by row or column index, we use the sort_index() method. See below a demonstration of sorting the indexes. It should be noted that this method returns a new object, which is sorted based on the criteria specified: * Original DataFrame \n",
        "\n",
        "Code:"
      ]
    },
    {
      "cell_type": "code",
      "metadata": {
        "colab": {
          "base_uri": "https://localhost:8080/",
          "height": 266
        },
        "id": "9id9lFHxTqws",
        "outputId": "4e062cf8-0fc9-47a8-b6ea-760e5cd73091"
      },
      "source": [
        "df_states"
      ],
      "execution_count": null,
      "outputs": [
        {
          "output_type": "execute_result",
          "data": {
            "text/html": [
              "<div>\n",
              "<style scoped>\n",
              "    .dataframe tbody tr th:only-of-type {\n",
              "        vertical-align: middle;\n",
              "    }\n",
              "\n",
              "    .dataframe tbody tr th {\n",
              "        vertical-align: top;\n",
              "    }\n",
              "\n",
              "    .dataframe thead th {\n",
              "        text-align: right;\n",
              "    }\n",
              "</style>\n",
              "<table border=\"1\" class=\"dataframe\">\n",
              "  <thead>\n",
              "    <tr style=\"text-align: right;\">\n",
              "      <th></th>\n",
              "      <th>state</th>\n",
              "      <th>TZ</th>\n",
              "      <th>pop</th>\n",
              "      <th>GDP</th>\n",
              "      <th>area</th>\n",
              "    </tr>\n",
              "  </thead>\n",
              "  <tbody>\n",
              "    <tr>\n",
              "      <th>WA</th>\n",
              "      <td>WESTERN AUSTRALIA</td>\n",
              "      <td>GMT+8</td>\n",
              "      <td>1.0</td>\n",
              "      <td>11</td>\n",
              "      <td>TBD</td>\n",
              "    </tr>\n",
              "    <tr>\n",
              "      <th>SA</th>\n",
              "      <td>SOUTHERN AUSTRALIA</td>\n",
              "      <td>GMT+9.30</td>\n",
              "      <td>1.0</td>\n",
              "      <td>8</td>\n",
              "      <td>TBD</td>\n",
              "    </tr>\n",
              "    <tr>\n",
              "      <th>VIC</th>\n",
              "      <td>VICTORIA</td>\n",
              "      <td>GMT+10</td>\n",
              "      <td>2.5</td>\n",
              "      <td>20</td>\n",
              "      <td>TBD</td>\n",
              "    </tr>\n",
              "    <tr>\n",
              "      <th>NSW</th>\n",
              "      <td>NEW SOUTH WALES</td>\n",
              "      <td>GMT+10</td>\n",
              "      <td>2.7</td>\n",
              "      <td>22</td>\n",
              "      <td>TBD</td>\n",
              "    </tr>\n",
              "    <tr>\n",
              "      <th>ACT</th>\n",
              "      <td>AUSTRALIAN CAPITAL TERRITORY</td>\n",
              "      <td>GMT+10</td>\n",
              "      <td>0.5</td>\n",
              "      <td>15</td>\n",
              "      <td>TBD</td>\n",
              "    </tr>\n",
              "    <tr>\n",
              "      <th>QLD</th>\n",
              "      <td>QUEENSLAND</td>\n",
              "      <td>GMT+10</td>\n",
              "      <td>1.5</td>\n",
              "      <td>18</td>\n",
              "      <td>TBD</td>\n",
              "    </tr>\n",
              "    <tr>\n",
              "      <th>NT</th>\n",
              "      <td>NORTHERN TERRITORY</td>\n",
              "      <td>GMT+9.30</td>\n",
              "      <td>0.4</td>\n",
              "      <td>8</td>\n",
              "      <td>TBD</td>\n",
              "    </tr>\n",
              "  </tbody>\n",
              "</table>\n",
              "</div>"
            ],
            "text/plain": [
              "                            state        TZ  pop  GDP area\n",
              "WA              WESTERN AUSTRALIA     GMT+8  1.0   11  TBD\n",
              "SA             SOUTHERN AUSTRALIA  GMT+9.30  1.0    8  TBD\n",
              "VIC                      VICTORIA    GMT+10  2.5   20  TBD\n",
              "NSW               NEW SOUTH WALES    GMT+10  2.7   22  TBD\n",
              "ACT  AUSTRALIAN CAPITAL TERRITORY    GMT+10  0.5   15  TBD\n",
              "QLD                    QUEENSLAND    GMT+10  1.5   18  TBD\n",
              "NT             NORTHERN TERRITORY  GMT+9.30  0.4    8  TBD"
            ]
          },
          "metadata": {
            "tags": []
          },
          "execution_count": 139
        }
      ]
    },
    {
      "cell_type": "code",
      "metadata": {
        "colab": {
          "base_uri": "https://localhost:8080/",
          "height": 266
        },
        "id": "xkRLIkn-TwgM",
        "outputId": "5d15fea4-6f7e-4c37-a7d9-391765cc907f"
      },
      "source": [
        "# DataFrame sorted by row index Code\n",
        "df_states.sort_index()"
      ],
      "execution_count": null,
      "outputs": [
        {
          "output_type": "execute_result",
          "data": {
            "text/html": [
              "<div>\n",
              "<style scoped>\n",
              "    .dataframe tbody tr th:only-of-type {\n",
              "        vertical-align: middle;\n",
              "    }\n",
              "\n",
              "    .dataframe tbody tr th {\n",
              "        vertical-align: top;\n",
              "    }\n",
              "\n",
              "    .dataframe thead th {\n",
              "        text-align: right;\n",
              "    }\n",
              "</style>\n",
              "<table border=\"1\" class=\"dataframe\">\n",
              "  <thead>\n",
              "    <tr style=\"text-align: right;\">\n",
              "      <th></th>\n",
              "      <th>state</th>\n",
              "      <th>TZ</th>\n",
              "      <th>pop</th>\n",
              "      <th>GDP</th>\n",
              "      <th>area</th>\n",
              "    </tr>\n",
              "  </thead>\n",
              "  <tbody>\n",
              "    <tr>\n",
              "      <th>ACT</th>\n",
              "      <td>AUSTRALIAN CAPITAL TERRITORY</td>\n",
              "      <td>GMT+10</td>\n",
              "      <td>0.5</td>\n",
              "      <td>15</td>\n",
              "      <td>TBD</td>\n",
              "    </tr>\n",
              "    <tr>\n",
              "      <th>NSW</th>\n",
              "      <td>NEW SOUTH WALES</td>\n",
              "      <td>GMT+10</td>\n",
              "      <td>2.7</td>\n",
              "      <td>22</td>\n",
              "      <td>TBD</td>\n",
              "    </tr>\n",
              "    <tr>\n",
              "      <th>NT</th>\n",
              "      <td>NORTHERN TERRITORY</td>\n",
              "      <td>GMT+9.30</td>\n",
              "      <td>0.4</td>\n",
              "      <td>8</td>\n",
              "      <td>TBD</td>\n",
              "    </tr>\n",
              "    <tr>\n",
              "      <th>QLD</th>\n",
              "      <td>QUEENSLAND</td>\n",
              "      <td>GMT+10</td>\n",
              "      <td>1.5</td>\n",
              "      <td>18</td>\n",
              "      <td>TBD</td>\n",
              "    </tr>\n",
              "    <tr>\n",
              "      <th>SA</th>\n",
              "      <td>SOUTHERN AUSTRALIA</td>\n",
              "      <td>GMT+9.30</td>\n",
              "      <td>1.0</td>\n",
              "      <td>8</td>\n",
              "      <td>TBD</td>\n",
              "    </tr>\n",
              "    <tr>\n",
              "      <th>VIC</th>\n",
              "      <td>VICTORIA</td>\n",
              "      <td>GMT+10</td>\n",
              "      <td>2.5</td>\n",
              "      <td>20</td>\n",
              "      <td>TBD</td>\n",
              "    </tr>\n",
              "    <tr>\n",
              "      <th>WA</th>\n",
              "      <td>WESTERN AUSTRALIA</td>\n",
              "      <td>GMT+8</td>\n",
              "      <td>1.0</td>\n",
              "      <td>11</td>\n",
              "      <td>TBD</td>\n",
              "    </tr>\n",
              "  </tbody>\n",
              "</table>\n",
              "</div>"
            ],
            "text/plain": [
              "                            state        TZ  pop  GDP area\n",
              "ACT  AUSTRALIAN CAPITAL TERRITORY    GMT+10  0.5   15  TBD\n",
              "NSW               NEW SOUTH WALES    GMT+10  2.7   22  TBD\n",
              "NT             NORTHERN TERRITORY  GMT+9.30  0.4    8  TBD\n",
              "QLD                    QUEENSLAND    GMT+10  1.5   18  TBD\n",
              "SA             SOUTHERN AUSTRALIA  GMT+9.30  1.0    8  TBD\n",
              "VIC                      VICTORIA    GMT+10  2.5   20  TBD\n",
              "WA              WESTERN AUSTRALIA     GMT+8  1.0   11  TBD"
            ]
          },
          "metadata": {
            "tags": []
          },
          "execution_count": 141
        }
      ]
    },
    {
      "cell_type": "code",
      "metadata": {
        "colab": {
          "base_uri": "https://localhost:8080/",
          "height": 266
        },
        "id": "49rfayc5W_JC",
        "outputId": "31d6b874-0d05-425a-da29-45c3de838fc2"
      },
      "source": [
        "# DataFrame sorted by columns (lexicographically)\n",
        "df_states.sort_index(axis=1)"
      ],
      "execution_count": null,
      "outputs": [
        {
          "output_type": "execute_result",
          "data": {
            "text/html": [
              "<div>\n",
              "<style scoped>\n",
              "    .dataframe tbody tr th:only-of-type {\n",
              "        vertical-align: middle;\n",
              "    }\n",
              "\n",
              "    .dataframe tbody tr th {\n",
              "        vertical-align: top;\n",
              "    }\n",
              "\n",
              "    .dataframe thead th {\n",
              "        text-align: right;\n",
              "    }\n",
              "</style>\n",
              "<table border=\"1\" class=\"dataframe\">\n",
              "  <thead>\n",
              "    <tr style=\"text-align: right;\">\n",
              "      <th></th>\n",
              "      <th>GDP</th>\n",
              "      <th>TZ</th>\n",
              "      <th>area</th>\n",
              "      <th>pop</th>\n",
              "      <th>state</th>\n",
              "    </tr>\n",
              "  </thead>\n",
              "  <tbody>\n",
              "    <tr>\n",
              "      <th>WA</th>\n",
              "      <td>11</td>\n",
              "      <td>GMT+8</td>\n",
              "      <td>TBD</td>\n",
              "      <td>1.0</td>\n",
              "      <td>WESTERN AUSTRALIA</td>\n",
              "    </tr>\n",
              "    <tr>\n",
              "      <th>SA</th>\n",
              "      <td>8</td>\n",
              "      <td>GMT+9.30</td>\n",
              "      <td>TBD</td>\n",
              "      <td>1.0</td>\n",
              "      <td>SOUTHERN AUSTRALIA</td>\n",
              "    </tr>\n",
              "    <tr>\n",
              "      <th>VIC</th>\n",
              "      <td>20</td>\n",
              "      <td>GMT+10</td>\n",
              "      <td>TBD</td>\n",
              "      <td>2.5</td>\n",
              "      <td>VICTORIA</td>\n",
              "    </tr>\n",
              "    <tr>\n",
              "      <th>NSW</th>\n",
              "      <td>22</td>\n",
              "      <td>GMT+10</td>\n",
              "      <td>TBD</td>\n",
              "      <td>2.7</td>\n",
              "      <td>NEW SOUTH WALES</td>\n",
              "    </tr>\n",
              "    <tr>\n",
              "      <th>ACT</th>\n",
              "      <td>15</td>\n",
              "      <td>GMT+10</td>\n",
              "      <td>TBD</td>\n",
              "      <td>0.5</td>\n",
              "      <td>AUSTRALIAN CAPITAL TERRITORY</td>\n",
              "    </tr>\n",
              "    <tr>\n",
              "      <th>QLD</th>\n",
              "      <td>18</td>\n",
              "      <td>GMT+10</td>\n",
              "      <td>TBD</td>\n",
              "      <td>1.5</td>\n",
              "      <td>QUEENSLAND</td>\n",
              "    </tr>\n",
              "    <tr>\n",
              "      <th>NT</th>\n",
              "      <td>8</td>\n",
              "      <td>GMT+9.30</td>\n",
              "      <td>TBD</td>\n",
              "      <td>0.4</td>\n",
              "      <td>NORTHERN TERRITORY</td>\n",
              "    </tr>\n",
              "  </tbody>\n",
              "</table>\n",
              "</div>"
            ],
            "text/plain": [
              "     GDP        TZ area  pop                         state\n",
              "WA    11     GMT+8  TBD  1.0             WESTERN AUSTRALIA\n",
              "SA     8  GMT+9.30  TBD  1.0            SOUTHERN AUSTRALIA\n",
              "VIC   20    GMT+10  TBD  2.5                      VICTORIA\n",
              "NSW   22    GMT+10  TBD  2.7               NEW SOUTH WALES\n",
              "ACT   15    GMT+10  TBD  0.5  AUSTRALIAN CAPITAL TERRITORY\n",
              "QLD   18    GMT+10  TBD  1.5                    QUEENSLAND\n",
              "NT     8  GMT+9.30  TBD  0.4            NORTHERN TERRITORY"
            ]
          },
          "metadata": {
            "tags": []
          },
          "execution_count": 142
        }
      ]
    },
    {
      "cell_type": "markdown",
      "metadata": {
        "id": "q7T1WzLjXVAz"
      },
      "source": [
        "## Sorting by values"
      ]
    },
    {
      "cell_type": "markdown",
      "metadata": {
        "id": "l54cV-biXd7x"
      },
      "source": [
        "Instead of indexes and labels, we can also sort the data by the actual values in the columns. For this purpose, there is another function, sort_values(), that can be used. This function will do the sorting on the basis of values instead of the labels. See below code snippet for an example, where we will arrange the values by GDP Column: \n",
        "\n",
        "Code:"
      ]
    },
    {
      "cell_type": "code",
      "metadata": {
        "colab": {
          "base_uri": "https://localhost:8080/",
          "height": 266
        },
        "id": "iN5yuSZ1Xg7S",
        "outputId": "fafd9f37-2cc8-43a5-8bb8-6a3cd2185784"
      },
      "source": [
        "df_states"
      ],
      "execution_count": null,
      "outputs": [
        {
          "output_type": "execute_result",
          "data": {
            "text/html": [
              "<div>\n",
              "<style scoped>\n",
              "    .dataframe tbody tr th:only-of-type {\n",
              "        vertical-align: middle;\n",
              "    }\n",
              "\n",
              "    .dataframe tbody tr th {\n",
              "        vertical-align: top;\n",
              "    }\n",
              "\n",
              "    .dataframe thead th {\n",
              "        text-align: right;\n",
              "    }\n",
              "</style>\n",
              "<table border=\"1\" class=\"dataframe\">\n",
              "  <thead>\n",
              "    <tr style=\"text-align: right;\">\n",
              "      <th></th>\n",
              "      <th>state</th>\n",
              "      <th>TZ</th>\n",
              "      <th>pop</th>\n",
              "      <th>GDP</th>\n",
              "      <th>area</th>\n",
              "    </tr>\n",
              "  </thead>\n",
              "  <tbody>\n",
              "    <tr>\n",
              "      <th>WA</th>\n",
              "      <td>WESTERN AUSTRALIA</td>\n",
              "      <td>GMT+8</td>\n",
              "      <td>1.0</td>\n",
              "      <td>11</td>\n",
              "      <td>TBD</td>\n",
              "    </tr>\n",
              "    <tr>\n",
              "      <th>SA</th>\n",
              "      <td>SOUTHERN AUSTRALIA</td>\n",
              "      <td>GMT+9.30</td>\n",
              "      <td>1.0</td>\n",
              "      <td>8</td>\n",
              "      <td>TBD</td>\n",
              "    </tr>\n",
              "    <tr>\n",
              "      <th>VIC</th>\n",
              "      <td>VICTORIA</td>\n",
              "      <td>GMT+10</td>\n",
              "      <td>2.5</td>\n",
              "      <td>20</td>\n",
              "      <td>TBD</td>\n",
              "    </tr>\n",
              "    <tr>\n",
              "      <th>NSW</th>\n",
              "      <td>NEW SOUTH WALES</td>\n",
              "      <td>GMT+10</td>\n",
              "      <td>2.7</td>\n",
              "      <td>22</td>\n",
              "      <td>TBD</td>\n",
              "    </tr>\n",
              "    <tr>\n",
              "      <th>ACT</th>\n",
              "      <td>AUSTRALIAN CAPITAL TERRITORY</td>\n",
              "      <td>GMT+10</td>\n",
              "      <td>0.5</td>\n",
              "      <td>15</td>\n",
              "      <td>TBD</td>\n",
              "    </tr>\n",
              "    <tr>\n",
              "      <th>QLD</th>\n",
              "      <td>QUEENSLAND</td>\n",
              "      <td>GMT+10</td>\n",
              "      <td>1.5</td>\n",
              "      <td>18</td>\n",
              "      <td>TBD</td>\n",
              "    </tr>\n",
              "    <tr>\n",
              "      <th>NT</th>\n",
              "      <td>NORTHERN TERRITORY</td>\n",
              "      <td>GMT+9.30</td>\n",
              "      <td>0.4</td>\n",
              "      <td>8</td>\n",
              "      <td>TBD</td>\n",
              "    </tr>\n",
              "  </tbody>\n",
              "</table>\n",
              "</div>"
            ],
            "text/plain": [
              "                            state        TZ  pop  GDP area\n",
              "WA              WESTERN AUSTRALIA     GMT+8  1.0   11  TBD\n",
              "SA             SOUTHERN AUSTRALIA  GMT+9.30  1.0    8  TBD\n",
              "VIC                      VICTORIA    GMT+10  2.5   20  TBD\n",
              "NSW               NEW SOUTH WALES    GMT+10  2.7   22  TBD\n",
              "ACT  AUSTRALIAN CAPITAL TERRITORY    GMT+10  0.5   15  TBD\n",
              "QLD                    QUEENSLAND    GMT+10  1.5   18  TBD\n",
              "NT             NORTHERN TERRITORY  GMT+9.30  0.4    8  TBD"
            ]
          },
          "metadata": {
            "tags": []
          },
          "execution_count": 143
        }
      ]
    },
    {
      "cell_type": "code",
      "metadata": {
        "colab": {
          "base_uri": "https://localhost:8080/",
          "height": 266
        },
        "id": "LUsAMo8zXrqJ",
        "outputId": "34071c5c-36ff-4b9a-efbf-d5a4a088eafc"
      },
      "source": [
        "df_states.sort_values('GDP')"
      ],
      "execution_count": null,
      "outputs": [
        {
          "output_type": "execute_result",
          "data": {
            "text/html": [
              "<div>\n",
              "<style scoped>\n",
              "    .dataframe tbody tr th:only-of-type {\n",
              "        vertical-align: middle;\n",
              "    }\n",
              "\n",
              "    .dataframe tbody tr th {\n",
              "        vertical-align: top;\n",
              "    }\n",
              "\n",
              "    .dataframe thead th {\n",
              "        text-align: right;\n",
              "    }\n",
              "</style>\n",
              "<table border=\"1\" class=\"dataframe\">\n",
              "  <thead>\n",
              "    <tr style=\"text-align: right;\">\n",
              "      <th></th>\n",
              "      <th>state</th>\n",
              "      <th>TZ</th>\n",
              "      <th>pop</th>\n",
              "      <th>GDP</th>\n",
              "      <th>area</th>\n",
              "    </tr>\n",
              "  </thead>\n",
              "  <tbody>\n",
              "    <tr>\n",
              "      <th>SA</th>\n",
              "      <td>SOUTHERN AUSTRALIA</td>\n",
              "      <td>GMT+9.30</td>\n",
              "      <td>1.0</td>\n",
              "      <td>8</td>\n",
              "      <td>TBD</td>\n",
              "    </tr>\n",
              "    <tr>\n",
              "      <th>NT</th>\n",
              "      <td>NORTHERN TERRITORY</td>\n",
              "      <td>GMT+9.30</td>\n",
              "      <td>0.4</td>\n",
              "      <td>8</td>\n",
              "      <td>TBD</td>\n",
              "    </tr>\n",
              "    <tr>\n",
              "      <th>WA</th>\n",
              "      <td>WESTERN AUSTRALIA</td>\n",
              "      <td>GMT+8</td>\n",
              "      <td>1.0</td>\n",
              "      <td>11</td>\n",
              "      <td>TBD</td>\n",
              "    </tr>\n",
              "    <tr>\n",
              "      <th>ACT</th>\n",
              "      <td>AUSTRALIAN CAPITAL TERRITORY</td>\n",
              "      <td>GMT+10</td>\n",
              "      <td>0.5</td>\n",
              "      <td>15</td>\n",
              "      <td>TBD</td>\n",
              "    </tr>\n",
              "    <tr>\n",
              "      <th>QLD</th>\n",
              "      <td>QUEENSLAND</td>\n",
              "      <td>GMT+10</td>\n",
              "      <td>1.5</td>\n",
              "      <td>18</td>\n",
              "      <td>TBD</td>\n",
              "    </tr>\n",
              "    <tr>\n",
              "      <th>VIC</th>\n",
              "      <td>VICTORIA</td>\n",
              "      <td>GMT+10</td>\n",
              "      <td>2.5</td>\n",
              "      <td>20</td>\n",
              "      <td>TBD</td>\n",
              "    </tr>\n",
              "    <tr>\n",
              "      <th>NSW</th>\n",
              "      <td>NEW SOUTH WALES</td>\n",
              "      <td>GMT+10</td>\n",
              "      <td>2.7</td>\n",
              "      <td>22</td>\n",
              "      <td>TBD</td>\n",
              "    </tr>\n",
              "  </tbody>\n",
              "</table>\n",
              "</div>"
            ],
            "text/plain": [
              "                            state        TZ  pop  GDP area\n",
              "SA             SOUTHERN AUSTRALIA  GMT+9.30  1.0    8  TBD\n",
              "NT             NORTHERN TERRITORY  GMT+9.30  0.4    8  TBD\n",
              "WA              WESTERN AUSTRALIA     GMT+8  1.0   11  TBD\n",
              "ACT  AUSTRALIAN CAPITAL TERRITORY    GMT+10  0.5   15  TBD\n",
              "QLD                    QUEENSLAND    GMT+10  1.5   18  TBD\n",
              "VIC                      VICTORIA    GMT+10  2.5   20  TBD\n",
              "NSW               NEW SOUTH WALES    GMT+10  2.7   22  TBD"
            ]
          },
          "metadata": {
            "tags": []
          },
          "execution_count": 144
        }
      ]
    },
    {
      "cell_type": "markdown",
      "metadata": {
        "id": "RSYWkjs3Xvif"
      },
      "source": [
        "# Pandas: Mathematical and statistical methods"
      ]
    },
    {
      "cell_type": "markdown",
      "metadata": {
        "id": "hx0DpkCuXwfi"
      },
      "source": [
        "**It would be very laborious to calculate statistics on large datasets by hand. Fortunately, there are various mathematical and statistical methods in Pandas to automate some of the calculations. Available methods include summation, finding maximum and minimum values, and generating descriptive statistics.\n",
        "Let’s explore these methods with some code examples:**"
      ]
    },
    {
      "cell_type": "markdown",
      "metadata": {
        "id": "bzxtJJ1QX0yd"
      },
      "source": [
        "## Sum method"
      ]
    },
    {
      "cell_type": "markdown",
      "metadata": {
        "id": "jAC0NxjMX2X5"
      },
      "source": [
        "Summation is a common step in calculating statistics such as the mean and standard deviation. This method calculates the summation on a per column basis, and returns the result as a Pandas Series. \n",
        "\n",
        "Code:"
      ]
    },
    {
      "cell_type": "code",
      "metadata": {
        "colab": {
          "base_uri": "https://localhost:8080/",
          "height": 173
        },
        "id": "HRlTKbJlX7gf",
        "outputId": "ff53935a-f695-4e6e-9179-553603702257"
      },
      "source": [
        "new_df = DataFrame(np.random.rand(24).reshape((4,6)),\n",
        "               \tindex=['r1','r2','r3','r4'],\n",
        "               \tcolumns=['c1','c2','c3','c4','c5','c6'])\n",
        "new_df"
      ],
      "execution_count": null,
      "outputs": [
        {
          "output_type": "execute_result",
          "data": {
            "text/html": [
              "<div>\n",
              "<style scoped>\n",
              "    .dataframe tbody tr th:only-of-type {\n",
              "        vertical-align: middle;\n",
              "    }\n",
              "\n",
              "    .dataframe tbody tr th {\n",
              "        vertical-align: top;\n",
              "    }\n",
              "\n",
              "    .dataframe thead th {\n",
              "        text-align: right;\n",
              "    }\n",
              "</style>\n",
              "<table border=\"1\" class=\"dataframe\">\n",
              "  <thead>\n",
              "    <tr style=\"text-align: right;\">\n",
              "      <th></th>\n",
              "      <th>c1</th>\n",
              "      <th>c2</th>\n",
              "      <th>c3</th>\n",
              "      <th>c4</th>\n",
              "      <th>c5</th>\n",
              "      <th>c6</th>\n",
              "    </tr>\n",
              "  </thead>\n",
              "  <tbody>\n",
              "    <tr>\n",
              "      <th>r1</th>\n",
              "      <td>0.342765</td>\n",
              "      <td>0.145512</td>\n",
              "      <td>0.453728</td>\n",
              "      <td>0.804428</td>\n",
              "      <td>0.946710</td>\n",
              "      <td>0.832559</td>\n",
              "    </tr>\n",
              "    <tr>\n",
              "      <th>r2</th>\n",
              "      <td>0.640571</td>\n",
              "      <td>0.836110</td>\n",
              "      <td>0.139126</td>\n",
              "      <td>0.554305</td>\n",
              "      <td>0.496950</td>\n",
              "      <td>0.968878</td>\n",
              "    </tr>\n",
              "    <tr>\n",
              "      <th>r3</th>\n",
              "      <td>0.288859</td>\n",
              "      <td>0.645866</td>\n",
              "      <td>0.023950</td>\n",
              "      <td>0.509962</td>\n",
              "      <td>0.903352</td>\n",
              "      <td>0.798825</td>\n",
              "    </tr>\n",
              "    <tr>\n",
              "      <th>r4</th>\n",
              "      <td>0.237727</td>\n",
              "      <td>0.909543</td>\n",
              "      <td>0.176025</td>\n",
              "      <td>0.492400</td>\n",
              "      <td>0.391355</td>\n",
              "      <td>0.189794</td>\n",
              "    </tr>\n",
              "  </tbody>\n",
              "</table>\n",
              "</div>"
            ],
            "text/plain": [
              "          c1        c2        c3        c4        c5        c6\n",
              "r1  0.342765  0.145512  0.453728  0.804428  0.946710  0.832559\n",
              "r2  0.640571  0.836110  0.139126  0.554305  0.496950  0.968878\n",
              "r3  0.288859  0.645866  0.023950  0.509962  0.903352  0.798825\n",
              "r4  0.237727  0.909543  0.176025  0.492400  0.391355  0.189794"
            ]
          },
          "metadata": {
            "tags": []
          },
          "execution_count": 145
        }
      ]
    },
    {
      "cell_type": "code",
      "metadata": {
        "colab": {
          "base_uri": "https://localhost:8080/"
        },
        "id": "_GqlXyPCYXnk",
        "outputId": "80948d48-8b34-4258-dfd8-8f85cbec19e9"
      },
      "source": [
        "# column sum\n",
        "new_df.sum()"
      ],
      "execution_count": null,
      "outputs": [
        {
          "output_type": "execute_result",
          "data": {
            "text/plain": [
              "c1    1.509922\n",
              "c2    2.537030\n",
              "c3    0.792830\n",
              "c4    2.361094\n",
              "c5    2.738368\n",
              "c6    2.790056\n",
              "dtype: float64"
            ]
          },
          "metadata": {
            "tags": []
          },
          "execution_count": 146
        }
      ]
    },
    {
      "cell_type": "code",
      "metadata": {
        "colab": {
          "base_uri": "https://localhost:8080/"
        },
        "id": "dEhApBffYegJ",
        "outputId": "6769a952-b88c-4060-8603-b8ed8cc566ac"
      },
      "source": [
        "# row sum\n",
        "new_df.sum(axis=1)"
      ],
      "execution_count": null,
      "outputs": [
        {
          "output_type": "execute_result",
          "data": {
            "text/plain": [
              "r1    3.525701\n",
              "r2    3.635940\n",
              "r3    3.170814\n",
              "r4    2.396844\n",
              "dtype: float64"
            ]
          },
          "metadata": {
            "tags": []
          },
          "execution_count": 147
        }
      ]
    },
    {
      "cell_type": "markdown",
      "metadata": {
        "id": "gI2owW09YlDX"
      },
      "source": [
        "## Min, max"
      ]
    },
    {
      "cell_type": "markdown",
      "metadata": {
        "id": "CG5V2QhlYmWI"
      },
      "source": [
        "As the name suggests, these methods will return the minimum and maximum values respectively for every column. These methods form the basis for other statistics such as finding the range of a set of values.\n",
        "\n",
        "Code:"
      ]
    },
    {
      "cell_type": "code",
      "metadata": {
        "colab": {
          "base_uri": "https://localhost:8080/",
          "height": 173
        },
        "id": "CUFNWNzPYoog",
        "outputId": "a80b663e-9dfb-434f-a676-cdbf53c5106b"
      },
      "source": [
        "new_df"
      ],
      "execution_count": null,
      "outputs": [
        {
          "output_type": "execute_result",
          "data": {
            "text/html": [
              "<div>\n",
              "<style scoped>\n",
              "    .dataframe tbody tr th:only-of-type {\n",
              "        vertical-align: middle;\n",
              "    }\n",
              "\n",
              "    .dataframe tbody tr th {\n",
              "        vertical-align: top;\n",
              "    }\n",
              "\n",
              "    .dataframe thead th {\n",
              "        text-align: right;\n",
              "    }\n",
              "</style>\n",
              "<table border=\"1\" class=\"dataframe\">\n",
              "  <thead>\n",
              "    <tr style=\"text-align: right;\">\n",
              "      <th></th>\n",
              "      <th>c1</th>\n",
              "      <th>c2</th>\n",
              "      <th>c3</th>\n",
              "      <th>c4</th>\n",
              "      <th>c5</th>\n",
              "      <th>c6</th>\n",
              "    </tr>\n",
              "  </thead>\n",
              "  <tbody>\n",
              "    <tr>\n",
              "      <th>r1</th>\n",
              "      <td>0.342765</td>\n",
              "      <td>0.145512</td>\n",
              "      <td>0.453728</td>\n",
              "      <td>0.804428</td>\n",
              "      <td>0.946710</td>\n",
              "      <td>0.832559</td>\n",
              "    </tr>\n",
              "    <tr>\n",
              "      <th>r2</th>\n",
              "      <td>0.640571</td>\n",
              "      <td>0.836110</td>\n",
              "      <td>0.139126</td>\n",
              "      <td>0.554305</td>\n",
              "      <td>0.496950</td>\n",
              "      <td>0.968878</td>\n",
              "    </tr>\n",
              "    <tr>\n",
              "      <th>r3</th>\n",
              "      <td>0.288859</td>\n",
              "      <td>0.645866</td>\n",
              "      <td>0.023950</td>\n",
              "      <td>0.509962</td>\n",
              "      <td>0.903352</td>\n",
              "      <td>0.798825</td>\n",
              "    </tr>\n",
              "    <tr>\n",
              "      <th>r4</th>\n",
              "      <td>0.237727</td>\n",
              "      <td>0.909543</td>\n",
              "      <td>0.176025</td>\n",
              "      <td>0.492400</td>\n",
              "      <td>0.391355</td>\n",
              "      <td>0.189794</td>\n",
              "    </tr>\n",
              "  </tbody>\n",
              "</table>\n",
              "</div>"
            ],
            "text/plain": [
              "          c1        c2        c3        c4        c5        c6\n",
              "r1  0.342765  0.145512  0.453728  0.804428  0.946710  0.832559\n",
              "r2  0.640571  0.836110  0.139126  0.554305  0.496950  0.968878\n",
              "r3  0.288859  0.645866  0.023950  0.509962  0.903352  0.798825\n",
              "r4  0.237727  0.909543  0.176025  0.492400  0.391355  0.189794"
            ]
          },
          "metadata": {
            "tags": []
          },
          "execution_count": 148
        }
      ]
    },
    {
      "cell_type": "code",
      "metadata": {
        "colab": {
          "base_uri": "https://localhost:8080/"
        },
        "id": "wTnh7qwWYwM4",
        "outputId": "35cba592-ecdb-4af9-ea0e-40ba1f65e32f"
      },
      "source": [
        "# column min\n",
        "new_df.min()"
      ],
      "execution_count": null,
      "outputs": [
        {
          "output_type": "execute_result",
          "data": {
            "text/plain": [
              "c1    0.237727\n",
              "c2    0.145512\n",
              "c3    0.023950\n",
              "c4    0.492400\n",
              "c5    0.391355\n",
              "c6    0.189794\n",
              "dtype: float64"
            ]
          },
          "metadata": {
            "tags": []
          },
          "execution_count": 149
        }
      ]
    },
    {
      "cell_type": "code",
      "metadata": {
        "colab": {
          "base_uri": "https://localhost:8080/"
        },
        "id": "Ip75JAe_Y3BI",
        "outputId": "a5a47493-eb4a-4f8a-ad6c-19068baf52af"
      },
      "source": [
        "# row min\n",
        "new_df.min(axis=1)"
      ],
      "execution_count": null,
      "outputs": [
        {
          "output_type": "execute_result",
          "data": {
            "text/plain": [
              "r1    0.145512\n",
              "r2    0.139126\n",
              "r3    0.023950\n",
              "r4    0.176025\n",
              "dtype: float64"
            ]
          },
          "metadata": {
            "tags": []
          },
          "execution_count": 150
        }
      ]
    },
    {
      "cell_type": "code",
      "metadata": {
        "colab": {
          "base_uri": "https://localhost:8080/"
        },
        "id": "EqWkCRoYY4YO",
        "outputId": "bb44e38f-2bba-4ddd-9b64-3dc626c78023"
      },
      "source": [
        "# column max\n",
        "new_df.max()"
      ],
      "execution_count": null,
      "outputs": [
        {
          "output_type": "execute_result",
          "data": {
            "text/plain": [
              "c1    0.640571\n",
              "c2    0.909543\n",
              "c3    0.453728\n",
              "c4    0.804428\n",
              "c5    0.946710\n",
              "c6    0.968878\n",
              "dtype: float64"
            ]
          },
          "metadata": {
            "tags": []
          },
          "execution_count": 151
        }
      ]
    },
    {
      "cell_type": "code",
      "metadata": {
        "colab": {
          "base_uri": "https://localhost:8080/"
        },
        "id": "V_A8vDxzY6Gt",
        "outputId": "d2513676-3a8a-45e1-d260-cf9e8363760e"
      },
      "source": [
        "# row max\n",
        "new_df.max(axis=1)"
      ],
      "execution_count": null,
      "outputs": [
        {
          "output_type": "execute_result",
          "data": {
            "text/plain": [
              "r1    0.946710\n",
              "r2    0.968878\n",
              "r3    0.903352\n",
              "r4    0.909543\n",
              "dtype: float64"
            ]
          },
          "metadata": {
            "tags": []
          },
          "execution_count": 152
        }
      ]
    },
    {
      "cell_type": "markdown",
      "metadata": {
        "id": "tnoDsY_-ZUKI"
      },
      "source": [
        "## Describe method"
      ]
    },
    {
      "cell_type": "markdown",
      "metadata": {
        "id": "Q4fLKrJWZVD6"
      },
      "source": [
        "The describe method provides the summary statistics, such as mean, range, and standard deviation, of all the data columns available in the DataFrame. See the below code snippet for an example:\n",
        "\n",
        "Code:"
      ]
    },
    {
      "cell_type": "code",
      "metadata": {
        "colab": {
          "base_uri": "https://localhost:8080/",
          "height": 173
        },
        "id": "pgwkK_Z9ZX1a",
        "outputId": "8a1d7bd8-2699-4df1-c658-2c7743423868"
      },
      "source": [
        "new_df"
      ],
      "execution_count": null,
      "outputs": [
        {
          "output_type": "execute_result",
          "data": {
            "text/html": [
              "<div>\n",
              "<style scoped>\n",
              "    .dataframe tbody tr th:only-of-type {\n",
              "        vertical-align: middle;\n",
              "    }\n",
              "\n",
              "    .dataframe tbody tr th {\n",
              "        vertical-align: top;\n",
              "    }\n",
              "\n",
              "    .dataframe thead th {\n",
              "        text-align: right;\n",
              "    }\n",
              "</style>\n",
              "<table border=\"1\" class=\"dataframe\">\n",
              "  <thead>\n",
              "    <tr style=\"text-align: right;\">\n",
              "      <th></th>\n",
              "      <th>c1</th>\n",
              "      <th>c2</th>\n",
              "      <th>c3</th>\n",
              "      <th>c4</th>\n",
              "      <th>c5</th>\n",
              "      <th>c6</th>\n",
              "    </tr>\n",
              "  </thead>\n",
              "  <tbody>\n",
              "    <tr>\n",
              "      <th>r1</th>\n",
              "      <td>0.342765</td>\n",
              "      <td>0.145512</td>\n",
              "      <td>0.453728</td>\n",
              "      <td>0.804428</td>\n",
              "      <td>0.946710</td>\n",
              "      <td>0.832559</td>\n",
              "    </tr>\n",
              "    <tr>\n",
              "      <th>r2</th>\n",
              "      <td>0.640571</td>\n",
              "      <td>0.836110</td>\n",
              "      <td>0.139126</td>\n",
              "      <td>0.554305</td>\n",
              "      <td>0.496950</td>\n",
              "      <td>0.968878</td>\n",
              "    </tr>\n",
              "    <tr>\n",
              "      <th>r3</th>\n",
              "      <td>0.288859</td>\n",
              "      <td>0.645866</td>\n",
              "      <td>0.023950</td>\n",
              "      <td>0.509962</td>\n",
              "      <td>0.903352</td>\n",
              "      <td>0.798825</td>\n",
              "    </tr>\n",
              "    <tr>\n",
              "      <th>r4</th>\n",
              "      <td>0.237727</td>\n",
              "      <td>0.909543</td>\n",
              "      <td>0.176025</td>\n",
              "      <td>0.492400</td>\n",
              "      <td>0.391355</td>\n",
              "      <td>0.189794</td>\n",
              "    </tr>\n",
              "  </tbody>\n",
              "</table>\n",
              "</div>"
            ],
            "text/plain": [
              "          c1        c2        c3        c4        c5        c6\n",
              "r1  0.342765  0.145512  0.453728  0.804428  0.946710  0.832559\n",
              "r2  0.640571  0.836110  0.139126  0.554305  0.496950  0.968878\n",
              "r3  0.288859  0.645866  0.023950  0.509962  0.903352  0.798825\n",
              "r4  0.237727  0.909543  0.176025  0.492400  0.391355  0.189794"
            ]
          },
          "metadata": {
            "tags": []
          },
          "execution_count": 153
        }
      ]
    },
    {
      "cell_type": "code",
      "metadata": {
        "colab": {
          "base_uri": "https://localhost:8080/",
          "height": 297
        },
        "id": "50_jvk_7Zn0n",
        "outputId": "adfa43a5-da4b-4690-e530-a6c502b19251"
      },
      "source": [
        "new_df.describe()"
      ],
      "execution_count": null,
      "outputs": [
        {
          "output_type": "execute_result",
          "data": {
            "text/html": [
              "<div>\n",
              "<style scoped>\n",
              "    .dataframe tbody tr th:only-of-type {\n",
              "        vertical-align: middle;\n",
              "    }\n",
              "\n",
              "    .dataframe tbody tr th {\n",
              "        vertical-align: top;\n",
              "    }\n",
              "\n",
              "    .dataframe thead th {\n",
              "        text-align: right;\n",
              "    }\n",
              "</style>\n",
              "<table border=\"1\" class=\"dataframe\">\n",
              "  <thead>\n",
              "    <tr style=\"text-align: right;\">\n",
              "      <th></th>\n",
              "      <th>c1</th>\n",
              "      <th>c2</th>\n",
              "      <th>c3</th>\n",
              "      <th>c4</th>\n",
              "      <th>c5</th>\n",
              "      <th>c6</th>\n",
              "    </tr>\n",
              "  </thead>\n",
              "  <tbody>\n",
              "    <tr>\n",
              "      <th>count</th>\n",
              "      <td>4.000000</td>\n",
              "      <td>4.000000</td>\n",
              "      <td>4.000000</td>\n",
              "      <td>4.000000</td>\n",
              "      <td>4.000000</td>\n",
              "      <td>4.000000</td>\n",
              "    </tr>\n",
              "    <tr>\n",
              "      <th>mean</th>\n",
              "      <td>0.377480</td>\n",
              "      <td>0.634258</td>\n",
              "      <td>0.198207</td>\n",
              "      <td>0.590273</td>\n",
              "      <td>0.684592</td>\n",
              "      <td>0.697514</td>\n",
              "    </tr>\n",
              "    <tr>\n",
              "      <th>std</th>\n",
              "      <td>0.180561</td>\n",
              "      <td>0.344254</td>\n",
              "      <td>0.182245</td>\n",
              "      <td>0.145126</td>\n",
              "      <td>0.281519</td>\n",
              "      <td>0.346371</td>\n",
              "    </tr>\n",
              "    <tr>\n",
              "      <th>min</th>\n",
              "      <td>0.237727</td>\n",
              "      <td>0.145512</td>\n",
              "      <td>0.023950</td>\n",
              "      <td>0.492400</td>\n",
              "      <td>0.391355</td>\n",
              "      <td>0.189794</td>\n",
              "    </tr>\n",
              "    <tr>\n",
              "      <th>25%</th>\n",
              "      <td>0.276076</td>\n",
              "      <td>0.520777</td>\n",
              "      <td>0.110332</td>\n",
              "      <td>0.505571</td>\n",
              "      <td>0.470552</td>\n",
              "      <td>0.646567</td>\n",
              "    </tr>\n",
              "    <tr>\n",
              "      <th>50%</th>\n",
              "      <td>0.315812</td>\n",
              "      <td>0.740988</td>\n",
              "      <td>0.157576</td>\n",
              "      <td>0.532133</td>\n",
              "      <td>0.700151</td>\n",
              "      <td>0.815692</td>\n",
              "    </tr>\n",
              "    <tr>\n",
              "      <th>75%</th>\n",
              "      <td>0.417216</td>\n",
              "      <td>0.854468</td>\n",
              "      <td>0.245451</td>\n",
              "      <td>0.616835</td>\n",
              "      <td>0.914192</td>\n",
              "      <td>0.866639</td>\n",
              "    </tr>\n",
              "    <tr>\n",
              "      <th>max</th>\n",
              "      <td>0.640571</td>\n",
              "      <td>0.909543</td>\n",
              "      <td>0.453728</td>\n",
              "      <td>0.804428</td>\n",
              "      <td>0.946710</td>\n",
              "      <td>0.968878</td>\n",
              "    </tr>\n",
              "  </tbody>\n",
              "</table>\n",
              "</div>"
            ],
            "text/plain": [
              "             c1        c2        c3        c4        c5        c6\n",
              "count  4.000000  4.000000  4.000000  4.000000  4.000000  4.000000\n",
              "mean   0.377480  0.634258  0.198207  0.590273  0.684592  0.697514\n",
              "std    0.180561  0.344254  0.182245  0.145126  0.281519  0.346371\n",
              "min    0.237727  0.145512  0.023950  0.492400  0.391355  0.189794\n",
              "25%    0.276076  0.520777  0.110332  0.505571  0.470552  0.646567\n",
              "50%    0.315812  0.740988  0.157576  0.532133  0.700151  0.815692\n",
              "75%    0.417216  0.854468  0.245451  0.616835  0.914192  0.866639\n",
              "max    0.640571  0.909543  0.453728  0.804428  0.946710  0.968878"
            ]
          },
          "metadata": {
            "tags": []
          },
          "execution_count": 154
        }
      ]
    },
    {
      "cell_type": "markdown",
      "metadata": {
        "id": "IdxUlLu-Z9XK"
      },
      "source": [
        "For an exhaustive list of methods, refer to the Pandas API Documentation. Refer to: [Pandas API Document](https://pandas.pydata.org/pandas-docs/stable/reference/index.html) [1] We will also explore some additional methods by way of demonstration throughout the course."
      ]
    },
    {
      "cell_type": "markdown",
      "metadata": {
        "id": "FlvFNgk5aHg3"
      },
      "source": [
        "# QUIZ"
      ]
    },
    {
      "cell_type": "markdown",
      "metadata": {
        "id": "wcUj3Y1IaI8G"
      },
      "source": [
        "1. Which of the following functions will allow you to change or manipulate the selected piece of data?\n",
        "  - pandas.series ()\n",
        "  - pandas.df()\n",
        "  - **pandas.apply()**\n",
        "  - pandas.attribute()\n",
        "\n",
        "2. Choose the incorrect statement.\n",
        "  - By default, rows and columns with missing values are filled with NaN.\n",
        "  - **sort_values() function will do the sorting on the basis of labels instead of the values.**\n",
        "  - sort_index() function will sort your row or column indexes lexicographically.\n",
        "  - describe () method provides the summary statistics of all the data columns available in the DataFrame.\n",
        "\n",
        "3. Reindexing doesn’t:\n",
        "  - change the order of rows in the dataframe\n",
        "  - use reindex () function to perform this action\n",
        "  - change the order of columns in the dataframe\n",
        "  - **filter rows based on selection criteria as per the requirements**\n",
        "\n",
        "4. Which method will you use for sorting the index row or column in the dictionary order?\n",
        "  - sort_values()\n",
        "  - **sort_index()**\n",
        "  - sort_indexes()\n",
        "  - sort_rows()\n",
        "\n"
      ]
    }
  ]
}