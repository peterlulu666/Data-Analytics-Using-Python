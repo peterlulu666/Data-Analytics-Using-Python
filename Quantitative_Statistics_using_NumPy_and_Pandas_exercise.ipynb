{
  "nbformat": 4,
  "nbformat_minor": 0,
  "metadata": {
    "kernelspec": {
      "display_name": "Python 3",
      "language": "python",
      "name": "python3"
    },
    "language_info": {
      "codemirror_mode": {
        "name": "ipython",
        "version": 3
      },
      "file_extension": ".py",
      "mimetype": "text/x-python",
      "name": "python",
      "nbconvert_exporter": "python",
      "pygments_lexer": "ipython3",
      "version": "3.8.3"
    },
    "colab": {
      "name": "Quantitative_Statistics_using_NumPy_and_Pandas_exercise.ipynb",
      "provenance": [],
      "collapsed_sections": [],
      "include_colab_link": true
    }
  },
  "cells": [
    {
      "cell_type": "markdown",
      "metadata": {
        "id": "view-in-github",
        "colab_type": "text"
      },
      "source": [
        "<a href=\"https://colab.research.google.com/github/peterlulu666/Data-Analytics-Using-Python/blob/main/Quantitative_Statistics_using_NumPy_and_Pandas_exercise.ipynb\" target=\"_parent\"><img src=\"https://colab.research.google.com/assets/colab-badge.svg\" alt=\"Open In Colab\"/></a>"
      ]
    },
    {
      "cell_type": "markdown",
      "metadata": {
        "id": "XVMeeQk_dSy6"
      },
      "source": [
        "### Instructions  \n",
        "\n",
        "The cell below is making use of matplotlib, which is a plotting library for Python and NumPy. You are already provided with a defined function for plotting data using matplotlib!  Please start by running this cell below.\n",
        "\n",
        "_Note: If you get import errors, please install Matplotlib package from Anaconda._"
      ]
    },
    {
      "cell_type": "code",
      "metadata": {
        "id": "rwXD9mG0dSy8"
      },
      "source": [
        "## Import pyplot from matplotlib \n",
        "import matplotlib.pyplot as plt\n",
        "\n",
        "## Define a Plot Method to be used in the notebook to plot the data\n",
        "def plot_data(df_fires):\n",
        "    #Creating a Bar Graph\n",
        "    #Plot X Values and Y Values\n",
        "    plt.figure(figsize=(25,15))\n",
        "    plt.bar(df_fires['Month'], df_fires['Number of Fires'], color = (0.5,0.1,0.5,0.6))\n",
        "\n",
        "    #Add Actual Title and Title for Subheadings\n",
        "    plt.suptitle('Amazon Forest Fires Over the Months', fontsize=20) \n",
        "    plt.title('Using Data from Years 1998 - 2017', fontsize=20)  \n",
        "    plt.xlabel('Month', fontsize=20) \n",
        "    plt.ylabel('Number of Forest Fires', fontsize=20)\n",
        "\n",
        "#plt.text(x-coordinate, y-coordinate, valueOfText, alignmnet)\n",
        "#this adds text at the top of each bar indicating its value\n",
        "    for i, num in enumerate(df_fires['Number of Fires']):\n",
        "        plt.text(\n",
        "            i,\n",
        "            num+2500,\n",
        "            num,\n",
        "            ha='center',\n",
        "            verticalalignment='top',\n",
        "            fontsize=20)  \n",
        "    \n",
        "    plt.setp(plt.gca().get_xticklabels(),\n",
        "         rotation=45,\n",
        "         horizontalalignment='right',\n",
        "         fontsize=20)\n",
        "\n",
        "    plt.setp(plt.gca().get_yticklabels(), fontsize=20)"
      ],
      "execution_count": null,
      "outputs": []
    },
    {
      "cell_type": "markdown",
      "metadata": {
        "id": "bG9JoJB6dSy9"
      },
      "source": [
        "## TO DO - Activity 1 - Import Packages\n",
        "In the code cell below import the Pandas and NumPy as __pd__ and __np__ respectively"
      ]
    },
    {
      "cell_type": "code",
      "metadata": {
        "id": "glb3g3RadSy9"
      },
      "source": [
        "import pandas as pd\n",
        "import numpy as np"
      ],
      "execution_count": null,
      "outputs": []
    },
    {
      "cell_type": "markdown",
      "metadata": {
        "id": "oAmhWl2cdSy-"
      },
      "source": [
        "As a next step we will import the csv data into the Pandas DataFrame.\n",
        "\n",
        "__NOTE__: We will cover how to do Data Ingestion into Pandas in our next module, so for this exercise the code has been provided for you in the cell below and you simply need to execute it. Please ensure that your data set is saved in the exact file path as mentioned below in your machine within the folder where this notebook is saved:"
      ]
    },
    {
      "cell_type": "code",
      "metadata": {
        "id": "ccQGC851eiv0",
        "colab": {
          "base_uri": "https://localhost:8080/"
        },
        "outputId": "024b1c55-9770-4a89-b4da-af5e5a0c9155"
      },
      "source": [
        "!mkdir dataset\n",
        "%cd dataset\n",
        "!mkdir module3\n",
        "%cd module3\n",
        "!wget https://raw.githubusercontent.com/peterlulu666/Data-Analytics-Using-Python/fefdef4e8865b854dd64d795e6f6f1bd08143fcb/Brazilian-fire-dataset.csv"
      ],
      "execution_count": null,
      "outputs": [
        {
          "output_type": "stream",
          "text": [
            "/content/dataset\n",
            "/content/dataset/module3\n",
            "--2021-05-11 22:35:21--  https://raw.githubusercontent.com/peterlulu666/Data-Analytics-Using-Python/fefdef4e8865b854dd64d795e6f6f1bd08143fcb/Brazilian-fire-dataset.csv\n",
            "Resolving raw.githubusercontent.com (raw.githubusercontent.com)... 185.199.108.133, 185.199.109.133, 185.199.110.133, ...\n",
            "Connecting to raw.githubusercontent.com (raw.githubusercontent.com)|185.199.108.133|:443... connected.\n",
            "HTTP request sent, awaiting response... 200 OK\n",
            "Length: 241155 (236K) [text/plain]\n",
            "Saving to: ‘Brazilian-fire-dataset.csv’\n",
            "\n",
            "Brazilian-fire-data 100%[===================>] 235.50K  --.-KB/s    in 0.006s  \n",
            "\n",
            "2021-05-11 22:35:21 (37.9 MB/s) - ‘Brazilian-fire-dataset.csv’ saved [241155/241155]\n",
            "\n"
          ],
          "name": "stdout"
        }
      ]
    },
    {
      "cell_type": "code",
      "metadata": {
        "id": "Lj54tBCDdSy-"
      },
      "source": [
        "#Read Data from the Datasource\n",
        "\n",
        "data = pd.read_csv('/content/dataset/module3/Brazilian-fire-dataset.csv')\n",
        "data['Number of Fires'] = data['Number of Fires'].astype(int)"
      ],
      "execution_count": null,
      "outputs": []
    },
    {
      "cell_type": "markdown",
      "metadata": {
        "id": "VamS82bDdSy-"
      },
      "source": [
        "## TO DO - Activity 2 - Sample the Data in the Pandas DataFrame\n",
        "\n",
        "Write the code below to look at top 10 rows in the DataFrame()"
      ]
    },
    {
      "cell_type": "code",
      "metadata": {
        "colab": {
          "base_uri": "https://localhost:8080/",
          "height": 359
        },
        "id": "f1LZCF1OdSy_",
        "outputId": "545f8bb5-83fc-4d54-9a07-006bbc2eb610"
      },
      "source": [
        "#Add Code here for Activity 2 here\n",
        "data.head(10)"
      ],
      "execution_count": null,
      "outputs": [
        {
          "output_type": "execute_result",
          "data": {
            "text/html": [
              "<div>\n",
              "<style scoped>\n",
              "    .dataframe tbody tr th:only-of-type {\n",
              "        vertical-align: middle;\n",
              "    }\n",
              "\n",
              "    .dataframe tbody tr th {\n",
              "        vertical-align: top;\n",
              "    }\n",
              "\n",
              "    .dataframe thead th {\n",
              "        text-align: right;\n",
              "    }\n",
              "</style>\n",
              "<table border=\"1\" class=\"dataframe\">\n",
              "  <thead>\n",
              "    <tr style=\"text-align: right;\">\n",
              "      <th></th>\n",
              "      <th>Year</th>\n",
              "      <th>State</th>\n",
              "      <th>Month</th>\n",
              "      <th>Number of Fires</th>\n",
              "      <th>Date Reported</th>\n",
              "    </tr>\n",
              "  </thead>\n",
              "  <tbody>\n",
              "    <tr>\n",
              "      <th>0</th>\n",
              "      <td>1998</td>\n",
              "      <td>Acre</td>\n",
              "      <td>January</td>\n",
              "      <td>0</td>\n",
              "      <td>1/01/1998</td>\n",
              "    </tr>\n",
              "    <tr>\n",
              "      <th>1</th>\n",
              "      <td>1999</td>\n",
              "      <td>Acre</td>\n",
              "      <td>January</td>\n",
              "      <td>0</td>\n",
              "      <td>1/01/1999</td>\n",
              "    </tr>\n",
              "    <tr>\n",
              "      <th>2</th>\n",
              "      <td>2000</td>\n",
              "      <td>Acre</td>\n",
              "      <td>January</td>\n",
              "      <td>0</td>\n",
              "      <td>1/01/2000</td>\n",
              "    </tr>\n",
              "    <tr>\n",
              "      <th>3</th>\n",
              "      <td>2001</td>\n",
              "      <td>Acre</td>\n",
              "      <td>January</td>\n",
              "      <td>0</td>\n",
              "      <td>1/01/2001</td>\n",
              "    </tr>\n",
              "    <tr>\n",
              "      <th>4</th>\n",
              "      <td>2002</td>\n",
              "      <td>Acre</td>\n",
              "      <td>January</td>\n",
              "      <td>0</td>\n",
              "      <td>1/01/2002</td>\n",
              "    </tr>\n",
              "    <tr>\n",
              "      <th>5</th>\n",
              "      <td>2003</td>\n",
              "      <td>Acre</td>\n",
              "      <td>January</td>\n",
              "      <td>10</td>\n",
              "      <td>1/01/2003</td>\n",
              "    </tr>\n",
              "    <tr>\n",
              "      <th>6</th>\n",
              "      <td>2004</td>\n",
              "      <td>Acre</td>\n",
              "      <td>January</td>\n",
              "      <td>0</td>\n",
              "      <td>1/01/2004</td>\n",
              "    </tr>\n",
              "    <tr>\n",
              "      <th>7</th>\n",
              "      <td>2005</td>\n",
              "      <td>Acre</td>\n",
              "      <td>January</td>\n",
              "      <td>12</td>\n",
              "      <td>1/01/2005</td>\n",
              "    </tr>\n",
              "    <tr>\n",
              "      <th>8</th>\n",
              "      <td>2006</td>\n",
              "      <td>Acre</td>\n",
              "      <td>January</td>\n",
              "      <td>4</td>\n",
              "      <td>1/01/2006</td>\n",
              "    </tr>\n",
              "    <tr>\n",
              "      <th>9</th>\n",
              "      <td>2007</td>\n",
              "      <td>Acre</td>\n",
              "      <td>January</td>\n",
              "      <td>0</td>\n",
              "      <td>1/01/2007</td>\n",
              "    </tr>\n",
              "  </tbody>\n",
              "</table>\n",
              "</div>"
            ],
            "text/plain": [
              "   Year State    Month  Number of Fires Date Reported\n",
              "0  1998  Acre  January                0     1/01/1998\n",
              "1  1999  Acre  January                0     1/01/1999\n",
              "2  2000  Acre  January                0     1/01/2000\n",
              "3  2001  Acre  January                0     1/01/2001\n",
              "4  2002  Acre  January                0     1/01/2002\n",
              "5  2003  Acre  January               10     1/01/2003\n",
              "6  2004  Acre  January                0     1/01/2004\n",
              "7  2005  Acre  January               12     1/01/2005\n",
              "8  2006  Acre  January                4     1/01/2006\n",
              "9  2007  Acre  January                0     1/01/2007"
            ]
          },
          "metadata": {
            "tags": []
          },
          "execution_count": 5
        }
      ]
    },
    {
      "cell_type": "markdown",
      "metadata": {
        "id": "98uYSjGvdSy_"
      },
      "source": [
        "## TO DO - Activity 3:\n",
        "Find how many rows and columns are there in the dataframe. There are multiple ways this information can be extracted. For e.g. you can use the shape attribute of the dataframe.\n"
      ]
    },
    {
      "cell_type": "code",
      "metadata": {
        "colab": {
          "base_uri": "https://localhost:8080/"
        },
        "id": "eLkzGjecdSy_",
        "outputId": "241528af-9254-46a5-bc0e-09e0a4152daa"
      },
      "source": [
        "#Add Code here for Activity 3 here\n",
        "data.shape"
      ],
      "execution_count": null,
      "outputs": [
        {
          "output_type": "execute_result",
          "data": {
            "text/plain": [
              "(6454, 5)"
            ]
          },
          "metadata": {
            "tags": []
          },
          "execution_count": 6
        }
      ]
    },
    {
      "cell_type": "markdown",
      "metadata": {
        "id": "tRLR0TChdSzA"
      },
      "source": [
        "So how many rows and columns the dataframe have?\n",
        "\n",
        "__Number of Rows =__6454\n",
        "<br>__Number of Columns =__5 "
      ]
    },
    {
      "cell_type": "markdown",
      "metadata": {
        "id": "ErzTJmhCdSzA"
      },
      "source": [
        "## TO DO - Activity 4:\n",
        "Provide the summary statistics for the whole data set i.e. for every columns of the DataFrame.\n",
        "For this you can use the Data Frame method __.describe()__\n",
        "- Note though by default summary statistics are only provided for the numeric columns.\n",
        "- You may have to add __include='all'__ parameter to the method to include statistics for non numeric columns "
      ]
    },
    {
      "cell_type": "code",
      "metadata": {
        "id": "VKFzdd8idSzA",
        "colab": {
          "base_uri": "https://localhost:8080/",
          "height": 297
        },
        "outputId": "f2cbfb59-cf22-445c-9f6b-188b5de29e8f"
      },
      "source": [
        "#Add Code here for Activity 4 here\n",
        "data.describe()"
      ],
      "execution_count": null,
      "outputs": [
        {
          "output_type": "execute_result",
          "data": {
            "text/html": [
              "<div>\n",
              "<style scoped>\n",
              "    .dataframe tbody tr th:only-of-type {\n",
              "        vertical-align: middle;\n",
              "    }\n",
              "\n",
              "    .dataframe tbody tr th {\n",
              "        vertical-align: top;\n",
              "    }\n",
              "\n",
              "    .dataframe thead th {\n",
              "        text-align: right;\n",
              "    }\n",
              "</style>\n",
              "<table border=\"1\" class=\"dataframe\">\n",
              "  <thead>\n",
              "    <tr style=\"text-align: right;\">\n",
              "      <th></th>\n",
              "      <th>Year</th>\n",
              "      <th>Number of Fires</th>\n",
              "    </tr>\n",
              "  </thead>\n",
              "  <tbody>\n",
              "    <tr>\n",
              "      <th>count</th>\n",
              "      <td>6454.000000</td>\n",
              "      <td>6454.000000</td>\n",
              "    </tr>\n",
              "    <tr>\n",
              "      <th>mean</th>\n",
              "      <td>2007.461729</td>\n",
              "      <td>108.235358</td>\n",
              "    </tr>\n",
              "    <tr>\n",
              "      <th>std</th>\n",
              "      <td>5.746654</td>\n",
              "      <td>190.843947</td>\n",
              "    </tr>\n",
              "    <tr>\n",
              "      <th>min</th>\n",
              "      <td>1998.000000</td>\n",
              "      <td>0.000000</td>\n",
              "    </tr>\n",
              "    <tr>\n",
              "      <th>25%</th>\n",
              "      <td>2002.000000</td>\n",
              "      <td>3.000000</td>\n",
              "    </tr>\n",
              "    <tr>\n",
              "      <th>50%</th>\n",
              "      <td>2007.000000</td>\n",
              "      <td>24.000000</td>\n",
              "    </tr>\n",
              "    <tr>\n",
              "      <th>75%</th>\n",
              "      <td>2012.000000</td>\n",
              "      <td>113.000000</td>\n",
              "    </tr>\n",
              "    <tr>\n",
              "      <th>max</th>\n",
              "      <td>2017.000000</td>\n",
              "      <td>998.000000</td>\n",
              "    </tr>\n",
              "  </tbody>\n",
              "</table>\n",
              "</div>"
            ],
            "text/plain": [
              "              Year  Number of Fires\n",
              "count  6454.000000      6454.000000\n",
              "mean   2007.461729       108.235358\n",
              "std       5.746654       190.843947\n",
              "min    1998.000000         0.000000\n",
              "25%    2002.000000         3.000000\n",
              "50%    2007.000000        24.000000\n",
              "75%    2012.000000       113.000000\n",
              "max    2017.000000       998.000000"
            ]
          },
          "metadata": {
            "tags": []
          },
          "execution_count": 13
        }
      ]
    },
    {
      "cell_type": "code",
      "metadata": {
        "colab": {
          "base_uri": "https://localhost:8080/",
          "height": 390
        },
        "id": "cMJMjbpDkxdV",
        "outputId": "2c65b158-dd80-4fd6-f5f7-6b0d043bd260"
      },
      "source": [
        "#Add Code here for Activity 4 here\n",
        "data.describe( include='all')"
      ],
      "execution_count": null,
      "outputs": [
        {
          "output_type": "execute_result",
          "data": {
            "text/html": [
              "<div>\n",
              "<style scoped>\n",
              "    .dataframe tbody tr th:only-of-type {\n",
              "        vertical-align: middle;\n",
              "    }\n",
              "\n",
              "    .dataframe tbody tr th {\n",
              "        vertical-align: top;\n",
              "    }\n",
              "\n",
              "    .dataframe thead th {\n",
              "        text-align: right;\n",
              "    }\n",
              "</style>\n",
              "<table border=\"1\" class=\"dataframe\">\n",
              "  <thead>\n",
              "    <tr style=\"text-align: right;\">\n",
              "      <th></th>\n",
              "      <th>Year</th>\n",
              "      <th>State</th>\n",
              "      <th>Month</th>\n",
              "      <th>Number of Fires</th>\n",
              "      <th>Date Reported</th>\n",
              "    </tr>\n",
              "  </thead>\n",
              "  <tbody>\n",
              "    <tr>\n",
              "      <th>count</th>\n",
              "      <td>6454.000000</td>\n",
              "      <td>6454</td>\n",
              "      <td>6454</td>\n",
              "      <td>6454.000000</td>\n",
              "      <td>6454</td>\n",
              "    </tr>\n",
              "    <tr>\n",
              "      <th>unique</th>\n",
              "      <td>NaN</td>\n",
              "      <td>27</td>\n",
              "      <td>12</td>\n",
              "      <td>NaN</td>\n",
              "      <td>20</td>\n",
              "    </tr>\n",
              "    <tr>\n",
              "      <th>top</th>\n",
              "      <td>NaN</td>\n",
              "      <td>Alagoas</td>\n",
              "      <td>January</td>\n",
              "      <td>NaN</td>\n",
              "      <td>1/01/2014</td>\n",
              "    </tr>\n",
              "    <tr>\n",
              "      <th>freq</th>\n",
              "      <td>NaN</td>\n",
              "      <td>240</td>\n",
              "      <td>541</td>\n",
              "      <td>NaN</td>\n",
              "      <td>324</td>\n",
              "    </tr>\n",
              "    <tr>\n",
              "      <th>mean</th>\n",
              "      <td>2007.461729</td>\n",
              "      <td>NaN</td>\n",
              "      <td>NaN</td>\n",
              "      <td>108.235358</td>\n",
              "      <td>NaN</td>\n",
              "    </tr>\n",
              "    <tr>\n",
              "      <th>std</th>\n",
              "      <td>5.746654</td>\n",
              "      <td>NaN</td>\n",
              "      <td>NaN</td>\n",
              "      <td>190.843947</td>\n",
              "      <td>NaN</td>\n",
              "    </tr>\n",
              "    <tr>\n",
              "      <th>min</th>\n",
              "      <td>1998.000000</td>\n",
              "      <td>NaN</td>\n",
              "      <td>NaN</td>\n",
              "      <td>0.000000</td>\n",
              "      <td>NaN</td>\n",
              "    </tr>\n",
              "    <tr>\n",
              "      <th>25%</th>\n",
              "      <td>2002.000000</td>\n",
              "      <td>NaN</td>\n",
              "      <td>NaN</td>\n",
              "      <td>3.000000</td>\n",
              "      <td>NaN</td>\n",
              "    </tr>\n",
              "    <tr>\n",
              "      <th>50%</th>\n",
              "      <td>2007.000000</td>\n",
              "      <td>NaN</td>\n",
              "      <td>NaN</td>\n",
              "      <td>24.000000</td>\n",
              "      <td>NaN</td>\n",
              "    </tr>\n",
              "    <tr>\n",
              "      <th>75%</th>\n",
              "      <td>2012.000000</td>\n",
              "      <td>NaN</td>\n",
              "      <td>NaN</td>\n",
              "      <td>113.000000</td>\n",
              "      <td>NaN</td>\n",
              "    </tr>\n",
              "    <tr>\n",
              "      <th>max</th>\n",
              "      <td>2017.000000</td>\n",
              "      <td>NaN</td>\n",
              "      <td>NaN</td>\n",
              "      <td>998.000000</td>\n",
              "      <td>NaN</td>\n",
              "    </tr>\n",
              "  </tbody>\n",
              "</table>\n",
              "</div>"
            ],
            "text/plain": [
              "               Year    State    Month  Number of Fires Date Reported\n",
              "count   6454.000000     6454     6454      6454.000000          6454\n",
              "unique          NaN       27       12              NaN            20\n",
              "top             NaN  Alagoas  January              NaN     1/01/2014\n",
              "freq            NaN      240      541              NaN           324\n",
              "mean    2007.461729      NaN      NaN       108.235358           NaN\n",
              "std        5.746654      NaN      NaN       190.843947           NaN\n",
              "min     1998.000000      NaN      NaN         0.000000           NaN\n",
              "25%     2002.000000      NaN      NaN         3.000000           NaN\n",
              "50%     2007.000000      NaN      NaN        24.000000           NaN\n",
              "75%     2012.000000      NaN      NaN       113.000000           NaN\n",
              "max     2017.000000      NaN      NaN       998.000000           NaN"
            ]
          },
          "metadata": {
            "tags": []
          },
          "execution_count": 14
        }
      ]
    },
    {
      "cell_type": "markdown",
      "metadata": {
        "id": "rNBQKREddSzA"
      },
      "source": [
        "## Summarize your findings in this markup cell\n",
        "Add summary analysis here"
      ]
    },
    {
      "cell_type": "markdown",
      "metadata": {
        "id": "-Qsa6IvgdSzB"
      },
      "source": [
        "## Data Aggregation and Data Groupings\n",
        "\n",
        "In this segement we will perform some data aggregation activities.\n",
        "\n",
        "<br>__NOTE:__ We will cover the Data Wrangling activities using Pandas and NumPy in detail in the subsequent module. So in this module code snippet has been provided for you. You simply need to execute the code cell."
      ]
    },
    {
      "cell_type": "markdown",
      "metadata": {
        "id": "wJo5f6XCdSzB"
      },
      "source": [
        "In this section we will now calculate the total number of fires on a month on month basis for the entire period."
      ]
    },
    {
      "cell_type": "code",
      "metadata": {
        "id": "dtR0m_wVdSzB",
        "colab": {
          "base_uri": "https://localhost:8080/"
        },
        "outputId": "c4b4d858-17c8-423e-8346-adeeacaca109"
      },
      "source": [
        "#Grouping the Data on Months Column, and performing the summation on number of fires.\n",
        "ffire_per_month = data.groupby('Month')['Number of Fires'].sum()\n",
        "print(ffire_per_month)"
      ],
      "execution_count": null,
      "outputs": [
        {
          "output_type": "stream",
          "text": [
            "Month\n",
            "April        28188\n",
            "August       87970\n",
            "December     57513\n",
            "February     30848\n",
            "January      47746\n",
            "July         92302\n",
            "June         56003\n",
            "March        30717\n",
            "May          34729\n",
            "November     85471\n",
            "October      88600\n",
            "September    58464\n",
            "Name: Number of Fires, dtype: int64\n"
          ],
          "name": "stdout"
        }
      ]
    },
    {
      "cell_type": "markdown",
      "metadata": {
        "id": "MW2BpX5adSzB"
      },
      "source": [
        "As you can see the data is not arranged in the order of months, by default the Months has been considered as the row index and lexicographically arranged.\n",
        "\n",
        "To rearrange this data we will have perform the reindexing operation on the Pandas Series."
      ]
    },
    {
      "cell_type": "markdown",
      "metadata": {
        "id": "wVpXVXjgdSzC"
      },
      "source": [
        "## TO DO - Activity 5\n",
        "Rearrange the data in the Pandas Series __ffire_per_month__, so that data arranged in the actual order of months i.e. January -> Feb -> March and so on and so forth.\n",
        "\n",
        "1. Create the order list of months \n",
        "2. Using reindex method reindex the Series, remember to pass the order list of months as the parameter to the method\n",
        "3. Store the rearranged data into the variable __ffire_pm_rearranged__\n",
        "\n",
        "__Hint__: Remember in case of Pandas Series we can explicitly pass the order list of index to the reindex method and the data will be arranged accordingly."
      ]
    },
    {
      "cell_type": "code",
      "metadata": {
        "id": "zO5zBzlUdSzC",
        "colab": {
          "base_uri": "https://localhost:8080/"
        },
        "outputId": "028e2c6b-4a36-4444-dc2c-ee886721e4b2"
      },
      "source": [
        "# Add Code for Activity 5 here\n",
        "list_of_months = [\"January\", \"February\", \"March\", \"April\", \"May\", \"June\", \"July\", \"August\", \"September\", \"October\", \"November\", \"December\"]\n",
        "ffire_pm_rearranged = ffire_per_month.reindex(list_of_months)\n",
        "ffire_pm_rearranged"
      ],
      "execution_count": null,
      "outputs": [
        {
          "output_type": "execute_result",
          "data": {
            "text/plain": [
              "Month\n",
              "January      47746\n",
              "February     30848\n",
              "March        30717\n",
              "April        28188\n",
              "May          34729\n",
              "June         56003\n",
              "July         92302\n",
              "August       87970\n",
              "September    58464\n",
              "October      88600\n",
              "November     85471\n",
              "December     57513\n",
              "Name: Number of Fires, dtype: int64"
            ]
          },
          "metadata": {
            "tags": []
          },
          "execution_count": 19
        }
      ]
    },
    {
      "cell_type": "markdown",
      "metadata": {
        "id": "hk6G7n9qdSzD"
      },
      "source": [
        "We will now convert the Pandas Series into DataFrame with two columns Months and Number of Fires, and with defaul index for row labels. Once data has been converted into Pandas DataFrame we will plot the data using the pre-defined method available to you.\n",
        "\n",
        "Below code converts the Pandas Series into a DataFrame and reindex the row labels"
      ]
    },
    {
      "cell_type": "code",
      "metadata": {
        "id": "DxwuAuWhdSzD",
        "colab": {
          "base_uri": "https://localhost:8080/",
          "height": 421
        },
        "outputId": "e1220564-445b-4d5c-8226-c99f9628c970"
      },
      "source": [
        "df_ffire_pm = ffire_pm_rearranged.to_frame()\n",
        "df_ffire_pm.reset_index(level=0, inplace=True)\n",
        "df_ffire_pm"
      ],
      "execution_count": null,
      "outputs": [
        {
          "output_type": "execute_result",
          "data": {
            "text/html": [
              "<div>\n",
              "<style scoped>\n",
              "    .dataframe tbody tr th:only-of-type {\n",
              "        vertical-align: middle;\n",
              "    }\n",
              "\n",
              "    .dataframe tbody tr th {\n",
              "        vertical-align: top;\n",
              "    }\n",
              "\n",
              "    .dataframe thead th {\n",
              "        text-align: right;\n",
              "    }\n",
              "</style>\n",
              "<table border=\"1\" class=\"dataframe\">\n",
              "  <thead>\n",
              "    <tr style=\"text-align: right;\">\n",
              "      <th></th>\n",
              "      <th>Month</th>\n",
              "      <th>Number of Fires</th>\n",
              "    </tr>\n",
              "  </thead>\n",
              "  <tbody>\n",
              "    <tr>\n",
              "      <th>0</th>\n",
              "      <td>January</td>\n",
              "      <td>47746</td>\n",
              "    </tr>\n",
              "    <tr>\n",
              "      <th>1</th>\n",
              "      <td>February</td>\n",
              "      <td>30848</td>\n",
              "    </tr>\n",
              "    <tr>\n",
              "      <th>2</th>\n",
              "      <td>March</td>\n",
              "      <td>30717</td>\n",
              "    </tr>\n",
              "    <tr>\n",
              "      <th>3</th>\n",
              "      <td>April</td>\n",
              "      <td>28188</td>\n",
              "    </tr>\n",
              "    <tr>\n",
              "      <th>4</th>\n",
              "      <td>May</td>\n",
              "      <td>34729</td>\n",
              "    </tr>\n",
              "    <tr>\n",
              "      <th>5</th>\n",
              "      <td>June</td>\n",
              "      <td>56003</td>\n",
              "    </tr>\n",
              "    <tr>\n",
              "      <th>6</th>\n",
              "      <td>July</td>\n",
              "      <td>92302</td>\n",
              "    </tr>\n",
              "    <tr>\n",
              "      <th>7</th>\n",
              "      <td>August</td>\n",
              "      <td>87970</td>\n",
              "    </tr>\n",
              "    <tr>\n",
              "      <th>8</th>\n",
              "      <td>September</td>\n",
              "      <td>58464</td>\n",
              "    </tr>\n",
              "    <tr>\n",
              "      <th>9</th>\n",
              "      <td>October</td>\n",
              "      <td>88600</td>\n",
              "    </tr>\n",
              "    <tr>\n",
              "      <th>10</th>\n",
              "      <td>November</td>\n",
              "      <td>85471</td>\n",
              "    </tr>\n",
              "    <tr>\n",
              "      <th>11</th>\n",
              "      <td>December</td>\n",
              "      <td>57513</td>\n",
              "    </tr>\n",
              "  </tbody>\n",
              "</table>\n",
              "</div>"
            ],
            "text/plain": [
              "        Month  Number of Fires\n",
              "0     January            47746\n",
              "1    February            30848\n",
              "2       March            30717\n",
              "3       April            28188\n",
              "4         May            34729\n",
              "5        June            56003\n",
              "6        July            92302\n",
              "7      August            87970\n",
              "8   September            58464\n",
              "9     October            88600\n",
              "10   November            85471\n",
              "11   December            57513"
            ]
          },
          "metadata": {
            "tags": []
          },
          "execution_count": 20
        }
      ]
    },
    {
      "cell_type": "markdown",
      "metadata": {
        "id": "m13wQ7PWdSzD"
      },
      "source": [
        "## TO DO Activity 6 - Call the Plot Function and Pass the DataFrame as Parameter\n",
        "\n",
        "There is a function that has been defined initially in this notebook. You will now call that function and pass the dataframe __df_ffire_pm__ which you have created in the previous steps.\n",
        "\n",
        "1. Call function __plot_data()__ and pass the DataFrame __df_ffire_pm__ as the parameter of this function\n"
      ]
    },
    {
      "cell_type": "code",
      "metadata": {
        "id": "76iTTsUadSzD",
        "colab": {
          "base_uri": "https://localhost:8080/",
          "height": 946
        },
        "outputId": "2e406bcb-2416-4995-fd1d-b6720a52f347"
      },
      "source": [
        "## Add code for Activity 6 \n",
        "plot_data(df_ffire_pm)"
      ],
      "execution_count": null,
      "outputs": [
        {
          "output_type": "display_data",
          "data": {
            "image/png": "[encoded data removed]",
            "text/plain": [
              "<Figure size 1800x1080 with 1 Axes>"
            ]
          },
          "metadata": {
            "tags": [],
            "needs_background": "light"
          }
        }
      ]
    },
    {
      "cell_type": "markdown",
      "metadata": {
        "id": "m3E4ORIrdSzE"
      },
      "source": [
        "## Summarize the observation from the plot\n",
        "Add summary observation here"
      ]
    },
    {
      "cell_type": "markdown",
      "metadata": {
        "id": "Ez9tNm49dSzE"
      },
      "source": [
        "NOTE:\n",
        "This exercise has covered some very basic data exploration activities on the dataset. There are lot more analysis that can be performed on this data set\n",
        "\n",
        "In our upcoming modules we will go into the details of Data Ingestion, Data Wrangling and Exploratory Data Analysis activities using python"
      ]
    }
  ]
}