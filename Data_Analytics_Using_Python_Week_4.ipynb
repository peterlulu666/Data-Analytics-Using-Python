{
  "nbformat": 4,
  "nbformat_minor": 0,
  "metadata": {
    "colab": {
      "name": "Data_Analytics_Using_Python_Week_4.ipynb",
      "provenance": [],
      "collapsed_sections": [],
      "include_colab_link": true
    },
    "kernelspec": {
      "name": "python3",
      "display_name": "Python 3"
    },
    "language_info": {
      "name": "python"
    }
  },
  "cells": [
    {
      "cell_type": "markdown",
      "metadata": {
        "id": "view-in-github",
        "colab_type": "text"
      },
      "source": [
        "<a href=\"https://colab.research.google.com/github/peterlulu666/Data-Analytics-Using-Python/blob/main/Data_Analytics_Using_Python_Week_4.ipynb\" target=\"_parent\"><img src=\"https://colab.research.google.com/assets/colab-badge.svg\" alt=\"Open In Colab\"/></a>"
      ]
    },
    {
      "cell_type": "markdown",
      "metadata": {
        "id": "QTj7G_z3fuB0"
      },
      "source": [
        "# Reading data in JSON format"
      ]
    },
    {
      "cell_type": "markdown",
      "metadata": {
        "id": "HcGVgPR3fu-q"
      },
      "source": [
        "JSON (Javascript Object Notation) is now a widely used data format in web applications. Almost all of the current APIs transfer data using JSON format. It is a flexible data format in comparison to the tabular data formats like CSVs."
      ]
    },
    {
      "cell_type": "markdown",
      "metadata": {
        "id": "7G0F_Aqzfx3r"
      },
      "source": [
        "## Basic read operation of JSON files"
      ]
    },
    {
      "cell_type": "markdown",
      "metadata": {
        "id": "McMGXGbWhI8p"
      },
      "source": [
        "Pandas has the function read_json() to read JSON formatted data. In its simplest form, you need to specify the location of the JSON data file, and it will be read into a DataFrame.\n",
        "\n",
        "Consider the below sample file having a JSON data format. Make sure you have the file sample_data.json downloaded on your machine:"
      ]
    },
    {
      "cell_type": "markdown",
      "metadata": {
        "id": "zqZoQ_jMhLwo"
      },
      "source": [
        "You may realise that this data representation is very similar to Python’s dictionary notation. In this particular case, the default behaviour would be to consider:\n",
        "\n",
        "- the subkeys (0,1,2, etc) as the row labels.\n",
        "- the top-level keys (Product and Price) as the column labels.\n",
        "\n",
        "The code snippet demonstrates this behaviour: \n",
        "\n",
        "Code:"
      ]
    },
    {
      "cell_type": "code",
      "metadata": {
        "colab": {
          "base_uri": "https://localhost:8080/"
        },
        "id": "G_MkvrPshcRU",
        "outputId": "9680be75-48d2-4e13-ed51-39f85b3ca497"
      },
      "source": [
        "!wget https://github.com/peterlulu666/Data-Analytics-Using-Python/raw/main/dataset.zip\n",
        "!unzip dataset.zip\n",
        "%cd dataset/"
      ],
      "execution_count": null,
      "outputs": [
        {
          "output_type": "stream",
          "text": [
            "--2021-05-12 04:59:34--  https://github.com/peterlulu666/Data-Analytics-Using-Python/raw/main/dataset.zip\n",
            "Resolving github.com (github.com)... 192.30.255.113\n",
            "Connecting to github.com (github.com)|192.30.255.113|:443... connected.\n",
            "HTTP request sent, awaiting response... 302 Found\n",
            "Location: https://raw.githubusercontent.com/peterlulu666/Data-Analytics-Using-Python/main/dataset.zip [following]\n",
            "--2021-05-12 04:59:34--  https://raw.githubusercontent.com/peterlulu666/Data-Analytics-Using-Python/main/dataset.zip\n",
            "Resolving raw.githubusercontent.com (raw.githubusercontent.com)... 185.199.108.133, 185.199.109.133, 185.199.110.133, ...\n",
            "Connecting to raw.githubusercontent.com (raw.githubusercontent.com)|185.199.108.133|:443... connected.\n",
            "HTTP request sent, awaiting response... 200 OK\n",
            "Length: 14938326 (14M) [application/zip]\n",
            "Saving to: ‘dataset.zip’\n",
            "\n",
            "dataset.zip         100%[===================>]  14.25M  48.0MB/s    in 0.3s    \n",
            "\n",
            "2021-05-12 04:59:35 (48.0 MB/s) - ‘dataset.zip’ saved [14938326/14938326]\n",
            "\n",
            "Archive:  dataset.zip\n",
            "  inflating: dataset/file_json_split.json  \n",
            "  inflating: dataset/file_csv_1.csv  \n",
            "  inflating: dataset/file_json_1.json  \n",
            "  inflating: dataset/sample_data_split.json  \n",
            "  inflating: dataset/sample_data_index.json  \n",
            "  inflating: dataset/sample_data1.json  \n",
            "  inflating: dataset/sample_data.json  \n",
            "  inflating: dataset/sample_data_json.txt  \n",
            "  inflating: dataset/sample_data_missingvalues.txt  \n",
            "  inflating: dataset/sample_data_footer.txt  \n",
            "  inflating: dataset/sample_data_comments.txt  \n",
            "  inflating: dataset/sample_data_noheader_space.txt  \n",
            "  inflating: dataset/sample_data_hierarchy.txt  \n",
            "  inflating: dataset/sample_data_noheader.txt  \n",
            "  inflating: dataset/sample_data.txt  \n",
            "  inflating: dataset/sample_data_large.csv  \n",
            "/content/dataset/dataset/dataset/dataset\n"
          ],
          "name": "stdout"
        }
      ]
    },
    {
      "cell_type": "code",
      "metadata": {
        "id": "Ous3VovzhjoV"
      },
      "source": [
        "import pandas as pd\n",
        "import numpy as np"
      ],
      "execution_count": null,
      "outputs": []
    },
    {
      "cell_type": "code",
      "metadata": {
        "colab": {
          "base_uri": "https://localhost:8080/",
          "height": 204
        },
        "id": "64ChDPexhQdI",
        "outputId": "81ab932e-3d20-4614-f1a3-a87fa3760ea4"
      },
      "source": [
        "filename = \"/content/dataset/sample_data.json\"\n",
        "df= pd.read_json(filename)\n",
        "df"
      ],
      "execution_count": null,
      "outputs": [
        {
          "output_type": "execute_result",
          "data": {
            "text/html": [
              "<div>\n",
              "<style scoped>\n",
              "    .dataframe tbody tr th:only-of-type {\n",
              "        vertical-align: middle;\n",
              "    }\n",
              "\n",
              "    .dataframe tbody tr th {\n",
              "        vertical-align: top;\n",
              "    }\n",
              "\n",
              "    .dataframe thead th {\n",
              "        text-align: right;\n",
              "    }\n",
              "</style>\n",
              "<table border=\"1\" class=\"dataframe\">\n",
              "  <thead>\n",
              "    <tr style=\"text-align: right;\">\n",
              "      <th></th>\n",
              "      <th>Product</th>\n",
              "      <th>Price</th>\n",
              "    </tr>\n",
              "  </thead>\n",
              "  <tbody>\n",
              "    <tr>\n",
              "      <th>0</th>\n",
              "      <td>Laptop</td>\n",
              "      <td>1500</td>\n",
              "    </tr>\n",
              "    <tr>\n",
              "      <th>1</th>\n",
              "      <td>Desktop</td>\n",
              "      <td>1000</td>\n",
              "    </tr>\n",
              "    <tr>\n",
              "      <th>2</th>\n",
              "      <td>Tablet</td>\n",
              "      <td>700</td>\n",
              "    </tr>\n",
              "    <tr>\n",
              "      <th>3</th>\n",
              "      <td>iPhone</td>\n",
              "      <td>1800</td>\n",
              "    </tr>\n",
              "    <tr>\n",
              "      <th>4</th>\n",
              "      <td>Android Phone</td>\n",
              "      <td>1200</td>\n",
              "    </tr>\n",
              "  </tbody>\n",
              "</table>\n",
              "</div>"
            ],
            "text/plain": [
              "         Product  Price\n",
              "0         Laptop   1500\n",
              "1        Desktop   1000\n",
              "2         Tablet    700\n",
              "3         iPhone   1800\n",
              "4  Android Phone   1200"
            ]
          },
          "metadata": {
            "tags": []
          },
          "execution_count": 61
        }
      ]
    },
    {
      "cell_type": "markdown",
      "metadata": {
        "id": "k9Jah8loh-qR"
      },
      "source": [
        "Depending on how the data is formatted in JSON, it would have an impact on how the DataFrame is created. By default:\n",
        "\n",
        "- top-level key is considered the Column Name (0,1,2, etc)\n",
        "- key at nested level 1 is considered the Row Label (Price, Product).\n",
        "Consider the following JSON formatted file. Make sure you have the file sample_data_index.json downloaded on your machine:\n",
        "\n",
        "As highlighted, this time ‘0,1,2’ will be the column labels and ‘Price and Product’ will become the row labels.\n",
        "\n",
        "The code snippet demonstrates this.\n",
        "\n",
        "Code:"
      ]
    },
    {
      "cell_type": "code",
      "metadata": {
        "colab": {
          "base_uri": "https://localhost:8080/",
          "height": 111
        },
        "id": "7s1ZtHEgiD20",
        "outputId": "ca3dfed6-afbb-4d55-99d4-cd3ddd30f1f8"
      },
      "source": [
        "filename = \"/content/dataset/sample_data_index.json\"\n",
        "df= pd.read_json(filename)\n",
        "df"
      ],
      "execution_count": null,
      "outputs": [
        {
          "output_type": "execute_result",
          "data": {
            "text/html": [
              "<div>\n",
              "<style scoped>\n",
              "    .dataframe tbody tr th:only-of-type {\n",
              "        vertical-align: middle;\n",
              "    }\n",
              "\n",
              "    .dataframe tbody tr th {\n",
              "        vertical-align: top;\n",
              "    }\n",
              "\n",
              "    .dataframe thead th {\n",
              "        text-align: right;\n",
              "    }\n",
              "</style>\n",
              "<table border=\"1\" class=\"dataframe\">\n",
              "  <thead>\n",
              "    <tr style=\"text-align: right;\">\n",
              "      <th></th>\n",
              "      <th>0</th>\n",
              "      <th>1</th>\n",
              "      <th>2</th>\n",
              "      <th>3</th>\n",
              "      <th>4</th>\n",
              "    </tr>\n",
              "  </thead>\n",
              "  <tbody>\n",
              "    <tr>\n",
              "      <th>Product</th>\n",
              "      <td>Laptop</td>\n",
              "      <td>Desktop</td>\n",
              "      <td>Tablet</td>\n",
              "      <td>iPhone</td>\n",
              "      <td>Android</td>\n",
              "    </tr>\n",
              "    <tr>\n",
              "      <th>Price</th>\n",
              "      <td>1500</td>\n",
              "      <td>1000</td>\n",
              "      <td>700</td>\n",
              "      <td>1800</td>\n",
              "      <td>1200</td>\n",
              "    </tr>\n",
              "  </tbody>\n",
              "</table>\n",
              "</div>"
            ],
            "text/plain": [
              "              0        1       2       3        4\n",
              "Product  Laptop  Desktop  Tablet  iPhone  Android\n",
              "Price      1500     1000     700    1800     1200"
            ]
          },
          "metadata": {
            "tags": []
          },
          "execution_count": 62
        }
      ]
    },
    {
      "cell_type": "markdown",
      "metadata": {
        "id": "EW0OrxLOiMzX"
      },
      "source": [
        "## Data orientation in JSON files"
      ]
    },
    {
      "cell_type": "markdown",
      "metadata": {
        "id": "Drn3EJETiN8V"
      },
      "source": [
        "Data orientation behaviour can be controlled using the parameter orient. This parameter has following possible values:\n",
        "\n",
        "- ‘split’ – dict like {index -> [index], columns -> [columns], data -> [values]}\n",
        "- ‘records’ – list like [{column -> value}, … , {column -> value}]\n",
        "- ‘index’ – dict like {index -> {column -> value}}\n",
        "- ‘columns’ – dict like {column -> {index -> value}}\n",
        "- ‘values’ – only the values array\n",
        "\n",
        "As you can infer from the examples, the default expected orientation is Columns Orientation."
      ]
    },
    {
      "cell_type": "markdown",
      "metadata": {
        "id": "vX1yoJq2iVNO"
      },
      "source": [
        "### Index formatted JSON data"
      ]
    },
    {
      "cell_type": "markdown",
      "metadata": {
        "id": "FRAmtq9yiYVP"
      },
      "source": [
        "In the example, the JSON data is formatted in the index format (ie {row#:{Column: Value}} format) so if we specify the orient=index, we will get the DataFrame in the desired format.\n",
        "\n",
        "Consider the following JSON formatted file we had used previously.The code snippet demonstrates the orient=index specification. \n",
        "\n",
        "Code:"
      ]
    },
    {
      "cell_type": "code",
      "metadata": {
        "colab": {
          "base_uri": "https://localhost:8080/",
          "height": 204
        },
        "id": "SeQL6MRVid2u",
        "outputId": "834f2e1c-a077-4671-b39c-fddaf8e7c5df"
      },
      "source": [
        "df= pd.read_json(filename, orient='index')\n",
        "df"
      ],
      "execution_count": null,
      "outputs": [
        {
          "output_type": "execute_result",
          "data": {
            "text/html": [
              "<div>\n",
              "<style scoped>\n",
              "    .dataframe tbody tr th:only-of-type {\n",
              "        vertical-align: middle;\n",
              "    }\n",
              "\n",
              "    .dataframe tbody tr th {\n",
              "        vertical-align: top;\n",
              "    }\n",
              "\n",
              "    .dataframe thead th {\n",
              "        text-align: right;\n",
              "    }\n",
              "</style>\n",
              "<table border=\"1\" class=\"dataframe\">\n",
              "  <thead>\n",
              "    <tr style=\"text-align: right;\">\n",
              "      <th></th>\n",
              "      <th>Product</th>\n",
              "      <th>Price</th>\n",
              "    </tr>\n",
              "  </thead>\n",
              "  <tbody>\n",
              "    <tr>\n",
              "      <th>0</th>\n",
              "      <td>Laptop</td>\n",
              "      <td>1500</td>\n",
              "    </tr>\n",
              "    <tr>\n",
              "      <th>1</th>\n",
              "      <td>Desktop</td>\n",
              "      <td>1000</td>\n",
              "    </tr>\n",
              "    <tr>\n",
              "      <th>2</th>\n",
              "      <td>Tablet</td>\n",
              "      <td>700</td>\n",
              "    </tr>\n",
              "    <tr>\n",
              "      <th>3</th>\n",
              "      <td>iPhone</td>\n",
              "      <td>1800</td>\n",
              "    </tr>\n",
              "    <tr>\n",
              "      <th>4</th>\n",
              "      <td>Android</td>\n",
              "      <td>1200</td>\n",
              "    </tr>\n",
              "  </tbody>\n",
              "</table>\n",
              "</div>"
            ],
            "text/plain": [
              "   Product  Price\n",
              "0   Laptop   1500\n",
              "1  Desktop   1000\n",
              "2   Tablet    700\n",
              "3   iPhone   1800\n",
              "4  Android   1200"
            ]
          },
          "metadata": {
            "tags": []
          },
          "execution_count": 63
        }
      ]
    },
    {
      "cell_type": "markdown",
      "metadata": {
        "id": "UeJg4itIiiZa"
      },
      "source": [
        "### Split formatted JSON data"
      ]
    },
    {
      "cell_type": "markdown",
      "metadata": {
        "id": "Ker15em4ikQ6"
      },
      "source": [
        "Consider the following JSON formatted file. Make sure you have the file sample_data_split.json downloaded on your machine:You will use the orient=split specification to create the DataFrame properly. The code snippet demonstrates.\n",
        "\n",
        "Code:"
      ]
    },
    {
      "cell_type": "code",
      "metadata": {
        "colab": {
          "base_uri": "https://localhost:8080/",
          "height": 204
        },
        "id": "CmCJ564fivF7",
        "outputId": "8c04a54b-cf2f-44f5-ea8f-27ff6aa0a1fe"
      },
      "source": [
        "filename = \"/content/dataset/sample_data_split.json\"\n",
        "df= pd.read_json(filename, orient='split')\n",
        "df"
      ],
      "execution_count": null,
      "outputs": [
        {
          "output_type": "execute_result",
          "data": {
            "text/html": [
              "<div>\n",
              "<style scoped>\n",
              "    .dataframe tbody tr th:only-of-type {\n",
              "        vertical-align: middle;\n",
              "    }\n",
              "\n",
              "    .dataframe tbody tr th {\n",
              "        vertical-align: top;\n",
              "    }\n",
              "\n",
              "    .dataframe thead th {\n",
              "        text-align: right;\n",
              "    }\n",
              "</style>\n",
              "<table border=\"1\" class=\"dataframe\">\n",
              "  <thead>\n",
              "    <tr style=\"text-align: right;\">\n",
              "      <th></th>\n",
              "      <th>Product</th>\n",
              "      <th>Price</th>\n",
              "    </tr>\n",
              "  </thead>\n",
              "  <tbody>\n",
              "    <tr>\n",
              "      <th>0</th>\n",
              "      <td>Laptop</td>\n",
              "      <td>1500</td>\n",
              "    </tr>\n",
              "    <tr>\n",
              "      <th>1</th>\n",
              "      <td>Desktop</td>\n",
              "      <td>1000</td>\n",
              "    </tr>\n",
              "    <tr>\n",
              "      <th>2</th>\n",
              "      <td>Tablet</td>\n",
              "      <td>700</td>\n",
              "    </tr>\n",
              "    <tr>\n",
              "      <th>3</th>\n",
              "      <td>iPhone</td>\n",
              "      <td>1800</td>\n",
              "    </tr>\n",
              "    <tr>\n",
              "      <th>4</th>\n",
              "      <td>Android</td>\n",
              "      <td>1200</td>\n",
              "    </tr>\n",
              "  </tbody>\n",
              "</table>\n",
              "</div>"
            ],
            "text/plain": [
              "   Product  Price\n",
              "0   Laptop   1500\n",
              "1  Desktop   1000\n",
              "2   Tablet    700\n",
              "3   iPhone   1800\n",
              "4  Android   1200"
            ]
          },
          "metadata": {
            "tags": []
          },
          "execution_count": 64
        }
      ]
    },
    {
      "cell_type": "markdown",
      "metadata": {
        "id": "kc4JRZqni2VY"
      },
      "source": [
        "Numerous variations and customisations may be needed while using the read_json function, depending on the structure of the data in the JSON formatted file. In this section, we have only covered the basics, and for detailed reference of input / output related JSON, please refer to the following link: Go to: [Pandas 0.23.4 documentation](https://pandas.pydata.org/pandas-docs/version/0.23.4/io.html#json) [1]"
      ]
    },
    {
      "cell_type": "markdown",
      "metadata": {
        "id": "udW12F0UkJwG"
      },
      "source": [
        "# Reading HTML and XML data: Web scraping"
      ]
    },
    {
      "cell_type": "markdown",
      "metadata": {
        "id": "UTVEeowwkL_W"
      },
      "source": [
        "At many times, when websites don’t provide downloadable, machine-readable data formats like JSON, XML, and so on, the data might be represented as HTML formatted tables.\n",
        "\n",
        "If this happens, you may need a way to read the HTML tables directly. Pandas have a top-level read_html() function that can accept an HTML string / file / URL and will parse the HTML table into the list of the Pandas DataFrame."
      ]
    },
    {
      "cell_type": "markdown",
      "metadata": {
        "id": "22Ut02RukPu3"
      },
      "source": [
        "## Basic read of HTML files / URLs"
      ]
    },
    {
      "cell_type": "markdown",
      "metadata": {
        "id": "lKhRH1_TkT-L"
      },
      "source": [
        "The read_html() function can be used to read HTML formatted data. Let’s understand this behaviour using an example list from the Federal Deposit Insurance Corporation (FDIC) in the USA. The FDIC is often appointed as a receiver for failed banks and the list we’re using includes information on banks that have failed since 1 October 2000.\n",
        "\n",
        "Go to: [FDIC Failed Bank List](https://www.fdic.gov/resources/resolutions/bank-failures/failed-bank-list/banklist.html) [1]\n",
        "\n",
        "The code snippet demonstrates using the read_html() function;.\n",
        "\n",
        "Code:"
      ]
    },
    {
      "cell_type": "code",
      "metadata": {
        "colab": {
          "base_uri": "https://localhost:8080/"
        },
        "id": "hu6KhfA5ku4r",
        "outputId": "28571c0c-b5ce-4125-f953-f7cdf9676418"
      },
      "source": [
        "url='https://www.fdic.gov/resources/resolutions/bank-failures/failed-bank-list/'\n",
        "dfs = pd.read_html(url)\n",
        "dfs"
      ],
      "execution_count": null,
      "outputs": [
        {
          "output_type": "execute_result",
          "data": {
            "text/plain": [
              "[                         Bank NameBank  ... FundFund\n",
              " 0                    Almena State Bank  ...    10538\n",
              " 1           First City Bank of Florida  ...    10537\n",
              " 2                 The First State Bank  ...    10536\n",
              " 3                   Ericson State Bank  ...    10535\n",
              " 4     City National Bank of New Jersey  ...    10534\n",
              " ..                                 ...  ...      ...\n",
              " 558                 Superior Bank, FSB  ...     6004\n",
              " 559                Malta National Bank  ...     4648\n",
              " 560    First Alliance Bank & Trust Co.  ...     4647\n",
              " 561  National State Bank of Metropolis  ...     4646\n",
              " 562                   Bank of Honolulu  ...     4645\n",
              " \n",
              " [563 rows x 7 columns]]"
            ]
          },
          "metadata": {
            "tags": []
          },
          "execution_count": 65
        }
      ]
    },
    {
      "cell_type": "markdown",
      "metadata": {
        "id": "0RQKw8KalgHK"
      },
      "source": [
        "Based on these results, the following can be observed:\n",
        "\n",
        "- this call has extracted all the 561 data records from the HTML table on the web pages\n",
        "- the output data is in the List Format, and not the DataFrame. This way, if there are multiple HTML tables on the webpage, we would get the list of various data frames.\n",
        "\n",
        "Next, let’s check the type of variable dfs – this should be a list. If we access the first element of the list, this should return a DataFrame.\n",
        "\n",
        "The code snippet highlights this behaviour.\n",
        "\n",
        "Code:"
      ]
    },
    {
      "cell_type": "code",
      "metadata": {
        "colab": {
          "base_uri": "https://localhost:8080/"
        },
        "id": "FlUx1H4Mlk9R",
        "outputId": "19ab96a2-2a1e-4645-b09e-e0fd07dca1ce"
      },
      "source": [
        "type(dfs)"
      ],
      "execution_count": null,
      "outputs": [
        {
          "output_type": "execute_result",
          "data": {
            "text/plain": [
              "list"
            ]
          },
          "metadata": {
            "tags": []
          },
          "execution_count": 66
        }
      ]
    },
    {
      "cell_type": "code",
      "metadata": {
        "colab": {
          "base_uri": "https://localhost:8080/",
          "height": 204
        },
        "id": "a7x57hxclr64",
        "outputId": "851cba10-a69e-40de-a26c-816150eaccd3"
      },
      "source": [
        "df=dfs[0]\n",
        "df.head()"
      ],
      "execution_count": null,
      "outputs": [
        {
          "output_type": "execute_result",
          "data": {
            "text/html": [
              "<div>\n",
              "<style scoped>\n",
              "    .dataframe tbody tr th:only-of-type {\n",
              "        vertical-align: middle;\n",
              "    }\n",
              "\n",
              "    .dataframe tbody tr th {\n",
              "        vertical-align: top;\n",
              "    }\n",
              "\n",
              "    .dataframe thead th {\n",
              "        text-align: right;\n",
              "    }\n",
              "</style>\n",
              "<table border=\"1\" class=\"dataframe\">\n",
              "  <thead>\n",
              "    <tr style=\"text-align: right;\">\n",
              "      <th></th>\n",
              "      <th>Bank NameBank</th>\n",
              "      <th>CityCity</th>\n",
              "      <th>StateSt</th>\n",
              "      <th>CertCert</th>\n",
              "      <th>Acquiring InstitutionAI</th>\n",
              "      <th>Closing DateClosing</th>\n",
              "      <th>FundFund</th>\n",
              "    </tr>\n",
              "  </thead>\n",
              "  <tbody>\n",
              "    <tr>\n",
              "      <th>0</th>\n",
              "      <td>Almena State Bank</td>\n",
              "      <td>Almena</td>\n",
              "      <td>KS</td>\n",
              "      <td>15426</td>\n",
              "      <td>Equity Bank</td>\n",
              "      <td>October 23, 2020</td>\n",
              "      <td>10538</td>\n",
              "    </tr>\n",
              "    <tr>\n",
              "      <th>1</th>\n",
              "      <td>First City Bank of Florida</td>\n",
              "      <td>Fort Walton Beach</td>\n",
              "      <td>FL</td>\n",
              "      <td>16748</td>\n",
              "      <td>United Fidelity Bank, fsb</td>\n",
              "      <td>October 16, 2020</td>\n",
              "      <td>10537</td>\n",
              "    </tr>\n",
              "    <tr>\n",
              "      <th>2</th>\n",
              "      <td>The First State Bank</td>\n",
              "      <td>Barboursville</td>\n",
              "      <td>WV</td>\n",
              "      <td>14361</td>\n",
              "      <td>MVB Bank, Inc.</td>\n",
              "      <td>April 3, 2020</td>\n",
              "      <td>10536</td>\n",
              "    </tr>\n",
              "    <tr>\n",
              "      <th>3</th>\n",
              "      <td>Ericson State Bank</td>\n",
              "      <td>Ericson</td>\n",
              "      <td>NE</td>\n",
              "      <td>18265</td>\n",
              "      <td>Farmers and Merchants Bank</td>\n",
              "      <td>February 14, 2020</td>\n",
              "      <td>10535</td>\n",
              "    </tr>\n",
              "    <tr>\n",
              "      <th>4</th>\n",
              "      <td>City National Bank of New Jersey</td>\n",
              "      <td>Newark</td>\n",
              "      <td>NJ</td>\n",
              "      <td>21111</td>\n",
              "      <td>Industrial Bank</td>\n",
              "      <td>November 1, 2019</td>\n",
              "      <td>10534</td>\n",
              "    </tr>\n",
              "  </tbody>\n",
              "</table>\n",
              "</div>"
            ],
            "text/plain": [
              "                      Bank NameBank  ... FundFund\n",
              "0                 Almena State Bank  ...    10538\n",
              "1        First City Bank of Florida  ...    10537\n",
              "2              The First State Bank  ...    10536\n",
              "3                Ericson State Bank  ...    10535\n",
              "4  City National Bank of New Jersey  ...    10534\n",
              "\n",
              "[5 rows x 7 columns]"
            ]
          },
          "metadata": {
            "tags": []
          },
          "execution_count": 67
        }
      ]
    },
    {
      "cell_type": "markdown",
      "metadata": {
        "id": "2iA-jwNtl_0m"
      },
      "source": [
        "Next, try inputting the code shown below and check what could be the possible return? \n",
        "\n",
        "Code:"
      ]
    },
    {
      "cell_type": "code",
      "metadata": {
        "colab": {
          "base_uri": "https://localhost:8080/",
          "height": 390
        },
        "id": "RgvFmS4Ul_Um",
        "outputId": "a4920aa5-d3bc-4baa-9784-49a183d5e7ca"
      },
      "source": [
        "df.describe(include=\"all\")"
      ],
      "execution_count": null,
      "outputs": [
        {
          "output_type": "execute_result",
          "data": {
            "text/html": [
              "<div>\n",
              "<style scoped>\n",
              "    .dataframe tbody tr th:only-of-type {\n",
              "        vertical-align: middle;\n",
              "    }\n",
              "\n",
              "    .dataframe tbody tr th {\n",
              "        vertical-align: top;\n",
              "    }\n",
              "\n",
              "    .dataframe thead th {\n",
              "        text-align: right;\n",
              "    }\n",
              "</style>\n",
              "<table border=\"1\" class=\"dataframe\">\n",
              "  <thead>\n",
              "    <tr style=\"text-align: right;\">\n",
              "      <th></th>\n",
              "      <th>Bank NameBank</th>\n",
              "      <th>CityCity</th>\n",
              "      <th>StateSt</th>\n",
              "      <th>CertCert</th>\n",
              "      <th>Acquiring InstitutionAI</th>\n",
              "      <th>Closing DateClosing</th>\n",
              "      <th>FundFund</th>\n",
              "    </tr>\n",
              "  </thead>\n",
              "  <tbody>\n",
              "    <tr>\n",
              "      <th>count</th>\n",
              "      <td>563</td>\n",
              "      <td>563</td>\n",
              "      <td>563</td>\n",
              "      <td>563.000000</td>\n",
              "      <td>563</td>\n",
              "      <td>563</td>\n",
              "      <td>563.000000</td>\n",
              "    </tr>\n",
              "    <tr>\n",
              "      <th>unique</th>\n",
              "      <td>546</td>\n",
              "      <td>433</td>\n",
              "      <td>44</td>\n",
              "      <td>NaN</td>\n",
              "      <td>297</td>\n",
              "      <td>258</td>\n",
              "      <td>NaN</td>\n",
              "    </tr>\n",
              "    <tr>\n",
              "      <th>top</th>\n",
              "      <td>Horizon Bank</td>\n",
              "      <td>Chicago</td>\n",
              "      <td>GA</td>\n",
              "      <td>NaN</td>\n",
              "      <td>No Acquirer</td>\n",
              "      <td>October 30, 2009</td>\n",
              "      <td>NaN</td>\n",
              "    </tr>\n",
              "    <tr>\n",
              "      <th>freq</th>\n",
              "      <td>3</td>\n",
              "      <td>20</td>\n",
              "      <td>93</td>\n",
              "      <td>NaN</td>\n",
              "      <td>31</td>\n",
              "      <td>9</td>\n",
              "      <td>NaN</td>\n",
              "    </tr>\n",
              "    <tr>\n",
              "      <th>mean</th>\n",
              "      <td>NaN</td>\n",
              "      <td>NaN</td>\n",
              "      <td>NaN</td>\n",
              "      <td>31630.271758</td>\n",
              "      <td>NaN</td>\n",
              "      <td>NaN</td>\n",
              "      <td>10036.875666</td>\n",
              "    </tr>\n",
              "    <tr>\n",
              "      <th>std</th>\n",
              "      <td>NaN</td>\n",
              "      <td>NaN</td>\n",
              "      <td>NaN</td>\n",
              "      <td>16443.670177</td>\n",
              "      <td>NaN</td>\n",
              "      <td>NaN</td>\n",
              "      <td>1115.338358</td>\n",
              "    </tr>\n",
              "    <tr>\n",
              "      <th>min</th>\n",
              "      <td>NaN</td>\n",
              "      <td>NaN</td>\n",
              "      <td>NaN</td>\n",
              "      <td>91.000000</td>\n",
              "      <td>NaN</td>\n",
              "      <td>NaN</td>\n",
              "      <td>4645.000000</td>\n",
              "    </tr>\n",
              "    <tr>\n",
              "      <th>25%</th>\n",
              "      <td>NaN</td>\n",
              "      <td>NaN</td>\n",
              "      <td>NaN</td>\n",
              "      <td>20096.500000</td>\n",
              "      <td>NaN</td>\n",
              "      <td>NaN</td>\n",
              "      <td>10116.500000</td>\n",
              "    </tr>\n",
              "    <tr>\n",
              "      <th>50%</th>\n",
              "      <td>NaN</td>\n",
              "      <td>NaN</td>\n",
              "      <td>NaN</td>\n",
              "      <td>32165.000000</td>\n",
              "      <td>NaN</td>\n",
              "      <td>NaN</td>\n",
              "      <td>10257.000000</td>\n",
              "    </tr>\n",
              "    <tr>\n",
              "      <th>75%</th>\n",
              "      <td>NaN</td>\n",
              "      <td>NaN</td>\n",
              "      <td>NaN</td>\n",
              "      <td>35364.000000</td>\n",
              "      <td>NaN</td>\n",
              "      <td>NaN</td>\n",
              "      <td>10397.500000</td>\n",
              "    </tr>\n",
              "    <tr>\n",
              "      <th>max</th>\n",
              "      <td>NaN</td>\n",
              "      <td>NaN</td>\n",
              "      <td>NaN</td>\n",
              "      <td>58701.000000</td>\n",
              "      <td>NaN</td>\n",
              "      <td>NaN</td>\n",
              "      <td>10538.000000</td>\n",
              "    </tr>\n",
              "  </tbody>\n",
              "</table>\n",
              "</div>"
            ],
            "text/plain": [
              "       Bank NameBank CityCity  ... Closing DateClosing      FundFund\n",
              "count            563      563  ...                 563    563.000000\n",
              "unique           546      433  ...                 258           NaN\n",
              "top     Horizon Bank  Chicago  ...    October 30, 2009           NaN\n",
              "freq               3       20  ...                   9           NaN\n",
              "mean             NaN      NaN  ...                 NaN  10036.875666\n",
              "std              NaN      NaN  ...                 NaN   1115.338358\n",
              "min              NaN      NaN  ...                 NaN   4645.000000\n",
              "25%              NaN      NaN  ...                 NaN  10116.500000\n",
              "50%              NaN      NaN  ...                 NaN  10257.000000\n",
              "75%              NaN      NaN  ...                 NaN  10397.500000\n",
              "max              NaN      NaN  ...                 NaN  10538.000000\n",
              "\n",
              "[11 rows x 7 columns]"
            ]
          },
          "metadata": {
            "tags": []
          },
          "execution_count": 68
        }
      ]
    },
    {
      "cell_type": "markdown",
      "metadata": {
        "id": "GyxrfW3TmugY"
      },
      "source": [
        "We have seen in read_csv and read_json functions that there are numerous configuration parameters that control how the data is read, and the same is true with the read_html() function as well. We will explore some of the standard specifications next:\n",
        "\n",
        "- specifying the row index\n",
        "- specifying the header value\n",
        "- specifying the number of rows to be skipped"
      ]
    },
    {
      "cell_type": "markdown",
      "metadata": {
        "id": "sbYGoa7hmxMR"
      },
      "source": [
        "## Specifying the row index"
      ]
    },
    {
      "cell_type": "markdown",
      "metadata": {
        "id": "f-B1Zn51mzbh"
      },
      "source": [
        "This can be done by using the index_col parameter and specifying the column name or index of the columns as the row label. In the example, we will use the first column as the row index, and we will pass the value 0 to this parameter. The code snippet demonstrates using the index_col parameter.\n",
        "\n",
        "Code:"
      ]
    },
    {
      "cell_type": "code",
      "metadata": {
        "colab": {
          "base_uri": "https://localhost:8080/",
          "height": 450
        },
        "id": "qjhXTAZ8m29P",
        "outputId": "f9681a3b-1049-418c-fe89-43f75bdd8964"
      },
      "source": [
        "url='https://www.fdic.gov/resources/resolutions/bank-failures/failed-bank-list/'\n",
        "dfs = pd.read_html(url,index_col=0)\n",
        "df=dfs[0] #first element of list is a dataframe\n",
        "df"
      ],
      "execution_count": null,
      "outputs": [
        {
          "output_type": "execute_result",
          "data": {
            "text/html": [
              "<div>\n",
              "<style scoped>\n",
              "    .dataframe tbody tr th:only-of-type {\n",
              "        vertical-align: middle;\n",
              "    }\n",
              "\n",
              "    .dataframe tbody tr th {\n",
              "        vertical-align: top;\n",
              "    }\n",
              "\n",
              "    .dataframe thead th {\n",
              "        text-align: right;\n",
              "    }\n",
              "</style>\n",
              "<table border=\"1\" class=\"dataframe\">\n",
              "  <thead>\n",
              "    <tr style=\"text-align: right;\">\n",
              "      <th></th>\n",
              "      <th>CityCity</th>\n",
              "      <th>StateSt</th>\n",
              "      <th>CertCert</th>\n",
              "      <th>Acquiring InstitutionAI</th>\n",
              "      <th>Closing DateClosing</th>\n",
              "      <th>FundFund</th>\n",
              "    </tr>\n",
              "    <tr>\n",
              "      <th>Bank NameBank</th>\n",
              "      <th></th>\n",
              "      <th></th>\n",
              "      <th></th>\n",
              "      <th></th>\n",
              "      <th></th>\n",
              "      <th></th>\n",
              "    </tr>\n",
              "  </thead>\n",
              "  <tbody>\n",
              "    <tr>\n",
              "      <th>Almena State Bank</th>\n",
              "      <td>Almena</td>\n",
              "      <td>KS</td>\n",
              "      <td>15426</td>\n",
              "      <td>Equity Bank</td>\n",
              "      <td>October 23, 2020</td>\n",
              "      <td>10538</td>\n",
              "    </tr>\n",
              "    <tr>\n",
              "      <th>First City Bank of Florida</th>\n",
              "      <td>Fort Walton Beach</td>\n",
              "      <td>FL</td>\n",
              "      <td>16748</td>\n",
              "      <td>United Fidelity Bank, fsb</td>\n",
              "      <td>October 16, 2020</td>\n",
              "      <td>10537</td>\n",
              "    </tr>\n",
              "    <tr>\n",
              "      <th>The First State Bank</th>\n",
              "      <td>Barboursville</td>\n",
              "      <td>WV</td>\n",
              "      <td>14361</td>\n",
              "      <td>MVB Bank, Inc.</td>\n",
              "      <td>April 3, 2020</td>\n",
              "      <td>10536</td>\n",
              "    </tr>\n",
              "    <tr>\n",
              "      <th>Ericson State Bank</th>\n",
              "      <td>Ericson</td>\n",
              "      <td>NE</td>\n",
              "      <td>18265</td>\n",
              "      <td>Farmers and Merchants Bank</td>\n",
              "      <td>February 14, 2020</td>\n",
              "      <td>10535</td>\n",
              "    </tr>\n",
              "    <tr>\n",
              "      <th>City National Bank of New Jersey</th>\n",
              "      <td>Newark</td>\n",
              "      <td>NJ</td>\n",
              "      <td>21111</td>\n",
              "      <td>Industrial Bank</td>\n",
              "      <td>November 1, 2019</td>\n",
              "      <td>10534</td>\n",
              "    </tr>\n",
              "    <tr>\n",
              "      <th>...</th>\n",
              "      <td>...</td>\n",
              "      <td>...</td>\n",
              "      <td>...</td>\n",
              "      <td>...</td>\n",
              "      <td>...</td>\n",
              "      <td>...</td>\n",
              "    </tr>\n",
              "    <tr>\n",
              "      <th>Superior Bank, FSB</th>\n",
              "      <td>Hinsdale</td>\n",
              "      <td>IL</td>\n",
              "      <td>32646</td>\n",
              "      <td>Superior Federal, FSB</td>\n",
              "      <td>July 27, 2001</td>\n",
              "      <td>6004</td>\n",
              "    </tr>\n",
              "    <tr>\n",
              "      <th>Malta National Bank</th>\n",
              "      <td>Malta</td>\n",
              "      <td>OH</td>\n",
              "      <td>6629</td>\n",
              "      <td>North Valley Bank</td>\n",
              "      <td>May 3, 2001</td>\n",
              "      <td>4648</td>\n",
              "    </tr>\n",
              "    <tr>\n",
              "      <th>First Alliance Bank &amp; Trust Co.</th>\n",
              "      <td>Manchester</td>\n",
              "      <td>NH</td>\n",
              "      <td>34264</td>\n",
              "      <td>Southern New Hampshire Bank &amp; Trust</td>\n",
              "      <td>February 2, 2001</td>\n",
              "      <td>4647</td>\n",
              "    </tr>\n",
              "    <tr>\n",
              "      <th>National State Bank of Metropolis</th>\n",
              "      <td>Metropolis</td>\n",
              "      <td>IL</td>\n",
              "      <td>3815</td>\n",
              "      <td>Banterra Bank of Marion</td>\n",
              "      <td>December 14, 2000</td>\n",
              "      <td>4646</td>\n",
              "    </tr>\n",
              "    <tr>\n",
              "      <th>Bank of Honolulu</th>\n",
              "      <td>Honolulu</td>\n",
              "      <td>HI</td>\n",
              "      <td>21029</td>\n",
              "      <td>Bank of the Orient</td>\n",
              "      <td>October 13, 2000</td>\n",
              "      <td>4645</td>\n",
              "    </tr>\n",
              "  </tbody>\n",
              "</table>\n",
              "<p>563 rows × 6 columns</p>\n",
              "</div>"
            ],
            "text/plain": [
              "                                            CityCity  ... FundFund\n",
              "Bank NameBank                                         ...         \n",
              "Almena State Bank                             Almena  ...    10538\n",
              "First City Bank of Florida         Fort Walton Beach  ...    10537\n",
              "The First State Bank                   Barboursville  ...    10536\n",
              "Ericson State Bank                           Ericson  ...    10535\n",
              "City National Bank of New Jersey              Newark  ...    10534\n",
              "...                                              ...  ...      ...\n",
              "Superior Bank, FSB                          Hinsdale  ...     6004\n",
              "Malta National Bank                            Malta  ...     4648\n",
              "First Alliance Bank & Trust Co.           Manchester  ...     4647\n",
              "National State Bank of Metropolis         Metropolis  ...     4646\n",
              "Bank of Honolulu                            Honolulu  ...     4645\n",
              "\n",
              "[563 rows x 6 columns]"
            ]
          },
          "metadata": {
            "tags": []
          },
          "execution_count": 69
        }
      ]
    },
    {
      "cell_type": "markdown",
      "metadata": {
        "id": "JqNw9OChneeU"
      },
      "source": [
        "The code snippet shows how we can access the records using the row label (bank names). \n",
        "\n",
        "Code:"
      ]
    },
    {
      "cell_type": "code",
      "metadata": {
        "colab": {
          "base_uri": "https://localhost:8080/",
          "height": 173
        },
        "id": "Lt7xdjHqng0p",
        "outputId": "ec5f9a28-f604-40f4-974b-7cec6a030835"
      },
      "source": [
        "df.loc['The First State Bank']"
      ],
      "execution_count": null,
      "outputs": [
        {
          "output_type": "execute_result",
          "data": {
            "text/html": [
              "<div>\n",
              "<style scoped>\n",
              "    .dataframe tbody tr th:only-of-type {\n",
              "        vertical-align: middle;\n",
              "    }\n",
              "\n",
              "    .dataframe tbody tr th {\n",
              "        vertical-align: top;\n",
              "    }\n",
              "\n",
              "    .dataframe thead th {\n",
              "        text-align: right;\n",
              "    }\n",
              "</style>\n",
              "<table border=\"1\" class=\"dataframe\">\n",
              "  <thead>\n",
              "    <tr style=\"text-align: right;\">\n",
              "      <th></th>\n",
              "      <th>CityCity</th>\n",
              "      <th>StateSt</th>\n",
              "      <th>CertCert</th>\n",
              "      <th>Acquiring InstitutionAI</th>\n",
              "      <th>Closing DateClosing</th>\n",
              "      <th>FundFund</th>\n",
              "    </tr>\n",
              "    <tr>\n",
              "      <th>Bank NameBank</th>\n",
              "      <th></th>\n",
              "      <th></th>\n",
              "      <th></th>\n",
              "      <th></th>\n",
              "      <th></th>\n",
              "      <th></th>\n",
              "    </tr>\n",
              "  </thead>\n",
              "  <tbody>\n",
              "    <tr>\n",
              "      <th>The First State Bank</th>\n",
              "      <td>Barboursville</td>\n",
              "      <td>WV</td>\n",
              "      <td>14361</td>\n",
              "      <td>MVB Bank, Inc.</td>\n",
              "      <td>April 3, 2020</td>\n",
              "      <td>10536</td>\n",
              "    </tr>\n",
              "    <tr>\n",
              "      <th>The First State Bank</th>\n",
              "      <td>Stockbridge</td>\n",
              "      <td>GA</td>\n",
              "      <td>19252</td>\n",
              "      <td>Hamilton State Bank</td>\n",
              "      <td>January 20, 2012</td>\n",
              "      <td>10419</td>\n",
              "    </tr>\n",
              "    <tr>\n",
              "      <th>The First State Bank</th>\n",
              "      <td>Camargo</td>\n",
              "      <td>OK</td>\n",
              "      <td>2303</td>\n",
              "      <td>Bank 7</td>\n",
              "      <td>January 28, 2011</td>\n",
              "      <td>10335</td>\n",
              "    </tr>\n",
              "  </tbody>\n",
              "</table>\n",
              "</div>"
            ],
            "text/plain": [
              "                           CityCity StateSt  ...  Closing DateClosing FundFund\n",
              "Bank NameBank                                ...                              \n",
              "The First State Bank  Barboursville      WV  ...        April 3, 2020    10536\n",
              "The First State Bank    Stockbridge      GA  ...     January 20, 2012    10419\n",
              "The First State Bank        Camargo      OK  ...     January 28, 2011    10335\n",
              "\n",
              "[3 rows x 6 columns]"
            ]
          },
          "metadata": {
            "tags": []
          },
          "execution_count": 70
        }
      ]
    },
    {
      "cell_type": "code",
      "metadata": {
        "colab": {
          "base_uri": "https://localhost:8080/",
          "height": 504
        },
        "id": "P-VToYc4nqbv",
        "outputId": "c159e66a-93c3-4281-9d0e-76b3f299f113"
      },
      "source": [
        "url='https://www.fdic.gov/resources/resolutions/bank-failures/failed-bank-list/'\n",
        "dfs = pd.read_html(url,skiprows=10)\n",
        "df=dfs[0] #first element of list is a dataframe\n",
        "df"
      ],
      "execution_count": null,
      "outputs": [
        {
          "output_type": "execute_result",
          "data": {
            "text/html": [
              "<div>\n",
              "<style scoped>\n",
              "    .dataframe tbody tr th:only-of-type {\n",
              "        vertical-align: middle;\n",
              "    }\n",
              "\n",
              "    .dataframe tbody tr th {\n",
              "        vertical-align: top;\n",
              "    }\n",
              "\n",
              "    .dataframe thead th {\n",
              "        text-align: right;\n",
              "    }\n",
              "</style>\n",
              "<table border=\"1\" class=\"dataframe\">\n",
              "  <thead>\n",
              "    <tr style=\"text-align: right;\">\n",
              "      <th></th>\n",
              "      <th>The Farmers and Merchants State Bank of Argonia</th>\n",
              "      <th>Argonia</th>\n",
              "      <th>KS</th>\n",
              "      <th>17719</th>\n",
              "      <th>Conway Bank</th>\n",
              "      <th>October 13, 2017</th>\n",
              "      <th>10529</th>\n",
              "    </tr>\n",
              "  </thead>\n",
              "  <tbody>\n",
              "    <tr>\n",
              "      <th>0</th>\n",
              "      <td>Fayette County Bank</td>\n",
              "      <td>Saint Elmo</td>\n",
              "      <td>IL</td>\n",
              "      <td>1802</td>\n",
              "      <td>United Fidelity Bank, fsb</td>\n",
              "      <td>May 26, 2017</td>\n",
              "      <td>10528</td>\n",
              "    </tr>\n",
              "    <tr>\n",
              "      <th>1</th>\n",
              "      <td>Guaranty Bank, (d/b/a BestBank in Georgia &amp; Mi...</td>\n",
              "      <td>Milwaukee</td>\n",
              "      <td>WI</td>\n",
              "      <td>30003</td>\n",
              "      <td>First-Citizens Bank &amp; Trust Company</td>\n",
              "      <td>May 5, 2017</td>\n",
              "      <td>10527</td>\n",
              "    </tr>\n",
              "    <tr>\n",
              "      <th>2</th>\n",
              "      <td>First NBC Bank</td>\n",
              "      <td>New Orleans</td>\n",
              "      <td>LA</td>\n",
              "      <td>58302</td>\n",
              "      <td>Whitney Bank</td>\n",
              "      <td>April 28, 2017</td>\n",
              "      <td>10526</td>\n",
              "    </tr>\n",
              "    <tr>\n",
              "      <th>3</th>\n",
              "      <td>Proficio Bank</td>\n",
              "      <td>Cottonwood Heights</td>\n",
              "      <td>UT</td>\n",
              "      <td>35495</td>\n",
              "      <td>Cache Valley Bank</td>\n",
              "      <td>March 3, 2017</td>\n",
              "      <td>10525</td>\n",
              "    </tr>\n",
              "    <tr>\n",
              "      <th>4</th>\n",
              "      <td>Seaway Bank and Trust Company</td>\n",
              "      <td>Chicago</td>\n",
              "      <td>IL</td>\n",
              "      <td>19328</td>\n",
              "      <td>State Bank of Texas</td>\n",
              "      <td>January 27, 2017</td>\n",
              "      <td>10524</td>\n",
              "    </tr>\n",
              "    <tr>\n",
              "      <th>...</th>\n",
              "      <td>...</td>\n",
              "      <td>...</td>\n",
              "      <td>...</td>\n",
              "      <td>...</td>\n",
              "      <td>...</td>\n",
              "      <td>...</td>\n",
              "      <td>...</td>\n",
              "    </tr>\n",
              "    <tr>\n",
              "      <th>548</th>\n",
              "      <td>Superior Bank, FSB</td>\n",
              "      <td>Hinsdale</td>\n",
              "      <td>IL</td>\n",
              "      <td>32646</td>\n",
              "      <td>Superior Federal, FSB</td>\n",
              "      <td>July 27, 2001</td>\n",
              "      <td>6004</td>\n",
              "    </tr>\n",
              "    <tr>\n",
              "      <th>549</th>\n",
              "      <td>Malta National Bank</td>\n",
              "      <td>Malta</td>\n",
              "      <td>OH</td>\n",
              "      <td>6629</td>\n",
              "      <td>North Valley Bank</td>\n",
              "      <td>May 3, 2001</td>\n",
              "      <td>4648</td>\n",
              "    </tr>\n",
              "    <tr>\n",
              "      <th>550</th>\n",
              "      <td>First Alliance Bank &amp; Trust Co.</td>\n",
              "      <td>Manchester</td>\n",
              "      <td>NH</td>\n",
              "      <td>34264</td>\n",
              "      <td>Southern New Hampshire Bank &amp; Trust</td>\n",
              "      <td>February 2, 2001</td>\n",
              "      <td>4647</td>\n",
              "    </tr>\n",
              "    <tr>\n",
              "      <th>551</th>\n",
              "      <td>National State Bank of Metropolis</td>\n",
              "      <td>Metropolis</td>\n",
              "      <td>IL</td>\n",
              "      <td>3815</td>\n",
              "      <td>Banterra Bank of Marion</td>\n",
              "      <td>December 14, 2000</td>\n",
              "      <td>4646</td>\n",
              "    </tr>\n",
              "    <tr>\n",
              "      <th>552</th>\n",
              "      <td>Bank of Honolulu</td>\n",
              "      <td>Honolulu</td>\n",
              "      <td>HI</td>\n",
              "      <td>21029</td>\n",
              "      <td>Bank of the Orient</td>\n",
              "      <td>October 13, 2000</td>\n",
              "      <td>4645</td>\n",
              "    </tr>\n",
              "  </tbody>\n",
              "</table>\n",
              "<p>553 rows × 7 columns</p>\n",
              "</div>"
            ],
            "text/plain": [
              "       The Farmers and Merchants State Bank of Argonia  ...  10529\n",
              "0                                  Fayette County Bank  ...  10528\n",
              "1    Guaranty Bank, (d/b/a BestBank in Georgia & Mi...  ...  10527\n",
              "2                                       First NBC Bank  ...  10526\n",
              "3                                        Proficio Bank  ...  10525\n",
              "4                        Seaway Bank and Trust Company  ...  10524\n",
              "..                                                 ...  ...    ...\n",
              "548                                 Superior Bank, FSB  ...   6004\n",
              "549                                Malta National Bank  ...   4648\n",
              "550                    First Alliance Bank & Trust Co.  ...   4647\n",
              "551                  National State Bank of Metropolis  ...   4646\n",
              "552                                   Bank of Honolulu  ...   4645\n",
              "\n",
              "[553 rows x 7 columns]"
            ]
          },
          "metadata": {
            "tags": []
          },
          "execution_count": 71
        }
      ]
    },
    {
      "cell_type": "markdown",
      "metadata": {
        "id": "BcIGBSHvpqQZ"
      },
      "source": [
        "# Reading SQL data from database servers"
      ]
    },
    {
      "cell_type": "markdown",
      "metadata": {
        "id": "vLkJFE_qpre3"
      },
      "source": [
        "In real-life applications, most of the time data is stored in the SQL-based relational databases such as MySQL, SQL Server, PostgreSQL, and so on, and various non-SQL databases like NoSQL, MongoDB, and so on.\n",
        "\n",
        "The database in use is dependent on various architectural factors, and Python provides the mechanisms to read the data from the databases directly. This loading of data from SQL to Pandas is relatively straightforward once the connection to the database is established because both the SQL tables and DataFrame have similar constructs; that is, row labels and column labels.\n",
        "\n",
        "In the next course, we go into the details of database designs, data definition, and data manipulation language, as well as SQL operations, to read the databases and perform various analytics activities.\n",
        "\n",
        "For this section, we will leverage an in-memory SQLite database using Python’s built-in SQLite3 server. The focus of this session will be to read the data from the existing tables only. Run the following code by creating a dummy database and data in it. \n",
        "\n",
        "Code:"
      ]
    },
    {
      "cell_type": "code",
      "metadata": {
        "id": "O2emaDc1pwDT"
      },
      "source": [
        "import sqlite3\n",
        "\n",
        "query=\"\"\"\n",
        "CREATE TABLE PERSON(\n",
        "FirstName VARCHAR(20),\n",
        "LastName VARCHAR(20),\n",
        "Age INTEGER,\n",
        "City VARCHAR(20),\n",
        "Country VARCHAR(20)\n",
        ");\n",
        "\"\"\"\n",
        "con = sqlite3.connect(':memory:')\n",
        "con.execute(query)\n",
        "con.commit()\n",
        "\n",
        "data = [('John', 'Adams', 34, 'New York', 'USA'),\n",
        "('John', 'Mathews', 34, 'Berlin', 'Germany'),\n",
        "('John', 'Abraham', 44, 'Paris', 'France'),\n",
        "('Manoj', 'Sharma', 31, 'Delhi', 'India'),\n",
        "('Pramod', 'Saini', 34, 'New York', 'USA'),\n",
        "('Mark', 'Rolton', 42, 'Brisbane', 'Australia')]\n",
        "\n",
        "stmt = \"INSERT into Person VALUES(?,?,?,?,?)\"\n",
        "con.executemany(stmt, data)\n",
        "con.commit()"
      ],
      "execution_count": null,
      "outputs": []
    },
    {
      "cell_type": "markdown",
      "metadata": {
        "id": "y_-a5gVUrunP"
      },
      "source": [
        "## Reading data from SQL database"
      ]
    },
    {
      "cell_type": "markdown",
      "metadata": {
        "id": "OiOmDGROrvh2"
      },
      "source": [
        "We have created a table named Person in SQLite3, an in-memory database available with Python 3. We will explore how to access the data from this database table.\n",
        "\n",
        "In general, execute the following steps when you want to connect and access a database from any database via any programming language:\n",
        "\n",
        "- Create a connection object with the database, also known as a connection string.\n",
        "- Draft the SQL Query execution on that connection.\n",
        "- Using the Execute Method provided by that Programming Language, run the query over the connection created.\n",
        "\n",
        "For Python, we have a read_sql() method provided by Pandas in the pandas.io.sql module. We will leverage that to read the data from the database table Person.\n",
        "\n",
        "See the code snippet below where we perform the above three activities, and read the data from the table named Person. \n",
        "\n",
        "Code:"
      ]
    },
    {
      "cell_type": "code",
      "metadata": {
        "id": "r1e6MfndsPQi"
      },
      "source": [
        "import pandas.io.sql as sql\n",
        "# Next, Create Connection Object or use Previously created connection object\n",
        "con = sqlite3.connect(':memory:')\n",
        "# then, create a query that needs to be executed\n",
        "query = 'SELECT * from PERSON'\n",
        "# lastly, execute the Query using read_sql function, and passing the query and connection objects\n",
        "df = pd.read_sql(query, con)\n",
        "df"
      ],
      "execution_count": null,
      "outputs": []
    },
    {
      "cell_type": "markdown",
      "metadata": {
        "id": "NxaRmHDGtEr7"
      },
      "source": [
        "# Writing data to files (CSV, JSON)"
      ]
    },
    {
      "cell_type": "markdown",
      "metadata": {
        "id": "gXcAOZ0V8kgr"
      },
      "source": [
        "So far, we have used various functions to read the data from files into Pandas DataFrame. There may be scenarios where we may have to write the data back into files. Pandas provide the functions to write the data back into files. In this section, we will look at the following two functions:\n",
        "\n",
        "- to_csv() -> this method can create a CSV file based on the data in the DataFrame.\n",
        "- to_json() -> this method can create a JSON file based on the data in the DataFrame."
      ]
    },
    {
      "cell_type": "markdown",
      "metadata": {
        "id": "0WV5dqI-8pYg"
      },
      "source": [
        "## Writing a CSV file"
      ]
    },
    {
      "cell_type": "markdown",
      "metadata": {
        "id": "aCzH90nq8q8H"
      },
      "source": [
        "The code snippet shows where we will create a CSV file using the function read_csv() function on a DataFrame.\n",
        "\n",
        "Code:"
      ]
    },
    {
      "cell_type": "code",
      "metadata": {
        "id": "MQrREPXW8t3w"
      },
      "source": [
        "df"
      ],
      "execution_count": null,
      "outputs": []
    },
    {
      "cell_type": "code",
      "metadata": {
        "id": "2hoyuPUG-DwE"
      },
      "source": [
        "filename = \"/content/dataset/file_csv_1.csv\"\n",
        "df.to_csv(filename)"
      ],
      "execution_count": null,
      "outputs": []
    },
    {
      "cell_type": "markdown",
      "metadata": {
        "id": "1av5vvwU-QGh"
      },
      "source": [
        "We can see that the file has been created at the specified location; that is, ‘dataset/.. ‘ in the screenshot below. You can choose to save the folder in your machine in any order, depending on where your current notebook is saved."
      ]
    },
    {
      "cell_type": "markdown",
      "metadata": {
        "id": "hyML1K6F-l5t"
      },
      "source": [
        "## Writing a JSON file"
      ]
    },
    {
      "cell_type": "markdown",
      "metadata": {
        "id": "MttVaqLc-myo"
      },
      "source": [
        "The code snippet shows where we will create a JSON file using the to_json() function on a DataFrame. Make sure your machine already has the file named file_json_1 downloaded and saved to the module 4 directory.\n",
        "\n",
        "Code:"
      ]
    },
    {
      "cell_type": "code",
      "metadata": {
        "id": "oCPJWASc-pON"
      },
      "source": [
        "filename = \"/content/dataset/file_json_1.json\"\n",
        "df.to_json(filename)"
      ],
      "execution_count": null,
      "outputs": []
    },
    {
      "cell_type": "markdown",
      "metadata": {
        "id": "wTIUdZ0G-6qW"
      },
      "source": [
        "Observe that the default data orientation of ‘Column’ is used to create the JSON file. You can control the data orientation in the to_json() function by passing an orient parameter.\n",
        "\n",
        "The code snippet shows where we will pass the orient= ‘split ‘ parameter, and you can see the resulting JSON file has a different data orientation now\n",
        "\n",
        "Code:"
      ]
    },
    {
      "cell_type": "code",
      "metadata": {
        "id": "NXZgE8eZ-7xO"
      },
      "source": [
        "filename = \"/content/dataset/file_json_split.json\"\n",
        "df.to_json(filename, orient='split')"
      ],
      "execution_count": null,
      "outputs": []
    },
    {
      "cell_type": "markdown",
      "metadata": {
        "id": "qy1qwbnc_XLV"
      },
      "source": [
        "# Course assessment"
      ]
    },
    {
      "cell_type": "markdown",
      "metadata": {
        "id": "bGhW-jOC_Y4R"
      },
      "source": [
        "1. Which of the following classes needs to be imported from the datetime module so that you can print today’s date and time?\n",
        "  - tzinfo\n",
        "  - date\n",
        "  - timedelta\n",
        "  - **datetime**\n",
        "\n",
        "2. Which of the following methods will you use to change or manipulate the values in a particular row or a column by creating new variables?\n",
        "  - **apply()**\n",
        "  - sort()\n",
        "  - reshape()\n",
        "  - arrange()\n",
        "\n",
        "3. After importing pandas as pd and numpy as np, which module and class should you be calling to display a dataframe?\n",
        "  - **from pandas import Series, DataFrame**\n",
        "  - from numpy import Series, DataFrame\n",
        "  - from pandas import Series\n",
        "  - from numpy import DataFrame\n",
        "\n",
        "4. Which of the following commands will you be using to slice and present the first three values?\n",
        "  - data[0,3]\n",
        "  - **data[0,2]**\n",
        "  - data[a,d]\n",
        "  - data[a,e]\n",
        "  - data[2,0]\n",
        "\n",
        "5. In the Datetime module, which of the following classes is an abstract class to deal with timezones?\n",
        "  - **tzinfo**\n",
        "  - date\n",
        "  - timedelta\n",
        "  - datetime\n",
        "\n",
        "6. Which of the following best describes a package in Python?\n",
        "  - A package is a file containing classes and functions.\n",
        "  - A package is a file of Python codes.\n",
        "  - **A package is a folder of Python modules.**\n",
        "  - A package is imported from a class.\n",
        "\n",
        "7. Which one is NOT exclusively a NumPy functionality?\n",
        "  - A n-dimensional Array object of homogenous data types and methods.\n",
        "  - A multi-dimensional Array and matrix data structures.\n",
        "  - Standard mathematical functions for faster operations on the entire Array of data without the need for loops.\n",
        "  - **Useful and easy to load and preview your data.**\n",
        "\n",
        "8. Choose the method in Numpy that will perform the cumulative sum of the elements along the axis specified as the parameter.\n",
        "  - .mean()\n",
        "  - **.cumsum()**\n",
        "  - .sum()\n",
        "  - .cum()\n",
        "  - .cumulative()\n",
        "\n",
        "9. The function used to read JSON files when loading your data is:\n",
        "  - pd.read-json()\n",
        "  - **pd.read_json()**\n",
        "  - pd.read_jsn()\n",
        "  - pdread_json()\n",
        "\n",
        "10. Which module would you import in Pandas to load SQL data?\n",
        "  - pd.iol.sql\n",
        "  - pd.i.sql\n",
        "  - pandas.ios.sql\n",
        "  - **pandas.io.sql**\n",
        "\n",
        "\n"
      ]
    }
  ]
}