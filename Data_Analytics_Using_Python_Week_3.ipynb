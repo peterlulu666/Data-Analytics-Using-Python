{
  "nbformat": 4,
  "nbformat_minor": 0,
  "metadata": {
    "colab": {
      "name": "Data_Analytics_Using_Python_Week_3.ipynb",
      "provenance": [],
      "collapsed_sections": [],
      "include_colab_link": true
    },
    "kernelspec": {
      "name": "python3",
      "display_name": "Python 3"
    },
    "language_info": {
      "name": "python"
    }
  },
  "cells": [
    {
      "cell_type": "markdown",
      "metadata": {
        "id": "view-in-github",
        "colab_type": "text"
      },
      "source": [
        "<a href=\"https://colab.research.google.com/github/peterlulu666/Data-Analytics-Using-Python/blob/main/Data_Analytics_Using_Python_Week_3.ipynb\" target=\"_parent\"><img src=\"https://colab.research.google.com/assets/colab-badge.svg\" alt=\"Open In Colab\"/></a>"
      ]
    },
    {
      "cell_type": "markdown",
      "metadata": {
        "id": "LWW_8EyWqZSN"
      },
      "source": [
        "# QUIZ"
      ]
    },
    {
      "cell_type": "markdown",
      "metadata": {
        "id": "Nfk4WIV5qaVu"
      },
      "source": [
        "1. Working through each department one-by-one, taking data from each of their legacy systems (files, databases, logs), and putting it into a business-wide reporting or analytics platform (eg, a data lake, data warehouse, or some standardised repository format).\n",
        "  - Transforming, loading real-time data\n",
        "  - **Extracting, loading batch data**\n",
        "  - Extracing, transforming, loading batch data\n",
        "\n",
        "2. Capturing a constant stream of marketing data (customer interactions, tweets, pins, posts, likes / dislikes) into a marketing analytics platform to perform real-time sentiment analysis and maximise the campaign effectiveness.\n",
        "  - **Extracting, transforming loading real-time data**\n",
        "  - Transforming, loading real-time data\n",
        "  - Extracting, transforming, loading batch data\n",
        "\n",
        "3. Transferring data continuously from disparate systems into a data warehouse.\n",
        "  - Extracting, transforming real-time data\n",
        "  - Transforming, loading batch data\n",
        "  - **Extracting, loading real-time data**\n",
        "\n",
        "\n",
        "\n"
      ]
    },
    {
      "cell_type": "markdown",
      "metadata": {
        "id": "VLuHXRQprMGB"
      },
      "source": [
        "# Loading and Reading data"
      ]
    },
    {
      "cell_type": "markdown",
      "metadata": {
        "id": "Go_Kk0ggsRTl"
      },
      "source": [
        "## Data loading and data formats"
      ]
    },
    {
      "cell_type": "markdown",
      "metadata": {
        "id": "Hmqswtk1sX3k"
      },
      "source": [
        "If you recall, earlier you learned the amount of data residing in various sources is vast and, also, constantly getting generated in our devices (including cloud). All of this data needs to be accessed at some point in time and it all starts with data ingestion!\n",
        "\n",
        "Data ingestion is a process of reading and loading data into Python from various underlying data sources, such that data can then be processed and transformed as per the requirements of the application. Each kind of data source has their own protocol for transferring data and as an analyst you must understand the difference among them. Most of the time, the loaded data are available to us in the following formats:\n",
        "\n",
        "Text data (CSV, JSON, Excel, etc) Web data (HTML, XML) Databases (SQL and NoSQL Data) Binary data formats\n",
        "\n",
        "In this module, we will go into the details of some of the functions related to data ingestion for the CSV, JSON, HTML, and SQL data formats. We will also provide references to detailed documentation for other data types and different variations of data ingestion possible."
      ]
    },
    {
      "cell_type": "markdown",
      "metadata": {
        "id": "QVAZfiCksccW"
      },
      "source": [
        "## Reading and writing text data"
      ]
    },
    {
      "cell_type": "markdown",
      "metadata": {
        "id": "TIN0eLePsfpr"
      },
      "source": [
        "Due to its simple syntax for interacting with files, intuitive data structures, and convenient features like tuple packing and unpacking, Python has become the go-to language for text data. Pandas have several functions for reading tabular data as a DataFrame object. Here are some of these functions:\n",
        "\n",
        "- read_csv() Load delimited data from a file, URL, or file-like object. ‘, ‘ – the comma is the default delimiter.\n",
        "- read_table() Load delimited data from a file, URL, or file-like object. ‘\\t ‘ – tab is the default delimiter.\n",
        "- read_fwf() Read data in fixed-width column format as there is no delimiter.\n",
        "\n",
        "In this course, you will most commonly use the read_csv() and read_table() functions. For the full list of I/O (input/output) functions available in Pandas, you can refer to the following link: [Go to: Pandas IO Tools Document](https://pandas.pydata.org/pandas-docs/stable/user_guide/io.html) [1]"
      ]
    },
    {
      "cell_type": "markdown",
      "metadata": {
        "id": "solzCdbYssiS"
      },
      "source": [
        "## CSV functions"
      ]
    },
    {
      "cell_type": "markdown",
      "metadata": {
        "id": "8Yvzc2WXstnB"
      },
      "source": [
        "A CSV (comma separated values) file is a type of plain text file. These csv files, the ‘comma separated’ files, are how columns and fields are identified in the value.\n",
        "\n",
        "For example:\n",
        "\n",
        "ColumnA_header, ColumnB_header, ColumC_header ColumnA_value1, ColumnB_value2, ColumnC_value2 ColumnA_value2, ColumB_value2, ColumnC_value3\n",
        "\n",
        "Let us explore the details of the discussed CSV functions used to convert the text data into a DataFrame. If you think about it, you may realise that these functions should have parameters related to the following functionalities and features related to DataFrame:"
      ]
    },
    {
      "cell_type": "markdown",
      "metadata": {
        "id": "tRk6fXu0s2qA"
      },
      "source": [
        "### Indexing options"
      ]
    },
    {
      "cell_type": "markdown",
      "metadata": {
        "id": "6YFGoNXqs4iA"
      },
      "source": [
        "Column names need to be read from the file, or the user, or not at all, and use the default column name conventions\n",
        "\n",
        "Row labels need to be considered as a particular data column in the file as the row label, or use the default row indexing For example: Naming individual columns and rows with unique names so that they are identified when called"
      ]
    },
    {
      "cell_type": "markdown",
      "metadata": {
        "id": "7gYXu4Mvs6ym"
      },
      "source": [
        "### Type inferences and data conversion options"
      ]
    },
    {
      "cell_type": "markdown",
      "metadata": {
        "id": "2nbHKP_ts9fe"
      },
      "source": [
        "Value conversion options as defined by the user.\n",
        "\n",
        "Custom input data to deal with missing value markers.\n",
        "\n",
        "For example: Converting a particular value in a cell of the DataFrame; this also included replacing with a new value or inputting the default NaN for missing values."
      ]
    },
    {
      "cell_type": "markdown",
      "metadata": {
        "id": "NY0TKikis_aI"
      },
      "source": [
        "### DateTime parsing-related options"
      ]
    },
    {
      "cell_type": "markdown",
      "metadata": {
        "id": "rkZMpeH-tBqO"
      },
      "source": [
        "Capability to combine the date and time information spread across multiple columns in the input data and merging the combined data into a single column in the result.\n",
        "\n",
        "For example: Combining month, day, and year to produce a full date."
      ]
    },
    {
      "cell_type": "markdown",
      "metadata": {
        "id": "AYP8h-uAtDzX"
      },
      "source": [
        "### Iteration-related options"
      ]
    },
    {
      "cell_type": "markdown",
      "metadata": {
        "id": "fAe-VBubtGMA"
      },
      "source": [
        "Iterate over smaller chunks of data in the case of large files.\n",
        "\n",
        "For example: Repeating the same customer ID for a particular name anywhere in the file."
      ]
    },
    {
      "cell_type": "markdown",
      "metadata": {
        "id": "Dmcu1koJtIKo"
      },
      "source": [
        "### Data Issue-related options"
      ]
    },
    {
      "cell_type": "markdown",
      "metadata": {
        "id": "Og6IaQkJtKcV"
      },
      "source": [
        "Options to deal with data nuances\n",
        "\n",
        "For example: Skipping rows or a footer, comments, or others such as numeric data with commas used in the representation"
      ]
    },
    {
      "cell_type": "markdown",
      "metadata": {
        "id": "uEcS5UfhtMXG"
      },
      "source": [
        "# Evaluating CSV functions"
      ]
    },
    {
      "cell_type": "markdown",
      "metadata": {
        "id": "GM1yRUb8tPp3"
      },
      "source": [
        "Now, let’s evaluate these functions and various options. There are different sample CSV files that are stored in the module directory (if you don’t have one created, create one for storing all the files you just downloaded under datasets in the start of this topic), and we will be using these files to perform the read operations and numerous variations of it.\n",
        "\n",
        "You can see that there are comma-separated values in the file. We’ll show you how to use the function read_csv() and also check the various parameters available for this function."
      ]
    },
    {
      "cell_type": "markdown",
      "metadata": {
        "id": "8lGH_SdltaWW"
      },
      "source": [
        "## CSV’s read operation"
      ]
    },
    {
      "cell_type": "markdown",
      "metadata": {
        "id": "yu8DqX37tcHl"
      },
      "source": [
        "For the following tasks, you first need to import both the NumPy and Pandas library. Code:"
      ]
    },
    {
      "cell_type": "code",
      "metadata": {
        "id": "tzzd5obUtgNj"
      },
      "source": [
        "import pandas as pd\n",
        "import numpy as np"
      ],
      "execution_count": 1,
      "outputs": []
    },
    {
      "cell_type": "markdown",
      "metadata": {
        "id": "izFpEA--tww5"
      },
      "source": [
        "Make sure you have the file named sample_data.txt downloaded on your machine. Next, enter the code snippet that demonstrates the use of the read_csv function: Code:"
      ]
    },
    {
      "cell_type": "code",
      "metadata": {
        "id": "DJ5xRhxQt0LQ",
        "colab": {
          "base_uri": "https://localhost:8080/"
        },
        "outputId": "96796a97-d654-4f47-b017-c2656fb3002d"
      },
      "source": [
        "!wget https://github.com/peterlulu666/Data-Analytics-Using-Python/raw/main/dataset.zip\n",
        "!unzip dataset.zip\n",
        "%cd dataset/"
      ],
      "execution_count": 2,
      "outputs": [
        {
          "output_type": "stream",
          "text": [
            "--2021-05-12 00:42:54--  https://github.com/peterlulu666/Data-Analytics-Using-Python/raw/main/dataset.zip\n",
            "Resolving github.com (github.com)... 140.82.112.3\n",
            "Connecting to github.com (github.com)|140.82.112.3|:443... connected.\n",
            "HTTP request sent, awaiting response... 302 Found\n",
            "Location: https://raw.githubusercontent.com/peterlulu666/Data-Analytics-Using-Python/main/dataset.zip [following]\n",
            "--2021-05-12 00:42:54--  https://raw.githubusercontent.com/peterlulu666/Data-Analytics-Using-Python/main/dataset.zip\n",
            "Resolving raw.githubusercontent.com (raw.githubusercontent.com)... 185.199.108.133, 185.199.109.133, 185.199.110.133, ...\n",
            "Connecting to raw.githubusercontent.com (raw.githubusercontent.com)|185.199.108.133|:443... connected.\n",
            "HTTP request sent, awaiting response... 200 OK\n",
            "Length: 14938326 (14M) [application/zip]\n",
            "Saving to: ‘dataset.zip’\n",
            "\n",
            "dataset.zip         100%[===================>]  14.25M  39.0MB/s    in 0.4s    \n",
            "\n",
            "2021-05-12 00:42:54 (39.0 MB/s) - ‘dataset.zip’ saved [14938326/14938326]\n",
            "\n",
            "Archive:  dataset.zip\n",
            "  inflating: dataset/file_json_split.json  \n",
            "  inflating: dataset/file_csv_1.csv  \n",
            "  inflating: dataset/file_json_1.json  \n",
            "  inflating: dataset/sample_data_split.json  \n",
            "  inflating: dataset/sample_data_index.json  \n",
            "  inflating: dataset/sample_data1.json  \n",
            "  inflating: dataset/sample_data.json  \n",
            "  inflating: dataset/sample_data_json.txt  \n",
            "  inflating: dataset/sample_data_missingvalues.txt  \n",
            "  inflating: dataset/sample_data_footer.txt  \n",
            "  inflating: dataset/sample_data_comments.txt  \n",
            "  inflating: dataset/sample_data_noheader_space.txt  \n",
            "  inflating: dataset/sample_data_hierarchy.txt  \n",
            "  inflating: dataset/sample_data_noheader.txt  \n",
            "  inflating: dataset/sample_data.txt  \n",
            "  inflating: dataset/sample_data_large.csv  \n",
            "/content/dataset\n"
          ],
          "name": "stdout"
        }
      ]
    },
    {
      "cell_type": "code",
      "metadata": {
        "colab": {
          "base_uri": "https://localhost:8080/",
          "height": 206
        },
        "id": "B5BrYLaStxhi",
        "outputId": "71de2c13-f6f2-4267-b390-70b0a445d3b4"
      },
      "source": [
        "filename = \"/content/dataset/sample_data.txt\"\n",
        "df= pd.read_csv(filename)\n",
        "df"
      ],
      "execution_count": 3,
      "outputs": [
        {
          "output_type": "execute_result",
          "data": {
            "text/html": [
              "<div>\n",
              "<style scoped>\n",
              "    .dataframe tbody tr th:only-of-type {\n",
              "        vertical-align: middle;\n",
              "    }\n",
              "\n",
              "    .dataframe tbody tr th {\n",
              "        vertical-align: top;\n",
              "    }\n",
              "\n",
              "    .dataframe thead th {\n",
              "        text-align: right;\n",
              "    }\n",
              "</style>\n",
              "<table border=\"1\" class=\"dataframe\">\n",
              "  <thead>\n",
              "    <tr style=\"text-align: right;\">\n",
              "      <th></th>\n",
              "      <th>a</th>\n",
              "      <th>b</th>\n",
              "      <th>c</th>\n",
              "      <th>d</th>\n",
              "      <th>comments</th>\n",
              "    </tr>\n",
              "  </thead>\n",
              "  <tbody>\n",
              "    <tr>\n",
              "      <th>0</th>\n",
              "      <td>1</td>\n",
              "      <td>2</td>\n",
              "      <td>3</td>\n",
              "      <td>4</td>\n",
              "      <td>comment1</td>\n",
              "    </tr>\n",
              "    <tr>\n",
              "      <th>1</th>\n",
              "      <td>5</td>\n",
              "      <td>6</td>\n",
              "      <td>7</td>\n",
              "      <td>8</td>\n",
              "      <td>comment2</td>\n",
              "    </tr>\n",
              "    <tr>\n",
              "      <th>2</th>\n",
              "      <td>9</td>\n",
              "      <td>10</td>\n",
              "      <td>11</td>\n",
              "      <td>Adam</td>\n",
              "      <td>comment3</td>\n",
              "    </tr>\n",
              "    <tr>\n",
              "      <th>3</th>\n",
              "      <td>12</td>\n",
              "      <td>13</td>\n",
              "      <td>14</td>\n",
              "      <td>15</td>\n",
              "      <td>comment4</td>\n",
              "    </tr>\n",
              "    <tr>\n",
              "      <th>4</th>\n",
              "      <td>I1</td>\n",
              "      <td>16</td>\n",
              "      <td>17</td>\n",
              "      <td>18</td>\n",
              "      <td>comment5</td>\n",
              "    </tr>\n",
              "  </tbody>\n",
              "</table>\n",
              "</div>"
            ],
            "text/plain": [
              "    a   b   c     d  comments\n",
              "0   1   2   3     4  comment1\n",
              "1   5   6   7     8  comment2\n",
              "2   9  10  11  Adam  comment3\n",
              "3  12  13  14    15  comment4\n",
              "4  I1  16  17    18  comment5"
            ]
          },
          "metadata": {
            "tags": []
          },
          "execution_count": 3
        }
      ]
    },
    {
      "cell_type": "markdown",
      "metadata": {
        "id": "EWw4CfQFuZWL"
      },
      "source": [
        "Based on these results, the following can be observed:\n",
        "\n",
        "- The first row of the file has been considered as the name of the columns by default.\n",
        "- The default row labels (row indexes) have been considered (look at the values 0,1,2,3,4).\n",
        "- Parsing of the values has happened automatically (i.e., we didn’t have to specify the ’,’ as the delimiter explicitly)."
      ]
    },
    {
      "cell_type": "markdown",
      "metadata": {
        "id": "BeJaDYpxucty"
      },
      "source": [
        "## Specifying the column names"
      ]
    },
    {
      "cell_type": "markdown",
      "metadata": {
        "id": "lAEcTm86udez"
      },
      "source": [
        "Tables in excel generally come with the header rows that contain the information that either identifies the content of a particular column or the number of the column. There are scenarios where you may have to explicitly specify whether the header row in a table exists or not. The parameter header of the function controls this behaviour. So if you pass the value header=None, it will not consider the first row as the header and instead as a data record. In this case, column names for the DataFrame will automatically generate.\n",
        "\n",
        "Make sure you have the file named sample_data_noheader.txt downloaded on your machine.\n",
        "\n",
        "Next, we will now read this file and instruct the read_csv function to consider the first row as the data record.\n",
        "\n",
        "Code:"
      ]
    },
    {
      "cell_type": "code",
      "metadata": {
        "colab": {
          "base_uri": "https://localhost:8080/",
          "height": 238
        },
        "id": "61OeEFUfuj5y",
        "outputId": "9395ef72-e05a-46da-a4c4-cd4291e180a7"
      },
      "source": [
        "filename = \"/content/dataset/sample_data.txt\"\n",
        "df= pd.read_csv(filename, header=None)\n",
        "df"
      ],
      "execution_count": 4,
      "outputs": [
        {
          "output_type": "execute_result",
          "data": {
            "text/html": [
              "<div>\n",
              "<style scoped>\n",
              "    .dataframe tbody tr th:only-of-type {\n",
              "        vertical-align: middle;\n",
              "    }\n",
              "\n",
              "    .dataframe tbody tr th {\n",
              "        vertical-align: top;\n",
              "    }\n",
              "\n",
              "    .dataframe thead th {\n",
              "        text-align: right;\n",
              "    }\n",
              "</style>\n",
              "<table border=\"1\" class=\"dataframe\">\n",
              "  <thead>\n",
              "    <tr style=\"text-align: right;\">\n",
              "      <th></th>\n",
              "      <th>0</th>\n",
              "      <th>1</th>\n",
              "      <th>2</th>\n",
              "      <th>3</th>\n",
              "      <th>4</th>\n",
              "    </tr>\n",
              "  </thead>\n",
              "  <tbody>\n",
              "    <tr>\n",
              "      <th>0</th>\n",
              "      <td>a</td>\n",
              "      <td>b</td>\n",
              "      <td>c</td>\n",
              "      <td>d</td>\n",
              "      <td>comments</td>\n",
              "    </tr>\n",
              "    <tr>\n",
              "      <th>1</th>\n",
              "      <td>1</td>\n",
              "      <td>2</td>\n",
              "      <td>3</td>\n",
              "      <td>4</td>\n",
              "      <td>comment1</td>\n",
              "    </tr>\n",
              "    <tr>\n",
              "      <th>2</th>\n",
              "      <td>5</td>\n",
              "      <td>6</td>\n",
              "      <td>7</td>\n",
              "      <td>8</td>\n",
              "      <td>comment2</td>\n",
              "    </tr>\n",
              "    <tr>\n",
              "      <th>3</th>\n",
              "      <td>9</td>\n",
              "      <td>10</td>\n",
              "      <td>11</td>\n",
              "      <td>Adam</td>\n",
              "      <td>comment3</td>\n",
              "    </tr>\n",
              "    <tr>\n",
              "      <th>4</th>\n",
              "      <td>12</td>\n",
              "      <td>13</td>\n",
              "      <td>14</td>\n",
              "      <td>15</td>\n",
              "      <td>comment4</td>\n",
              "    </tr>\n",
              "    <tr>\n",
              "      <th>5</th>\n",
              "      <td>I1</td>\n",
              "      <td>16</td>\n",
              "      <td>17</td>\n",
              "      <td>18</td>\n",
              "      <td>comment5</td>\n",
              "    </tr>\n",
              "  </tbody>\n",
              "</table>\n",
              "</div>"
            ],
            "text/plain": [
              "    0   1   2     3         4\n",
              "0   a   b   c     d  comments\n",
              "1   1   2   3     4  comment1\n",
              "2   5   6   7     8  comment2\n",
              "3   9  10  11  Adam  comment3\n",
              "4  12  13  14    15  comment4\n",
              "5  I1  16  17    18  comment5"
            ]
          },
          "metadata": {
            "tags": []
          },
          "execution_count": 4
        }
      ]
    },
    {
      "cell_type": "markdown",
      "metadata": {
        "id": "OHYBIK4bvIam"
      },
      "source": [
        "In this particular scenario, there could be a requirement to explicitly provide the column names instead of relying on the auto-indexing for column names.\n",
        "\n",
        "In that case, we use the parameter names and pass the list of column names to the read_csv() function. When we pass the names=[list of column names], we don’t have to pass the parameter header=None to the read_csv function. The code snippet demonstrates this:\n",
        "\n",
        "Code:"
      ]
    },
    {
      "cell_type": "code",
      "metadata": {
        "colab": {
          "base_uri": "https://localhost:8080/",
          "height": 238
        },
        "id": "Xe-242zQvJWI",
        "outputId": "9e03d9b7-26a6-4c3d-f504-d2df530aa224"
      },
      "source": [
        "# We provide the header name\n",
        "names=['a','b','c','d','comments']\n",
        "df=pd.read_csv(filename, names=names)\n",
        "df"
      ],
      "execution_count": 5,
      "outputs": [
        {
          "output_type": "execute_result",
          "data": {
            "text/html": [
              "<div>\n",
              "<style scoped>\n",
              "    .dataframe tbody tr th:only-of-type {\n",
              "        vertical-align: middle;\n",
              "    }\n",
              "\n",
              "    .dataframe tbody tr th {\n",
              "        vertical-align: top;\n",
              "    }\n",
              "\n",
              "    .dataframe thead th {\n",
              "        text-align: right;\n",
              "    }\n",
              "</style>\n",
              "<table border=\"1\" class=\"dataframe\">\n",
              "  <thead>\n",
              "    <tr style=\"text-align: right;\">\n",
              "      <th></th>\n",
              "      <th>a</th>\n",
              "      <th>b</th>\n",
              "      <th>c</th>\n",
              "      <th>d</th>\n",
              "      <th>comments</th>\n",
              "    </tr>\n",
              "  </thead>\n",
              "  <tbody>\n",
              "    <tr>\n",
              "      <th>0</th>\n",
              "      <td>a</td>\n",
              "      <td>b</td>\n",
              "      <td>c</td>\n",
              "      <td>d</td>\n",
              "      <td>comments</td>\n",
              "    </tr>\n",
              "    <tr>\n",
              "      <th>1</th>\n",
              "      <td>1</td>\n",
              "      <td>2</td>\n",
              "      <td>3</td>\n",
              "      <td>4</td>\n",
              "      <td>comment1</td>\n",
              "    </tr>\n",
              "    <tr>\n",
              "      <th>2</th>\n",
              "      <td>5</td>\n",
              "      <td>6</td>\n",
              "      <td>7</td>\n",
              "      <td>8</td>\n",
              "      <td>comment2</td>\n",
              "    </tr>\n",
              "    <tr>\n",
              "      <th>3</th>\n",
              "      <td>9</td>\n",
              "      <td>10</td>\n",
              "      <td>11</td>\n",
              "      <td>Adam</td>\n",
              "      <td>comment3</td>\n",
              "    </tr>\n",
              "    <tr>\n",
              "      <th>4</th>\n",
              "      <td>12</td>\n",
              "      <td>13</td>\n",
              "      <td>14</td>\n",
              "      <td>15</td>\n",
              "      <td>comment4</td>\n",
              "    </tr>\n",
              "    <tr>\n",
              "      <th>5</th>\n",
              "      <td>I1</td>\n",
              "      <td>16</td>\n",
              "      <td>17</td>\n",
              "      <td>18</td>\n",
              "      <td>comment5</td>\n",
              "    </tr>\n",
              "  </tbody>\n",
              "</table>\n",
              "</div>"
            ],
            "text/plain": [
              "    a   b   c     d  comments\n",
              "0   a   b   c     d  comments\n",
              "1   1   2   3     4  comment1\n",
              "2   5   6   7     8  comment2\n",
              "3   9  10  11  Adam  comment3\n",
              "4  12  13  14    15  comment4\n",
              "5  I1  16  17    18  comment5"
            ]
          },
          "metadata": {
            "tags": []
          },
          "execution_count": 5
        }
      ]
    },
    {
      "cell_type": "markdown",
      "metadata": {
        "id": "VCJBGdlIvUe_"
      },
      "source": [
        "## Specifying the row labels / row index from a column in the data file"
      ]
    },
    {
      "cell_type": "markdown",
      "metadata": {
        "id": "-uOXvi2XvViM"
      },
      "source": [
        "Let us say you now have your columns labeled with individual header rows such as mango, apple, and grape. You might then decide to explicitly name that row as fruits. Python comes handy in such scenarios where you would like to explicitly specify the row labels (row indexes) instead of using the default indexes.\n",
        "\n",
        "In the current example, assume that we want the comment section to be the row label of the DataFrame. This can be achieved by using the index_col parameter of the function and specifying the name of the column to be used as the row label. The code snippets demonstrate this function.\n",
        "\n",
        "Code:"
      ]
    },
    {
      "cell_type": "code",
      "metadata": {
        "colab": {
          "base_uri": "https://localhost:8080/",
          "height": 269
        },
        "id": "B0Rn1nAOvX63",
        "outputId": "973c724e-e9c7-4568-90bd-a30823439c53"
      },
      "source": [
        "# We can use the comments as the row label name\n",
        "df=pd.read_csv(filename, names=names, index_col='comments')\n",
        "df"
      ],
      "execution_count": 6,
      "outputs": [
        {
          "output_type": "execute_result",
          "data": {
            "text/html": [
              "<div>\n",
              "<style scoped>\n",
              "    .dataframe tbody tr th:only-of-type {\n",
              "        vertical-align: middle;\n",
              "    }\n",
              "\n",
              "    .dataframe tbody tr th {\n",
              "        vertical-align: top;\n",
              "    }\n",
              "\n",
              "    .dataframe thead th {\n",
              "        text-align: right;\n",
              "    }\n",
              "</style>\n",
              "<table border=\"1\" class=\"dataframe\">\n",
              "  <thead>\n",
              "    <tr style=\"text-align: right;\">\n",
              "      <th></th>\n",
              "      <th>a</th>\n",
              "      <th>b</th>\n",
              "      <th>c</th>\n",
              "      <th>d</th>\n",
              "    </tr>\n",
              "    <tr>\n",
              "      <th>comments</th>\n",
              "      <th></th>\n",
              "      <th></th>\n",
              "      <th></th>\n",
              "      <th></th>\n",
              "    </tr>\n",
              "  </thead>\n",
              "  <tbody>\n",
              "    <tr>\n",
              "      <th>comments</th>\n",
              "      <td>a</td>\n",
              "      <td>b</td>\n",
              "      <td>c</td>\n",
              "      <td>d</td>\n",
              "    </tr>\n",
              "    <tr>\n",
              "      <th>comment1</th>\n",
              "      <td>1</td>\n",
              "      <td>2</td>\n",
              "      <td>3</td>\n",
              "      <td>4</td>\n",
              "    </tr>\n",
              "    <tr>\n",
              "      <th>comment2</th>\n",
              "      <td>5</td>\n",
              "      <td>6</td>\n",
              "      <td>7</td>\n",
              "      <td>8</td>\n",
              "    </tr>\n",
              "    <tr>\n",
              "      <th>comment3</th>\n",
              "      <td>9</td>\n",
              "      <td>10</td>\n",
              "      <td>11</td>\n",
              "      <td>Adam</td>\n",
              "    </tr>\n",
              "    <tr>\n",
              "      <th>comment4</th>\n",
              "      <td>12</td>\n",
              "      <td>13</td>\n",
              "      <td>14</td>\n",
              "      <td>15</td>\n",
              "    </tr>\n",
              "    <tr>\n",
              "      <th>comment5</th>\n",
              "      <td>I1</td>\n",
              "      <td>16</td>\n",
              "      <td>17</td>\n",
              "      <td>18</td>\n",
              "    </tr>\n",
              "  </tbody>\n",
              "</table>\n",
              "</div>"
            ],
            "text/plain": [
              "           a   b   c     d\n",
              "comments                  \n",
              "comments   a   b   c     d\n",
              "comment1   1   2   3     4\n",
              "comment2   5   6   7     8\n",
              "comment3   9  10  11  Adam\n",
              "comment4  12  13  14    15\n",
              "comment5  I1  16  17    18"
            ]
          },
          "metadata": {
            "tags": []
          },
          "execution_count": 6
        }
      ]
    },
    {
      "cell_type": "code",
      "metadata": {
        "colab": {
          "base_uri": "https://localhost:8080/"
        },
        "id": "lJclgD_1v9L3",
        "outputId": "73eb31e2-c05a-4422-e962-2304fa3cd076"
      },
      "source": [
        "df.loc['comment1']"
      ],
      "execution_count": 7,
      "outputs": [
        {
          "output_type": "execute_result",
          "data": {
            "text/plain": [
              "a    1\n",
              "b    2\n",
              "c    3\n",
              "d    4\n",
              "Name: comment1, dtype: object"
            ]
          },
          "metadata": {
            "tags": []
          },
          "execution_count": 7
        }
      ]
    },
    {
      "cell_type": "markdown",
      "metadata": {
        "id": "GIezvuNKwQET"
      },
      "source": [
        "Based on these results, the following can be observed:\n",
        "\n",
        "- the comment column from the input data file has now been used to specify the row labels of the DataFrame\n",
        "\n",
        "- you can access the first row of the DataFrame using the key ‘comment1 ‘."
      ]
    },
    {
      "cell_type": "markdown",
      "metadata": {
        "id": "NW-nfk_qwR_M"
      },
      "source": [
        "## Hierarchical indexing"
      ]
    },
    {
      "cell_type": "markdown",
      "metadata": {
        "id": "L4QfOxmFwU7E"
      },
      "source": [
        "Let us say you want to include a hierarchical indexing functionality. Instead of one column (from the previous example, such as Fruits) considered as an index, you have a hierarchy of columns considered as indexes (such as fruit varieties Tropical and Exotic). These indexes can have the same values such as mango, apple, and grape; but now they are specific to the index names and can either be a tropical mango, apple, and grape or an exoctic mango, apple, and grape.\n",
        "\n",
        "Make sure you have the file named sample_data_hierarchy.txt downloaded on your machine."
      ]
    },
    {
      "cell_type": "markdown",
      "metadata": {
        "id": "imRx_ELoxj4L"
      },
      "source": [
        "In this particular case, the first two columns together can be considered as the row index. For such a scenario, we would have to pass the list of columns to be considered as a hierarchical index to the read_csv function, using the index_col parameter. The code snippets demonstrate using the index_col parameter.\n",
        "\n",
        "Code:"
      ]
    },
    {
      "cell_type": "code",
      "metadata": {
        "colab": {
          "base_uri": "https://localhost:8080/",
          "height": 300
        },
        "id": "CMdBbfaZxk1A",
        "outputId": "feaf6484-1253-4ea4-b2e3-0b3ba6e2f608"
      },
      "source": [
        "filename = \"/content/dataset/sample_data_hierarchy.txt\"\n",
        "names=['I1','I2','col1','col2','col3','col4','comments']\n",
        "df= pd.read_csv(filename, names=names, index_col=['I1','I2'])\n",
        "df"
      ],
      "execution_count": 8,
      "outputs": [
        {
          "output_type": "execute_result",
          "data": {
            "text/html": [
              "<div>\n",
              "<style scoped>\n",
              "    .dataframe tbody tr th:only-of-type {\n",
              "        vertical-align: middle;\n",
              "    }\n",
              "\n",
              "    .dataframe tbody tr th {\n",
              "        vertical-align: top;\n",
              "    }\n",
              "\n",
              "    .dataframe thead th {\n",
              "        text-align: right;\n",
              "    }\n",
              "</style>\n",
              "<table border=\"1\" class=\"dataframe\">\n",
              "  <thead>\n",
              "    <tr style=\"text-align: right;\">\n",
              "      <th></th>\n",
              "      <th></th>\n",
              "      <th>col1</th>\n",
              "      <th>col2</th>\n",
              "      <th>col3</th>\n",
              "      <th>col4</th>\n",
              "      <th>comments</th>\n",
              "    </tr>\n",
              "    <tr>\n",
              "      <th>I1</th>\n",
              "      <th>I2</th>\n",
              "      <th></th>\n",
              "      <th></th>\n",
              "      <th></th>\n",
              "      <th></th>\n",
              "      <th></th>\n",
              "    </tr>\n",
              "  </thead>\n",
              "  <tbody>\n",
              "    <tr>\n",
              "      <th rowspan=\"4\" valign=\"top\">A</th>\n",
              "      <th>1</th>\n",
              "      <td>0</td>\n",
              "      <td>1</td>\n",
              "      <td>2</td>\n",
              "      <td>3</td>\n",
              "      <td>comment1</td>\n",
              "    </tr>\n",
              "    <tr>\n",
              "      <th>2</th>\n",
              "      <td>1</td>\n",
              "      <td>2</td>\n",
              "      <td>3</td>\n",
              "      <td>4</td>\n",
              "      <td>comment2</td>\n",
              "    </tr>\n",
              "    <tr>\n",
              "      <th>3</th>\n",
              "      <td>5</td>\n",
              "      <td>6</td>\n",
              "      <td>7</td>\n",
              "      <td>8</td>\n",
              "      <td>comment3</td>\n",
              "    </tr>\n",
              "    <tr>\n",
              "      <th>4</th>\n",
              "      <td>9</td>\n",
              "      <td>10</td>\n",
              "      <td>11</td>\n",
              "      <td>Adam</td>\n",
              "      <td>comment4</td>\n",
              "    </tr>\n",
              "    <tr>\n",
              "      <th rowspan=\"3\" valign=\"top\">B</th>\n",
              "      <th>1</th>\n",
              "      <td>12</td>\n",
              "      <td>13</td>\n",
              "      <td>14</td>\n",
              "      <td>15</td>\n",
              "      <td>comment5</td>\n",
              "    </tr>\n",
              "    <tr>\n",
              "      <th>2</th>\n",
              "      <td>I1</td>\n",
              "      <td>16</td>\n",
              "      <td>17</td>\n",
              "      <td>18</td>\n",
              "      <td>comment6</td>\n",
              "    </tr>\n",
              "    <tr>\n",
              "      <th>3</th>\n",
              "      <td>I2</td>\n",
              "      <td>19</td>\n",
              "      <td>20</td>\n",
              "      <td>21</td>\n",
              "      <td>comment7</td>\n",
              "    </tr>\n",
              "  </tbody>\n",
              "</table>\n",
              "</div>"
            ],
            "text/plain": [
              "      col1  col2  col3  col4  comments\n",
              "I1 I2                                 \n",
              "A  1     0     1     2     3  comment1\n",
              "   2     1     2     3     4  comment2\n",
              "   3     5     6     7     8  comment3\n",
              "   4     9    10    11  Adam  comment4\n",
              "B  1    12    13    14    15  comment5\n",
              "   2    I1    16    17    18  comment6\n",
              "   3    I2    19    20    21  comment7"
            ]
          },
          "metadata": {
            "tags": []
          },
          "execution_count": 8
        }
      ]
    },
    {
      "cell_type": "code",
      "metadata": {
        "colab": {
          "base_uri": "https://localhost:8080/"
        },
        "id": "6SbmtBfQxsZZ",
        "outputId": "d8dcbb1a-c255-401f-c15e-cc3eb38fa9a8"
      },
      "source": [
        "df.loc['A',1]"
      ],
      "execution_count": 9,
      "outputs": [
        {
          "output_type": "execute_result",
          "data": {
            "text/plain": [
              "col1               0\n",
              "col2               1\n",
              "col3               2\n",
              "col4               3\n",
              "comments    comment1\n",
              "Name: (A, 1), dtype: object"
            ]
          },
          "metadata": {
            "tags": []
          },
          "execution_count": 9
        }
      ]
    },
    {
      "cell_type": "markdown",
      "metadata": {
        "id": "W7ZpO4UBx14f"
      },
      "source": [
        "Based on these results, the following can be observed:\n",
        "\n",
        "- we have read the data file, specified the column names bypassing the list of column names to the parameter names\n",
        "- we have also specified the hierarchical indexing to be used by passing the list of column names to be considered as indexes to the parameter index_col\n",
        "- we are accessing the first row of the DataFrame using the hierarchical index ‘A’,1."
      ]
    },
    {
      "cell_type": "markdown",
      "metadata": {
        "id": "XSXmTJq5x4tf"
      },
      "source": [
        "# Specific functions"
      ]
    },
    {
      "cell_type": "markdown",
      "metadata": {
        "id": "tMamY1vzx-Qe"
      },
      "source": [
        "## Specifying the separator / delimiter explicitly"
      ]
    },
    {
      "cell_type": "markdown",
      "metadata": {
        "id": "8Ztogvp1yAig"
      },
      "source": [
        "You were introduced to csv as comma separated values files, where the default delimiter was a comma (,). But, what if that default delimiter would not work? In such cases, you may have to specify the separator / delimiter explicitly when reading the data from the file.\n",
        "\n",
        "For example: If white space is used as the separator instead of the default value comma ‘,’, you might need to write a separate code to call out the delimiter explicitly.\n",
        "\n",
        "In this case, you can specify the separator to be used by using the parameter sep and passing the value of the separator. Consider the file named sample_data_noheader_space.txt (make sure you have this downloaded on your machine) where white space is used as the separator / delimiter. To read this file correctly in the DataFrame, we will use the parameter sep.\n",
        "\n",
        "The code snippet demonstrates when we have not used the sep parameter, and all the values in the first column of the DataFrame have been read. \n",
        "\n",
        "Code:"
      ]
    },
    {
      "cell_type": "code",
      "metadata": {
        "colab": {
          "base_uri": "https://localhost:8080/",
          "height": 206
        },
        "id": "Kbwmg3t4yFQI",
        "outputId": "13f9535d-8716-49bc-a419-16a1361e4080"
      },
      "source": [
        "filename = \"/content/dataset/sample_data_noheader_space.txt\"\n",
        "names=['a','b','c','d','comments']\n",
        "df= pd.read_csv(filename, header=None, names=names)\n",
        "df"
      ],
      "execution_count": 10,
      "outputs": [
        {
          "output_type": "execute_result",
          "data": {
            "text/html": [
              "<div>\n",
              "<style scoped>\n",
              "    .dataframe tbody tr th:only-of-type {\n",
              "        vertical-align: middle;\n",
              "    }\n",
              "\n",
              "    .dataframe tbody tr th {\n",
              "        vertical-align: top;\n",
              "    }\n",
              "\n",
              "    .dataframe thead th {\n",
              "        text-align: right;\n",
              "    }\n",
              "</style>\n",
              "<table border=\"1\" class=\"dataframe\">\n",
              "  <thead>\n",
              "    <tr style=\"text-align: right;\">\n",
              "      <th></th>\n",
              "      <th>a</th>\n",
              "      <th>b</th>\n",
              "      <th>c</th>\n",
              "      <th>d</th>\n",
              "      <th>comments</th>\n",
              "    </tr>\n",
              "  </thead>\n",
              "  <tbody>\n",
              "    <tr>\n",
              "      <th>0</th>\n",
              "      <td>1 2 3 4 comment1</td>\n",
              "      <td>NaN</td>\n",
              "      <td>NaN</td>\n",
              "      <td>NaN</td>\n",
              "      <td>NaN</td>\n",
              "    </tr>\n",
              "    <tr>\n",
              "      <th>1</th>\n",
              "      <td>5 6 7 8 comment2</td>\n",
              "      <td>NaN</td>\n",
              "      <td>NaN</td>\n",
              "      <td>NaN</td>\n",
              "      <td>NaN</td>\n",
              "    </tr>\n",
              "    <tr>\n",
              "      <th>2</th>\n",
              "      <td>9 10 11 Adam comment3</td>\n",
              "      <td>NaN</td>\n",
              "      <td>NaN</td>\n",
              "      <td>NaN</td>\n",
              "      <td>NaN</td>\n",
              "    </tr>\n",
              "    <tr>\n",
              "      <th>3</th>\n",
              "      <td>12 13 14 15 comment4</td>\n",
              "      <td>NaN</td>\n",
              "      <td>NaN</td>\n",
              "      <td>NaN</td>\n",
              "      <td>NaN</td>\n",
              "    </tr>\n",
              "    <tr>\n",
              "      <th>4</th>\n",
              "      <td>I1 16 17 18 comment5</td>\n",
              "      <td>NaN</td>\n",
              "      <td>NaN</td>\n",
              "      <td>NaN</td>\n",
              "      <td>NaN</td>\n",
              "    </tr>\n",
              "  </tbody>\n",
              "</table>\n",
              "</div>"
            ],
            "text/plain": [
              "                       a   b   c   d  comments\n",
              "0       1 2 3 4 comment1 NaN NaN NaN       NaN\n",
              "1       5 6 7 8 comment2 NaN NaN NaN       NaN\n",
              "2  9 10 11 Adam comment3 NaN NaN NaN       NaN\n",
              "3   12 13 14 15 comment4 NaN NaN NaN       NaN\n",
              "4   I1 16 17 18 comment5 NaN NaN NaN       NaN"
            ]
          },
          "metadata": {
            "tags": []
          },
          "execution_count": 10
        }
      ]
    },
    {
      "cell_type": "markdown",
      "metadata": {
        "id": "bbtVXkO2yNfW"
      },
      "source": [
        "As you can see, when we have not used the parameter sep all the values have been read in the first column of the DataFrame.\n",
        "\n",
        "Now, let’s specify the sep parameter and read the data correctly. \n",
        "\n",
        "Code:"
      ]
    },
    {
      "cell_type": "code",
      "metadata": {
        "colab": {
          "base_uri": "https://localhost:8080/",
          "height": 206
        },
        "id": "4gydU2KiyO9W",
        "outputId": "6e81cf14-175b-4c65-d818-ab8790893fba"
      },
      "source": [
        "# the delimiter is the space\n",
        "df= pd.read_csv(filename, header=None, names=names, sep=\" \")\n",
        "df"
      ],
      "execution_count": 11,
      "outputs": [
        {
          "output_type": "execute_result",
          "data": {
            "text/html": [
              "<div>\n",
              "<style scoped>\n",
              "    .dataframe tbody tr th:only-of-type {\n",
              "        vertical-align: middle;\n",
              "    }\n",
              "\n",
              "    .dataframe tbody tr th {\n",
              "        vertical-align: top;\n",
              "    }\n",
              "\n",
              "    .dataframe thead th {\n",
              "        text-align: right;\n",
              "    }\n",
              "</style>\n",
              "<table border=\"1\" class=\"dataframe\">\n",
              "  <thead>\n",
              "    <tr style=\"text-align: right;\">\n",
              "      <th></th>\n",
              "      <th>a</th>\n",
              "      <th>b</th>\n",
              "      <th>c</th>\n",
              "      <th>d</th>\n",
              "      <th>comments</th>\n",
              "    </tr>\n",
              "  </thead>\n",
              "  <tbody>\n",
              "    <tr>\n",
              "      <th>0</th>\n",
              "      <td>1</td>\n",
              "      <td>2</td>\n",
              "      <td>3</td>\n",
              "      <td>4</td>\n",
              "      <td>comment1</td>\n",
              "    </tr>\n",
              "    <tr>\n",
              "      <th>1</th>\n",
              "      <td>5</td>\n",
              "      <td>6</td>\n",
              "      <td>7</td>\n",
              "      <td>8</td>\n",
              "      <td>comment2</td>\n",
              "    </tr>\n",
              "    <tr>\n",
              "      <th>2</th>\n",
              "      <td>9</td>\n",
              "      <td>10</td>\n",
              "      <td>11</td>\n",
              "      <td>Adam</td>\n",
              "      <td>comment3</td>\n",
              "    </tr>\n",
              "    <tr>\n",
              "      <th>3</th>\n",
              "      <td>12</td>\n",
              "      <td>13</td>\n",
              "      <td>14</td>\n",
              "      <td>15</td>\n",
              "      <td>comment4</td>\n",
              "    </tr>\n",
              "    <tr>\n",
              "      <th>4</th>\n",
              "      <td>I1</td>\n",
              "      <td>16</td>\n",
              "      <td>17</td>\n",
              "      <td>18</td>\n",
              "      <td>comment5</td>\n",
              "    </tr>\n",
              "  </tbody>\n",
              "</table>\n",
              "</div>"
            ],
            "text/plain": [
              "    a   b   c     d  comments\n",
              "0   1   2   3     4  comment1\n",
              "1   5   6   7     8  comment2\n",
              "2   9  10  11  Adam  comment3\n",
              "3  12  13  14    15  comment4\n",
              "4  I1  16  17    18  comment5"
            ]
          },
          "metadata": {
            "tags": []
          },
          "execution_count": 11
        }
      ]
    },
    {
      "cell_type": "markdown",
      "metadata": {
        "id": "VL8zl-ajySa9"
      },
      "source": [
        "You can now see the data has been read into the DataFrame correctly."
      ]
    },
    {
      "cell_type": "markdown",
      "metadata": {
        "id": "jt80SC3NyUt1"
      },
      "source": [
        "## Skipping the specified rows while reading data from a file"
      ]
    },
    {
      "cell_type": "markdown",
      "metadata": {
        "id": "P7zct4KuyVfD"
      },
      "source": [
        "There could be scenarios where you need to ignore specific rows while reading the data from a file.\n",
        "\n",
        "For example:\n",
        "\n",
        "- when there are fixed-line comments at the top\n",
        "- when you have comments at the fixed-line numbers in the file\n",
        "- when you say the footer line in the text file.\n",
        "\n",
        "In this case, we will use the skiprows parameter of the read_csv function. We have to pass the index number of the row to this parameter. Whilst, in case we want to ignore multiple rows, we must be able to pass the list of row indexes to this parameter.\n",
        "\n",
        "For this task, consider the file with this data. Make sure you have the file named sample_data_comments.txt downloaded on your machine.\n",
        "\n",
        "In this particular case, we will ignore the first, second, third and sixth row bypassing the indexes 0,1,2 and 5 respectively. The code snippet below demonstrates this.\n",
        "\n",
        "Code:"
      ]
    },
    {
      "cell_type": "code",
      "metadata": {
        "colab": {
          "base_uri": "https://localhost:8080/",
          "height": 363
        },
        "id": "iNGMKv9FzWm2",
        "outputId": "13a17628-e322-4766-e28c-75adbc9cd707"
      },
      "source": [
        "filename = \"/content/dataset/sample_data_comments.txt\"\n",
        "names=['a','b','c','d','comments']\n",
        "df= pd.read_csv(filename, header=None, names=names)\n",
        "df"
      ],
      "execution_count": 12,
      "outputs": [
        {
          "output_type": "execute_result",
          "data": {
            "text/html": [
              "<div>\n",
              "<style scoped>\n",
              "    .dataframe tbody tr th:only-of-type {\n",
              "        vertical-align: middle;\n",
              "    }\n",
              "\n",
              "    .dataframe tbody tr th {\n",
              "        vertical-align: top;\n",
              "    }\n",
              "\n",
              "    .dataframe thead th {\n",
              "        text-align: right;\n",
              "    }\n",
              "</style>\n",
              "<table border=\"1\" class=\"dataframe\">\n",
              "  <thead>\n",
              "    <tr style=\"text-align: right;\">\n",
              "      <th></th>\n",
              "      <th>a</th>\n",
              "      <th>b</th>\n",
              "      <th>c</th>\n",
              "      <th>d</th>\n",
              "      <th>comments</th>\n",
              "    </tr>\n",
              "  </thead>\n",
              "  <tbody>\n",
              "    <tr>\n",
              "      <th>0</th>\n",
              "      <td>#This is the Row 1 to be ignored</td>\n",
              "      <td>NaN</td>\n",
              "      <td>NaN</td>\n",
              "      <td>NaN</td>\n",
              "      <td>NaN</td>\n",
              "    </tr>\n",
              "    <tr>\n",
              "      <th>1</th>\n",
              "      <td>#This is the Row 2 to be ignored</td>\n",
              "      <td>NaN</td>\n",
              "      <td>NaN</td>\n",
              "      <td>NaN</td>\n",
              "      <td>NaN</td>\n",
              "    </tr>\n",
              "    <tr>\n",
              "      <th>2</th>\n",
              "      <td>#This is the Comment Row 3 to be ignored</td>\n",
              "      <td>NaN</td>\n",
              "      <td>NaN</td>\n",
              "      <td>NaN</td>\n",
              "      <td>NaN</td>\n",
              "    </tr>\n",
              "    <tr>\n",
              "      <th>3</th>\n",
              "      <td>a</td>\n",
              "      <td>b</td>\n",
              "      <td>c</td>\n",
              "      <td>d</td>\n",
              "      <td>comments</td>\n",
              "    </tr>\n",
              "    <tr>\n",
              "      <th>4</th>\n",
              "      <td>1</td>\n",
              "      <td>2</td>\n",
              "      <td>3</td>\n",
              "      <td>4</td>\n",
              "      <td>comment1</td>\n",
              "    </tr>\n",
              "    <tr>\n",
              "      <th>5</th>\n",
              "      <td>#This is the 6th row in this file</td>\n",
              "      <td>to be ignored</td>\n",
              "      <td>NaN</td>\n",
              "      <td>NaN</td>\n",
              "      <td>NaN</td>\n",
              "    </tr>\n",
              "    <tr>\n",
              "      <th>6</th>\n",
              "      <td>5</td>\n",
              "      <td>6</td>\n",
              "      <td>7</td>\n",
              "      <td>8</td>\n",
              "      <td>comment2</td>\n",
              "    </tr>\n",
              "    <tr>\n",
              "      <th>7</th>\n",
              "      <td>9</td>\n",
              "      <td>10</td>\n",
              "      <td>11</td>\n",
              "      <td>Adam</td>\n",
              "      <td>comment3</td>\n",
              "    </tr>\n",
              "    <tr>\n",
              "      <th>8</th>\n",
              "      <td>12</td>\n",
              "      <td>13</td>\n",
              "      <td>14</td>\n",
              "      <td>15</td>\n",
              "      <td>comment4</td>\n",
              "    </tr>\n",
              "    <tr>\n",
              "      <th>9</th>\n",
              "      <td>I1</td>\n",
              "      <td>16</td>\n",
              "      <td>17</td>\n",
              "      <td>18</td>\n",
              "      <td>comment5</td>\n",
              "    </tr>\n",
              "  </tbody>\n",
              "</table>\n",
              "</div>"
            ],
            "text/plain": [
              "                                          a               b  ...     d  comments\n",
              "0          #This is the Row 1 to be ignored             NaN  ...   NaN       NaN\n",
              "1          #This is the Row 2 to be ignored             NaN  ...   NaN       NaN\n",
              "2  #This is the Comment Row 3 to be ignored             NaN  ...   NaN       NaN\n",
              "3                                         a               b  ...     d  comments\n",
              "4                                         1               2  ...     4  comment1\n",
              "5         #This is the 6th row in this file   to be ignored  ...   NaN       NaN\n",
              "6                                         5               6  ...     8  comment2\n",
              "7                                         9              10  ...  Adam  comment3\n",
              "8                                        12              13  ...    15  comment4\n",
              "9                                        I1              16  ...    18  comment5\n",
              "\n",
              "[10 rows x 5 columns]"
            ]
          },
          "metadata": {
            "tags": []
          },
          "execution_count": 12
        }
      ]
    },
    {
      "cell_type": "markdown",
      "metadata": {
        "id": "6fRgnku7zjlR"
      },
      "source": [
        "As you can see, if we don’t specify the skiprows parameter, the DataFrame has not been appropriately parsed. The first three comment rows have been read and depending on whether there is one, the value has been parsed into either the first column or more.\n",
        "\n",
        "We will now perform this read operation by correctly specifying the skiprows parameter. \n",
        "\n",
        "Code:"
      ]
    },
    {
      "cell_type": "code",
      "metadata": {
        "colab": {
          "base_uri": "https://localhost:8080/",
          "height": 238
        },
        "id": "EzRUrBJCzn4A",
        "outputId": "8e4dce4a-bc8a-413b-e897-c1e104757e2b"
      },
      "source": [
        "# remove specific row\n",
        "df= pd.read_csv(filename, header=None, names=names, skiprows=[0,1,2,5])\n",
        "df"
      ],
      "execution_count": 13,
      "outputs": [
        {
          "output_type": "execute_result",
          "data": {
            "text/html": [
              "<div>\n",
              "<style scoped>\n",
              "    .dataframe tbody tr th:only-of-type {\n",
              "        vertical-align: middle;\n",
              "    }\n",
              "\n",
              "    .dataframe tbody tr th {\n",
              "        vertical-align: top;\n",
              "    }\n",
              "\n",
              "    .dataframe thead th {\n",
              "        text-align: right;\n",
              "    }\n",
              "</style>\n",
              "<table border=\"1\" class=\"dataframe\">\n",
              "  <thead>\n",
              "    <tr style=\"text-align: right;\">\n",
              "      <th></th>\n",
              "      <th>a</th>\n",
              "      <th>b</th>\n",
              "      <th>c</th>\n",
              "      <th>d</th>\n",
              "      <th>comments</th>\n",
              "    </tr>\n",
              "  </thead>\n",
              "  <tbody>\n",
              "    <tr>\n",
              "      <th>0</th>\n",
              "      <td>a</td>\n",
              "      <td>b</td>\n",
              "      <td>c</td>\n",
              "      <td>d</td>\n",
              "      <td>comments</td>\n",
              "    </tr>\n",
              "    <tr>\n",
              "      <th>1</th>\n",
              "      <td>1</td>\n",
              "      <td>2</td>\n",
              "      <td>3</td>\n",
              "      <td>4</td>\n",
              "      <td>comment1</td>\n",
              "    </tr>\n",
              "    <tr>\n",
              "      <th>2</th>\n",
              "      <td>5</td>\n",
              "      <td>6</td>\n",
              "      <td>7</td>\n",
              "      <td>8</td>\n",
              "      <td>comment2</td>\n",
              "    </tr>\n",
              "    <tr>\n",
              "      <th>3</th>\n",
              "      <td>9</td>\n",
              "      <td>10</td>\n",
              "      <td>11</td>\n",
              "      <td>Adam</td>\n",
              "      <td>comment3</td>\n",
              "    </tr>\n",
              "    <tr>\n",
              "      <th>4</th>\n",
              "      <td>12</td>\n",
              "      <td>13</td>\n",
              "      <td>14</td>\n",
              "      <td>15</td>\n",
              "      <td>comment4</td>\n",
              "    </tr>\n",
              "    <tr>\n",
              "      <th>5</th>\n",
              "      <td>I1</td>\n",
              "      <td>16</td>\n",
              "      <td>17</td>\n",
              "      <td>18</td>\n",
              "      <td>comment5</td>\n",
              "    </tr>\n",
              "  </tbody>\n",
              "</table>\n",
              "</div>"
            ],
            "text/plain": [
              "    a   b   c     d  comments\n",
              "0   a   b   c     d  comments\n",
              "1   1   2   3     4  comment1\n",
              "2   5   6   7     8  comment2\n",
              "3   9  10  11  Adam  comment3\n",
              "4  12  13  14    15  comment4\n",
              "5  I1  16  17    18  comment5"
            ]
          },
          "metadata": {
            "tags": []
          },
          "execution_count": 13
        }
      ]
    },
    {
      "cell_type": "markdown",
      "metadata": {
        "id": "eVVrjJUezrc7"
      },
      "source": [
        "You can see the DataFrame has now been correctly populated."
      ]
    },
    {
      "cell_type": "markdown",
      "metadata": {
        "id": "T4KmHxOEzsIA"
      },
      "source": [
        "## Skipping the footer while reading a text file"
      ]
    },
    {
      "cell_type": "markdown",
      "metadata": {
        "id": "Zqw0fXsYzu8w"
      },
      "source": [
        "Similarly, a text file may contain elements such as a footer that you may want to ignore as a row while reading the file because it might be irrelevant to the analysis you are conducting. In such cases, you will use the parameter skipfooter and pass an integer value equal to the number of lines to ignore while reading the file.\n",
        "\n",
        "Make sure you have the file named sample_data_footer.txt downloaded on your machine.\n",
        "\n",
        "Code:"
      ]
    },
    {
      "cell_type": "code",
      "metadata": {
        "colab": {
          "base_uri": "https://localhost:8080/",
          "height": 294
        },
        "id": "tL-R3f_uz9ef",
        "outputId": "e261f6fc-47d9-4ba5-9f18-58709becd593"
      },
      "source": [
        "# remove the last row\n",
        "filename = \"/content/dataset/sample_data_footer.txt\"\n",
        "names=['a','b','c','d','comments']\n",
        "df= pd.read_csv(filename, header=None, names=names, skipfooter=1)\n",
        "df"
      ],
      "execution_count": 14,
      "outputs": [
        {
          "output_type": "stream",
          "text": [
            "/usr/local/lib/python3.7/dist-packages/ipykernel_launcher.py:4: ParserWarning: Falling back to the 'python' engine because the 'c' engine does not support skipfooter; you can avoid this warning by specifying engine='python'.\n",
            "  after removing the cwd from sys.path.\n"
          ],
          "name": "stderr"
        },
        {
          "output_type": "execute_result",
          "data": {
            "text/html": [
              "<div>\n",
              "<style scoped>\n",
              "    .dataframe tbody tr th:only-of-type {\n",
              "        vertical-align: middle;\n",
              "    }\n",
              "\n",
              "    .dataframe tbody tr th {\n",
              "        vertical-align: top;\n",
              "    }\n",
              "\n",
              "    .dataframe thead th {\n",
              "        text-align: right;\n",
              "    }\n",
              "</style>\n",
              "<table border=\"1\" class=\"dataframe\">\n",
              "  <thead>\n",
              "    <tr style=\"text-align: right;\">\n",
              "      <th></th>\n",
              "      <th>a</th>\n",
              "      <th>b</th>\n",
              "      <th>c</th>\n",
              "      <th>d</th>\n",
              "      <th>comments</th>\n",
              "    </tr>\n",
              "  </thead>\n",
              "  <tbody>\n",
              "    <tr>\n",
              "      <th>0</th>\n",
              "      <td>a</td>\n",
              "      <td>b</td>\n",
              "      <td>c</td>\n",
              "      <td>d</td>\n",
              "      <td>comments</td>\n",
              "    </tr>\n",
              "    <tr>\n",
              "      <th>1</th>\n",
              "      <td>1</td>\n",
              "      <td>2</td>\n",
              "      <td>3</td>\n",
              "      <td>4</td>\n",
              "      <td>comment1</td>\n",
              "    </tr>\n",
              "    <tr>\n",
              "      <th>2</th>\n",
              "      <td>5</td>\n",
              "      <td>6</td>\n",
              "      <td>7</td>\n",
              "      <td>8</td>\n",
              "      <td>comment2</td>\n",
              "    </tr>\n",
              "    <tr>\n",
              "      <th>3</th>\n",
              "      <td>9</td>\n",
              "      <td>10</td>\n",
              "      <td>11</td>\n",
              "      <td>Adam</td>\n",
              "      <td>comment3</td>\n",
              "    </tr>\n",
              "    <tr>\n",
              "      <th>4</th>\n",
              "      <td>12</td>\n",
              "      <td>13</td>\n",
              "      <td>14</td>\n",
              "      <td>15</td>\n",
              "      <td>comment4</td>\n",
              "    </tr>\n",
              "    <tr>\n",
              "      <th>5</th>\n",
              "      <td>I1</td>\n",
              "      <td>16</td>\n",
              "      <td>17</td>\n",
              "      <td>18</td>\n",
              "      <td>comment5</td>\n",
              "    </tr>\n",
              "  </tbody>\n",
              "</table>\n",
              "</div>"
            ],
            "text/plain": [
              "    a   b   c     d  comments\n",
              "0   a   b   c     d  comments\n",
              "1   1   2   3     4  comment1\n",
              "2   5   6   7     8  comment2\n",
              "3   9  10  11  Adam  comment3\n",
              "4  12  13  14    15  comment4\n",
              "5  I1  16  17    18  comment5"
            ]
          },
          "metadata": {
            "tags": []
          },
          "execution_count": 14
        }
      ]
    },
    {
      "cell_type": "markdown",
      "metadata": {
        "id": "uZ5oaEir0mFR"
      },
      "source": [
        "# Handling missing data"
      ]
    },
    {
      "cell_type": "markdown",
      "metadata": {
        "id": "b9P2zkI40nmR"
      },
      "source": [
        "## Handling missing data while reading data from a file"
      ]
    },
    {
      "cell_type": "markdown",
      "metadata": {
        "id": "tGzDQ7V20rF5"
      },
      "source": [
        "In the examples shown, you may have observed that when data is missing, the default behaviour is to replace the missing value with NaN. Handling missing values is an integral part of the file-parsing process, with some subtle nuances:\n",
        "\n",
        "- Explicitly specifying the input values to be considered as missing values while reading the file. These are scenarios when a specific naming convention may denote the missing values in the input file. For example:\n",
        "\n",
        "  - Some data might have ‘Missing’ to specify the missing data values\n",
        "  - Some might even have ‘99999999’ to specify missing reading in case of numeric values\n",
        "  - Some might even have a combination of both ‘Missing’ and ‘99999999’ for different data columns in the file\n",
        "\n",
        "If you consider the next file example, some rows have missing values. Look for no value between two commas. Also, there are some rows where it is explicitly noted as ‘Missing’ (the notation could be anything; eg, NA instead of missing).\n",
        "\n",
        "Make sure you have the file named sample_data_missingvalues.txt downloaded on your machine.\n",
        "\n",
        "The code snippet demonstrates reading this file first without explicitly specifying that ‘Missing’ be considered as a missing value.\n",
        "\n",
        "Code:"
      ]
    },
    {
      "cell_type": "code",
      "metadata": {
        "colab": {
          "base_uri": "https://localhost:8080/",
          "height": 269
        },
        "id": "ubKfW5C503L6",
        "outputId": "f8db2fc9-330b-4d2e-c59c-a9c39057688c"
      },
      "source": [
        "filename = \"/content/dataset/sample_data_missingvalues.txt\"\n",
        "names=['a','b','c','d','comments','Value']\n",
        "df= pd.read_csv(filename, header=None, names=names)\n",
        "df"
      ],
      "execution_count": 15,
      "outputs": [
        {
          "output_type": "execute_result",
          "data": {
            "text/html": [
              "<div>\n",
              "<style scoped>\n",
              "    .dataframe tbody tr th:only-of-type {\n",
              "        vertical-align: middle;\n",
              "    }\n",
              "\n",
              "    .dataframe tbody tr th {\n",
              "        vertical-align: top;\n",
              "    }\n",
              "\n",
              "    .dataframe thead th {\n",
              "        text-align: right;\n",
              "    }\n",
              "</style>\n",
              "<table border=\"1\" class=\"dataframe\">\n",
              "  <thead>\n",
              "    <tr style=\"text-align: right;\">\n",
              "      <th></th>\n",
              "      <th>a</th>\n",
              "      <th>b</th>\n",
              "      <th>c</th>\n",
              "      <th>d</th>\n",
              "      <th>comments</th>\n",
              "      <th>Value</th>\n",
              "    </tr>\n",
              "  </thead>\n",
              "  <tbody>\n",
              "    <tr>\n",
              "      <th>0</th>\n",
              "      <td>1</td>\n",
              "      <td>2</td>\n",
              "      <td>NaN</td>\n",
              "      <td>4</td>\n",
              "      <td>comment1</td>\n",
              "      <td>1</td>\n",
              "    </tr>\n",
              "    <tr>\n",
              "      <th>1</th>\n",
              "      <td>5</td>\n",
              "      <td>NaN</td>\n",
              "      <td>7</td>\n",
              "      <td>8</td>\n",
              "      <td>comment2</td>\n",
              "      <td>2</td>\n",
              "    </tr>\n",
              "    <tr>\n",
              "      <th>2</th>\n",
              "      <td>9</td>\n",
              "      <td>foo</td>\n",
              "      <td>foo</td>\n",
              "      <td>Adam</td>\n",
              "      <td>NaN</td>\n",
              "      <td>3</td>\n",
              "    </tr>\n",
              "    <tr>\n",
              "      <th>3</th>\n",
              "      <td>12</td>\n",
              "      <td>foo</td>\n",
              "      <td>14</td>\n",
              "      <td>15</td>\n",
              "      <td>comment4</td>\n",
              "      <td>999999</td>\n",
              "    </tr>\n",
              "    <tr>\n",
              "      <th>4</th>\n",
              "      <td>I1</td>\n",
              "      <td>16</td>\n",
              "      <td>17</td>\n",
              "      <td>18</td>\n",
              "      <td>comment5</td>\n",
              "      <td>999999</td>\n",
              "    </tr>\n",
              "    <tr>\n",
              "      <th>5</th>\n",
              "      <td>I2</td>\n",
              "      <td>Missing</td>\n",
              "      <td>18</td>\n",
              "      <td>19</td>\n",
              "      <td>Missing</td>\n",
              "      <td>4</td>\n",
              "    </tr>\n",
              "    <tr>\n",
              "      <th>6</th>\n",
              "      <td>I3</td>\n",
              "      <td>Missing</td>\n",
              "      <td>Missing</td>\n",
              "      <td>20</td>\n",
              "      <td>comments added</td>\n",
              "      <td>-1</td>\n",
              "    </tr>\n",
              "  </tbody>\n",
              "</table>\n",
              "</div>"
            ],
            "text/plain": [
              "    a        b        c     d        comments   Value\n",
              "0   1        2      NaN     4        comment1       1\n",
              "1   5      NaN        7     8        comment2       2\n",
              "2   9      foo      foo  Adam             NaN       3\n",
              "3  12      foo       14    15        comment4  999999\n",
              "4  I1       16       17    18        comment5  999999\n",
              "5  I2  Missing       18    19         Missing       4\n",
              "6  I3  Missing  Missing    20  comments added      -1"
            ]
          },
          "metadata": {
            "tags": []
          },
          "execution_count": 15
        }
      ]
    },
    {
      "cell_type": "markdown",
      "metadata": {
        "id": "2vlULa_81RSG"
      },
      "source": [
        "Now, let’s read the same file by specifying the missing values using the na_values parameter.\n",
        "\n",
        "Code:"
      ]
    },
    {
      "cell_type": "code",
      "metadata": {
        "colab": {
          "base_uri": "https://localhost:8080/",
          "height": 269
        },
        "id": "bbVKvyyP1SKM",
        "outputId": "f3294941-9965-4de4-854b-da7f4f22b47f"
      },
      "source": [
        "# replace the Missing with the NaN\n",
        "df= pd.read_csv(filename, header=None, names=names, na_values=\"Missing\")\n",
        "df"
      ],
      "execution_count": 16,
      "outputs": [
        {
          "output_type": "execute_result",
          "data": {
            "text/html": [
              "<div>\n",
              "<style scoped>\n",
              "    .dataframe tbody tr th:only-of-type {\n",
              "        vertical-align: middle;\n",
              "    }\n",
              "\n",
              "    .dataframe tbody tr th {\n",
              "        vertical-align: top;\n",
              "    }\n",
              "\n",
              "    .dataframe thead th {\n",
              "        text-align: right;\n",
              "    }\n",
              "</style>\n",
              "<table border=\"1\" class=\"dataframe\">\n",
              "  <thead>\n",
              "    <tr style=\"text-align: right;\">\n",
              "      <th></th>\n",
              "      <th>a</th>\n",
              "      <th>b</th>\n",
              "      <th>c</th>\n",
              "      <th>d</th>\n",
              "      <th>comments</th>\n",
              "      <th>Value</th>\n",
              "    </tr>\n",
              "  </thead>\n",
              "  <tbody>\n",
              "    <tr>\n",
              "      <th>0</th>\n",
              "      <td>1</td>\n",
              "      <td>2</td>\n",
              "      <td>NaN</td>\n",
              "      <td>4</td>\n",
              "      <td>comment1</td>\n",
              "      <td>1</td>\n",
              "    </tr>\n",
              "    <tr>\n",
              "      <th>1</th>\n",
              "      <td>5</td>\n",
              "      <td>NaN</td>\n",
              "      <td>7</td>\n",
              "      <td>8</td>\n",
              "      <td>comment2</td>\n",
              "      <td>2</td>\n",
              "    </tr>\n",
              "    <tr>\n",
              "      <th>2</th>\n",
              "      <td>9</td>\n",
              "      <td>foo</td>\n",
              "      <td>foo</td>\n",
              "      <td>Adam</td>\n",
              "      <td>NaN</td>\n",
              "      <td>3</td>\n",
              "    </tr>\n",
              "    <tr>\n",
              "      <th>3</th>\n",
              "      <td>12</td>\n",
              "      <td>foo</td>\n",
              "      <td>14</td>\n",
              "      <td>15</td>\n",
              "      <td>comment4</td>\n",
              "      <td>999999</td>\n",
              "    </tr>\n",
              "    <tr>\n",
              "      <th>4</th>\n",
              "      <td>I1</td>\n",
              "      <td>16</td>\n",
              "      <td>17</td>\n",
              "      <td>18</td>\n",
              "      <td>comment5</td>\n",
              "      <td>999999</td>\n",
              "    </tr>\n",
              "    <tr>\n",
              "      <th>5</th>\n",
              "      <td>I2</td>\n",
              "      <td>NaN</td>\n",
              "      <td>18</td>\n",
              "      <td>19</td>\n",
              "      <td>NaN</td>\n",
              "      <td>4</td>\n",
              "    </tr>\n",
              "    <tr>\n",
              "      <th>6</th>\n",
              "      <td>I3</td>\n",
              "      <td>NaN</td>\n",
              "      <td>NaN</td>\n",
              "      <td>20</td>\n",
              "      <td>comments added</td>\n",
              "      <td>-1</td>\n",
              "    </tr>\n",
              "  </tbody>\n",
              "</table>\n",
              "</div>"
            ],
            "text/plain": [
              "    a    b    c     d        comments   Value\n",
              "0   1    2  NaN     4        comment1       1\n",
              "1   5  NaN    7     8        comment2       2\n",
              "2   9  foo  foo  Adam             NaN       3\n",
              "3  12  foo   14    15        comment4  999999\n",
              "4  I1   16   17    18        comment5  999999\n",
              "5  I2  NaN   18    19             NaN       4\n",
              "6  I3  NaN  NaN    20  comments added      -1"
            ]
          },
          "metadata": {
            "tags": []
          },
          "execution_count": 16
        }
      ]
    },
    {
      "cell_type": "markdown",
      "metadata": {
        "id": "csr1Wl9X1d_l"
      },
      "source": [
        "Based on these results, the following can be observed:\n",
        "\n",
        "- Row index 5, and columns b and comments – the string ‘Missing’ has been inferred as missing value NaN.\n",
        "- Row index 6 and column b and c – the string ‘Missing’ has been inferred as missing value NaN.\n",
        "\n",
        "We can extend this scenario and set the following requirements:\n",
        "\n",
        "- Columns a,b,c,d and comments – string ‘Missing’ has to be treated as missing values.\n",
        "- Column ‘Value’ – value 999999 has to be treated as a missing value.\n",
        "\n",
        "This can be achieved by passing the dictionary object to na_values where:\n",
        "\n",
        "- key – the name of columns.\n",
        "- value – the list of values to be considered as the missing value for those columns.\n",
        "\n",
        "The code snippets demonstrate how:\n",
        "\n",
        "- The values ‘foo’ and ‘Missing’ will be considered as missing values for columns a,b,c,d and comments.\n",
        "- The values -1 and 999999 will be considered as the missing value for the column Value.\n",
        "\n",
        "Code:"
      ]
    },
    {
      "cell_type": "code",
      "metadata": {
        "colab": {
          "base_uri": "https://localhost:8080/",
          "height": 269
        },
        "id": "wYGrxofh1q3J",
        "outputId": "0152107e-2833-4fc0-d9c9-0022f9477e1c"
      },
      "source": [
        "# replace the foo to the Missing and replace the Missing to the NaN\n",
        "# replace 999999 to -1 to NaN\n",
        "dict_missing = {\n",
        "\t'a':['foo','Missing'],\n",
        "\t'b':['foo','Missing'],\n",
        "\t'c':['foo','Missing'],\n",
        "\t'd':['foo','Missing'],\n",
        "\t'comments':['foo','Missing'],\n",
        "\t'Value':[999999, -1]\n",
        "}\n",
        "\n",
        "df= pd.read_csv(filename, header=None, names=names, na_values=dict_missing)\n",
        "df"
      ],
      "execution_count": 17,
      "outputs": [
        {
          "output_type": "execute_result",
          "data": {
            "text/html": [
              "<div>\n",
              "<style scoped>\n",
              "    .dataframe tbody tr th:only-of-type {\n",
              "        vertical-align: middle;\n",
              "    }\n",
              "\n",
              "    .dataframe tbody tr th {\n",
              "        vertical-align: top;\n",
              "    }\n",
              "\n",
              "    .dataframe thead th {\n",
              "        text-align: right;\n",
              "    }\n",
              "</style>\n",
              "<table border=\"1\" class=\"dataframe\">\n",
              "  <thead>\n",
              "    <tr style=\"text-align: right;\">\n",
              "      <th></th>\n",
              "      <th>a</th>\n",
              "      <th>b</th>\n",
              "      <th>c</th>\n",
              "      <th>d</th>\n",
              "      <th>comments</th>\n",
              "      <th>Value</th>\n",
              "    </tr>\n",
              "  </thead>\n",
              "  <tbody>\n",
              "    <tr>\n",
              "      <th>0</th>\n",
              "      <td>1</td>\n",
              "      <td>2.0</td>\n",
              "      <td>NaN</td>\n",
              "      <td>4</td>\n",
              "      <td>comment1</td>\n",
              "      <td>1.0</td>\n",
              "    </tr>\n",
              "    <tr>\n",
              "      <th>1</th>\n",
              "      <td>5</td>\n",
              "      <td>NaN</td>\n",
              "      <td>7.0</td>\n",
              "      <td>8</td>\n",
              "      <td>comment2</td>\n",
              "      <td>2.0</td>\n",
              "    </tr>\n",
              "    <tr>\n",
              "      <th>2</th>\n",
              "      <td>9</td>\n",
              "      <td>NaN</td>\n",
              "      <td>NaN</td>\n",
              "      <td>Adam</td>\n",
              "      <td>NaN</td>\n",
              "      <td>3.0</td>\n",
              "    </tr>\n",
              "    <tr>\n",
              "      <th>3</th>\n",
              "      <td>12</td>\n",
              "      <td>NaN</td>\n",
              "      <td>14.0</td>\n",
              "      <td>15</td>\n",
              "      <td>comment4</td>\n",
              "      <td>NaN</td>\n",
              "    </tr>\n",
              "    <tr>\n",
              "      <th>4</th>\n",
              "      <td>I1</td>\n",
              "      <td>16.0</td>\n",
              "      <td>17.0</td>\n",
              "      <td>18</td>\n",
              "      <td>comment5</td>\n",
              "      <td>NaN</td>\n",
              "    </tr>\n",
              "    <tr>\n",
              "      <th>5</th>\n",
              "      <td>I2</td>\n",
              "      <td>NaN</td>\n",
              "      <td>18.0</td>\n",
              "      <td>19</td>\n",
              "      <td>NaN</td>\n",
              "      <td>4.0</td>\n",
              "    </tr>\n",
              "    <tr>\n",
              "      <th>6</th>\n",
              "      <td>I3</td>\n",
              "      <td>NaN</td>\n",
              "      <td>NaN</td>\n",
              "      <td>20</td>\n",
              "      <td>comments added</td>\n",
              "      <td>NaN</td>\n",
              "    </tr>\n",
              "  </tbody>\n",
              "</table>\n",
              "</div>"
            ],
            "text/plain": [
              "    a     b     c     d        comments  Value\n",
              "0   1   2.0   NaN     4        comment1    1.0\n",
              "1   5   NaN   7.0     8        comment2    2.0\n",
              "2   9   NaN   NaN  Adam             NaN    3.0\n",
              "3  12   NaN  14.0    15        comment4    NaN\n",
              "4  I1  16.0  17.0    18        comment5    NaN\n",
              "5  I2   NaN  18.0    19             NaN    4.0\n",
              "6  I3   NaN   NaN    20  comments added    NaN"
            ]
          },
          "metadata": {
            "tags": []
          },
          "execution_count": 17
        }
      ]
    },
    {
      "cell_type": "markdown",
      "metadata": {
        "id": "DSMb38lU2jN2"
      },
      "source": [
        "# Reading the text files in pieces"
      ]
    },
    {
      "cell_type": "markdown",
      "metadata": {
        "id": "41xPvqv72kSD"
      },
      "source": [
        "When processing huge files, you may want to:\n",
        "\n",
        "- only read a small portion of the file to figure out the right set of arguments to be used\n",
        "- read the file in smaller chunks and iterate over it sequentially.\n",
        "\n",
        "There are two parameters we can use in this scenario:\n",
        "\n",
        "- nrows – specifies the number of rows to be read.\n",
        "- chunksize – specifies the number of rows to be read as one chunk. In this particular case, the read_csv will return a File Iterator instead of a DataFrame. We can use this iterator to create the resulting DataFrame or perform quantitative calculations.\n",
        "\n",
        "Make sure you have the file named sample_data_large.csv downloaded on your machine.\n",
        "\n",
        "The code snippet demonstrates using nrows.\n",
        "\n",
        "Code:"
      ]
    },
    {
      "cell_type": "code",
      "metadata": {
        "colab": {
          "base_uri": "https://localhost:8080/",
          "height": 363
        },
        "id": "YKJ456bg22lB",
        "outputId": "dc27eaa1-3c7f-41ba-9f8d-1882110e9e12"
      },
      "source": [
        "# show the top 10 row\n",
        "filename = \"/content/dataset/sample_data_large.csv\"\n",
        "df= pd.read_csv(filename, nrows=10)\n",
        "df"
      ],
      "execution_count": 18,
      "outputs": [
        {
          "output_type": "execute_result",
          "data": {
            "text/html": [
              "<div>\n",
              "<style scoped>\n",
              "    .dataframe tbody tr th:only-of-type {\n",
              "        vertical-align: middle;\n",
              "    }\n",
              "\n",
              "    .dataframe tbody tr th {\n",
              "        vertical-align: top;\n",
              "    }\n",
              "\n",
              "    .dataframe thead th {\n",
              "        text-align: right;\n",
              "    }\n",
              "</style>\n",
              "<table border=\"1\" class=\"dataframe\">\n",
              "  <thead>\n",
              "    <tr style=\"text-align: right;\">\n",
              "      <th></th>\n",
              "      <th>Row Label</th>\n",
              "      <th>Column 1</th>\n",
              "      <th>Column 2</th>\n",
              "      <th>Column 3</th>\n",
              "      <th>Column 4</th>\n",
              "      <th>Values</th>\n",
              "    </tr>\n",
              "  </thead>\n",
              "  <tbody>\n",
              "    <tr>\n",
              "      <th>0</th>\n",
              "      <td>R1</td>\n",
              "      <td>78</td>\n",
              "      <td>1128</td>\n",
              "      <td>9336</td>\n",
              "      <td>6111</td>\n",
              "      <td>21069</td>\n",
              "    </tr>\n",
              "    <tr>\n",
              "      <th>1</th>\n",
              "      <td>R2</td>\n",
              "      <td>77</td>\n",
              "      <td>2881</td>\n",
              "      <td>8379</td>\n",
              "      <td>801</td>\n",
              "      <td>822749</td>\n",
              "    </tr>\n",
              "    <tr>\n",
              "      <th>2</th>\n",
              "      <td>R3</td>\n",
              "      <td>62</td>\n",
              "      <td>2966</td>\n",
              "      <td>6989</td>\n",
              "      <td>241</td>\n",
              "      <td>869213</td>\n",
              "    </tr>\n",
              "    <tr>\n",
              "      <th>3</th>\n",
              "      <td>R4</td>\n",
              "      <td>91</td>\n",
              "      <td>8032</td>\n",
              "      <td>4315</td>\n",
              "      <td>6801</td>\n",
              "      <td>198173</td>\n",
              "    </tr>\n",
              "    <tr>\n",
              "      <th>4</th>\n",
              "      <td>R5</td>\n",
              "      <td>0</td>\n",
              "      <td>6983</td>\n",
              "      <td>7195</td>\n",
              "      <td>7615</td>\n",
              "      <td>464909</td>\n",
              "    </tr>\n",
              "    <tr>\n",
              "      <th>5</th>\n",
              "      <td>R6</td>\n",
              "      <td>17</td>\n",
              "      <td>2322</td>\n",
              "      <td>1139</td>\n",
              "      <td>2828</td>\n",
              "      <td>438359</td>\n",
              "    </tr>\n",
              "    <tr>\n",
              "      <th>6</th>\n",
              "      <td>R7</td>\n",
              "      <td>95</td>\n",
              "      <td>7205</td>\n",
              "      <td>4518</td>\n",
              "      <td>3437</td>\n",
              "      <td>54932</td>\n",
              "    </tr>\n",
              "    <tr>\n",
              "      <th>7</th>\n",
              "      <td>R8</td>\n",
              "      <td>32</td>\n",
              "      <td>6033</td>\n",
              "      <td>392</td>\n",
              "      <td>1725</td>\n",
              "      <td>785029</td>\n",
              "    </tr>\n",
              "    <tr>\n",
              "      <th>8</th>\n",
              "      <td>R9</td>\n",
              "      <td>1</td>\n",
              "      <td>6710</td>\n",
              "      <td>2368</td>\n",
              "      <td>1858</td>\n",
              "      <td>41489</td>\n",
              "    </tr>\n",
              "    <tr>\n",
              "      <th>9</th>\n",
              "      <td>R10</td>\n",
              "      <td>25</td>\n",
              "      <td>8678</td>\n",
              "      <td>1519</td>\n",
              "      <td>3866</td>\n",
              "      <td>481310</td>\n",
              "    </tr>\n",
              "  </tbody>\n",
              "</table>\n",
              "</div>"
            ],
            "text/plain": [
              "  Row Label  Column 1  Column 2  Column 3  Column 4  Values\n",
              "0        R1        78      1128      9336      6111   21069\n",
              "1        R2        77      2881      8379       801  822749\n",
              "2        R3        62      2966      6989       241  869213\n",
              "3        R4        91      8032      4315      6801  198173\n",
              "4        R5         0      6983      7195      7615  464909\n",
              "5        R6        17      2322      1139      2828  438359\n",
              "6        R7        95      7205      4518      3437   54932\n",
              "7        R8        32      6033       392      1725  785029\n",
              "8        R9         1      6710      2368      1858   41489\n",
              "9       R10        25      8678      1519      3866  481310"
            ]
          },
          "metadata": {
            "tags": []
          },
          "execution_count": 18
        }
      ]
    },
    {
      "cell_type": "markdown",
      "metadata": {
        "id": "votcYbuA5pzh"
      },
      "source": [
        "As you can see, only the 10 top rows have been read in this particular case. The next code snippet demonstrates the use of chunksize and File Iterator."
      ]
    },
    {
      "cell_type": "code",
      "metadata": {
        "colab": {
          "base_uri": "https://localhost:8080/"
        },
        "id": "Qih2lRBa47oC",
        "outputId": "17846f8a-3afa-4c1e-b79b-65338793e231"
      },
      "source": [
        "# show row number\n",
        "df= pd.read_csv(filename)\n",
        "df.shape[0]+1"
      ],
      "execution_count": 19,
      "outputs": [
        {
          "output_type": "execute_result",
          "data": {
            "text/plain": [
              "1048576"
            ]
          },
          "metadata": {
            "tags": []
          },
          "execution_count": 19
        }
      ]
    },
    {
      "cell_type": "code",
      "metadata": {
        "colab": {
          "base_uri": "https://localhost:8080/",
          "height": 424
        },
        "id": "Ys1-C9-y30Ht",
        "outputId": "a062804a-83b3-4f67-d106-947c14855eee"
      },
      "source": [
        "# show 10 row\n",
        "df= pd.read_csv(filename)\n",
        "pd.set_option('display.max_rows', 10)\n",
        "df"
      ],
      "execution_count": 20,
      "outputs": [
        {
          "output_type": "execute_result",
          "data": {
            "text/html": [
              "<div>\n",
              "<style scoped>\n",
              "    .dataframe tbody tr th:only-of-type {\n",
              "        vertical-align: middle;\n",
              "    }\n",
              "\n",
              "    .dataframe tbody tr th {\n",
              "        vertical-align: top;\n",
              "    }\n",
              "\n",
              "    .dataframe thead th {\n",
              "        text-align: right;\n",
              "    }\n",
              "</style>\n",
              "<table border=\"1\" class=\"dataframe\">\n",
              "  <thead>\n",
              "    <tr style=\"text-align: right;\">\n",
              "      <th></th>\n",
              "      <th>Row Label</th>\n",
              "      <th>Column 1</th>\n",
              "      <th>Column 2</th>\n",
              "      <th>Column 3</th>\n",
              "      <th>Column 4</th>\n",
              "      <th>Values</th>\n",
              "    </tr>\n",
              "  </thead>\n",
              "  <tbody>\n",
              "    <tr>\n",
              "      <th>0</th>\n",
              "      <td>R1</td>\n",
              "      <td>78</td>\n",
              "      <td>1128</td>\n",
              "      <td>9336</td>\n",
              "      <td>6111</td>\n",
              "      <td>21069</td>\n",
              "    </tr>\n",
              "    <tr>\n",
              "      <th>1</th>\n",
              "      <td>R2</td>\n",
              "      <td>77</td>\n",
              "      <td>2881</td>\n",
              "      <td>8379</td>\n",
              "      <td>801</td>\n",
              "      <td>822749</td>\n",
              "    </tr>\n",
              "    <tr>\n",
              "      <th>2</th>\n",
              "      <td>R3</td>\n",
              "      <td>62</td>\n",
              "      <td>2966</td>\n",
              "      <td>6989</td>\n",
              "      <td>241</td>\n",
              "      <td>869213</td>\n",
              "    </tr>\n",
              "    <tr>\n",
              "      <th>3</th>\n",
              "      <td>R4</td>\n",
              "      <td>91</td>\n",
              "      <td>8032</td>\n",
              "      <td>4315</td>\n",
              "      <td>6801</td>\n",
              "      <td>198173</td>\n",
              "    </tr>\n",
              "    <tr>\n",
              "      <th>4</th>\n",
              "      <td>R5</td>\n",
              "      <td>0</td>\n",
              "      <td>6983</td>\n",
              "      <td>7195</td>\n",
              "      <td>7615</td>\n",
              "      <td>464909</td>\n",
              "    </tr>\n",
              "    <tr>\n",
              "      <th>...</th>\n",
              "      <td>...</td>\n",
              "      <td>...</td>\n",
              "      <td>...</td>\n",
              "      <td>...</td>\n",
              "      <td>...</td>\n",
              "      <td>...</td>\n",
              "    </tr>\n",
              "    <tr>\n",
              "      <th>1048570</th>\n",
              "      <td>R1048571</td>\n",
              "      <td>9</td>\n",
              "      <td>5727</td>\n",
              "      <td>3920</td>\n",
              "      <td>3927</td>\n",
              "      <td>853689</td>\n",
              "    </tr>\n",
              "    <tr>\n",
              "      <th>1048571</th>\n",
              "      <td>R1048572</td>\n",
              "      <td>80</td>\n",
              "      <td>6758</td>\n",
              "      <td>9772</td>\n",
              "      <td>9576</td>\n",
              "      <td>519973</td>\n",
              "    </tr>\n",
              "    <tr>\n",
              "      <th>1048572</th>\n",
              "      <td>R1048573</td>\n",
              "      <td>95</td>\n",
              "      <td>7793</td>\n",
              "      <td>3635</td>\n",
              "      <td>5936</td>\n",
              "      <td>220089</td>\n",
              "    </tr>\n",
              "    <tr>\n",
              "      <th>1048573</th>\n",
              "      <td>R1048574</td>\n",
              "      <td>9</td>\n",
              "      <td>1984</td>\n",
              "      <td>5527</td>\n",
              "      <td>8149</td>\n",
              "      <td>823118</td>\n",
              "    </tr>\n",
              "    <tr>\n",
              "      <th>1048574</th>\n",
              "      <td>R1048575</td>\n",
              "      <td>3</td>\n",
              "      <td>5225</td>\n",
              "      <td>8501</td>\n",
              "      <td>321</td>\n",
              "      <td>396382</td>\n",
              "    </tr>\n",
              "  </tbody>\n",
              "</table>\n",
              "<p>1048575 rows × 6 columns</p>\n",
              "</div>"
            ],
            "text/plain": [
              "        Row Label  Column 1  Column 2  Column 3  Column 4  Values\n",
              "0              R1        78      1128      9336      6111   21069\n",
              "1              R2        77      2881      8379       801  822749\n",
              "2              R3        62      2966      6989       241  869213\n",
              "3              R4        91      8032      4315      6801  198173\n",
              "4              R5         0      6983      7195      7615  464909\n",
              "...           ...       ...       ...       ...       ...     ...\n",
              "1048570  R1048571         9      5727      3920      3927  853689\n",
              "1048571  R1048572        80      6758      9772      9576  519973\n",
              "1048572  R1048573        95      7793      3635      5936  220089\n",
              "1048573  R1048574         9      1984      5527      8149  823118\n",
              "1048574  R1048575         3      5225      8501       321  396382\n",
              "\n",
              "[1048575 rows x 6 columns]"
            ]
          },
          "metadata": {
            "tags": []
          },
          "execution_count": 20
        }
      ]
    },
    {
      "cell_type": "code",
      "metadata": {
        "colab": {
          "base_uri": "https://localhost:8080/",
          "height": 424
        },
        "id": "gGpE9ItG5tK6",
        "outputId": "2a1c2c25-b9bc-4ef2-abb3-18cf07640728"
      },
      "source": [
        "filename = \"/content/dataset/sample_data_large.csv\"\n",
        "df= pd.read_csv(filename)\n",
        "df"
      ],
      "execution_count": 21,
      "outputs": [
        {
          "output_type": "execute_result",
          "data": {
            "text/html": [
              "<div>\n",
              "<style scoped>\n",
              "    .dataframe tbody tr th:only-of-type {\n",
              "        vertical-align: middle;\n",
              "    }\n",
              "\n",
              "    .dataframe tbody tr th {\n",
              "        vertical-align: top;\n",
              "    }\n",
              "\n",
              "    .dataframe thead th {\n",
              "        text-align: right;\n",
              "    }\n",
              "</style>\n",
              "<table border=\"1\" class=\"dataframe\">\n",
              "  <thead>\n",
              "    <tr style=\"text-align: right;\">\n",
              "      <th></th>\n",
              "      <th>Row Label</th>\n",
              "      <th>Column 1</th>\n",
              "      <th>Column 2</th>\n",
              "      <th>Column 3</th>\n",
              "      <th>Column 4</th>\n",
              "      <th>Values</th>\n",
              "    </tr>\n",
              "  </thead>\n",
              "  <tbody>\n",
              "    <tr>\n",
              "      <th>0</th>\n",
              "      <td>R1</td>\n",
              "      <td>78</td>\n",
              "      <td>1128</td>\n",
              "      <td>9336</td>\n",
              "      <td>6111</td>\n",
              "      <td>21069</td>\n",
              "    </tr>\n",
              "    <tr>\n",
              "      <th>1</th>\n",
              "      <td>R2</td>\n",
              "      <td>77</td>\n",
              "      <td>2881</td>\n",
              "      <td>8379</td>\n",
              "      <td>801</td>\n",
              "      <td>822749</td>\n",
              "    </tr>\n",
              "    <tr>\n",
              "      <th>2</th>\n",
              "      <td>R3</td>\n",
              "      <td>62</td>\n",
              "      <td>2966</td>\n",
              "      <td>6989</td>\n",
              "      <td>241</td>\n",
              "      <td>869213</td>\n",
              "    </tr>\n",
              "    <tr>\n",
              "      <th>3</th>\n",
              "      <td>R4</td>\n",
              "      <td>91</td>\n",
              "      <td>8032</td>\n",
              "      <td>4315</td>\n",
              "      <td>6801</td>\n",
              "      <td>198173</td>\n",
              "    </tr>\n",
              "    <tr>\n",
              "      <th>4</th>\n",
              "      <td>R5</td>\n",
              "      <td>0</td>\n",
              "      <td>6983</td>\n",
              "      <td>7195</td>\n",
              "      <td>7615</td>\n",
              "      <td>464909</td>\n",
              "    </tr>\n",
              "    <tr>\n",
              "      <th>...</th>\n",
              "      <td>...</td>\n",
              "      <td>...</td>\n",
              "      <td>...</td>\n",
              "      <td>...</td>\n",
              "      <td>...</td>\n",
              "      <td>...</td>\n",
              "    </tr>\n",
              "    <tr>\n",
              "      <th>1048570</th>\n",
              "      <td>R1048571</td>\n",
              "      <td>9</td>\n",
              "      <td>5727</td>\n",
              "      <td>3920</td>\n",
              "      <td>3927</td>\n",
              "      <td>853689</td>\n",
              "    </tr>\n",
              "    <tr>\n",
              "      <th>1048571</th>\n",
              "      <td>R1048572</td>\n",
              "      <td>80</td>\n",
              "      <td>6758</td>\n",
              "      <td>9772</td>\n",
              "      <td>9576</td>\n",
              "      <td>519973</td>\n",
              "    </tr>\n",
              "    <tr>\n",
              "      <th>1048572</th>\n",
              "      <td>R1048573</td>\n",
              "      <td>95</td>\n",
              "      <td>7793</td>\n",
              "      <td>3635</td>\n",
              "      <td>5936</td>\n",
              "      <td>220089</td>\n",
              "    </tr>\n",
              "    <tr>\n",
              "      <th>1048573</th>\n",
              "      <td>R1048574</td>\n",
              "      <td>9</td>\n",
              "      <td>1984</td>\n",
              "      <td>5527</td>\n",
              "      <td>8149</td>\n",
              "      <td>823118</td>\n",
              "    </tr>\n",
              "    <tr>\n",
              "      <th>1048574</th>\n",
              "      <td>R1048575</td>\n",
              "      <td>3</td>\n",
              "      <td>5225</td>\n",
              "      <td>8501</td>\n",
              "      <td>321</td>\n",
              "      <td>396382</td>\n",
              "    </tr>\n",
              "  </tbody>\n",
              "</table>\n",
              "<p>1048575 rows × 6 columns</p>\n",
              "</div>"
            ],
            "text/plain": [
              "        Row Label  Column 1  Column 2  Column 3  Column 4  Values\n",
              "0              R1        78      1128      9336      6111   21069\n",
              "1              R2        77      2881      8379       801  822749\n",
              "2              R3        62      2966      6989       241  869213\n",
              "3              R4        91      8032      4315      6801  198173\n",
              "4              R5         0      6983      7195      7615  464909\n",
              "...           ...       ...       ...       ...       ...     ...\n",
              "1048570  R1048571         9      5727      3920      3927  853689\n",
              "1048571  R1048572        80      6758      9772      9576  519973\n",
              "1048572  R1048573        95      7793      3635      5936  220089\n",
              "1048573  R1048574         9      1984      5527      8149  823118\n",
              "1048574  R1048575         3      5225      8501       321  396382\n",
              "\n",
              "[1048575 rows x 6 columns]"
            ]
          },
          "metadata": {
            "tags": []
          },
          "execution_count": 21
        }
      ]
    },
    {
      "cell_type": "code",
      "metadata": {
        "colab": {
          "base_uri": "https://localhost:8080/",
          "height": 300
        },
        "id": "chVjZfVH55zg",
        "outputId": "89dfdbea-c9ee-452b-ce1f-898a643b5502"
      },
      "source": [
        "df.describe()"
      ],
      "execution_count": 22,
      "outputs": [
        {
          "output_type": "execute_result",
          "data": {
            "text/html": [
              "<div>\n",
              "<style scoped>\n",
              "    .dataframe tbody tr th:only-of-type {\n",
              "        vertical-align: middle;\n",
              "    }\n",
              "\n",
              "    .dataframe tbody tr th {\n",
              "        vertical-align: top;\n",
              "    }\n",
              "\n",
              "    .dataframe thead th {\n",
              "        text-align: right;\n",
              "    }\n",
              "</style>\n",
              "<table border=\"1\" class=\"dataframe\">\n",
              "  <thead>\n",
              "    <tr style=\"text-align: right;\">\n",
              "      <th></th>\n",
              "      <th>Column 1</th>\n",
              "      <th>Column 2</th>\n",
              "      <th>Column 3</th>\n",
              "      <th>Column 4</th>\n",
              "      <th>Values</th>\n",
              "    </tr>\n",
              "  </thead>\n",
              "  <tbody>\n",
              "    <tr>\n",
              "      <th>count</th>\n",
              "      <td>1.048575e+06</td>\n",
              "      <td>1.048575e+06</td>\n",
              "      <td>1.048575e+06</td>\n",
              "      <td>1.048575e+06</td>\n",
              "      <td>1.048575e+06</td>\n",
              "    </tr>\n",
              "    <tr>\n",
              "      <th>mean</th>\n",
              "      <td>5.001918e+01</td>\n",
              "      <td>5.052930e+03</td>\n",
              "      <td>5.052788e+03</td>\n",
              "      <td>5.050653e+03</td>\n",
              "      <td>5.002445e+05</td>\n",
              "    </tr>\n",
              "    <tr>\n",
              "      <th>std</th>\n",
              "      <td>2.914091e+01</td>\n",
              "      <td>2.858973e+03</td>\n",
              "      <td>2.856928e+03</td>\n",
              "      <td>2.857718e+03</td>\n",
              "      <td>2.886466e+05</td>\n",
              "    </tr>\n",
              "    <tr>\n",
              "      <th>min</th>\n",
              "      <td>0.000000e+00</td>\n",
              "      <td>1.000000e+02</td>\n",
              "      <td>1.000000e+02</td>\n",
              "      <td>1.000000e+02</td>\n",
              "      <td>1.000000e+00</td>\n",
              "    </tr>\n",
              "    <tr>\n",
              "      <th>25%</th>\n",
              "      <td>2.500000e+01</td>\n",
              "      <td>2.576000e+03</td>\n",
              "      <td>2.578000e+03</td>\n",
              "      <td>2.575000e+03</td>\n",
              "      <td>2.503700e+05</td>\n",
              "    </tr>\n",
              "    <tr>\n",
              "      <th>50%</th>\n",
              "      <td>5.000000e+01</td>\n",
              "      <td>5.054000e+03</td>\n",
              "      <td>5.054000e+03</td>\n",
              "      <td>5.054000e+03</td>\n",
              "      <td>5.004660e+05</td>\n",
              "    </tr>\n",
              "    <tr>\n",
              "      <th>75%</th>\n",
              "      <td>7.500000e+01</td>\n",
              "      <td>7.531000e+03</td>\n",
              "      <td>7.525000e+03</td>\n",
              "      <td>7.527000e+03</td>\n",
              "      <td>7.498935e+05</td>\n",
              "    </tr>\n",
              "    <tr>\n",
              "      <th>max</th>\n",
              "      <td>1.000000e+02</td>\n",
              "      <td>1.000000e+04</td>\n",
              "      <td>1.000000e+04</td>\n",
              "      <td>1.000000e+04</td>\n",
              "      <td>1.000000e+06</td>\n",
              "    </tr>\n",
              "  </tbody>\n",
              "</table>\n",
              "</div>"
            ],
            "text/plain": [
              "           Column 1      Column 2      Column 3      Column 4        Values\n",
              "count  1.048575e+06  1.048575e+06  1.048575e+06  1.048575e+06  1.048575e+06\n",
              "mean   5.001918e+01  5.052930e+03  5.052788e+03  5.050653e+03  5.002445e+05\n",
              "std    2.914091e+01  2.858973e+03  2.856928e+03  2.857718e+03  2.886466e+05\n",
              "min    0.000000e+00  1.000000e+02  1.000000e+02  1.000000e+02  1.000000e+00\n",
              "25%    2.500000e+01  2.576000e+03  2.578000e+03  2.575000e+03  2.503700e+05\n",
              "50%    5.000000e+01  5.054000e+03  5.054000e+03  5.054000e+03  5.004660e+05\n",
              "75%    7.500000e+01  7.531000e+03  7.525000e+03  7.527000e+03  7.498935e+05\n",
              "max    1.000000e+02  1.000000e+04  1.000000e+04  1.000000e+04  1.000000e+06"
            ]
          },
          "metadata": {
            "tags": []
          },
          "execution_count": 22
        }
      ]
    },
    {
      "cell_type": "markdown",
      "metadata": {
        "id": "4M_DF9HT6o1V"
      },
      "source": [
        "Now, look at the memory footprint of the DataFrame that you have just read.\n",
        "\n",
        "Code:"
      ]
    },
    {
      "cell_type": "code",
      "metadata": {
        "colab": {
          "base_uri": "https://localhost:8080/"
        },
        "id": "2KUz06sN6psf",
        "outputId": "86a618d0-98ee-4730-d079-4ad0d84b6b11"
      },
      "source": [
        "print(\"The memory footprint of the DataFrame is: %f MB\"%(df.memory_usage().sum()/(1024 * 1024)))"
      ],
      "execution_count": 23,
      "outputs": [
        {
          "output_type": "stream",
          "text": [
            "The memory footprint of the DataFrame is: 48.000076 MB\n"
          ],
          "name": "stdout"
        }
      ]
    },
    {
      "cell_type": "markdown",
      "metadata": {
        "id": "YhMSnH5d6y3Y"
      },
      "source": [
        "Assume the requirement is to calculate the sum of the values in the ‘Values’ column. This can be achieved without creating a DataFrame by using the File Iterator and performing the summation for the specific columns.\n",
        "\n",
        "This would have a significantly smaller memory footprint and would result in code that performs better. We can access the File Iterator by:\n",
        "\n",
        "using the chunksize parameter and specifying the integer value\n",
        "specifying the iterator parameter and passing the boolean value True.\n",
        "If you calculate this sum using DataFrame as well as the iterator, conducting memory profiling for both operations, you can expect that:\n",
        "\n",
        "summation using DataFrame will require a larger memory footprint but less execution time\n",
        "summation using Iterator will have lesser memory footprint (but more execution time because of multiple data movements to memory for calculation.\n",
        "The code snippet demonstrates using Python’s memory and execution time profile to check these values.\n",
        "\n",
        "If you don’t have the module install it using the following command in your terminal/shell:"
      ]
    },
    {
      "cell_type": "code",
      "metadata": {
        "colab": {
          "base_uri": "https://localhost:8080/"
        },
        "id": "ButPqK5R64XX",
        "outputId": "3e68826f-e1dc-467e-d348-cf5792369346"
      },
      "source": [
        "!pip3 install memory_profiler"
      ],
      "execution_count": 24,
      "outputs": [
        {
          "output_type": "stream",
          "text": [
            "Collecting memory_profiler\n",
            "  Downloading https://files.pythonhosted.org/packages/8f/fd/d92b3295657f8837e0177e7b48b32d6651436f0293af42b76d134c3bb489/memory_profiler-0.58.0.tar.gz\n",
            "Requirement already satisfied: psutil in /usr/local/lib/python3.7/dist-packages (from memory_profiler) (5.4.8)\n",
            "Building wheels for collected packages: memory-profiler\n",
            "  Building wheel for memory-profiler (setup.py) ... \u001b[?25l\u001b[?25hdone\n",
            "  Created wheel for memory-profiler: filename=memory_profiler-0.58.0-cp37-none-any.whl size=30180 sha256=d98b5b32c8b1a04b115d80c291d7184708c161fdfb0b2d15ec0e81cf5374ff78\n",
            "  Stored in directory: /root/.cache/pip/wheels/02/e4/0b/aaab481fc5dd2a4ea59e78bc7231bb6aae7635ca7ee79f8ae5\n",
            "Successfully built memory-profiler\n",
            "Installing collected packages: memory-profiler\n",
            "Successfully installed memory-profiler-0.58.0\n"
          ],
          "name": "stdout"
        }
      ]
    },
    {
      "cell_type": "code",
      "metadata": {
        "colab": {
          "base_uri": "https://localhost:8080/"
        },
        "id": "bFZn8Sb262oo",
        "outputId": "0995d6cd-444e-498f-baff-2056ef7281b2"
      },
      "source": [
        "import memory_profiler, time\n",
        "if __name__ == '__main__':\n",
        "\tm1 = memory_profiler.memory_usage()\n",
        "\tt1 = time.process_time()\n",
        "# To Print the sum\t \n",
        "\tfilename = \"/content/dataset/sample_data_large.csv\"\n",
        "\tdf= pd.read_csv(filename)\n",
        "\ttotal = df['Values'].sum()\n",
        "\tprint(\"Total Values: %d \"%total)\n",
        "\n",
        "\tt2 = time.process_time()\n",
        "\tm2 = memory_profiler.memory_usage()\n",
        "\ttime_diff = t2 - t1\n",
        "\tmem_diff = m2[0] - m1[0]\n",
        "\tprint(f\"It took {time_diff} Secs and {mem_diff} Mb to execute this method\")"
      ],
      "execution_count": 25,
      "outputs": [
        {
          "output_type": "stream",
          "text": [
            "Total Values: 524543837226 \n",
            "It took 0.8312695569999997 Secs and 72.05859375 Mb to execute this method\n"
          ],
          "name": "stdout"
        }
      ]
    },
    {
      "cell_type": "code",
      "metadata": {
        "id": "7SVM2kVY8fNf"
      },
      "source": [
        "## Memory and Time Profiling with the File Iterator Operation\n",
        "if __name__ == '__main__':\n",
        "\tm1 = memory_profiler.memory_usage()\n",
        "\tt1 = time.process_time()\n",
        "# To Print the sum\t \n",
        "\tfilename = \"/content/dataset/sample_data_large.csv\"\n",
        "\titer = pd.read_csv(filename,chunksize=1000)\n",
        "\ttotal_value = 0\n",
        "\tfor record in iter:\n",
        "    \ttotal_value+=record['Values'].sum()\n",
        "\tprint(total_value)\n",
        "\n",
        "\tt2 = time.process_time()\n",
        "\tm2 = memory_profiler.memory_usage()\n",
        "\ttime_diff = t2 - t1\n",
        "\tmem_diff = m2[0] - m1[0]\n",
        "\tprint(f\"It took {time_diff} Secs and {mem_diff} Mb to execute this method\")"
      ],
      "execution_count": null,
      "outputs": []
    },
    {
      "cell_type": "markdown",
      "metadata": {
        "id": "NQ4DToyw-rOU"
      },
      "source": [
        "The memory footprint is significantly less when using File Iterator.\n",
        "\n",
        "For detailed information on the numerous parameters that can be specified for the read_csv() function, refer to the following link:\n",
        "\n",
        "Go to: [Pandas 1.1.3 documentation](https://pandas.pydata.org/pandas-docs/stable/reference/api/pandas.read_csv.html) [1]\n",
        "\n",
        "Note: We have used read_csv() in our demonstration, but we can also use the read_table() function. The main difference between the two functions is the default value of delimiter / separator considered by the two functions.\n",
        "\n",
        "- read_csv function considers a comma ’,’ as the default delimiter.\n",
        "- read_table function considers tab ‘\\t’ as the default delimiter."
      ]
    },
    {
      "cell_type": "markdown",
      "metadata": {
        "id": "vhrYSz_2-7XL"
      },
      "source": [
        "# QUIZ"
      ]
    },
    {
      "cell_type": "markdown",
      "metadata": {
        "id": "RbE0XY17-8yF"
      },
      "source": [
        "1. Select the Pandas read_csv() default delimiter:\n",
        "  - ’- ‘ – the hyphen is the default delimiter.\n",
        "  - ‘\\t ‘ – the tab is the default delimiter.\n",
        "  - ‘’\\csv ‘ – the tab is the default delimiter.\n",
        "  - **’, ‘ – the comma is the default delimiter.**\n",
        "\n",
        "2. Select the Pandas read_table() default delimiter:\n",
        "  - ‘’\\csv ‘ – the tab is the default delimiter.\n",
        "  - ’- ‘ – the hyphen is the default delimiter.\n",
        "  - **‘\\t ‘ – the tab is the default delimiter.**\n",
        "  - ’, ‘ – the comma is the default delimiter.\n",
        "\n",
        "3. What parameter do you use when you have a requirement to explicitly provide the column names instead of relying on auto-indexing for column names?\n",
        "  - **names=[list of column names]**\n",
        "  - header=None\n",
        "  - header=ColNames\n",
        "  - names=list of column names\n",
        "\n",
        "\n",
        "\n"
      ]
    }
  ]
}