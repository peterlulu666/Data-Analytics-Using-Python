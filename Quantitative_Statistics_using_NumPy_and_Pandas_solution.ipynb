{
  "nbformat": 4,
  "nbformat_minor": 0,
  "metadata": {
    "kernelspec": {
      "display_name": "Python 3",
      "language": "python",
      "name": "python3"
    },
    "language_info": {
      "codemirror_mode": {
        "name": "ipython",
        "version": 3
      },
      "file_extension": ".py",
      "mimetype": "text/x-python",
      "name": "python",
      "nbconvert_exporter": "python",
      "pygments_lexer": "ipython3",
      "version": "3.7.1"
    },
    "colab": {
      "name": "Quantitative_Statistics_using_NumPy_and_Pandas_solution.ipynb",
      "provenance": [],
      "include_colab_link": true
    }
  },
  "cells": [
    {
      "cell_type": "markdown",
      "metadata": {
        "id": "view-in-github",
        "colab_type": "text"
      },
      "source": [
        "<a href=\"https://colab.research.google.com/github/peterlulu666/Data-Analytics-Using-Python/blob/main/Quantitative_Statistics_using_NumPy_and_Pandas_solution.ipynb\" target=\"_parent\"><img src=\"https://colab.research.google.com/assets/colab-badge.svg\" alt=\"Open In Colab\"/></a>"
      ]
    },
    {
      "cell_type": "markdown",
      "metadata": {
        "id": "NaNoT3zfgx-f"
      },
      "source": [
        "__CONTEXT__\n",
        "<br>The severity and occurrences of the Forest Fires increasing year on year. So, understanding the frequency of the forest fires and finding other patterns using exploratory data analysis can help in taking proactive actions preventing them.\n",
        "\n",
        "In this section we will look at the Forest Fire Data which has been made available by Brazilian Forest Departments.\n",
        "This dataset is available at the following location:\n",
        "<br>https://dados.gov.br/dataset/sistema-nacional-de-informacoes-florestais-snif/resource/949310f1-05bc-4f56-a63f-aef67aac6164\n",
        "\n",
        "For this execise the data has been pre-formatted and is available as a csv file in the folder named as __dataset__\n",
        "<br> Make sure that \n",
        "- The dataset folder and Python Notebook are at the same level \n",
        "\n",
        "__BRIEF ABOUT DATASET__\n",
        "<br>There are following columns available in the dataset:\n",
        "-\tYear - year the observation belong to\n",
        "-\tState - state in which the fire has been reported\n",
        "-\tMonth - month of the year, the fire was reported\n",
        "-\tNumber of Fires -number of fires reported\n",
        "-\tDate Reported - date when the fire was reported"
      ]
    },
    {
      "cell_type": "code",
      "metadata": {
        "id": "WMm8NP_1gx-h"
      },
      "source": [
        "## Import pyplot from matplotlib \n",
        "import matplotlib.pyplot as plt\n",
        "\n",
        "## Define a Plot Method to be used in the notebook to plot the data\n",
        "def plot_data(df_fires):\n",
        "    #Creating a Bar Graph\n",
        "    #Plot X Values and Y Values\n",
        "    plt.figure(figsize=(25,15))\n",
        "    plt.bar(df_fires['Month'], df_fires['Number of Fires'], color = (0.5,0.1,0.5,0.6))\n",
        "\n",
        "    #Add Actual Title and Title for Subheadings\n",
        "    plt.suptitle('Amazon Forest Fires Over the Months', fontsize=20) \n",
        "    plt.title('Using Data from Years 1998 - 2017', fontsize=20)  \n",
        "    plt.xlabel('Month', fontsize=20) \n",
        "    plt.ylabel('Number of Forest Fires', fontsize=20)\n",
        "\n",
        "#plt.text(x-coordinate, y-coordinate, valueOfText, alignmnet)\n",
        "#this adds text at the top of each bar indicating its value\n",
        "    for i, num in enumerate(df_fires['Number of Fires']):\n",
        "        plt.text(\n",
        "            i,\n",
        "            num+2500,\n",
        "            num,\n",
        "            ha='center',\n",
        "            verticalalignment='top',\n",
        "            fontsize=20)  \n",
        "    \n",
        "    plt.setp(plt.gca().get_xticklabels(),\n",
        "         rotation=45,\n",
        "         horizontalalignment='right',\n",
        "         fontsize=20)\n",
        "\n",
        "    plt.setp(plt.gca().get_yticklabels(), fontsize=20)"
      ],
      "execution_count": null,
      "outputs": []
    },
    {
      "cell_type": "markdown",
      "metadata": {
        "id": "C9U-60jkgx-i"
      },
      "source": [
        "## TO DO - Activity 1 - Import Packages\n",
        "In the code cell below import the Pandas and NumPy as __pd__ and __np__ respectively"
      ]
    },
    {
      "cell_type": "code",
      "metadata": {
        "id": "BO78f-Fzgx-j"
      },
      "source": [
        "# Solution for Activity 1 \n",
        "import pandas as pd\n",
        "import numpy as np"
      ],
      "execution_count": null,
      "outputs": []
    },
    {
      "cell_type": "markdown",
      "metadata": {
        "id": "qr_BjZKTgx-j"
      },
      "source": [
        "As a next step we will import the csv data into the Pandas DataFrame.\n",
        "\n",
        "__NOTE__: We will cover how to do Date Ingestion into Pandas in our next module, so for this exercise the code has been provided for you in the cell below and you simply need to execute it."
      ]
    },
    {
      "cell_type": "code",
      "metadata": {
        "id": "48D22_tfgx-j"
      },
      "source": [
        "#Read Data from the Datasource\n",
        "data = pd.read_csv('./dataset/module3/brazilianfire.csv')\n",
        "data['Number of Fires'] = data['Number of Fires'].astype(int)"
      ],
      "execution_count": null,
      "outputs": []
    },
    {
      "cell_type": "markdown",
      "metadata": {
        "id": "61qrCHuYgx-k"
      },
      "source": [
        "## TO DO - Activity 2 - Sample the Data in the Pandas DataFrame\n",
        "\n",
        "Write the code below to look at top 10 rows in the DataFrame()"
      ]
    },
    {
      "cell_type": "code",
      "metadata": {
        "id": "fObpy9Kpgx-k",
        "outputId": "072d7479-9526-4dc3-d7e6-c5a591955270"
      },
      "source": [
        "# Solution for Activity 2\n",
        "#Sampling data in the dataframe, we will look at top 10 rows \n",
        "data.head(10)"
      ],
      "execution_count": null,
      "outputs": [
        {
          "output_type": "execute_result",
          "data": {
            "text/html": [
              "<div>\n",
              "<style scoped>\n",
              "    .dataframe tbody tr th:only-of-type {\n",
              "        vertical-align: middle;\n",
              "    }\n",
              "\n",
              "    .dataframe tbody tr th {\n",
              "        vertical-align: top;\n",
              "    }\n",
              "\n",
              "    .dataframe thead th {\n",
              "        text-align: right;\n",
              "    }\n",
              "</style>\n",
              "<table border=\"1\" class=\"dataframe\">\n",
              "  <thead>\n",
              "    <tr style=\"text-align: right;\">\n",
              "      <th></th>\n",
              "      <th>Year</th>\n",
              "      <th>State</th>\n",
              "      <th>Month</th>\n",
              "      <th>Number of Fires</th>\n",
              "      <th>Date Reported</th>\n",
              "    </tr>\n",
              "  </thead>\n",
              "  <tbody>\n",
              "    <tr>\n",
              "      <th>0</th>\n",
              "      <td>1998</td>\n",
              "      <td>Acre</td>\n",
              "      <td>January</td>\n",
              "      <td>0</td>\n",
              "      <td>1/01/1998</td>\n",
              "    </tr>\n",
              "    <tr>\n",
              "      <th>1</th>\n",
              "      <td>1999</td>\n",
              "      <td>Acre</td>\n",
              "      <td>January</td>\n",
              "      <td>0</td>\n",
              "      <td>1/01/1999</td>\n",
              "    </tr>\n",
              "    <tr>\n",
              "      <th>2</th>\n",
              "      <td>2000</td>\n",
              "      <td>Acre</td>\n",
              "      <td>January</td>\n",
              "      <td>0</td>\n",
              "      <td>1/01/2000</td>\n",
              "    </tr>\n",
              "    <tr>\n",
              "      <th>3</th>\n",
              "      <td>2001</td>\n",
              "      <td>Acre</td>\n",
              "      <td>January</td>\n",
              "      <td>0</td>\n",
              "      <td>1/01/2001</td>\n",
              "    </tr>\n",
              "    <tr>\n",
              "      <th>4</th>\n",
              "      <td>2002</td>\n",
              "      <td>Acre</td>\n",
              "      <td>January</td>\n",
              "      <td>0</td>\n",
              "      <td>1/01/2002</td>\n",
              "    </tr>\n",
              "    <tr>\n",
              "      <th>5</th>\n",
              "      <td>2003</td>\n",
              "      <td>Acre</td>\n",
              "      <td>January</td>\n",
              "      <td>10</td>\n",
              "      <td>1/01/2003</td>\n",
              "    </tr>\n",
              "    <tr>\n",
              "      <th>6</th>\n",
              "      <td>2004</td>\n",
              "      <td>Acre</td>\n",
              "      <td>January</td>\n",
              "      <td>0</td>\n",
              "      <td>1/01/2004</td>\n",
              "    </tr>\n",
              "    <tr>\n",
              "      <th>7</th>\n",
              "      <td>2005</td>\n",
              "      <td>Acre</td>\n",
              "      <td>January</td>\n",
              "      <td>12</td>\n",
              "      <td>1/01/2005</td>\n",
              "    </tr>\n",
              "    <tr>\n",
              "      <th>8</th>\n",
              "      <td>2006</td>\n",
              "      <td>Acre</td>\n",
              "      <td>January</td>\n",
              "      <td>4</td>\n",
              "      <td>1/01/2006</td>\n",
              "    </tr>\n",
              "    <tr>\n",
              "      <th>9</th>\n",
              "      <td>2007</td>\n",
              "      <td>Acre</td>\n",
              "      <td>January</td>\n",
              "      <td>0</td>\n",
              "      <td>1/01/2007</td>\n",
              "    </tr>\n",
              "  </tbody>\n",
              "</table>\n",
              "</div>"
            ],
            "text/plain": [
              "   Year State    Month  Number of Fires Date Reported\n",
              "0  1998  Acre  January                0     1/01/1998\n",
              "1  1999  Acre  January                0     1/01/1999\n",
              "2  2000  Acre  January                0     1/01/2000\n",
              "3  2001  Acre  January                0     1/01/2001\n",
              "4  2002  Acre  January                0     1/01/2002\n",
              "5  2003  Acre  January               10     1/01/2003\n",
              "6  2004  Acre  January                0     1/01/2004\n",
              "7  2005  Acre  January               12     1/01/2005\n",
              "8  2006  Acre  January                4     1/01/2006\n",
              "9  2007  Acre  January                0     1/01/2007"
            ]
          },
          "metadata": {
            "tags": []
          },
          "execution_count": 4
        }
      ]
    },
    {
      "cell_type": "markdown",
      "metadata": {
        "id": "IC0DeGovgx-k"
      },
      "source": [
        "## TO DO - Activity 3:\n",
        "Find how many rows and columns are there in the dataframe. There are multiple ways this information can be extracted. For e.g. you can use the shape attribute of the dataframe.\n"
      ]
    },
    {
      "cell_type": "code",
      "metadata": {
        "id": "SWPLYOuFgx-l",
        "outputId": "28cc7f4a-0101-480e-d3bc-f25ed50c3d78"
      },
      "source": [
        "##Solution to Activity 3\n",
        "## What is the shape of the data i.e. how many rows and how many columns exist in the dataset\n",
        "data.shape"
      ],
      "execution_count": null,
      "outputs": [
        {
          "output_type": "execute_result",
          "data": {
            "text/plain": [
              "(6454, 5)"
            ]
          },
          "metadata": {
            "tags": []
          },
          "execution_count": 5
        }
      ]
    },
    {
      "cell_type": "markdown",
      "metadata": {
        "id": "Ren3wPLFgx-l"
      },
      "source": [
        "So how many rows and columns the dataframe have?\n",
        "\n",
        "__Number of Rows = 6454__\n",
        "<br>__Number of Columns = 5__"
      ]
    },
    {
      "cell_type": "markdown",
      "metadata": {
        "id": "eE9QEnAmgx-l"
      },
      "source": [
        "## TO DO - Activity 4:\n",
        "Provide the summary statistics for the whole data set i.e. for every columns of the DataFrame.\n",
        "For this you can use the Data Frame method __.describe()__\n",
        "- Note though by default summary statistics are only provided for the numeric columns.\n",
        "- You may have to add __include='all'__ parameter to the method to include statistics for non numeric columns "
      ]
    },
    {
      "cell_type": "code",
      "metadata": {
        "id": "pY-teCglgx-m",
        "outputId": "7c69ae20-26e3-487d-a096-c8f891c2fb02"
      },
      "source": [
        "## Solution for Activity 4\n",
        "#Provide the Summary Statistics for the Data\n",
        "data.describe()"
      ],
      "execution_count": null,
      "outputs": [
        {
          "output_type": "execute_result",
          "data": {
            "text/html": [
              "<div>\n",
              "<style scoped>\n",
              "    .dataframe tbody tr th:only-of-type {\n",
              "        vertical-align: middle;\n",
              "    }\n",
              "\n",
              "    .dataframe tbody tr th {\n",
              "        vertical-align: top;\n",
              "    }\n",
              "\n",
              "    .dataframe thead th {\n",
              "        text-align: right;\n",
              "    }\n",
              "</style>\n",
              "<table border=\"1\" class=\"dataframe\">\n",
              "  <thead>\n",
              "    <tr style=\"text-align: right;\">\n",
              "      <th></th>\n",
              "      <th>Year</th>\n",
              "      <th>Number of Fires</th>\n",
              "    </tr>\n",
              "  </thead>\n",
              "  <tbody>\n",
              "    <tr>\n",
              "      <th>count</th>\n",
              "      <td>6454.000000</td>\n",
              "      <td>6454.000000</td>\n",
              "    </tr>\n",
              "    <tr>\n",
              "      <th>mean</th>\n",
              "      <td>2007.461729</td>\n",
              "      <td>108.235358</td>\n",
              "    </tr>\n",
              "    <tr>\n",
              "      <th>std</th>\n",
              "      <td>5.746654</td>\n",
              "      <td>190.843947</td>\n",
              "    </tr>\n",
              "    <tr>\n",
              "      <th>min</th>\n",
              "      <td>1998.000000</td>\n",
              "      <td>0.000000</td>\n",
              "    </tr>\n",
              "    <tr>\n",
              "      <th>25%</th>\n",
              "      <td>2002.000000</td>\n",
              "      <td>3.000000</td>\n",
              "    </tr>\n",
              "    <tr>\n",
              "      <th>50%</th>\n",
              "      <td>2007.000000</td>\n",
              "      <td>24.000000</td>\n",
              "    </tr>\n",
              "    <tr>\n",
              "      <th>75%</th>\n",
              "      <td>2012.000000</td>\n",
              "      <td>113.000000</td>\n",
              "    </tr>\n",
              "    <tr>\n",
              "      <th>max</th>\n",
              "      <td>2017.000000</td>\n",
              "      <td>998.000000</td>\n",
              "    </tr>\n",
              "  </tbody>\n",
              "</table>\n",
              "</div>"
            ],
            "text/plain": [
              "              Year  Number of Fires\n",
              "count  6454.000000      6454.000000\n",
              "mean   2007.461729       108.235358\n",
              "std       5.746654       190.843947\n",
              "min    1998.000000         0.000000\n",
              "25%    2002.000000         3.000000\n",
              "50%    2007.000000        24.000000\n",
              "75%    2012.000000       113.000000\n",
              "max    2017.000000       998.000000"
            ]
          },
          "metadata": {
            "tags": []
          },
          "execution_count": 6
        }
      ]
    },
    {
      "cell_type": "markdown",
      "metadata": {
        "id": "WleCXdU-gx-m"
      },
      "source": [
        "As we can see only the numeric columns are included by default in the summary statistics. So we will pass the parameter include='all' to the method."
      ]
    },
    {
      "cell_type": "code",
      "metadata": {
        "scrolled": true,
        "id": "nSGoaNsmgx-m",
        "outputId": "4da5f49f-0bd7-4507-f91d-6a2dd04a370b"
      },
      "source": [
        "data.describe(include='all')"
      ],
      "execution_count": null,
      "outputs": [
        {
          "output_type": "execute_result",
          "data": {
            "text/html": [
              "<div>\n",
              "<style scoped>\n",
              "    .dataframe tbody tr th:only-of-type {\n",
              "        vertical-align: middle;\n",
              "    }\n",
              "\n",
              "    .dataframe tbody tr th {\n",
              "        vertical-align: top;\n",
              "    }\n",
              "\n",
              "    .dataframe thead th {\n",
              "        text-align: right;\n",
              "    }\n",
              "</style>\n",
              "<table border=\"1\" class=\"dataframe\">\n",
              "  <thead>\n",
              "    <tr style=\"text-align: right;\">\n",
              "      <th></th>\n",
              "      <th>Year</th>\n",
              "      <th>State</th>\n",
              "      <th>Month</th>\n",
              "      <th>Number of Fires</th>\n",
              "      <th>Date Reported</th>\n",
              "    </tr>\n",
              "  </thead>\n",
              "  <tbody>\n",
              "    <tr>\n",
              "      <th>count</th>\n",
              "      <td>6454.000000</td>\n",
              "      <td>6454</td>\n",
              "      <td>6454</td>\n",
              "      <td>6454.000000</td>\n",
              "      <td>6454</td>\n",
              "    </tr>\n",
              "    <tr>\n",
              "      <th>unique</th>\n",
              "      <td>NaN</td>\n",
              "      <td>27</td>\n",
              "      <td>12</td>\n",
              "      <td>NaN</td>\n",
              "      <td>20</td>\n",
              "    </tr>\n",
              "    <tr>\n",
              "      <th>top</th>\n",
              "      <td>NaN</td>\n",
              "      <td>Alagoas</td>\n",
              "      <td>January</td>\n",
              "      <td>NaN</td>\n",
              "      <td>1/01/2001</td>\n",
              "    </tr>\n",
              "    <tr>\n",
              "      <th>freq</th>\n",
              "      <td>NaN</td>\n",
              "      <td>240</td>\n",
              "      <td>541</td>\n",
              "      <td>NaN</td>\n",
              "      <td>324</td>\n",
              "    </tr>\n",
              "    <tr>\n",
              "      <th>mean</th>\n",
              "      <td>2007.461729</td>\n",
              "      <td>NaN</td>\n",
              "      <td>NaN</td>\n",
              "      <td>108.235358</td>\n",
              "      <td>NaN</td>\n",
              "    </tr>\n",
              "    <tr>\n",
              "      <th>std</th>\n",
              "      <td>5.746654</td>\n",
              "      <td>NaN</td>\n",
              "      <td>NaN</td>\n",
              "      <td>190.843947</td>\n",
              "      <td>NaN</td>\n",
              "    </tr>\n",
              "    <tr>\n",
              "      <th>min</th>\n",
              "      <td>1998.000000</td>\n",
              "      <td>NaN</td>\n",
              "      <td>NaN</td>\n",
              "      <td>0.000000</td>\n",
              "      <td>NaN</td>\n",
              "    </tr>\n",
              "    <tr>\n",
              "      <th>25%</th>\n",
              "      <td>2002.000000</td>\n",
              "      <td>NaN</td>\n",
              "      <td>NaN</td>\n",
              "      <td>3.000000</td>\n",
              "      <td>NaN</td>\n",
              "    </tr>\n",
              "    <tr>\n",
              "      <th>50%</th>\n",
              "      <td>2007.000000</td>\n",
              "      <td>NaN</td>\n",
              "      <td>NaN</td>\n",
              "      <td>24.000000</td>\n",
              "      <td>NaN</td>\n",
              "    </tr>\n",
              "    <tr>\n",
              "      <th>75%</th>\n",
              "      <td>2012.000000</td>\n",
              "      <td>NaN</td>\n",
              "      <td>NaN</td>\n",
              "      <td>113.000000</td>\n",
              "      <td>NaN</td>\n",
              "    </tr>\n",
              "    <tr>\n",
              "      <th>max</th>\n",
              "      <td>2017.000000</td>\n",
              "      <td>NaN</td>\n",
              "      <td>NaN</td>\n",
              "      <td>998.000000</td>\n",
              "      <td>NaN</td>\n",
              "    </tr>\n",
              "  </tbody>\n",
              "</table>\n",
              "</div>"
            ],
            "text/plain": [
              "               Year    State    Month  Number of Fires Date Reported\n",
              "count   6454.000000     6454     6454      6454.000000          6454\n",
              "unique          NaN       27       12              NaN            20\n",
              "top             NaN  Alagoas  January              NaN     1/01/2001\n",
              "freq            NaN      240      541              NaN           324\n",
              "mean    2007.461729      NaN      NaN       108.235358           NaN\n",
              "std        5.746654      NaN      NaN       190.843947           NaN\n",
              "min     1998.000000      NaN      NaN         0.000000           NaN\n",
              "25%     2002.000000      NaN      NaN         3.000000           NaN\n",
              "50%     2007.000000      NaN      NaN        24.000000           NaN\n",
              "75%     2012.000000      NaN      NaN       113.000000           NaN\n",
              "max     2017.000000      NaN      NaN       998.000000           NaN"
            ]
          },
          "metadata": {
            "tags": []
          },
          "execution_count": 7
        }
      ]
    },
    {
      "cell_type": "markdown",
      "metadata": {
        "id": "g0jP2KIVgx-n"
      },
      "source": [
        "As you can see for the non-numeric columns i.e. State, Month and Date Reported only following measurements have been calculated:\n",
        "- Count or Total Number of Records\n",
        "- Total Number of Unique Entries.\n",
        "- Quantitative Statistics for these columns have null values- NaN"
      ]
    },
    {
      "cell_type": "code",
      "metadata": {
        "id": "I6WctAWGgx-n",
        "outputId": "6b8645ca-af5b-45c5-cd36-566793d5fc9a"
      },
      "source": [
        "##Check for any missing values\n",
        "data.isna().sum()"
      ],
      "execution_count": null,
      "outputs": [
        {
          "output_type": "execute_result",
          "data": {
            "text/plain": [
              "Year               0\n",
              "State              0\n",
              "Month              0\n",
              "Number of Fires    0\n",
              "Date Reported      0\n",
              "dtype: int64"
            ]
          },
          "metadata": {
            "tags": []
          },
          "execution_count": 8
        }
      ]
    },
    {
      "cell_type": "markdown",
      "metadata": {
        "id": "TJDt-Ictgx-o"
      },
      "source": [
        "## Data Aggregation and Data Groupings\n",
        "\n",
        "In this segement we will perform some data aggregation activities. \n",
        "<br>__NOTE:__ We will cover the Data Wrangling activities using Pandas and NumPy in detail in the subsequent module. So in this module code snippet has been provided for you. You simply need to execute the code cell "
      ]
    },
    {
      "cell_type": "markdown",
      "metadata": {
        "id": "AxClHPUCgx-o"
      },
      "source": [
        "In this section we will now calculate the total number of fires on a month on month basis for the entire period."
      ]
    },
    {
      "cell_type": "code",
      "metadata": {
        "id": "Hyt5-AY1gx-o",
        "outputId": "97e01105-bdc9-4b9a-d840-93423f1777b7"
      },
      "source": [
        "#Grouping the Data on Months Column, and performing the summation on number of fires.\n",
        "ffire_per_month = data.groupby('Month')['Number of Fires'].sum()\n",
        "print(ffire_per_month)"
      ],
      "execution_count": null,
      "outputs": [
        {
          "output_type": "stream",
          "text": [
            "Month\n",
            "April        28188\n",
            "August       87970\n",
            "December     57513\n",
            "February     30848\n",
            "January      47746\n",
            "July         92302\n",
            "June         56003\n",
            "March        30717\n",
            "May          34729\n",
            "November     85471\n",
            "October      88600\n",
            "September    58464\n",
            "Name: Number of Fires, dtype: int32\n"
          ],
          "name": "stdout"
        }
      ]
    },
    {
      "cell_type": "markdown",
      "metadata": {
        "id": "3iEI9b5Bgx-o"
      },
      "source": [
        "As you can see the data is not arranged in the order of months, by default the Months has been considered as the row index and lexicographically arranged.\n",
        "\n",
        "To rearrange this data we will have perform the reindexing operation on the Pandas Series."
      ]
    },
    {
      "cell_type": "markdown",
      "metadata": {
        "id": "EwUkwfj2gx-p"
      },
      "source": [
        "## TO DO - Activity 5\n",
        "Rearrange the data in the Pandas Series __ffire_per_month__, so that data arranged in the actual order of months i.e. January -> Feb -> March and so on and so forth.\n",
        "\n",
        "1. Create the order list of months \n",
        "2. Using reindex method reindex the Series, remember to pass the order list of months as the parameter to the method\n",
        "3. Store the rearranged the data into the variable __ffire_pm_rearranged__\n",
        "\n",
        "__Hint__: Remember in case of Pandas Series we can explicitly pass the order list of index to the reindex method and the data will be arranged accordingly."
      ]
    },
    {
      "cell_type": "code",
      "metadata": {
        "id": "sVOFLpQXgx-p",
        "outputId": "2d32e10c-4cf8-40e9-c6a3-fdb3af24e0e4"
      },
      "source": [
        "## Solution for Activity 5\n",
        "# list of month\n",
        "months_unique= list(data.Month.unique())\n",
        "months_unique"
      ],
      "execution_count": null,
      "outputs": [
        {
          "output_type": "execute_result",
          "data": {
            "text/plain": [
              "['January',\n",
              " 'February',\n",
              " 'March',\n",
              " 'April',\n",
              " 'May',\n",
              " 'June',\n",
              " 'July',\n",
              " 'August',\n",
              " 'September',\n",
              " 'October',\n",
              " 'November',\n",
              " 'December']"
            ]
          },
          "metadata": {
            "tags": []
          },
          "execution_count": 10
        }
      ]
    },
    {
      "cell_type": "code",
      "metadata": {
        "id": "bT0dcC-Tgx-p",
        "outputId": "614a68c7-1f21-49c7-c6d6-c85db4ed1eb5"
      },
      "source": [
        "ffire_pm_rearranged = ffire_per_month.reindex(months_unique, axis=0)\n",
        "ffire_pm_rearranged"
      ],
      "execution_count": null,
      "outputs": [
        {
          "output_type": "execute_result",
          "data": {
            "text/plain": [
              "Month\n",
              "January      47746\n",
              "February     30848\n",
              "March        30717\n",
              "April        28188\n",
              "May          34729\n",
              "June         56003\n",
              "July         92302\n",
              "August       87970\n",
              "September    58464\n",
              "October      88600\n",
              "November     85471\n",
              "December     57513\n",
              "Name: Number of Fires, dtype: int32"
            ]
          },
          "metadata": {
            "tags": []
          },
          "execution_count": 11
        }
      ]
    },
    {
      "cell_type": "markdown",
      "metadata": {
        "id": "FKBT1D7Ygx-p"
      },
      "source": [
        "We will now convert the Pandas Series into DataFrame with two columns Months and Number of Fires, and with defaul index for row labels. Once data has been converted into Pandas DataFrame we will plot the data using the pre-defined method available to you.\n",
        "\n",
        "Below code converts the Pandas Series into a DataFrame and reindex the row labels"
      ]
    },
    {
      "cell_type": "code",
      "metadata": {
        "id": "Vlibn4M1gx-q",
        "outputId": "1613c7b7-3f22-4513-fe0a-1b377dbd9100"
      },
      "source": [
        "df_ffire_pm = ffire_pm_rearranged.to_frame()\n",
        "df_ffire_pm.reset_index(level=0, inplace=True)\n",
        "df_ffire_pm"
      ],
      "execution_count": null,
      "outputs": [
        {
          "output_type": "execute_result",
          "data": {
            "text/html": [
              "<div>\n",
              "<style scoped>\n",
              "    .dataframe tbody tr th:only-of-type {\n",
              "        vertical-align: middle;\n",
              "    }\n",
              "\n",
              "    .dataframe tbody tr th {\n",
              "        vertical-align: top;\n",
              "    }\n",
              "\n",
              "    .dataframe thead th {\n",
              "        text-align: right;\n",
              "    }\n",
              "</style>\n",
              "<table border=\"1\" class=\"dataframe\">\n",
              "  <thead>\n",
              "    <tr style=\"text-align: right;\">\n",
              "      <th></th>\n",
              "      <th>Month</th>\n",
              "      <th>Number of Fires</th>\n",
              "    </tr>\n",
              "  </thead>\n",
              "  <tbody>\n",
              "    <tr>\n",
              "      <th>0</th>\n",
              "      <td>January</td>\n",
              "      <td>47746</td>\n",
              "    </tr>\n",
              "    <tr>\n",
              "      <th>1</th>\n",
              "      <td>February</td>\n",
              "      <td>30848</td>\n",
              "    </tr>\n",
              "    <tr>\n",
              "      <th>2</th>\n",
              "      <td>March</td>\n",
              "      <td>30717</td>\n",
              "    </tr>\n",
              "    <tr>\n",
              "      <th>3</th>\n",
              "      <td>April</td>\n",
              "      <td>28188</td>\n",
              "    </tr>\n",
              "    <tr>\n",
              "      <th>4</th>\n",
              "      <td>May</td>\n",
              "      <td>34729</td>\n",
              "    </tr>\n",
              "    <tr>\n",
              "      <th>5</th>\n",
              "      <td>June</td>\n",
              "      <td>56003</td>\n",
              "    </tr>\n",
              "    <tr>\n",
              "      <th>6</th>\n",
              "      <td>July</td>\n",
              "      <td>92302</td>\n",
              "    </tr>\n",
              "    <tr>\n",
              "      <th>7</th>\n",
              "      <td>August</td>\n",
              "      <td>87970</td>\n",
              "    </tr>\n",
              "    <tr>\n",
              "      <th>8</th>\n",
              "      <td>September</td>\n",
              "      <td>58464</td>\n",
              "    </tr>\n",
              "    <tr>\n",
              "      <th>9</th>\n",
              "      <td>October</td>\n",
              "      <td>88600</td>\n",
              "    </tr>\n",
              "    <tr>\n",
              "      <th>10</th>\n",
              "      <td>November</td>\n",
              "      <td>85471</td>\n",
              "    </tr>\n",
              "    <tr>\n",
              "      <th>11</th>\n",
              "      <td>December</td>\n",
              "      <td>57513</td>\n",
              "    </tr>\n",
              "  </tbody>\n",
              "</table>\n",
              "</div>"
            ],
            "text/plain": [
              "        Month  Number of Fires\n",
              "0     January            47746\n",
              "1    February            30848\n",
              "2       March            30717\n",
              "3       April            28188\n",
              "4         May            34729\n",
              "5        June            56003\n",
              "6        July            92302\n",
              "7      August            87970\n",
              "8   September            58464\n",
              "9     October            88600\n",
              "10   November            85471\n",
              "11   December            57513"
            ]
          },
          "metadata": {
            "tags": []
          },
          "execution_count": 12
        }
      ]
    },
    {
      "cell_type": "markdown",
      "metadata": {
        "id": "ZaiNHhjSgx-q"
      },
      "source": [
        "## TO DO Activity 6 - Call the Plot Function and Pass the DataFrame as Parameter\n",
        "\n",
        "There is a function that has been defined initially in this notebook. You will now call that function and pass the dataframe __df_ffire_pm__ which you have created in the previous steps.\n",
        "\n",
        "1. Call function __plot_data()__ and pass the DataFrame __df_ffire_pm__ as the parameter of this function\n"
      ]
    },
    {
      "cell_type": "code",
      "metadata": {
        "id": "TzrIaz_mgx-q",
        "outputId": "2296aa20-1c88-4cde-ac74-e2049a929b16"
      },
      "source": [
        "## Solution for Activity 6\n",
        "plot_data(df_ffire_pm)"
      ],
      "execution_count": null,
      "outputs": [
        {
          "output_type": "display_data",
          "data": {
            "image/png": "[encoded data removed]",
            "text/plain": [
              "<Figure size 1800x1080 with 1 Axes>"
            ]
          },
          "metadata": {
            "tags": [],
            "needs_background": "light"
          }
        }
      ]
    },
    {
      "cell_type": "markdown",
      "metadata": {
        "id": "valohB3ugx-r"
      },
      "source": [
        "As we can see most number of fires have occured in the month of July, August, October and November."
      ]
    },
    {
      "cell_type": "markdown",
      "metadata": {
        "id": "HU8JQxvxgx-r"
      },
      "source": [
        "NOTE:\n",
        "This exercise has covered some very basic data exploration activities on the dataset. There are lot more analysis that can be performed on this data set\n",
        "\n",
        "In our upcoming modules we will go into the details of Data Ingestion, Data Wrangling and Exploratory Data Analysis activities using python"
      ]
    }
  ]
}