{
  "nbformat": 4,
  "nbformat_minor": 0,
  "metadata": {
    "kernelspec": {
      "display_name": "Python 3",
      "language": "python",
      "name": "python3"
    },
    "language_info": {
      "codemirror_mode": {
        "name": "ipython",
        "version": 3
      },
      "file_extension": ".py",
      "mimetype": "text/x-python",
      "name": "python",
      "nbconvert_exporter": "python",
      "pygments_lexer": "ipython3",
      "version": "3.8.3"
    },
    "colab": {
      "name": "Data Analytics Using Python Week 1.ipynb",
      "provenance": [],
      "collapsed_sections": [
        "XCoJ3N3Y68EX",
        "EWVoLs7S68EY"
      ],
      "include_colab_link": true
    }
  },
  "cells": [
    {
      "cell_type": "markdown",
      "metadata": {
        "id": "view-in-github",
        "colab_type": "text"
      },
      "source": [
        "<a href=\"https://colab.research.google.com/github/peterlulu666/Data-Analytics-Using-Python/blob/main/Data_Analytics_Using_Python_Week_1.ipynb\" target=\"_parent\"><img src=\"https://colab.research.google.com/assets/colab-badge.svg\" alt=\"Open In Colab\"/></a>"
      ]
    },
    {
      "cell_type": "markdown",
      "metadata": {
        "id": "8eSaPOtoCJW5"
      },
      "source": [
        "# Python Modules and Packages"
      ]
    },
    {
      "cell_type": "markdown",
      "metadata": {
        "id": "jy1ZOF6FBwPl"
      },
      "source": [
        "## Module and Package : What are they?\n",
        "Efficiency is an important objective in writing code. You might not notice the difference in small projects, but as you create larger programs and work with larger data sets, you will see that efficient, well-structured code results in better program performance. Using various features of modules and packages, you can most certainly try to achieve that\n",
        "\n",
        "This table below summarises the differences between modules and packages"
      ]
    },
    {
      "cell_type": "markdown",
      "metadata": {
        "id": "rfMpHx8kCWQ_"
      },
      "source": [
        "Module | Package\n",
        "--- | ---\n",
        "A module is a file of Python code | A package is a hierarchical file directory structure\n",
        "It can define classes, functions, and variables | It defines a single Python application, or library\n",
        "It can include runnable code | It consists of various sub-packages and modules\n",
        "Example use case: Write a set of functions once and reuse them in many different projects | Example use case: Organise a collection of modules together for accomplishing a particular activity, such as data analytics\n"
      ]
    },
    {
      "cell_type": "markdown",
      "metadata": {
        "id": "0keLkrXBDNmK"
      },
      "source": [
        "## DateTime Module\n",
        "\n",
        "**Now we will explore a specific module called the datetime module, which works specifically with dates and times**\n",
        "\n",
        "It has five main object classes. Depending on your requirements, you may use one or more of these classes:\n",
        "\n",
        "1. **Datetime**: Work with date and time together (ie, month, day, year, hour, minutes, seconds, and microseconds).\n",
        "2. **Date**: Manipulate date independently of date (month, day, and year).\n",
        "3. **Time**: Manipulate time independently of time (hour, minute, second, and microseconds).\n",
        "4. **Timedelta**: Work with duration, manipulate dates, and measure time.\n",
        "5. **Tzinfo**: An abstract class to deal with timezones.\n",
        "\n"
      ]
    },
    {
      "cell_type": "markdown",
      "metadata": {
        "id": "HavJt7jZO2Px"
      },
      "source": [
        "## Datetime for data analytics\n",
        "\n",
        "Consider this example:\n",
        "\n",
        "You are doing data analytics for Orchid.ly, an international e-commerce platform that sells rare varieties of orchids to customers all over the world. Currently, Orchid.ly has just one centre where they grow the plants. Timing is everything for this business. They need to know when customers place orders and how long it takes to deliver the orchids. They want to track daily, monthly, and seasonal patterns in purchases, so that they can predict and prepare for periods of high demand. Orchids follow a fairly consistent lifecycle. Therefore, Orchid.ly can plan when to plant new orchids, so that the flowers are ready to open just as they are delivered. Orchid.ly also wants to know if they should open more nurseries closer to key markets to shorten delivery times and ensure the plants arrive in good condition.\n",
        "\n",
        "In this example, a data analyst at the business would need to:\n",
        "\n",
        "- create date objects (for orders placed, items sent for shipping, items delivered)\n",
        "- extract specific information from the current date (to track order trends)\n",
        "- calculate future dates (to prepare for demand and time deliveries).\n",
        "\n",
        "Let’s look at how you could accomplish some of these activities with datetime. Give them all a try in your notebook environment."
      ]
    },
    {
      "cell_type": "markdown",
      "metadata": {
        "id": "-NvlEz-aPK_a"
      },
      "source": [
        "### Creating date objects\n",
        "\n",
        "First, import the datetime class from the datetime module. Then, print the current date and time by using the `now()` function of the datetime class as shown below."
      ]
    },
    {
      "cell_type": "code",
      "metadata": {
        "id": "uxK5PPVbPPfu"
      },
      "source": [
        "#import datetime class from datetime module\n",
        "from datetime import datetime"
      ],
      "execution_count": null,
      "outputs": []
    },
    {
      "cell_type": "code",
      "metadata": {
        "colab": {
          "base_uri": "https://localhost:8080/"
        },
        "id": "tCJ-4mSGPZ81",
        "outputId": "296e990a-2f56-4ebb-d35e-82603780c750"
      },
      "source": [
        "#get current date and time\n",
        "print (datetime.now())"
      ],
      "execution_count": null,
      "outputs": [
        {
          "output_type": "stream",
          "text": [
            "2021-05-11 02:24:51.272782\n"
          ],
          "name": "stdout"
        }
      ]
    },
    {
      "cell_type": "markdown",
      "metadata": {
        "id": "hnRoyc0JPxbh"
      },
      "source": [
        "### Extracting specific information from the current date or time\n",
        "\n",
        "Now you know how to get the current date and time, and you know that the datetime class accesses both date and time data, let’s see how to extract specific information, such as day, date, or month"
      ]
    },
    {
      "cell_type": "code",
      "metadata": {
        "colab": {
          "base_uri": "https://localhost:8080/"
        },
        "id": "kTtSdlgJP84A",
        "outputId": "9dfb43ec-47e3-49f7-a2bb-d92f4b8a64fe"
      },
      "source": [
        "datenow = datetime.now()\n",
        "#Current Year\n",
        "print(\"Current Year: \" + str(datenow.year))\n",
        "#Current Month\n",
        "print(\"Current Month: \" + str(datenow.month))\n",
        "#Current Day\n",
        "print(\"Current Day: \" + str(datenow.day))"
      ],
      "execution_count": null,
      "outputs": [
        {
          "output_type": "stream",
          "text": [
            "Current Year: 2021\n",
            "Current Month: 5\n",
            "Current Day: 11\n"
          ],
          "name": "stdout"
        }
      ]
    },
    {
      "cell_type": "code",
      "metadata": {
        "colab": {
          "base_uri": "https://localhost:8080/"
        },
        "id": "KHvMbWrSQPEx",
        "outputId": "eafa4413-fa69-4fb1-c15e-349455685e2b"
      },
      "source": [
        "#Current Hour\n",
        "print(\"Current Hour: \" + str(datenow.hour))\n",
        "#Current Minute\n",
        "print(\"Current Minute: \" + str(datenow.minute))\n",
        "#Current Seconds\n",
        "print(\"Current Second: \" + str(datenow.second))"
      ],
      "execution_count": null,
      "outputs": [
        {
          "output_type": "stream",
          "text": [
            "Current Hour: 2\n",
            "Current Minute: 29\n",
            "Current Second: 3\n"
          ],
          "name": "stdout"
        }
      ]
    },
    {
      "cell_type": "markdown",
      "metadata": {
        "id": "AAbRwChfQ3YT"
      },
      "source": [
        "### Calculating a future date\n",
        "\n",
        "Remember, you can get the current date using the datetime class and you have the timedelta class to deal with duration.\n",
        "\n",
        "Try this example of how to use these classes in your Jupyter notebook. This code snippet calculates the date 25 days from now:"
      ]
    },
    {
      "cell_type": "code",
      "metadata": {
        "colab": {
          "base_uri": "https://localhost:8080/"
        },
        "id": "8Uvc2xw0Q9mP",
        "outputId": "903e7674-7a9f-4f9f-95e4-36723c620f91"
      },
      "source": [
        "#Import datetime and timedelta\n",
        "from datetime import datetime, timedelta\n",
        "#get current time\n",
        "now = datetime.now()\n",
        "print (\"Today's Date : \" + str (now))\n",
        "#get future date 25 days from now\n",
        "futuredate = now + timedelta (days=25)\n",
        "#print future date\n",
        "print(\"Date after 25 days: \"+ str(futuredate))"
      ],
      "execution_count": null,
      "outputs": [
        {
          "output_type": "stream",
          "text": [
            "Today's Date : 2021-05-11 02:32:04.396859\n",
            "Date after 25 days: 2021-06-05 02:32:04.396859\n"
          ],
          "name": "stdout"
        }
      ]
    },
    {
      "cell_type": "markdown",
      "metadata": {
        "id": "0reVbyZqRPFh"
      },
      "source": [
        "## Packages for Data Analysis Activities\n",
        "\n",
        "**After modules, you should learn about the various Python packages you would be exploring throughout the course**.\n",
        "\n",
        "There are two important and core packages for data analytics activities in Python; they are **NumPy** and **Pandas**.\n",
        "\n",
        "Here is a sneak peek before we delve any deeper:\n",
        "\n",
        "### NumPy\n",
        "NumPy is the core package for numerical computing. It contains many high-level packages. Pandas is one of the most heavily used of these high-level packages. Pandas provides spreadsheet functionality in Python. It supports data with labelled rows and columns.\n",
        "\n",
        "It contains methods and functions for:\n",
        "\n",
        "- data loading\n",
        "- data manipulations\n",
        "- data cleaning\n",
        "- data exploration.\n",
        "\n",
        "### Pandas\n",
        "**Pandas** is a package that you will use if you want to leverage a variety of ready-to-use methods instead of writing the low-level programming logic yourself. On the other hand, you use **NumPy** when you want to program at a low-level.\n",
        "\n",
        "For example, you want some functionality that Pandas doesn’t have, so you need to create it yourself using NumPy. You would also use NumPy if you are planning to create your own package. Although Pandas is often more practical, it’s very important and useful to learn NumPy. Many core features of Pandas and other packages use NumPy functionality.\n",
        "\n",
        "GitHub pulled some data on contributions from the developers on their website. As a result of the analysis conducted, Python was the leading language the developers used and NumPy and Pandas were some of the leading libraries they used. Read more in the Octoverse article below."
      ]
    },
    {
      "cell_type": "markdown",
      "metadata": {
        "id": "0dvg1f_b68ED"
      },
      "source": [
        "# Getting started with NumPy Array\n",
        "\n",
        "\n",
        "\n"
      ]
    },
    {
      "cell_type": "markdown",
      "metadata": {
        "id": "4Y90_nby68EE"
      },
      "source": [
        "## Introduction to NumPy Array, ndArray\n",
        "NumPy (Numerical Python) is an open source Python library. It is the universal standard for working with numerical data in Python and it’s at the core of the scientific Python ecosystem.\n",
        "\n",
        "### NumPy = Numerical + Python\n",
        "    \n",
        "Etymologically, NumPy is a portmanteau from ‘Numerical’ and ‘Python’. Numerical Python contains functions that can be used for all kinds of numerical operations in the data analysis process using Python. \n",
        "The NumPy application programming interface (API) is extensively used in Pandas, SciPy, Matplotlib, scikit-learn, and most other data science and data analytics Python packages. With respect to Python, you can consider APIs as the core functions, classes, and modules defined in the NumPy package.\n",
        "    \n",
        "### NumPy functionalities\n",
        "    \n",
        "There are many NumPy functionalities that include:\n",
        "    \n",
        "- multi-dimensional Array and matrix data structures\n",
        "- a n-dimensional Array object of homogenous data type – ndArray – and methods to operate on it faster and more efficiently\n",
        "- standard mathematical functions for faster operations on the entire Array of data without the need for loops\n",
        "- linear algebra capabilities, random number generators, and so on.\n",
        "\n",
        "While NumPy itself doesn’t provide high-level data analysis functionality, having the understanding of NumPy Arrays and its usage will help you in using other tools, like Pandas and Matplotlib, effectively and efficiently.\n",
        "\n",
        "As in Python, to use a module in your NumPy program you first need to import it.\n",
        "\n",
        "    \n",
        "#### Importing NumPy\n",
        "Any time you want to use a library or a package in your code, you first need to make it accessible by using the import statement. To start using NumPy and all of the functions available, this means importing the package. This can be easily done using the following code:\n",
        "\n",
        "### Importing NumPy package\n",
        "\n"
      ]
    },
    {
      "cell_type": "code",
      "metadata": {
        "colab": {
          "base_uri": "https://localhost:8080/",
          "height": 35
        },
        "id": "vGyPujwS68EG",
        "outputId": "b24b3ae2-f14f-4966-ac69-eb1f7952173e"
      },
      "source": [
        "## Importing NumPy package\n",
        "import numpy as np\n",
        "\n",
        "##Check the version of the package, and verify that it has been imported correctly\n",
        "np.__version__"
      ],
      "execution_count": null,
      "outputs": [
        {
          "output_type": "execute_result",
          "data": {
            "application/vnd.google.colaboratory.intrinsic+json": {
              "type": "string"
            },
            "text/plain": [
              "'1.19.5'"
            ]
          },
          "metadata": {
            "tags": []
          },
          "execution_count": 12
        }
      ]
    },
    {
      "cell_type": "markdown",
      "metadata": {
        "id": "72UIUeR8S2FK"
      },
      "source": [
        "There is an unstated, undocumented convention that is followed in the Python world – using ‘np’ as the reference name while importing NumPy. Technically, any other name can be used, but this is the convention generally followed."
      ]
    },
    {
      "cell_type": "markdown",
      "metadata": {
        "id": "t7FVePv568EG"
      },
      "source": [
        "## NumPy data structure: ndArray\n",
        "\n",
        "The fundamental data structure that NumPy provides is ndArray.\n",
        "\n",
        "ndArray is a generic multidimensional container for homogenous data; that is, all of the elements in the Array should be of the same data type.\n",
        "\n",
        "It has attributes such as:\n",
        "- shape, which returns a tuple indicating the size of each dimension\n",
        "- dtype, which returns an object describing the data type of the Array elements.\n",
        "\n",
        "Here are the code snippets and the outputs for the same:\n"
      ]
    },
    {
      "cell_type": "code",
      "metadata": {
        "id": "mbuGa7-c68EH",
        "outputId": "7ac0e28d-b072-471e-8477-b6af39f79755"
      },
      "source": [
        "#Creating a random array and checking its shape and dtype attributes\n",
        "arr1 = np.array([1,2,3,4,5])\n",
        "arr1, arr1.shape, arr1.dtype"
      ],
      "execution_count": null,
      "outputs": [
        {
          "output_type": "execute_result",
          "data": {
            "text/plain": [
              "(array([1, 2, 3, 4, 5]), (5,), dtype('int32'))"
            ]
          },
          "metadata": {
            "tags": []
          },
          "execution_count": 2
        }
      ]
    },
    {
      "cell_type": "code",
      "metadata": {
        "id": "y0e31zJm68EH",
        "outputId": "d6ceac12-1929-4d00-fe4a-480b8d928f85"
      },
      "source": [
        "#Formatted Print Outputs for the ndArray arr1\n",
        "#Print the type of the variable arr1 -> as we all know this is ndArray.\n",
        "#Print the array itself -> this would print the items stored in the array.\n",
        "print(\"-------Printing the the Type of the Variable arr1, and the contents of array-------\")\n",
        "print(type(arr1))\n",
        "print(arr1)\n",
        "print(\"-------Printing the the Shape and DType property of the ndArray arr1-------\")\n",
        "print(\"Shape of the Array is: \" + str(arr1.shape))\n",
        "print(\"Dtype for the Array is: \" + str(arr1.dtype))\n"
      ],
      "execution_count": null,
      "outputs": [
        {
          "output_type": "stream",
          "text": [
            "-------Printing the the Type of the Variable arr1, and the contents of array-------\n",
            "<class 'numpy.ndarray'>\n",
            "[1 2 3 4 5]\n",
            "-------Printing the the Shape and DType property of the ndArray arr1-------\n",
            "Shape of the Array is: (5,)\n",
            "Dtype for the Array is: int32\n"
          ],
          "name": "stdout"
        }
      ]
    },
    {
      "cell_type": "markdown",
      "metadata": {
        "id": "uswRJv1O68EI"
      },
      "source": [
        "### Creating ndArrays\n",
        "\n",
        "You can create ndArrays using the Array() function the NumPy package provides. This function accepts a sequence-like object as an input and produces the NumPy Array containing the data that has been passed to the function.\n",
        "\n",
        "The code snippet and output demonstrate creating a one-dimensional ndArray:\n",
        "\n",
        "\n",
        "<code>\n",
        "    l1 = [1,2,3,4,5,6]\n",
        "    a1 = np.array(l1)\n",
        "    a1\n",
        "</code>\n",
        "\n",
        "If a nested sequence is provided as the input, a multi-dimensional Array is created (dimension is related to the level of nesting in the data that has been passed). \n",
        "\n",
        "The code snippet demonstrates creating a 2 ndArray:\n",
        "\n",
        "\n",
        "<code>\n",
        "    a2 = np.array([[1,2,3],\n",
        "                   [4,5,6],\n",
        "                   [7,8,9]])\n",
        "    </code>\n",
        "    \n",
        "The attribute ‘ndim’ associated with every Array object tells us the number of dimensions it has.\n",
        "\n",
        "The code snippet highlights the use of this attribute:"
      ]
    },
    {
      "cell_type": "code",
      "metadata": {
        "id": "mE2LV5WM68EI",
        "outputId": "4f90df41-6be0-4815-9b31-f6763fa5c11f"
      },
      "source": [
        "# Create ndArray by passing a list object to np.array()\n",
        "l1 = [1,2,3,4,5,6]\n",
        "a1 = np.array(l1)\n",
        "a1"
      ],
      "execution_count": null,
      "outputs": [
        {
          "output_type": "execute_result",
          "data": {
            "text/plain": [
              "array([1, 2, 3, 4, 5, 6])"
            ]
          },
          "metadata": {
            "tags": []
          },
          "execution_count": 4
        }
      ]
    },
    {
      "cell_type": "code",
      "metadata": {
        "id": "Zcf0Hvim68EJ",
        "outputId": "1735b1e5-9557-4895-f178-684e70117e6d"
      },
      "source": [
        "# Create multi-dimensional array by passing a nested list to np.array()\n",
        "a2 = np.array([[1,2,3], [4,5,6], [7,8,9]])\n",
        "a2"
      ],
      "execution_count": null,
      "outputs": [
        {
          "output_type": "execute_result",
          "data": {
            "text/plain": [
              "array([[1, 2, 3],\n",
              "       [4, 5, 6],\n",
              "       [7, 8, 9]])"
            ]
          },
          "metadata": {
            "tags": []
          },
          "execution_count": 5
        }
      ]
    },
    {
      "cell_type": "code",
      "metadata": {
        "id": "3gvAAyCD68EJ",
        "outputId": "df92a24b-96d5-4be2-ab23-2ac874e4d648"
      },
      "source": [
        "#Check the shape and ndim property of the arrays created in the previous step\n",
        "print(a1.shape, a1.ndim)\n",
        "print(a2.shape, a2.ndim)"
      ],
      "execution_count": null,
      "outputs": [
        {
          "output_type": "stream",
          "text": [
            "(6,) 1\n",
            "(3, 3) 2\n"
          ],
          "name": "stdout"
        }
      ]
    },
    {
      "cell_type": "markdown",
      "metadata": {
        "id": "U4o7iYYT68EK"
      },
      "source": [
        "You learned earlier that ndArrays have a dtype attribute that returns an object describing the data type of the Array elements. This means the np.Array() function must either accept the dtype as input, and if it's optional, it should try to infer the data type property based on the data that has been passed. \n",
        "\n",
        "And that’s exactly the scenario, unless explicitly specified; the np.Array() function infers the good data type for the Array that it creates. \n",
        "\n",
        "The code snippet and output that shows the dtype property of the Array objects that we have created in the example above:"
      ]
    },
    {
      "cell_type": "code",
      "metadata": {
        "id": "-A-aN1GW68EK",
        "outputId": "552012ca-0207-4399-9fee-82935b668f55"
      },
      "source": [
        "#Check the property dtype of the arrays created in the previous step\n",
        "a1.dtype, a2.dtype"
      ],
      "execution_count": null,
      "outputs": [
        {
          "output_type": "execute_result",
          "data": {
            "text/plain": [
              "(dtype('int32'), dtype('int32'))"
            ]
          },
          "metadata": {
            "tags": []
          },
          "execution_count": 7
        }
      ]
    },
    {
      "cell_type": "markdown",
      "metadata": {
        "id": "aSQmBThx68EK"
      },
      "source": [
        "### ndArray with floating data\n",
        "    \n",
        "Let’s try to create a ndArray that has floating data, instead of integers. \n",
        "\n",
        "<code>\n",
        "    a3=np.array([1.1,2.3,4.5,6])\n",
        "</code>\n",
        "\n",
        "And we can check the __dtype__ attribute value for a3, to confirm the dtype value infered automatically."
      ]
    },
    {
      "cell_type": "code",
      "metadata": {
        "id": "YwicjZKc68EL",
        "outputId": "382ad4fc-2e7e-4d21-f2e5-bba69c3a0613"
      },
      "source": [
        "# Creating ndArray with float values\n",
        "a3=np.array([1.1,2.3,4.5,6])\n",
        "a3"
      ],
      "execution_count": null,
      "outputs": [
        {
          "output_type": "execute_result",
          "data": {
            "text/plain": [
              "array([1.1, 2.3, 4.5, 6. ])"
            ]
          },
          "metadata": {
            "tags": []
          },
          "execution_count": 8
        }
      ]
    },
    {
      "cell_type": "code",
      "metadata": {
        "id": "rnDrLUAD68EL",
        "outputId": "3e483db3-7d95-4aa5-da86-66c38a4f064f"
      },
      "source": [
        "# Checking the infered dtype\n",
        "a3.dtype"
      ],
      "execution_count": null,
      "outputs": [
        {
          "output_type": "execute_result",
          "data": {
            "text/plain": [
              "dtype('float64')"
            ]
          },
          "metadata": {
            "tags": []
          },
          "execution_count": 9
        }
      ]
    },
    {
      "cell_type": "markdown",
      "metadata": {
        "id": "dP8NE4cE68EL"
      },
      "source": [
        "Many times, we need to create an ndArray with values defaulted; for example, to ‘0’ or ‘1’, and there are specific functions available for this purpose. The benefit of using these functions is that you don’t have to pass the data sequence with all 0s and 1s in it, as when dealing with higher dimensional data that becomes very cumbersome.\n",
        "\n",
        "- __np.zero()__ -> creates ndArray with values equal to 0\n",
        "- __np.ones()__ -> creates ndArray with values equal to 1\n",
        "\n",
        "Both these functions accept the shape of the Array as a parameter. The code snippet highlights the use of these functions:"
      ]
    },
    {
      "cell_type": "markdown",
      "metadata": {
        "id": "a0JzmPIhTtkw"
      },
      "source": [
        "### Using np.zeros()"
      ]
    },
    {
      "cell_type": "code",
      "metadata": {
        "id": "MvF6Y63K68EM",
        "outputId": "c51ba977-4392-4413-ba4b-4cd4520652e1"
      },
      "source": [
        "#Creating one dimensional ndArray with all values equal to 0\n",
        "n1 = np.zeros(5)\n",
        "n1"
      ],
      "execution_count": null,
      "outputs": [
        {
          "output_type": "execute_result",
          "data": {
            "text/plain": [
              "array([0., 0., 0., 0., 0.])"
            ]
          },
          "metadata": {
            "tags": []
          },
          "execution_count": 10
        }
      ]
    },
    {
      "cell_type": "code",
      "metadata": {
        "id": "Gzhf1pHv68EM",
        "outputId": "c9479451-51fc-4f17-ada2-f3b7a5534ed9"
      },
      "source": [
        "n1.ndim, n1.shape"
      ],
      "execution_count": null,
      "outputs": [
        {
          "output_type": "execute_result",
          "data": {
            "text/plain": [
              "(1, (5,))"
            ]
          },
          "metadata": {
            "tags": []
          },
          "execution_count": 11
        }
      ]
    },
    {
      "cell_type": "markdown",
      "metadata": {
        "id": "8ggE0XL7TxuX"
      },
      "source": [
        "### Using np.ones()"
      ]
    },
    {
      "cell_type": "code",
      "metadata": {
        "id": "Bo89T5te68EM",
        "outputId": "cd9a622b-99f6-487b-cf2b-4a02fd690feb"
      },
      "source": [
        "#Creating 3 dimensional array with all values equal to 1\n",
        "n2 = np.ones((2,3,4))\n",
        "n2"
      ],
      "execution_count": null,
      "outputs": [
        {
          "output_type": "execute_result",
          "data": {
            "text/plain": [
              "array([[[1., 1., 1., 1.],\n",
              "        [1., 1., 1., 1.],\n",
              "        [1., 1., 1., 1.]],\n",
              "\n",
              "       [[1., 1., 1., 1.],\n",
              "        [1., 1., 1., 1.],\n",
              "        [1., 1., 1., 1.]]])"
            ]
          },
          "metadata": {
            "tags": []
          },
          "execution_count": 12
        }
      ]
    },
    {
      "cell_type": "code",
      "metadata": {
        "id": "78CaBVBa68EM",
        "outputId": "fe7b470c-7579-4e14-cbd3-2fc46d1b69f9"
      },
      "source": [
        "n2.ndim, n2.shape"
      ],
      "execution_count": null,
      "outputs": [
        {
          "output_type": "execute_result",
          "data": {
            "text/plain": [
              "(3, (2, 3, 4))"
            ]
          },
          "metadata": {
            "tags": []
          },
          "execution_count": 13
        }
      ]
    },
    {
      "cell_type": "markdown",
      "metadata": {
        "id": "FrL4BAPo68EN"
      },
      "source": [
        "There are many other functions available for creating n-dimensional Arrays. For a comprehensive reference guide, please refer to the official NumPy documentation:\n",
        "\n",
        "Read: https://numpy.org/doc/stable/reference/routines.array-creation.html\n"
      ]
    },
    {
      "cell_type": "markdown",
      "metadata": {
        "id": "LuTwFACLUbo7"
      },
      "source": [
        "## QUIZ\n",
        "\n",
        "1. What are some of the NumPy functionalities?\n",
        "  - A n-dimensional Array object of homogenous data types and methods to operate on it faster and more efficiently.\n",
        "  - A multi-dimensional Array and matrix data structures.\n",
        "  - Standard mathematical functions for faster operations on the entire Array of data without the need for loops.\n",
        "  - **All of the above**\n",
        "\n",
        "2. When importing NumPy, what is the reference commonly used?\n",
        "  - nd\n",
        "  - **np**\n",
        "  - pn\n",
        "  - nt\n",
        "\n",
        "3. What is an ndArray?\n",
        "  - **A generic multidimensional container for homogenous data.**\n",
        "  - A specific one-dimensional container for homogenous data.\n",
        "  - A generic one-dimensional container for different data sets.\n",
        "  - A specific multidimensional container for different data sets.\n",
        "\n",
        "4. How can you find the type of ndArray in Python?\n",
        "  - **dtype**\n",
        "  - type\n",
        "  - typei\n",
        "  - itype\n",
        "\n"
      ]
    },
    {
      "cell_type": "markdown",
      "metadata": {
        "id": "9qim2Awx68EN"
      },
      "source": [
        "## NumPy: Essential operations\n",
        "\n",
        "For the purposes of data analysis using Python, you need to understand the following essential operations that NumPy has to offer.\n",
        "\n",
        "### Vectorization\n",
        "\n",
        "NumPy Arrays provide vectorised mathematical operations and it’s beneficial to understand the concept of vectorisation. It has its roots in vector mathematics, but from a programming perspective it means that if data is stored in NumPy Arrays (vectors), it enables us to express the batch operations on the data without writing any loop. \n",
        "\n",
        "You simply express the mathematical operations as if you have scalar data types.\n",
        "\n",
        "The code snippet explains the concept of vectorisation and shows that without using the loop functionality, we are able to perform addition on all the elements of ndArray using simple mathematical addition. NumPy Arrays provide vectorised mathematical operations and it’s beneficial to understand the concept of vectorisation. It has its roots in vector mathematics, but from a programming perspective it means that if data is stored in NumPy Arrays (vectors), it enables us to express the batch operations on the data without writing any loop. You simply express the mathematical operations as if you have scalar data types.\n",
        "\n",
        "The code snippet explains the concept of vectorisation and shows that without using the loop functionality, we are able to perform addition on all the elements of ndArray using simple mathematical addition.\n",
        "\n"
      ]
    },
    {
      "cell_type": "code",
      "metadata": {
        "id": "MK4Nkb4Q68EN"
      },
      "source": [
        "#Using NumPy Array we can do addition of all the data in NumPy Array\n",
        "#element by element by simply specifying the + operator between two Arrays Operands\n",
        "#If we are not using NumPy Array, then element wise operation will require\n",
        "#loops to iterate through both arrays\n",
        "a1 = np.array([[1,2,3], [4,5,6]])\n",
        "a2 = np.array([[6,7,8], [9,10,11]])"
      ],
      "execution_count": null,
      "outputs": []
    },
    {
      "cell_type": "code",
      "metadata": {
        "colab": {
          "base_uri": "https://localhost:8080/"
        },
        "id": "f6f2kXfP68EO",
        "outputId": "6716b948-2171-48e0-a0ea-2677d3c4ffcf"
      },
      "source": [
        "a1, a1.shape, a1.ndim"
      ],
      "execution_count": null,
      "outputs": [
        {
          "output_type": "execute_result",
          "data": {
            "text/plain": [
              "(array([[1, 2, 3],\n",
              "        [4, 5, 6]]), (2, 3), 2)"
            ]
          },
          "metadata": {
            "tags": []
          },
          "execution_count": 14
        }
      ]
    },
    {
      "cell_type": "code",
      "metadata": {
        "colab": {
          "base_uri": "https://localhost:8080/"
        },
        "id": "0ZwJ08JE68EO",
        "outputId": "46e73def-eafe-4bc6-817e-3fefed2178df"
      },
      "source": [
        "a2, a2.shape, a2.ndim"
      ],
      "execution_count": null,
      "outputs": [
        {
          "output_type": "execute_result",
          "data": {
            "text/plain": [
              "(array([[ 6,  7,  8],\n",
              "        [ 9, 10, 11]]), (2, 3), 2)"
            ]
          },
          "metadata": {
            "tags": []
          },
          "execution_count": 15
        }
      ]
    },
    {
      "cell_type": "code",
      "metadata": {
        "colab": {
          "base_uri": "https://localhost:8080/"
        },
        "id": "ya09enSs68EO",
        "outputId": "18e8496d-16c7-4842-d10f-518e412bb661"
      },
      "source": [
        "a_sum = a1 + a2\n",
        "a_sum, a_sum.shape, a_sum.ndim"
      ],
      "execution_count": null,
      "outputs": [
        {
          "output_type": "execute_result",
          "data": {
            "text/plain": [
              "(array([[ 7,  9, 11],\n",
              "        [13, 15, 17]]), (2, 3), 2)"
            ]
          },
          "metadata": {
            "tags": []
          },
          "execution_count": 16
        }
      ]
    },
    {
      "cell_type": "markdown",
      "metadata": {
        "id": "m8kJvMxu68EP"
      },
      "source": [
        "### Indexing and slicing\n",
        "\n",
        "We touched on indexing and slicing when we explored various foundational data structures provided within Python.\n",
        "\n",
        "To recap:\n",
        "- Indexing is used to access a particular element in the sequence. \n",
        "- Slicing is used to access subsets of a sequence (more than one element).\n",
        "\n",
        "The notation used for both operations is [ ] and passing different index parameters into square brackets. We will explore indexing and slicing in the context of NumPy Arrays later in this section.\n",
        "\n",
        "The same principle of indexing and slicing applies to the NumPy Arrays as well, but with some subtle differences. \n",
        "\n",
        "- Indexing: By providing the index in square brackets, you can access the value stored at that position.\n",
        "- Slicing: By providing the slicing indices, you can access the subset of the data stored between those indices.\n",
        "\n",
        "#### Indexing examples\n",
        "\n",
        "Accessing an element in first row and third column, and an element in the second row and first column.\n"
      ]
    },
    {
      "cell_type": "code",
      "metadata": {
        "colab": {
          "base_uri": "https://localhost:8080/"
        },
        "id": "s4PAjXZw68EP",
        "outputId": "c9104de7-efc4-43f4-9050-a15eae710380"
      },
      "source": [
        "a_sum"
      ],
      "execution_count": null,
      "outputs": [
        {
          "output_type": "execute_result",
          "data": {
            "text/plain": [
              "array([[ 7,  9, 11],\n",
              "       [13, 15, 17]])"
            ]
          },
          "metadata": {
            "tags": []
          },
          "execution_count": 17
        }
      ]
    },
    {
      "cell_type": "code",
      "metadata": {
        "id": "WAfhq4mE68EP"
      },
      "source": [
        "#Accessing element in the first row (index 0), and third column (index 2) i.e. 11\n",
        "item1 = a_sum[0,2]\n",
        "\n",
        "#Accessing element in the second row (index 0), and first column (index 0) i.e. 13\n",
        "item2 = a_sum[1,0]\n"
      ],
      "execution_count": null,
      "outputs": []
    },
    {
      "cell_type": "code",
      "metadata": {
        "colab": {
          "base_uri": "https://localhost:8080/"
        },
        "id": "9-DT2J_y68EP",
        "outputId": "3ecafbf5-05f0-46dd-a1b5-65ffb8799f5a"
      },
      "source": [
        "item1, item2"
      ],
      "execution_count": null,
      "outputs": [
        {
          "output_type": "execute_result",
          "data": {
            "text/plain": [
              "(11, 13)"
            ]
          },
          "metadata": {
            "tags": []
          },
          "execution_count": 19
        }
      ]
    },
    {
      "cell_type": "markdown",
      "metadata": {
        "id": "W9rUBFzC68EQ"
      },
      "source": [
        "### Slicing examples \n",
        "\n",
        "The code snippet shows a two-dimensional ndArray created with three rows and four columns. By using the slicing operation we are accessing some subsets of the data:\n",
        "\n",
        "- first two columns of all rows ()\n",
        "    - slice parameter -> [:,0:2]\n",
        "- first and third row only, and second and fourth columns only\n",
        "    - slice parameter -> [0::2, 1::2]\n"
      ]
    },
    {
      "cell_type": "code",
      "metadata": {
        "id": "NsgBANCB68EQ",
        "outputId": "6421ab31-53b2-4079-ca8b-52ac45003a79"
      },
      "source": [
        "n1 = np.array([[11,12,13,14], [15,16,17,18], [13,14,15,16]])\n",
        "n1"
      ],
      "execution_count": null,
      "outputs": [
        {
          "output_type": "execute_result",
          "data": {
            "text/plain": [
              "array([[11, 12, 13, 14],\n",
              "       [15, 16, 17, 18],\n",
              "       [13, 14, 15, 16]])"
            ]
          },
          "metadata": {
            "tags": []
          },
          "execution_count": 21
        }
      ]
    },
    {
      "cell_type": "code",
      "metadata": {
        "id": "I7URtl7f68EQ",
        "outputId": "08f29416-b8fd-4dfb-ce48-4ba6f6ccdcb3"
      },
      "source": [
        "n1.ndim, n1.shape"
      ],
      "execution_count": null,
      "outputs": [
        {
          "output_type": "execute_result",
          "data": {
            "text/plain": [
              "(2, (3, 4))"
            ]
          },
          "metadata": {
            "tags": []
          },
          "execution_count": 22
        }
      ]
    },
    {
      "cell_type": "code",
      "metadata": {
        "id": "Mh9_Fpyn68EQ",
        "outputId": "f1a93516-df0c-4bbd-a242-6be2745d66cc"
      },
      "source": [
        "#So n1 is a two dimensional array with a shape of (3,4) i.e. 3 rows and 4 columns\n",
        "#Let's collect the partial data or a subset from this array. Let say first two columns of all rows.\n",
        "#Remember we specify slice as start:stop:step for every dimension\n",
        "slice_data = n1[:,0:2]\n",
        "slice_data"
      ],
      "execution_count": null,
      "outputs": [
        {
          "output_type": "execute_result",
          "data": {
            "text/plain": [
              "array([[11, 12],\n",
              "       [15, 16],\n",
              "       [13, 14]])"
            ]
          },
          "metadata": {
            "tags": []
          },
          "execution_count": 23
        }
      ]
    },
    {
      "cell_type": "code",
      "metadata": {
        "id": "vMdhnX7668ER",
        "outputId": "51d351ff-2ba5-47ad-c64f-d01112788336"
      },
      "source": [
        "#Similarly if we want to only access first and third row, and for the selected rows,\n",
        "#only second and fourth column, this slicing operation will be as follows:\n",
        "slice_data1 = n1[0::2, 1::2]\n",
        "slice_data1"
      ],
      "execution_count": null,
      "outputs": [
        {
          "output_type": "execute_result",
          "data": {
            "text/plain": [
              "array([[12, 14],\n",
              "       [14, 16]])"
            ]
          },
          "metadata": {
            "tags": []
          },
          "execution_count": 24
        }
      ]
    },
    {
      "cell_type": "markdown",
      "metadata": {
        "id": "m_ZxC0ac68ER"
      },
      "source": [
        "### Broadcasting\n",
        "\n",
        "It’s important to understand this characteristic of slicing NumPy Arrays. Array slices are basically the views on the original Array; that is, when we perform a slicing operation, a new object is not created. \n",
        "\n",
        "We can see this in the slicing example in the previous code snippet – the variables slice_data and slice_data1 are simply the references to the data stored in the original NumPy Array. \n"
      ]
    },
    {
      "cell_type": "code",
      "metadata": {
        "id": "Kd_gbwCU68ER",
        "outputId": "ebba2ab4-b3b4-41b7-f051-fb571b5f62e9"
      },
      "source": [
        "n1"
      ],
      "execution_count": null,
      "outputs": [
        {
          "output_type": "execute_result",
          "data": {
            "text/plain": [
              "array([[11, 12, 13, 14],\n",
              "       [15, 16, 17, 18],\n",
              "       [13, 14, 15, 16]])"
            ]
          },
          "metadata": {
            "tags": []
          },
          "execution_count": 25
        }
      ]
    },
    {
      "cell_type": "markdown",
      "metadata": {
        "id": "QIt9qLQH68ER"
      },
      "source": [
        "This means that if we change the data using the Array slices, then the original source data will also change. This behaviour is called broadcasting – the method that NumPy uses to allow Array arithmetic between Arrays with a different shape or size. \n",
        "\n",
        "The code snippet demonstrates broadcasting in practice. Here, we are changing the second and third columns of the first and third row by selecting them using slices, and equating them to a fixed value of 50.\n"
      ]
    },
    {
      "cell_type": "code",
      "metadata": {
        "id": "TSKlFOT668ER"
      },
      "source": [
        "# Using broadcasting i.e. with use of array slicing, lets change the values\n",
        "# of the elements in second and fourth columns, of the first and third row\n",
        "# to say 50\n",
        "n1[0::2,1::2] = 50"
      ],
      "execution_count": null,
      "outputs": []
    },
    {
      "cell_type": "code",
      "metadata": {
        "id": "JHq1pnnh68ES",
        "outputId": "abeb88fa-0ece-4641-c272-8e4fc816827e"
      },
      "source": [
        "n1"
      ],
      "execution_count": null,
      "outputs": [
        {
          "output_type": "execute_result",
          "data": {
            "text/plain": [
              "array([[11, 50, 13, 50],\n",
              "       [15, 16, 17, 18],\n",
              "       [13, 50, 15, 50]])"
            ]
          },
          "metadata": {
            "tags": []
          },
          "execution_count": 27
        }
      ]
    },
    {
      "cell_type": "markdown",
      "metadata": {
        "id": "jlMC-1rX68ES"
      },
      "source": [
        "Broadcasting is widely used in data analytics applications and the underlying programs so it’s a very important concept to master. It is used extensively in the data manipulations that we will conduct as part of data wrangling while creating data pipelines for data analytics applications in Module 5.\n"
      ]
    },
    {
      "cell_type": "markdown",
      "metadata": {
        "id": "UcsU8nPw68ES"
      },
      "source": [
        "## Boolean indexing and transposing Arrays\n",
        "\n",
        "### Boolean indexing \n",
        "\n",
        "Combining all the concepts we have learnt so far (ie, vectorisation, indexing, and slicing), we can program some very complex and powerful filtering logics in a single Python statement.\n",
        "\n",
        "One of these operations is called boolean indexing, and this is very widely used in data wrangling aspects of data analysis.\n",
        "Let’s use an example scenario to explain:\n",
        "\n",
        "- A sequence consisting of the name of all the customers, in order, whenever they have made a purchase (ie, a customer can appear more than once in the list).\n",
        "- Another sequence consisting of the details of each transaction for the specific customer in order.\n",
        "- The sequence is stored in the NumPy Arrays, and now we want to select the transactions for a particular customer.\n",
        "\n",
        "We can solve the above scenario using a combination of vectorisation, indexing, and slicing.\n",
        "\n",
        "The code snippets simulate this scenario with steps to follow.\n",
        "\n",
        "\n",
        "#### Step 1: Create data\n",
        "To apply the boolean filters, you need to have dummy data. Let us create one for this activity. \n"
      ]
    },
    {
      "cell_type": "code",
      "metadata": {
        "id": "NsHplTRv68ES",
        "outputId": "9a1f3d92-7863-4ee3-b7e0-d47665ea3160"
      },
      "source": [
        "# List of customer who have made the transactions, stored in numpy array\n",
        "customers = np.array(['Bob', 'John', 'Miller', 'Bob', 'Sammy', 'Samuel', 'Tony', 'Amanda', 'Bob'])\n",
        "customers.ndim, customers.shape"
      ],
      "execution_count": null,
      "outputs": [
        {
          "output_type": "execute_result",
          "data": {
            "text/plain": [
              "(1, (9,))"
            ]
          },
          "metadata": {
            "tags": []
          },
          "execution_count": 28
        }
      ]
    },
    {
      "cell_type": "markdown",
      "metadata": {
        "id": "HcbCWKAd68ET"
      },
      "source": [
        "#### Step 2: Apply comparison operator to create a boolean filter \n",
        "\n",
        "As operations on NumPy Arrays are vectorised, if we apply a comparison operator, the resultant Array will be a boolean Array with True or False values in it, depending on the filter.\n",
        "\n",
        "Let’s perform the operation customer name = ‘Bob’ and see what happens."
      ]
    },
    {
      "cell_type": "code",
      "metadata": {
        "id": "M0fYVHPI68ET",
        "outputId": "d38dd2b0-f991-4c30-8995-e504baa99aff"
      },
      "source": [
        "# So there are 9 customer entries in the above customers array.\n",
        "# Let's create an array of 9rows (one for each customer), and 4 columns (assume 4 attributes of transaction) \n",
        "# with random integer values. We will fill this array with some random numbers, using a function randint\n",
        "data = np.random.randint(1,100, size=(9,4))\n",
        "transactions = np.array(data)\n",
        "transactions"
      ],
      "execution_count": null,
      "outputs": [
        {
          "output_type": "execute_result",
          "data": {
            "text/plain": [
              "array([[77, 41, 66, 61],\n",
              "       [42, 29, 35,  7],\n",
              "       [48, 93, 62, 77],\n",
              "       [27, 54,  3, 31],\n",
              "       [ 2, 71, 64, 57],\n",
              "       [96, 13,  8, 63],\n",
              "       [10, 62, 54,  3],\n",
              "       [ 7, 83, 17, 72],\n",
              "       [13, 58, 30, 50]])"
            ]
          },
          "metadata": {
            "tags": []
          },
          "execution_count": 29
        }
      ]
    },
    {
      "cell_type": "markdown",
      "metadata": {
        "id": "PQlvh1Rc68ET"
      },
      "source": [
        "#### Step 3: Pass boolean filter for the slicing of the Array\n",
        "\n",
        "Here, we can pass this boolean filter as one of the index parameters in the slicing operations.\n",
        "\n",
        "We want to select all the transaction rows related to customer ‘Bob’, and we want to select all the columns for those selected rows. So, we will pass the following slicing parameter:\n",
        "- boolean filter – for row index\n",
        "- :  – for the column index (ie, picking all columns)\n",
        "\n",
        "The code snippet shows this behaviour and you will see rows 1, 3, and 9 are filtered. Just for the ease of viewing the result, the value 1,000,000 (1.0e+6) is also broadcast for these elements.\n"
      ]
    },
    {
      "cell_type": "code",
      "metadata": {
        "id": "Dknd99t568ET",
        "outputId": "5c2be37b-c1ae-4b3e-b66f-e2f9fc7d0482"
      },
      "source": [
        "#Creating a Boolean Filter by applying vectorized comparison to customers array\n",
        "customers == 'Bob'\n",
        "#This will result into an array with 9 columns, with True at all the position\n",
        "#where 'Bob' exists in the customer array"
      ],
      "execution_count": null,
      "outputs": [
        {
          "output_type": "execute_result",
          "data": {
            "text/plain": [
              "array([ True, False, False,  True, False, False, False, False,  True])"
            ]
          },
          "metadata": {
            "tags": []
          },
          "execution_count": 30
        }
      ]
    },
    {
      "cell_type": "code",
      "metadata": {
        "id": "8leexjuP68EU",
        "outputId": "82bdcdef-47b1-4059-a2cb-099863b6a2f2"
      },
      "source": [
        "slice = transactions[customers=='Bob', :]\n",
        "slice"
      ],
      "execution_count": null,
      "outputs": [
        {
          "output_type": "execute_result",
          "data": {
            "text/plain": [
              "array([[77, 41, 66, 61],\n",
              "       [27, 54,  3, 31],\n",
              "       [13, 58, 30, 50]])"
            ]
          },
          "metadata": {
            "tags": []
          },
          "execution_count": 31
        }
      ]
    },
    {
      "cell_type": "code",
      "metadata": {
        "id": "3ynsDhKO68EU",
        "outputId": "36bbedce-979f-4513-c3c7-28a1b445ad3a"
      },
      "source": [
        "transactions[customers=='Bob', :] = 1000000\n",
        "transactions"
      ],
      "execution_count": null,
      "outputs": [
        {
          "output_type": "execute_result",
          "data": {
            "text/plain": [
              "array([[1000000, 1000000, 1000000, 1000000],\n",
              "       [     42,      29,      35,       7],\n",
              "       [     48,      93,      62,      77],\n",
              "       [1000000, 1000000, 1000000, 1000000],\n",
              "       [      2,      71,      64,      57],\n",
              "       [     96,      13,       8,      63],\n",
              "       [     10,      62,      54,       3],\n",
              "       [      7,      83,      17,      72],\n",
              "       [1000000, 1000000, 1000000, 1000000]])"
            ]
          },
          "metadata": {
            "tags": []
          },
          "execution_count": 32
        }
      ]
    },
    {
      "cell_type": "markdown",
      "metadata": {
        "id": "AgdXe5mN68EU"
      },
      "source": [
        "Now it should be clear for you why Boolean indexing is the efficient way of filtering rows in a NumPy Array based on certain selection criteria dependent on the requirements."
      ]
    },
    {
      "cell_type": "markdown",
      "metadata": {
        "id": "j7tCqw9168EU"
      },
      "source": [
        "### Transposing Arrays\n",
        "\n",
        "Generally, transposing Arrays is a widely used internal operation in various machine learning and deep learning algorithms. Transposing operations on Arrays will convert rows into columns, and columns into rows.\n",
        "\n",
        "Transposing is a special type of reshaping that returns a view on the underlying NumPy Array data without copying anything. For this purpose, there is a special attribute, T, available for every NumPy Array."
      ]
    },
    {
      "cell_type": "code",
      "metadata": {
        "id": "HVv9oeqr68EU",
        "outputId": "86be0400-9394-4262-d81c-749b99dbeb3a"
      },
      "source": [
        "arr = np.array([[1,2,3,4],[5,6,7,8],[9,10,11,12]])\n",
        "arr"
      ],
      "execution_count": null,
      "outputs": [
        {
          "output_type": "execute_result",
          "data": {
            "text/plain": [
              "array([[ 1,  2,  3,  4],\n",
              "       [ 5,  6,  7,  8],\n",
              "       [ 9, 10, 11, 12]])"
            ]
          },
          "metadata": {
            "tags": []
          },
          "execution_count": 33
        }
      ]
    },
    {
      "cell_type": "code",
      "metadata": {
        "id": "fmP6ixKq68EV",
        "outputId": "518548b5-f8d8-49f5-fe33-f0198ad2418b"
      },
      "source": [
        "arr.T"
      ],
      "execution_count": null,
      "outputs": [
        {
          "output_type": "execute_result",
          "data": {
            "text/plain": [
              "array([[ 1,  5,  9],\n",
              "       [ 2,  6, 10],\n",
              "       [ 3,  7, 11],\n",
              "       [ 4,  8, 12]])"
            ]
          },
          "metadata": {
            "tags": []
          },
          "execution_count": 34
        }
      ]
    },
    {
      "cell_type": "markdown",
      "metadata": {
        "id": "B2689tqRZLwh"
      },
      "source": [
        "## QUIZ\n",
        "\n",
        "1. Why would you index using NumPy?\n",
        "  - To highlight a particular element in the sequence.\n",
        "  - To access the subset of the data stored between those indices.\n",
        "  - To access subsets of a particular element in the sequence.\n",
        "  - **To access the value stored at that position**.\n",
        "\n",
        "2. If we change the data using the Array slices in NumPy, the original source data also changes. What is this called?\n",
        "  - Indexing\n",
        "  - Slicing\n",
        "  - **Broadcasting**\n",
        "  - Vectorisation\n",
        "\n",
        "3. Boolean indexing is:\n",
        "  - a very efficient way of adding columns in a NumPy Array, based on certain selection criteria, depending on the requirements\n",
        "  - **a very efficient way of filtering rows in a NumPy Array, based on certain selection criteria, depending on the requirements**\n",
        "  - a very efficient way of removing columns in a NumPy Array, based on generic selection criteria, depending on the requirements\n",
        "  - a very efficient way of adding new rows in a NumPy Array, based on certain selection criteria, depending on the requirements"
      ]
    },
    {
      "cell_type": "markdown",
      "metadata": {
        "id": "Ab6FKdcX68EV"
      },
      "source": [
        "## NumPy Array functions\n",
        "\n",
        "### Universal functions\n",
        "\n",
        "The NumPy package provides various functions that perform fast operations on the elements of the ndArray, called universal functions. These functions can be considered as the fast vectorised wrapper functions – performing simple mathematical operations like square, square root, exponential, maximum, add, subtract, and so on.\n",
        "\n",
        "Some of these functions only require one NumPy Array as a parameter and the function simply performs the operations. These are referred to as unary universal functions; for example, square, square root, and so on.\n",
        "\n",
        "Similarly, a universal function that requires two Arrays as a parameter is referred to as binary universal functions.\n",
        "The code snippets show examples of the various universal functions."
      ]
    },
    {
      "cell_type": "markdown",
      "metadata": {
        "id": "DiER9lO068EV"
      },
      "source": [
        "#### Example of Unary Array Functions"
      ]
    },
    {
      "cell_type": "code",
      "metadata": {
        "id": "XwjiIKz-68EV",
        "outputId": "ff65c98e-5b92-4034-b27d-0743d7f05ae1"
      },
      "source": [
        "arr = np.array([2,3,5,6,7,8])\n",
        "arr_square = np.square(arr)\n",
        "arr, arr_square"
      ],
      "execution_count": null,
      "outputs": [
        {
          "output_type": "execute_result",
          "data": {
            "text/plain": [
              "(array([2, 3, 5, 6, 7, 8]), array([ 4,  9, 25, 36, 49, 64], dtype=int32))"
            ]
          },
          "metadata": {
            "tags": []
          },
          "execution_count": 36
        }
      ]
    },
    {
      "cell_type": "code",
      "metadata": {
        "id": "bXIVCw5V68EV",
        "outputId": "1b87b895-e99e-4d4f-bde2-444536da9df0"
      },
      "source": [
        "arr_root = np.sqrt(arr_square)\n",
        "arr_square, arr_root"
      ],
      "execution_count": null,
      "outputs": [
        {
          "output_type": "execute_result",
          "data": {
            "text/plain": [
              "(array([ 4,  9, 25, 36, 49, 64], dtype=int32), array([2., 3., 5., 6., 7., 8.]))"
            ]
          },
          "metadata": {
            "tags": []
          },
          "execution_count": 37
        }
      ]
    },
    {
      "cell_type": "markdown",
      "metadata": {
        "id": "2GxOJaVd68EW"
      },
      "source": [
        "#### Example of Binary Array Function"
      ]
    },
    {
      "cell_type": "code",
      "metadata": {
        "id": "hcS2xCH568EW",
        "outputId": "874d8b88-3f99-417b-b5c0-78029901fb9b"
      },
      "source": [
        "arr1 = np.array([12,15,12,1,2,3,4,66,23])\n",
        "arr2 = np.array([10,4,5,11,22,4,5,6,89])\n",
        "\n",
        "#Element wise maximum value\n",
        "arr_maximum = np.maximum(arr1, arr2)\n",
        "arr_maximum"
      ],
      "execution_count": null,
      "outputs": [
        {
          "output_type": "execute_result",
          "data": {
            "text/plain": [
              "array([12, 15, 12, 11, 22,  4,  5, 66, 89])"
            ]
          },
          "metadata": {
            "tags": []
          },
          "execution_count": 39
        }
      ]
    },
    {
      "cell_type": "markdown",
      "metadata": {
        "id": "5oTk9Kb568EW"
      },
      "source": [
        "For a comprehensive list of universal functions, please refer to the list from the NumPy manual.<br>\n",
        "Read: https://numpy.org/doc/stable/reference/ufuncs.html#available-ufuncs\n"
      ]
    },
    {
      "cell_type": "markdown",
      "metadata": {
        "id": "R_EA5P5B68EW"
      },
      "source": [
        "## Mathematical methods\n",
        "\n",
        "There are sets of mathematical functions that perform certain computations, including statistics on the entire Array, or on all the data along a particular axis. These functions are available as Array methods.\n",
        "\n",
        "Let’s explore some of these Array methods.\n",
        "\n",
        "\n",
        "### Mean\n",
        "\n",
        "This method will calculate the mean of all the data in the Array. If we pass the axis parameter, then the mean calculation happens along that axis.\n",
        "\n",
        "The code snippet demonstrates the mean method:"
      ]
    },
    {
      "cell_type": "code",
      "metadata": {
        "id": "tYl1334y68EW",
        "outputId": "45a0b81c-4280-473c-e44b-c94dbe6a0c53"
      },
      "source": [
        "arr1 = np.random.randn(4,5)\n",
        "arr1"
      ],
      "execution_count": null,
      "outputs": [
        {
          "output_type": "execute_result",
          "data": {
            "text/plain": [
              "array([[ 0.06033124,  1.2145752 ,  1.28727147,  0.33718278,  1.62906685],\n",
              "       [ 0.07002051,  0.30003686, -0.51101392, -0.53534664,  0.64487866],\n",
              "       [-0.35741415, -1.31789827,  1.20601763,  0.54758298, -0.34957834],\n",
              "       [ 0.24784132,  0.35822848,  0.74787166, -0.05784385, -0.30562013]])"
            ]
          },
          "metadata": {
            "tags": []
          },
          "execution_count": 40
        }
      ]
    },
    {
      "cell_type": "code",
      "metadata": {
        "id": "u45nGmJL68EX",
        "outputId": "d96e0c7a-f3b5-4f74-f6aa-51be5cc2f6bc"
      },
      "source": [
        "arr1.mean()"
      ],
      "execution_count": null,
      "outputs": [
        {
          "output_type": "execute_result",
          "data": {
            "text/plain": [
              "0.26080951730321345"
            ]
          },
          "metadata": {
            "tags": []
          },
          "execution_count": 41
        }
      ]
    },
    {
      "cell_type": "code",
      "metadata": {
        "id": "2O8T0fhY68EX",
        "outputId": "466ea359-518d-4328-d239-7e229d1f2512"
      },
      "source": [
        "#Calculate mean across all the rows i.e mean of first, second and third columns \n",
        "arr1.mean(axis=0)"
      ],
      "execution_count": null,
      "outputs": [
        {
          "output_type": "execute_result",
          "data": {
            "text/plain": [
              "array([0.00519473, 0.13873557, 0.68253671, 0.07289382, 0.40468676])"
            ]
          },
          "metadata": {
            "tags": []
          },
          "execution_count": 42
        }
      ]
    },
    {
      "cell_type": "code",
      "metadata": {
        "id": "OpFPg-B268EX",
        "outputId": "5d3392da-eabd-486a-9ba0-c98577a01c55"
      },
      "source": [
        "#Calculate mean across all the columns i.e mean of first, second and third rows respectively \n",
        "arr1.mean(axis=1)"
      ],
      "execution_count": null,
      "outputs": [
        {
          "output_type": "execute_result",
          "data": {
            "text/plain": [
              "array([ 0.90568551, -0.00628491, -0.05425803,  0.1980955 ])"
            ]
          },
          "metadata": {
            "tags": []
          },
          "execution_count": 43
        }
      ]
    },
    {
      "cell_type": "markdown",
      "metadata": {
        "id": "XCoJ3N3Y68EX"
      },
      "source": [
        "### Sum\n",
        "\n",
        "This method will calculate the sum of all the data in the Array, or if we pass the axis parameter, summation will happen along that axis.\n",
        "\n",
        "The code snippet demonstrates the sum method:"
      ]
    },
    {
      "cell_type": "code",
      "metadata": {
        "id": "saubAFfK68EX",
        "outputId": "c1908c74-017d-42e3-99c0-cc073c998f5a"
      },
      "source": [
        "arr1 = np.array([[1,2,3,10],[4,5,6,11],[7,8,9,12]])\n",
        "arr1"
      ],
      "execution_count": null,
      "outputs": [
        {
          "output_type": "execute_result",
          "data": {
            "text/plain": [
              "array([[ 1,  2,  3, 10],\n",
              "       [ 4,  5,  6, 11],\n",
              "       [ 7,  8,  9, 12]])"
            ]
          },
          "metadata": {
            "tags": []
          },
          "execution_count": 44
        }
      ]
    },
    {
      "cell_type": "code",
      "metadata": {
        "id": "Dnu0wMQ068EY",
        "outputId": "e26c46e2-de2d-4c11-c7fb-dc1651fc5305"
      },
      "source": [
        "arr1.sum(axis=0)"
      ],
      "execution_count": null,
      "outputs": [
        {
          "output_type": "execute_result",
          "data": {
            "text/plain": [
              "array([12, 15, 18, 33])"
            ]
          },
          "metadata": {
            "tags": []
          },
          "execution_count": 45
        }
      ]
    },
    {
      "cell_type": "code",
      "metadata": {
        "id": "IG_-Fmxb68EY",
        "outputId": "08a3062f-e4eb-44ff-d77b-617290140b1c"
      },
      "source": [
        "arr1.sum(axis=1)"
      ],
      "execution_count": null,
      "outputs": [
        {
          "output_type": "execute_result",
          "data": {
            "text/plain": [
              "array([16, 26, 36])"
            ]
          },
          "metadata": {
            "tags": []
          },
          "execution_count": 46
        }
      ]
    },
    {
      "cell_type": "markdown",
      "metadata": {
        "id": "Db7ONbfJ68EY"
      },
      "source": [
        "An easier way to understand axis parameter is to assume you need to collate all the data on that axis by performing the said operations:\n",
        "\n",
        "If we specify arr1.sum(axis=0), it means that in the result set the rows will be collapsed into one row (ie, summation has happened in every column).\n",
        "\n",
        "There are some methods which won’t return the aggregated results, but rather the intermediate results depending on the operations performed along the axis specified. An example of such a method is the cumulative sum."
      ]
    },
    {
      "cell_type": "markdown",
      "metadata": {
        "id": "EWVoLs7S68EY"
      },
      "source": [
        "### CumSum\n",
        "\n",
        "This method will perform the cumulative sum of the elements along the axis specified as the parameter. The following code snippet showcases an example."
      ]
    },
    {
      "cell_type": "code",
      "metadata": {
        "id": "nObpaEf068EY",
        "outputId": "ec413595-23bd-4a74-c1ea-3304135c0920"
      },
      "source": [
        "arr1"
      ],
      "execution_count": null,
      "outputs": [
        {
          "output_type": "execute_result",
          "data": {
            "text/plain": [
              "array([[ 1,  2,  3, 10],\n",
              "       [ 4,  5,  6, 11],\n",
              "       [ 7,  8,  9, 12]])"
            ]
          },
          "metadata": {
            "tags": []
          },
          "execution_count": 47
        }
      ]
    },
    {
      "cell_type": "code",
      "metadata": {
        "id": "eRqGffwS68EZ",
        "outputId": "40f475cd-d902-47da-9b23-aa82eaba9ca2"
      },
      "source": [
        "arr1_0 = arr1.cumsum(axis=0)\n",
        "arr1_0"
      ],
      "execution_count": null,
      "outputs": [
        {
          "output_type": "execute_result",
          "data": {
            "text/plain": [
              "array([[ 1,  2,  3, 10],\n",
              "       [ 5,  7,  9, 21],\n",
              "       [12, 15, 18, 33]], dtype=int32)"
            ]
          },
          "metadata": {
            "tags": []
          },
          "execution_count": 48
        }
      ]
    },
    {
      "cell_type": "code",
      "metadata": {
        "id": "kV4YBor668EZ",
        "outputId": "f1c3f80f-0b51-4836-de54-467a5948a2b0"
      },
      "source": [
        "arr1_1 = arr1.cumsum(axis=1)\n",
        "arr1_1"
      ],
      "execution_count": null,
      "outputs": [
        {
          "output_type": "execute_result",
          "data": {
            "text/plain": [
              "array([[ 1,  3,  6, 16],\n",
              "       [ 4,  9, 15, 26],\n",
              "       [ 7, 15, 24, 36]], dtype=int32)"
            ]
          },
          "metadata": {
            "tags": []
          },
          "execution_count": 49
        }
      ]
    },
    {
      "cell_type": "markdown",
      "metadata": {
        "id": "dAPtKPay68EZ"
      },
      "source": [
        "<br>Another way of looking at axis becomes clear in this example. \n",
        "\n",
        "When we specify axis = 0, it means we are doing cumulative sum along the rows i.e.\n",
        "- the first row will have the original value\n",
        "- the second row will have the cumulative value (cumulative sum from the previous row).\n",
        "\n",
        "When we specify axis = 1, it means we are doing cumulative sum along the columns. As in: \n",
        "\n",
        "- the first column will have the original value\n",
        "- the second column will have the cumulative value (cumulative sum from the previous column).\n"
      ]
    },
    {
      "cell_type": "markdown",
      "metadata": {
        "id": "3bLWHN_N68EZ"
      },
      "source": [
        "### Methods on Boolean Arrays\n",
        "\n",
        "\n",
        "Some mathematical methods can be applied to Boolean Arrays as well; for example, sum(). In this case, it will return the count of True values in a Boolean Array.\n",
        "\n",
        "The code snippet shows the sum method applied to Boolean Arrays.\n"
      ]
    },
    {
      "cell_type": "code",
      "metadata": {
        "id": "pH5p51wY68EZ",
        "outputId": "56ca4881-90e0-46e7-e2c7-4284c42918b9"
      },
      "source": [
        "bool_arr = np.array([True,False,False,True,True,True,False,True,False,True,True])\n",
        "total_true = bool_arr.sum()\n",
        "total_true"
      ],
      "execution_count": null,
      "outputs": [
        {
          "output_type": "execute_result",
          "data": {
            "text/plain": [
              "7"
            ]
          },
          "metadata": {
            "tags": []
          },
          "execution_count": 50
        }
      ]
    },
    {
      "cell_type": "markdown",
      "metadata": {
        "id": "NrHL5wRu68Ea"
      },
      "source": [
        "In this section, we covered the basics of NumPy Arrays, but there is much more to n-dimensional Arrays. \n",
        "\n",
        "We will cover more of the NumPy Array features using application and coding exercises in the coming sections. "
      ]
    }
  ]
}